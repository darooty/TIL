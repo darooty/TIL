{
 "cells": [
  {
   "cell_type": "code",
   "execution_count": 141,
   "id": "ac149824",
   "metadata": {},
   "outputs": [],
   "source": [
    "import numpy as np\n",
    "import pandas as pd\n",
    "import matplotlib.pyplot as plt\n",
    "import seaborn as sns\n",
    "import optuna\n",
    "from functools import partial\n",
    "\n",
    "from sklearn.preprocessing import RobustScaler, StandardScaler\n",
    "from sklearn.ensemble import RandomForestClassifier\n",
    "from sklearn.model_selection import KFold, StratifiedKFold, train_test_split, GridSearchCV, RandomizedSearchCV, cross_val_score\n",
    "from sklearn.model_selection import LeaveOneOut, RepeatedKFold, LeavePOut, StratifiedShuffleSplit\n",
    "from sklearn.metrics import roc_auc_score, accuracy_score"
   ]
  },
  {
   "cell_type": "markdown",
   "id": "c1ac2c49",
   "metadata": {},
   "source": [
    "1차"
   ]
  },
  {
   "cell_type": "code",
   "execution_count": 133,
   "id": "c0a5a83e",
   "metadata": {},
   "outputs": [],
   "source": [
    "train = pd.read_csv('../../Data/titanic_origintrain.csv')\n",
    "test = pd.read_csv('../../Data/titanic_origintest.csv')\n",
    "all_data = pd.concat((train, test), axis=0)"
   ]
  },
  {
   "cell_type": "code",
   "execution_count": 134,
   "id": "3d8601e1",
   "metadata": {},
   "outputs": [],
   "source": [
    "# missing values\n",
    "all_data['Age'] = all_data.Age.fillna(train.Age.median())\n",
    "all_data['Fare'] = all_data.Fare.fillna(train.Fare.median())\n",
    "all_data.dropna(subset=['Embarked'], inplace=True)\n",
    "cabins = all_data.Cabin\n",
    "all_data.drop(['Cabin'], axis=1, inplace=True)\n",
    "\n",
    "# derivative features\n",
    "all_data['CabinCnt'] = cabins.apply(lambda x: 0 if pd.isna(x) else len(x.split(' ')))\n",
    "all_data['CabinClass'] = cabins.apply(lambda x: str(x)[0])\n",
    "all_data['IsNumericTicket'] = all_data.Ticket.apply(lambda x: 1 if x.isnumeric() else 0)\n",
    "all_data['TicketType'] = all_data.Ticket.apply(lambda x: ''.join(x.split(' ')[:-1]).replace('.','').replace('/','').lower() if len(x.split(' ')[:-1]) > 0 else 0)\n",
    "all_data['Title'] = all_data.Name.apply(lambda x: x.split(',')[1].split('.')[0].strip())\n",
    "all_data['Family'] = all_data.SibSp + all_data.Parch\n",
    "\n",
    "# feature transform\n",
    "numeric_vars = ['Age', 'SibSp', 'Parch', 'Fare', 'CabinCnt', 'Family']\n",
    "ordinal_vars = ['Pclass']\n",
    "nominal_vars = ['Name', 'Sex', 'Ticket', 'Embarked', 'CabinClass', 'IsNumericTicket', 'TicketType', 'Title']\n",
    "all_data[nominal_vars] = all_data[nominal_vars].astype('str')\n",
    "\n",
    "train = all_data[all_data.Survived.isnull() == False]\n",
    "test = all_data[all_data.Survived.isnull() == True]\n",
    "X_train, y_train = train.drop(['PassengerId', 'Ticket', 'Survived'], axis=1), train.Survived\n",
    "X_test = test.drop(['PassengerId', 'Ticket', 'Survived'], axis=1)\n",
    "\n",
    "numeric = X_train.columns[(X_train.dtypes != 'object')].values\n",
    "scaler = StandardScaler()\n",
    "X_train[numeric] = scaler.fit_transform(X_train[numeric])\n",
    "X_test[numeric] = scaler.transform(X_test[numeric])\n",
    "\n",
    "all_data = pd.concat((X_train, X_test), axis=0)\n",
    "#all_data.Title = all_data.Title.apply(lambda x: 'Others' if x in list(all_data.Title.value_counts()[all_data.Title.value_counts() < 8].index) else x)\n",
    "#all_data.TicketType = all_data.TicketType.apply(lambda x: 'Others' if x in list(all_data.TicketType.value_counts()[all_data.TicketType.value_counts() < 10].index) else x)\n",
    "\n",
    "data_dummies = pd.get_dummies(all_data)\n",
    "train_size = X_train.shape[0]\n",
    "X_train = data_dummies.iloc[:train_size, :]\n",
    "X_test = data_dummies.iloc[train_size:, :]\n",
    "\n",
    "y_test = pd.read_csv('../../Data/titanic_ytest.csv').Survived\n",
    "\n",
    "X_train = X_train.reset_index(drop=True)\n",
    "X_test = X_test.reset_index(drop=True)\n",
    "y_train = y_train.reset_index(drop=True)"
   ]
  },
  {
   "cell_type": "code",
   "execution_count": 135,
   "id": "13421bd9",
   "metadata": {},
   "outputs": [
    {
     "data": {
      "text/plain": [
       "((889, 1381), (889,), (418, 1381), (418,))"
      ]
     },
     "execution_count": 135,
     "metadata": {},
     "output_type": "execute_result"
    }
   ],
   "source": [
    "X_train.shape, y_train.shape, X_test.shape, y_test.shape"
   ]
  },
  {
   "cell_type": "markdown",
   "id": "994b9d32",
   "metadata": {},
   "source": [
    "---"
   ]
  },
  {
   "cell_type": "code",
   "execution_count": 136,
   "id": "f1ac8d14",
   "metadata": {},
   "outputs": [],
   "source": [
    "score_boad = []\n",
    "def objective(trial, X, y):\n",
    "    \n",
    "    # Random Forest Search Spec.\n",
    "    grid_param = {\n",
    "        'n_estimators': trial.suggest_int('n_estimators', 50, 1000, 10),\n",
    "        'max_depth': trial.suggest_int('max_depth', 2, 100),\n",
    "        'max_features': trial.suggest_int('max_features', 1, 40),\n",
    "        'min_samples_leaf': trial.suggest_int('min_samples_leaf', 1, 5),\n",
    "        'min_samples_split': trial.suggest_int('min_samples_split', 8, 13),\n",
    "        'bootstrap': trial.suggest_categorical('bootstrap', [True, False]),\n",
    "        'criterion': trial.suggest_categorical('criterion', ['entropy']),\n",
    "        'random_state': 42\n",
    "    }\n",
    "    #cv = StratifiedKFold(n_splits=5, shuffle=True, random_state=42)\n",
    "    #cv = RepeatedKFold(n_splits=5, n_repeats=10, random_state=42)\n",
    "    cv = StratifiedShuffleSplit(n_splits=5, test_size=.30, random_state=42)\n",
    "    \n",
    "    val_scores = []\n",
    "    for i, (train_idx, test_idx) in enumerate(cv.split(X_train, y_train)):\n",
    "        xtrain, xtest = X_train.iloc[train_idx, :], X_train.iloc[test_idx, :]\n",
    "        ytrain, ytest = y_train[train_idx], y_train[test_idx]\n",
    "        model = RandomForestClassifier(**grid_param).fit(xtrain, ytrain)\n",
    "        val_score = accuracy_score(ytest, model.predict(xtest))\n",
    "        val_scores.append(val_score)\n",
    "        \n",
    "    val_score = np.array(val_scores).mean()    \n",
    "    model = RandomForestClassifier(**grid_param)\n",
    "    test_score = accuracy_score(y_test, model.fit(X_train, y_train).predict(X_test))\n",
    "    \n",
    "    score_boad.append((val_score, test_score))\n",
    "    print(f'val score: {val_score}')\n",
    "    print(f'test score: {test_score}')\n",
    "    return val_score"
   ]
  },
  {
   "cell_type": "markdown",
   "id": "e71a18e2",
   "metadata": {},
   "source": [
    "1차"
   ]
  },
  {
   "cell_type": "code",
   "execution_count": 137,
   "id": "631e2398",
   "metadata": {},
   "outputs": [
    {
     "name": "stderr",
     "output_type": "stream",
     "text": [
      "\u001b[32m[I 2021-11-22 09:28:47,926]\u001b[0m A new study created in memory with name: no-name-8523ae2c-6630-430d-b0eb-6b791dfa7519\u001b[0m\n"
     ]
    }
   ],
   "source": [
    "optimize = partial(objective, X=X_train, y=y_train)\n",
    "study = optuna.create_study(direction='maximize')\n",
    "# Opimization\n",
    "# Recevies the function to be optimized and the number of trials\n",
    "study.optimize(optimize, n_trials=100)"
   ]
  },
  {
   "cell_type": "code",
   "execution_count": 138,
   "id": "d5be188a",
   "metadata": {
    "scrolled": true
   },
   "outputs": [
    {
     "name": "stderr",
     "output_type": "stream",
     "text": [
      "\u001b[32m[I 2021-11-22 09:29:00,839]\u001b[0m Trial 0 finished with value: 0.8187265917602996 and parameters: {'n_estimators': 1000, 'max_depth': 59, 'max_features': 38, 'min_samples_leaf': 1, 'min_samples_split': 9, 'bootstrap': True, 'criterion': 'entropy'}. Best is trial 0 with value: 0.8187265917602996.\u001b[0m\n"
     ]
    },
    {
     "name": "stdout",
     "output_type": "stream",
     "text": [
      "val score: 0.8187265917602996\n",
      "test score: 0.7918660287081339\n"
     ]
    },
    {
     "name": "stderr",
     "output_type": "stream",
     "text": [
      "\u001b[32m[I 2021-11-22 09:29:04,409]\u001b[0m Trial 1 finished with value: 0.6179775280898876 and parameters: {'n_estimators': 980, 'max_depth': 11, 'max_features': 18, 'min_samples_leaf': 5, 'min_samples_split': 10, 'bootstrap': False, 'criterion': 'entropy'}. Best is trial 0 with value: 0.8187265917602996.\u001b[0m\n"
     ]
    },
    {
     "name": "stdout",
     "output_type": "stream",
     "text": [
      "val score: 0.6179775280898876\n",
      "test score: 0.6220095693779905\n"
     ]
    },
    {
     "name": "stderr",
     "output_type": "stream",
     "text": [
      "\u001b[32m[I 2021-11-22 09:29:07,635]\u001b[0m Trial 2 finished with value: 0.6711610486891386 and parameters: {'n_estimators': 770, 'max_depth': 22, 'max_features': 37, 'min_samples_leaf': 5, 'min_samples_split': 13, 'bootstrap': False, 'criterion': 'entropy'}. Best is trial 0 with value: 0.8187265917602996.\u001b[0m\n"
     ]
    },
    {
     "name": "stdout",
     "output_type": "stream",
     "text": [
      "val score: 0.6711610486891386\n",
      "test score: 0.69377990430622\n"
     ]
    },
    {
     "name": "stderr",
     "output_type": "stream",
     "text": [
      "\u001b[32m[I 2021-11-22 09:29:08,698]\u001b[0m Trial 3 finished with value: 0.6179775280898876 and parameters: {'n_estimators': 210, 'max_depth': 94, 'max_features': 12, 'min_samples_leaf': 5, 'min_samples_split': 11, 'bootstrap': True, 'criterion': 'entropy'}. Best is trial 0 with value: 0.8187265917602996.\u001b[0m\n"
     ]
    },
    {
     "name": "stdout",
     "output_type": "stream",
     "text": [
      "val score: 0.6179775280898876\n",
      "test score: 0.6220095693779905\n"
     ]
    },
    {
     "name": "stderr",
     "output_type": "stream",
     "text": [
      "\u001b[32m[I 2021-11-22 09:29:10,595]\u001b[0m Trial 4 finished with value: 0.6179775280898876 and parameters: {'n_estimators': 400, 'max_depth': 75, 'max_features': 16, 'min_samples_leaf': 2, 'min_samples_split': 13, 'bootstrap': True, 'criterion': 'entropy'}. Best is trial 0 with value: 0.8187265917602996.\u001b[0m\n"
     ]
    },
    {
     "name": "stdout",
     "output_type": "stream",
     "text": [
      "val score: 0.6179775280898876\n",
      "test score: 0.6220095693779905\n"
     ]
    },
    {
     "name": "stderr",
     "output_type": "stream",
     "text": [
      "\u001b[32m[I 2021-11-22 09:29:12,657]\u001b[0m Trial 5 finished with value: 0.6179775280898876 and parameters: {'n_estimators': 440, 'max_depth': 19, 'max_features': 19, 'min_samples_leaf': 2, 'min_samples_split': 11, 'bootstrap': True, 'criterion': 'entropy'}. Best is trial 0 with value: 0.8187265917602996.\u001b[0m\n"
     ]
    },
    {
     "name": "stdout",
     "output_type": "stream",
     "text": [
      "val score: 0.6179775280898876\n",
      "test score: 0.6220095693779905\n"
     ]
    },
    {
     "name": "stderr",
     "output_type": "stream",
     "text": [
      "\u001b[32m[I 2021-11-22 09:29:14,769]\u001b[0m Trial 6 finished with value: 0.6179775280898876 and parameters: {'n_estimators': 610, 'max_depth': 42, 'max_features': 6, 'min_samples_leaf': 3, 'min_samples_split': 13, 'bootstrap': False, 'criterion': 'entropy'}. Best is trial 0 with value: 0.8187265917602996.\u001b[0m\n"
     ]
    },
    {
     "name": "stdout",
     "output_type": "stream",
     "text": [
      "val score: 0.6179775280898876\n",
      "test score: 0.6220095693779905\n"
     ]
    },
    {
     "name": "stderr",
     "output_type": "stream",
     "text": [
      "\u001b[32m[I 2021-11-22 09:29:20,190]\u001b[0m Trial 7 finished with value: 0.8202247191011235 and parameters: {'n_estimators': 460, 'max_depth': 39, 'max_features': 25, 'min_samples_leaf': 1, 'min_samples_split': 13, 'bootstrap': False, 'criterion': 'entropy'}. Best is trial 7 with value: 0.8202247191011235.\u001b[0m\n"
     ]
    },
    {
     "name": "stdout",
     "output_type": "stream",
     "text": [
      "val score: 0.8202247191011235\n",
      "test score: 0.7918660287081339\n"
     ]
    },
    {
     "name": "stderr",
     "output_type": "stream",
     "text": [
      "\u001b[32m[I 2021-11-22 09:29:23,033]\u001b[0m Trial 8 finished with value: 0.6179775280898876 and parameters: {'n_estimators': 730, 'max_depth': 39, 'max_features': 6, 'min_samples_leaf': 5, 'min_samples_split': 8, 'bootstrap': False, 'criterion': 'entropy'}. Best is trial 7 with value: 0.8202247191011235.\u001b[0m\n"
     ]
    },
    {
     "name": "stdout",
     "output_type": "stream",
     "text": [
      "val score: 0.6179775280898876\n",
      "test score: 0.6220095693779905\n"
     ]
    },
    {
     "name": "stderr",
     "output_type": "stream",
     "text": [
      "\u001b[32m[I 2021-11-22 09:29:26,047]\u001b[0m Trial 9 finished with value: 0.6179775280898876 and parameters: {'n_estimators': 550, 'max_depth': 52, 'max_features': 27, 'min_samples_leaf': 3, 'min_samples_split': 12, 'bootstrap': True, 'criterion': 'entropy'}. Best is trial 7 with value: 0.8202247191011235.\u001b[0m\n"
     ]
    },
    {
     "name": "stdout",
     "output_type": "stream",
     "text": [
      "val score: 0.6179775280898876\n",
      "test score: 0.6220095693779905\n"
     ]
    },
    {
     "name": "stderr",
     "output_type": "stream",
     "text": [
      "\u001b[32m[I 2021-11-22 09:29:26,919]\u001b[0m Trial 10 finished with value: 0.8172284644194757 and parameters: {'n_estimators': 50, 'max_depth': 74, 'max_features': 27, 'min_samples_leaf': 1, 'min_samples_split': 12, 'bootstrap': False, 'criterion': 'entropy'}. Best is trial 7 with value: 0.8202247191011235.\u001b[0m\n"
     ]
    },
    {
     "name": "stdout",
     "output_type": "stream",
     "text": [
      "val score: 0.8172284644194757\n",
      "test score: 0.7918660287081339\n"
     ]
    },
    {
     "name": "stderr",
     "output_type": "stream",
     "text": [
      "\u001b[32m[I 2021-11-22 09:29:39,300]\u001b[0m Trial 11 finished with value: 0.8202247191011235 and parameters: {'n_estimators': 1000, 'max_depth': 59, 'max_features': 40, 'min_samples_leaf': 1, 'min_samples_split': 9, 'bootstrap': True, 'criterion': 'entropy'}. Best is trial 7 with value: 0.8202247191011235.\u001b[0m\n"
     ]
    },
    {
     "name": "stdout",
     "output_type": "stream",
     "text": [
      "val score: 0.8202247191011235\n",
      "test score: 0.7942583732057417\n"
     ]
    },
    {
     "name": "stderr",
     "output_type": "stream",
     "text": [
      "\u001b[32m[I 2021-11-22 09:29:43,116]\u001b[0m Trial 12 finished with value: 0.8187265917602996 and parameters: {'n_estimators': 330, 'max_depth': 33, 'max_features': 31, 'min_samples_leaf': 1, 'min_samples_split': 9, 'bootstrap': True, 'criterion': 'entropy'}. Best is trial 7 with value: 0.8202247191011235.\u001b[0m\n"
     ]
    },
    {
     "name": "stdout",
     "output_type": "stream",
     "text": [
      "val score: 0.8187265917602996\n",
      "test score: 0.784688995215311\n"
     ]
    },
    {
     "name": "stderr",
     "output_type": "stream",
     "text": [
      "\u001b[32m[I 2021-11-22 09:29:46,943]\u001b[0m Trial 13 finished with value: 0.6756554307116105 and parameters: {'n_estimators': 810, 'max_depth': 64, 'max_features': 32, 'min_samples_leaf': 2, 'min_samples_split': 8, 'bootstrap': False, 'criterion': 'entropy'}. Best is trial 7 with value: 0.8202247191011235.\u001b[0m\n"
     ]
    },
    {
     "name": "stdout",
     "output_type": "stream",
     "text": [
      "val score: 0.6756554307116105\n",
      "test score: 0.7081339712918661\n"
     ]
    },
    {
     "name": "stderr",
     "output_type": "stream",
     "text": [
      "\u001b[32m[I 2021-11-22 09:29:48,493]\u001b[0m Trial 14 finished with value: 0.6906367041198502 and parameters: {'n_estimators': 260, 'max_depth': 2, 'max_features': 40, 'min_samples_leaf': 1, 'min_samples_split': 10, 'bootstrap': True, 'criterion': 'entropy'}. Best is trial 7 with value: 0.8202247191011235.\u001b[0m\n"
     ]
    },
    {
     "name": "stdout",
     "output_type": "stream",
     "text": [
      "val score: 0.6906367041198502\n",
      "test score: 0.7129186602870813\n"
     ]
    },
    {
     "name": "stderr",
     "output_type": "stream",
     "text": [
      "\u001b[32m[I 2021-11-22 09:29:51,006]\u001b[0m Trial 15 finished with value: 0.6179775280898876 and parameters: {'n_estimators': 580, 'max_depth': 93, 'max_features': 24, 'min_samples_leaf': 4, 'min_samples_split': 9, 'bootstrap': False, 'criterion': 'entropy'}. Best is trial 7 with value: 0.8202247191011235.\u001b[0m\n"
     ]
    },
    {
     "name": "stdout",
     "output_type": "stream",
     "text": [
      "val score: 0.6179775280898876\n",
      "test score: 0.6220095693779905\n"
     ]
    },
    {
     "name": "stderr",
     "output_type": "stream",
     "text": [
      "\u001b[32m[I 2021-11-22 09:29:54,152]\u001b[0m Trial 16 finished with value: 0.6741573033707865 and parameters: {'n_estimators': 650, 'max_depth': 75, 'max_features': 33, 'min_samples_leaf': 2, 'min_samples_split': 12, 'bootstrap': False, 'criterion': 'entropy'}. Best is trial 7 with value: 0.8202247191011235.\u001b[0m\n"
     ]
    },
    {
     "name": "stdout",
     "output_type": "stream",
     "text": [
      "val score: 0.6741573033707865\n",
      "test score: 0.7057416267942583\n"
     ]
    },
    {
     "name": "stderr",
     "output_type": "stream",
     "text": [
      "\u001b[32m[I 2021-11-22 09:30:03,853]\u001b[0m Trial 17 finished with value: 0.8172284644194757 and parameters: {'n_estimators': 880, 'max_depth': 49, 'max_features': 23, 'min_samples_leaf': 1, 'min_samples_split': 10, 'bootstrap': True, 'criterion': 'entropy'}. Best is trial 7 with value: 0.8202247191011235.\u001b[0m\n"
     ]
    },
    {
     "name": "stdout",
     "output_type": "stream",
     "text": [
      "val score: 0.8172284644194757\n",
      "test score: 0.7942583732057417\n"
     ]
    },
    {
     "name": "stderr",
     "output_type": "stream",
     "text": [
      "\u001b[32m[I 2021-11-22 09:30:05,837]\u001b[0m Trial 18 finished with value: 0.6179775280898876 and parameters: {'n_estimators': 500, 'max_depth': 30, 'max_features': 1, 'min_samples_leaf': 4, 'min_samples_split': 11, 'bootstrap': False, 'criterion': 'entropy'}. Best is trial 7 with value: 0.8202247191011235.\u001b[0m\n"
     ]
    },
    {
     "name": "stdout",
     "output_type": "stream",
     "text": [
      "val score: 0.6179775280898876\n",
      "test score: 0.6220095693779905\n"
     ]
    },
    {
     "name": "stderr",
     "output_type": "stream",
     "text": [
      "\u001b[32m[I 2021-11-22 09:30:06,827]\u001b[0m Trial 19 finished with value: 0.6584269662921348 and parameters: {'n_estimators': 150, 'max_depth': 63, 'max_features': 34, 'min_samples_leaf': 2, 'min_samples_split': 9, 'bootstrap': True, 'criterion': 'entropy'}. Best is trial 7 with value: 0.8202247191011235.\u001b[0m\n"
     ]
    },
    {
     "name": "stdout",
     "output_type": "stream",
     "text": [
      "val score: 0.6584269662921348\n",
      "test score: 0.6866028708133971\n"
     ]
    },
    {
     "name": "stderr",
     "output_type": "stream",
     "text": [
      "\u001b[32m[I 2021-11-22 09:30:10,425]\u001b[0m Trial 20 finished with value: 0.6179775280898876 and parameters: {'n_estimators': 690, 'max_depth': 82, 'max_features': 13, 'min_samples_leaf': 3, 'min_samples_split': 8, 'bootstrap': True, 'criterion': 'entropy'}. Best is trial 7 with value: 0.8202247191011235.\u001b[0m\n"
     ]
    },
    {
     "name": "stdout",
     "output_type": "stream",
     "text": [
      "val score: 0.6179775280898876\n",
      "test score: 0.6220095693779905\n"
     ]
    },
    {
     "name": "stderr",
     "output_type": "stream",
     "text": [
      "\u001b[32m[I 2021-11-22 09:30:22,312]\u001b[0m Trial 21 finished with value: 0.8172284644194757 and parameters: {'n_estimators': 970, 'max_depth': 59, 'max_features': 39, 'min_samples_leaf': 1, 'min_samples_split': 9, 'bootstrap': True, 'criterion': 'entropy'}. Best is trial 7 with value: 0.8202247191011235.\u001b[0m\n"
     ]
    },
    {
     "name": "stdout",
     "output_type": "stream",
     "text": [
      "val score: 0.8172284644194757\n",
      "test score: 0.7966507177033493\n"
     ]
    },
    {
     "name": "stderr",
     "output_type": "stream",
     "text": [
      "\u001b[32m[I 2021-11-22 09:30:32,999]\u001b[0m Trial 22 finished with value: 0.8194756554307115 and parameters: {'n_estimators': 890, 'max_depth': 51, 'max_features': 36, 'min_samples_leaf': 1, 'min_samples_split': 9, 'bootstrap': True, 'criterion': 'entropy'}. Best is trial 7 with value: 0.8202247191011235.\u001b[0m\n"
     ]
    },
    {
     "name": "stdout",
     "output_type": "stream",
     "text": [
      "val score: 0.8194756554307115\n",
      "test score: 0.7942583732057417\n"
     ]
    },
    {
     "name": "stderr",
     "output_type": "stream",
     "text": [
      "\u001b[32m[I 2021-11-22 09:30:42,873]\u001b[0m Trial 23 finished with value: 0.8142322097378278 and parameters: {'n_estimators': 870, 'max_depth': 49, 'max_features': 28, 'min_samples_leaf': 1, 'min_samples_split': 10, 'bootstrap': True, 'criterion': 'entropy'}. Best is trial 7 with value: 0.8202247191011235.\u001b[0m\n"
     ]
    },
    {
     "name": "stdout",
     "output_type": "stream",
     "text": [
      "val score: 0.8142322097378278\n",
      "test score: 0.7966507177033493\n"
     ]
    },
    {
     "name": "stderr",
     "output_type": "stream",
     "text": [
      "\u001b[32m[I 2021-11-22 09:30:47,898]\u001b[0m Trial 24 finished with value: 0.6816479400749064 and parameters: {'n_estimators': 900, 'max_depth': 43, 'max_features': 36, 'min_samples_leaf': 2, 'min_samples_split': 8, 'bootstrap': True, 'criterion': 'entropy'}. Best is trial 7 with value: 0.8202247191011235.\u001b[0m\n"
     ]
    },
    {
     "name": "stdout",
     "output_type": "stream",
     "text": [
      "val score: 0.6816479400749064\n",
      "test score: 0.7105263157894737\n"
     ]
    },
    {
     "name": "stderr",
     "output_type": "stream",
     "text": [
      "\u001b[32m[I 2021-11-22 09:30:56,356]\u001b[0m Trial 25 finished with value: 0.8179775280898877 and parameters: {'n_estimators': 810, 'max_depth': 31, 'max_features': 30, 'min_samples_leaf': 1, 'min_samples_split': 9, 'bootstrap': True, 'criterion': 'entropy'}. Best is trial 7 with value: 0.8202247191011235.\u001b[0m\n"
     ]
    },
    {
     "name": "stdout",
     "output_type": "stream",
     "text": [
      "val score: 0.8179775280898877\n",
      "test score: 0.7918660287081339\n"
     ]
    },
    {
     "name": "stderr",
     "output_type": "stream",
     "text": [
      "\u001b[32m[I 2021-11-22 09:30:58,577]\u001b[0m Trial 26 finished with value: 0.6913857677902622 and parameters: {'n_estimators': 450, 'max_depth': 68, 'max_features': 35, 'min_samples_leaf': 2, 'min_samples_split': 10, 'bootstrap': False, 'criterion': 'entropy'}. Best is trial 7 with value: 0.8202247191011235.\u001b[0m\n"
     ]
    },
    {
     "name": "stdout",
     "output_type": "stream",
     "text": [
      "val score: 0.6913857677902622\n",
      "test score: 0.7177033492822966\n"
     ]
    },
    {
     "name": "stderr",
     "output_type": "stream",
     "text": [
      "\u001b[32m[I 2021-11-22 09:31:08,734]\u001b[0m Trial 27 finished with value: 0.8149812734082398 and parameters: {'n_estimators': 920, 'max_depth': 54, 'max_features': 23, 'min_samples_leaf': 1, 'min_samples_split': 11, 'bootstrap': True, 'criterion': 'entropy'}. Best is trial 7 with value: 0.8202247191011235.\u001b[0m\n"
     ]
    },
    {
     "name": "stdout",
     "output_type": "stream",
     "text": [
      "val score: 0.8149812734082398\n",
      "test score: 0.7870813397129187\n"
     ]
    },
    {
     "name": "stderr",
     "output_type": "stream",
     "text": [
      "\u001b[32m[I 2021-11-22 09:31:10,524]\u001b[0m Trial 28 finished with value: 0.7116104868913858 and parameters: {'n_estimators': 330, 'max_depth': 35, 'max_features': 40, 'min_samples_leaf': 3, 'min_samples_split': 12, 'bootstrap': False, 'criterion': 'entropy'}. Best is trial 7 with value: 0.8202247191011235.\u001b[0m\n"
     ]
    },
    {
     "name": "stdout",
     "output_type": "stream",
     "text": [
      "val score: 0.7116104868913858\n",
      "test score: 0.7296650717703349\n"
     ]
    },
    {
     "name": "stderr",
     "output_type": "stream",
     "text": [
      "\u001b[32m[I 2021-11-22 09:31:21,083]\u001b[0m Trial 29 finished with value: 0.8202247191011235 and parameters: {'n_estimators': 1000, 'max_depth': 24, 'max_features': 36, 'min_samples_leaf': 1, 'min_samples_split': 8, 'bootstrap': True, 'criterion': 'entropy'}. Best is trial 7 with value: 0.8202247191011235.\u001b[0m\n"
     ]
    },
    {
     "name": "stdout",
     "output_type": "stream",
     "text": [
      "val score: 0.8202247191011235\n",
      "test score: 0.7918660287081339\n"
     ]
    },
    {
     "name": "stderr",
     "output_type": "stream",
     "text": [
      "\u001b[32m[I 2021-11-22 09:31:30,567]\u001b[0m Trial 30 finished with value: 0.8179775280898877 and parameters: {'n_estimators': 980, 'max_depth': 23, 'max_features': 29, 'min_samples_leaf': 1, 'min_samples_split': 8, 'bootstrap': True, 'criterion': 'entropy'}. Best is trial 7 with value: 0.8202247191011235.\u001b[0m\n"
     ]
    },
    {
     "name": "stdout",
     "output_type": "stream",
     "text": [
      "val score: 0.8179775280898877\n",
      "test score: 0.7918660287081339\n"
     ]
    },
    {
     "name": "stderr",
     "output_type": "stream",
     "text": [
      "\u001b[32m[I 2021-11-22 09:31:42,078]\u001b[0m Trial 31 finished with value: 0.8217228464419476 and parameters: {'n_estimators': 930, 'max_depth': 45, 'max_features': 36, 'min_samples_leaf': 1, 'min_samples_split': 8, 'bootstrap': True, 'criterion': 'entropy'}. Best is trial 31 with value: 0.8217228464419476.\u001b[0m\n"
     ]
    },
    {
     "name": "stdout",
     "output_type": "stream",
     "text": [
      "val score: 0.8217228464419476\n",
      "test score: 0.7918660287081339\n"
     ]
    },
    {
     "name": "stderr",
     "output_type": "stream",
     "text": [
      "\u001b[32m[I 2021-11-22 09:31:50,860]\u001b[0m Trial 32 finished with value: 0.8209737827715354 and parameters: {'n_estimators': 1000, 'max_depth': 15, 'max_features': 38, 'min_samples_leaf': 1, 'min_samples_split': 8, 'bootstrap': True, 'criterion': 'entropy'}. Best is trial 31 with value: 0.8217228464419476.\u001b[0m\n"
     ]
    },
    {
     "name": "stdout",
     "output_type": "stream",
     "text": [
      "val score: 0.8209737827715354\n",
      "test score: 0.7870813397129187\n"
     ]
    },
    {
     "name": "stderr",
     "output_type": "stream",
     "text": [
      "\u001b[32m[I 2021-11-22 09:31:56,490]\u001b[0m Trial 33 finished with value: 0.70561797752809 and parameters: {'n_estimators': 990, 'max_depth': 12, 'max_features': 38, 'min_samples_leaf': 2, 'min_samples_split': 8, 'bootstrap': True, 'criterion': 'entropy'}. Best is trial 31 with value: 0.8217228464419476.\u001b[0m\n"
     ]
    },
    {
     "name": "stdout",
     "output_type": "stream",
     "text": [
      "val score: 0.70561797752809\n",
      "test score: 0.715311004784689\n"
     ]
    },
    {
     "name": "stderr",
     "output_type": "stream",
     "text": [
      "\u001b[32m[I 2021-11-22 09:32:03,551]\u001b[0m Trial 34 finished with value: 0.8187265917602996 and parameters: {'n_estimators': 810, 'max_depth': 14, 'max_features': 34, 'min_samples_leaf': 1, 'min_samples_split': 8, 'bootstrap': True, 'criterion': 'entropy'}. Best is trial 31 with value: 0.8217228464419476.\u001b[0m\n"
     ]
    },
    {
     "name": "stdout",
     "output_type": "stream",
     "text": [
      "val score: 0.8187265917602996\n",
      "test score: 0.784688995215311\n"
     ]
    },
    {
     "name": "stderr",
     "output_type": "stream",
     "text": [
      "\u001b[32m[I 2021-11-22 09:32:08,798]\u001b[0m Trial 35 finished with value: 0.6569288389513109 and parameters: {'n_estimators': 950, 'max_depth': 2, 'max_features': 37, 'min_samples_leaf': 1, 'min_samples_split': 8, 'bootstrap': True, 'criterion': 'entropy'}. Best is trial 31 with value: 0.8217228464419476.\u001b[0m\n"
     ]
    },
    {
     "name": "stdout",
     "output_type": "stream",
     "text": [
      "val score: 0.6569288389513109\n",
      "test score: 0.6698564593301436\n"
     ]
    },
    {
     "name": "stderr",
     "output_type": "stream",
     "text": [
      "\u001b[32m[I 2021-11-22 09:32:12,772]\u001b[0m Trial 36 finished with value: 0.6734082397003746 and parameters: {'n_estimators': 850, 'max_depth': 22, 'max_features': 32, 'min_samples_leaf': 2, 'min_samples_split': 13, 'bootstrap': False, 'criterion': 'entropy'}. Best is trial 31 with value: 0.8217228464419476.\u001b[0m\n"
     ]
    },
    {
     "name": "stdout",
     "output_type": "stream",
     "text": [
      "val score: 0.6734082397003746\n",
      "test score: 0.7081339712918661\n"
     ]
    },
    {
     "name": "stderr",
     "output_type": "stream",
     "text": [
      "\u001b[32m[I 2021-11-22 09:32:17,073]\u001b[0m Trial 37 finished with value: 0.6179775280898876 and parameters: {'n_estimators': 770, 'max_depth': 45, 'max_features': 25, 'min_samples_leaf': 2, 'min_samples_split': 9, 'bootstrap': True, 'criterion': 'entropy'}. Best is trial 31 with value: 0.8217228464419476.\u001b[0m\n"
     ]
    },
    {
     "name": "stdout",
     "output_type": "stream",
     "text": [
      "val score: 0.6179775280898876\n",
      "test score: 0.6220095693779905\n"
     ]
    },
    {
     "name": "stderr",
     "output_type": "stream",
     "text": [
      "\u001b[32m[I 2021-11-22 09:32:21,018]\u001b[0m Trial 38 finished with value: 0.6179775280898876 and parameters: {'n_estimators': 930, 'max_depth': 57, 'max_features': 16, 'min_samples_leaf': 4, 'min_samples_split': 8, 'bootstrap': False, 'criterion': 'entropy'}. Best is trial 31 with value: 0.8217228464419476.\u001b[0m\n"
     ]
    },
    {
     "name": "stdout",
     "output_type": "stream",
     "text": [
      "val score: 0.6179775280898876\n",
      "test score: 0.6220095693779905\n"
     ]
    },
    {
     "name": "stderr",
     "output_type": "stream",
     "text": [
      "\u001b[32m[I 2021-11-22 09:32:31,613]\u001b[0m Trial 39 finished with value: 0.8209737827715354 and parameters: {'n_estimators': 990, 'max_depth': 25, 'max_features': 38, 'min_samples_leaf': 1, 'min_samples_split': 9, 'bootstrap': True, 'criterion': 'entropy'}. Best is trial 31 with value: 0.8217228464419476.\u001b[0m\n"
     ]
    },
    {
     "name": "stdout",
     "output_type": "stream",
     "text": [
      "val score: 0.8209737827715354\n",
      "test score: 0.7966507177033493\n"
     ]
    },
    {
     "name": "stderr",
     "output_type": "stream",
     "text": [
      "\u001b[32m[I 2021-11-22 09:32:42,954]\u001b[0m Trial 40 finished with value: 0.8187265917602996 and parameters: {'n_estimators': 1000, 'max_depth': 27, 'max_features': 38, 'min_samples_leaf': 1, 'min_samples_split': 8, 'bootstrap': True, 'criterion': 'entropy'}. Best is trial 31 with value: 0.8217228464419476.\u001b[0m\n"
     ]
    },
    {
     "name": "stdout",
     "output_type": "stream",
     "text": [
      "val score: 0.8187265917602996\n",
      "test score: 0.7990430622009569\n"
     ]
    },
    {
     "name": "stderr",
     "output_type": "stream",
     "text": [
      "\u001b[32m[I 2021-11-22 09:32:48,045]\u001b[0m Trial 41 finished with value: 0.8209737827715354 and parameters: {'n_estimators': 500, 'max_depth': 38, 'max_features': 20, 'min_samples_leaf': 1, 'min_samples_split': 8, 'bootstrap': True, 'criterion': 'entropy'}. Best is trial 31 with value: 0.8217228464419476.\u001b[0m\n"
     ]
    },
    {
     "name": "stdout",
     "output_type": "stream",
     "text": [
      "val score: 0.8209737827715354\n",
      "test score: 0.7894736842105263\n"
     ]
    },
    {
     "name": "stderr",
     "output_type": "stream",
     "text": [
      "\u001b[32m[I 2021-11-22 09:32:54,866]\u001b[0m Trial 42 finished with value: 0.8187265917602996 and parameters: {'n_estimators': 930, 'max_depth': 17, 'max_features': 18, 'min_samples_leaf': 1, 'min_samples_split': 8, 'bootstrap': True, 'criterion': 'entropy'}. Best is trial 31 with value: 0.8217228464419476.\u001b[0m\n"
     ]
    },
    {
     "name": "stdout",
     "output_type": "stream",
     "text": [
      "val score: 0.8187265917602996\n",
      "test score: 0.7822966507177034\n"
     ]
    },
    {
     "name": "stderr",
     "output_type": "stream",
     "text": [
      "\u001b[32m[I 2021-11-22 09:33:03,369]\u001b[0m Trial 43 finished with value: 0.8194756554307115 and parameters: {'n_estimators': 840, 'max_depth': 38, 'max_features': 21, 'min_samples_leaf': 1, 'min_samples_split': 8, 'bootstrap': True, 'criterion': 'entropy'}. Best is trial 31 with value: 0.8217228464419476.\u001b[0m\n"
     ]
    },
    {
     "name": "stdout",
     "output_type": "stream",
     "text": [
      "val score: 0.8194756554307115\n",
      "test score: 0.7942583732057417\n"
     ]
    },
    {
     "name": "stderr",
     "output_type": "stream",
     "text": [
      "\u001b[32m[I 2021-11-22 09:33:06,234]\u001b[0m Trial 44 finished with value: 0.6704119850187266 and parameters: {'n_estimators': 500, 'max_depth': 8, 'max_features': 9, 'min_samples_leaf': 1, 'min_samples_split': 9, 'bootstrap': True, 'criterion': 'entropy'}. Best is trial 31 with value: 0.8217228464419476.\u001b[0m\n"
     ]
    },
    {
     "name": "stdout",
     "output_type": "stream",
     "text": [
      "val score: 0.6704119850187266\n",
      "test score: 0.6746411483253588\n"
     ]
    },
    {
     "name": "stderr",
     "output_type": "stream",
     "text": [
      "\u001b[32m[I 2021-11-22 09:33:08,404]\u001b[0m Trial 45 finished with value: 0.6179775280898876 and parameters: {'n_estimators': 390, 'max_depth': 37, 'max_features': 21, 'min_samples_leaf': 2, 'min_samples_split': 13, 'bootstrap': True, 'criterion': 'entropy'}. Best is trial 31 with value: 0.8217228464419476.\u001b[0m\n"
     ]
    },
    {
     "name": "stdout",
     "output_type": "stream",
     "text": [
      "val score: 0.6179775280898876\n",
      "test score: 0.6220095693779905\n"
     ]
    },
    {
     "name": "stderr",
     "output_type": "stream",
     "text": [
      "\u001b[32m[I 2021-11-22 09:33:10,489]\u001b[0m Trial 46 finished with value: 0.6179775280898876 and parameters: {'n_estimators': 460, 'max_depth': 45, 'max_features': 26, 'min_samples_leaf': 2, 'min_samples_split': 9, 'bootstrap': False, 'criterion': 'entropy'}. Best is trial 31 with value: 0.8217228464419476.\u001b[0m\n"
     ]
    },
    {
     "name": "stdout",
     "output_type": "stream",
     "text": [
      "val score: 0.6179775280898876\n",
      "test score: 0.638755980861244\n"
     ]
    },
    {
     "name": "stderr",
     "output_type": "stream",
     "text": [
      "\u001b[32m[I 2021-11-22 09:33:16,397]\u001b[0m Trial 47 finished with value: 0.8134831460674157 and parameters: {'n_estimators': 710, 'max_depth': 26, 'max_features': 16, 'min_samples_leaf': 1, 'min_samples_split': 8, 'bootstrap': True, 'criterion': 'entropy'}. Best is trial 31 with value: 0.8217228464419476.\u001b[0m\n"
     ]
    },
    {
     "name": "stdout",
     "output_type": "stream",
     "text": [
      "val score: 0.8134831460674157\n",
      "test score: 0.7822966507177034\n"
     ]
    },
    {
     "name": "stderr",
     "output_type": "stream",
     "text": [
      "\u001b[32m[I 2021-11-22 09:33:20,860]\u001b[0m Trial 48 finished with value: 0.809737827715356 and parameters: {'n_estimators': 630, 'max_depth': 8, 'max_features': 37, 'min_samples_leaf': 1, 'min_samples_split': 8, 'bootstrap': True, 'criterion': 'entropy'}. Best is trial 31 with value: 0.8217228464419476.\u001b[0m\n"
     ]
    },
    {
     "name": "stdout",
     "output_type": "stream",
     "text": [
      "val score: 0.809737827715356\n",
      "test score: 0.784688995215311\n"
     ]
    },
    {
     "name": "stderr",
     "output_type": "stream",
     "text": [
      "\u001b[32m[I 2021-11-22 09:33:24,823]\u001b[0m Trial 49 finished with value: 0.6194756554307116 and parameters: {'n_estimators': 760, 'max_depth': 18, 'max_features': 31, 'min_samples_leaf': 5, 'min_samples_split': 8, 'bootstrap': True, 'criterion': 'entropy'}. Best is trial 31 with value: 0.8217228464419476.\u001b[0m\n"
     ]
    },
    {
     "name": "stdout",
     "output_type": "stream",
     "text": [
      "val score: 0.6194756554307116\n",
      "test score: 0.6220095693779905\n"
     ]
    },
    {
     "name": "stderr",
     "output_type": "stream",
     "text": [
      "\u001b[32m[I 2021-11-22 09:33:34,093]\u001b[0m Trial 50 finished with value: 0.8187265917602996 and parameters: {'n_estimators': 950, 'max_depth': 25, 'max_features': 35, 'min_samples_leaf': 1, 'min_samples_split': 9, 'bootstrap': True, 'criterion': 'entropy'}. Best is trial 31 with value: 0.8217228464419476.\u001b[0m\n"
     ]
    },
    {
     "name": "stdout",
     "output_type": "stream",
     "text": [
      "val score: 0.8187265917602996\n",
      "test score: 0.7894736842105263\n"
     ]
    },
    {
     "name": "stderr",
     "output_type": "stream",
     "text": [
      "\u001b[32m[I 2021-11-22 09:33:40,088]\u001b[0m Trial 51 finished with value: 0.8217228464419476 and parameters: {'n_estimators': 550, 'max_depth': 40, 'max_features': 33, 'min_samples_leaf': 1, 'min_samples_split': 8, 'bootstrap': True, 'criterion': 'entropy'}. Best is trial 31 with value: 0.8217228464419476.\u001b[0m\n"
     ]
    },
    {
     "name": "stdout",
     "output_type": "stream",
     "text": [
      "val score: 0.8217228464419476\n",
      "test score: 0.7966507177033493\n"
     ]
    },
    {
     "name": "stderr",
     "output_type": "stream",
     "text": [
      "\u001b[32m[I 2021-11-22 09:33:47,627]\u001b[0m Trial 52 finished with value: 0.8209737827715357 and parameters: {'n_estimators': 560, 'max_depth': 40, 'max_features': 33, 'min_samples_leaf': 1, 'min_samples_split': 12, 'bootstrap': False, 'criterion': 'entropy'}. Best is trial 31 with value: 0.8217228464419476.\u001b[0m\n"
     ]
    },
    {
     "name": "stdout",
     "output_type": "stream",
     "text": [
      "val score: 0.8209737827715357\n",
      "test score: 0.784688995215311\n"
     ]
    },
    {
     "name": "stderr",
     "output_type": "stream",
     "text": [
      "\u001b[32m[I 2021-11-22 09:33:53,911]\u001b[0m Trial 53 finished with value: 0.8164794007490638 and parameters: {'n_estimators': 560, 'max_depth': 41, 'max_features': 34, 'min_samples_leaf': 1, 'min_samples_split': 11, 'bootstrap': True, 'criterion': 'entropy'}. Best is trial 31 with value: 0.8217228464419476.\u001b[0m\n"
     ]
    },
    {
     "name": "stdout",
     "output_type": "stream",
     "text": [
      "val score: 0.8164794007490638\n",
      "test score: 0.7942583732057417\n"
     ]
    },
    {
     "name": "stderr",
     "output_type": "stream",
     "text": [
      "\u001b[32m[I 2021-11-22 09:34:01,766]\u001b[0m Trial 54 finished with value: 0.8262172284644194 and parameters: {'n_estimators': 600, 'max_depth': 32, 'max_features': 32, 'min_samples_leaf': 1, 'min_samples_split': 12, 'bootstrap': False, 'criterion': 'entropy'}. Best is trial 54 with value: 0.8262172284644194.\u001b[0m\n"
     ]
    },
    {
     "name": "stdout",
     "output_type": "stream",
     "text": [
      "val score: 0.8262172284644194\n",
      "test score: 0.7870813397129187\n"
     ]
    },
    {
     "name": "stderr",
     "output_type": "stream",
     "text": [
      "\u001b[32m[I 2021-11-22 09:34:10,089]\u001b[0m Trial 55 finished with value: 0.8239700374531834 and parameters: {'n_estimators': 660, 'max_depth': 33, 'max_features': 29, 'min_samples_leaf': 1, 'min_samples_split': 12, 'bootstrap': False, 'criterion': 'entropy'}. Best is trial 54 with value: 0.8262172284644194.\u001b[0m\n"
     ]
    },
    {
     "name": "stdout",
     "output_type": "stream",
     "text": [
      "val score: 0.8239700374531834\n",
      "test score: 0.7870813397129187\n"
     ]
    },
    {
     "name": "stderr",
     "output_type": "stream",
     "text": [
      "\u001b[32m[I 2021-11-22 09:34:17,708]\u001b[0m Trial 56 finished with value: 0.8232209737827716 and parameters: {'n_estimators': 600, 'max_depth': 33, 'max_features': 32, 'min_samples_leaf': 1, 'min_samples_split': 12, 'bootstrap': False, 'criterion': 'entropy'}. Best is trial 54 with value: 0.8262172284644194.\u001b[0m\n"
     ]
    },
    {
     "name": "stdout",
     "output_type": "stream",
     "text": [
      "val score: 0.8232209737827716\n",
      "test score: 0.784688995215311\n"
     ]
    },
    {
     "name": "stderr",
     "output_type": "stream",
     "text": [
      "\u001b[32m[I 2021-11-22 09:34:20,350]\u001b[0m Trial 57 finished with value: 0.6352059925093634 and parameters: {'n_estimators': 590, 'max_depth': 33, 'max_features': 29, 'min_samples_leaf': 2, 'min_samples_split': 12, 'bootstrap': False, 'criterion': 'entropy'}. Best is trial 54 with value: 0.8262172284644194.\u001b[0m\n"
     ]
    },
    {
     "name": "stdout",
     "output_type": "stream",
     "text": [
      "val score: 0.6352059925093634\n",
      "test score: 0.6674641148325359\n"
     ]
    },
    {
     "name": "stderr",
     "output_type": "stream",
     "text": [
      "\u001b[32m[I 2021-11-22 09:34:29,743]\u001b[0m Trial 58 finished with value: 0.8202247191011235 and parameters: {'n_estimators': 670, 'max_depth': 47, 'max_features': 32, 'min_samples_leaf': 1, 'min_samples_split': 12, 'bootstrap': False, 'criterion': 'entropy'}. Best is trial 54 with value: 0.8262172284644194.\u001b[0m\n"
     ]
    },
    {
     "name": "stdout",
     "output_type": "stream",
     "text": [
      "val score: 0.8202247191011235\n",
      "test score: 0.7870813397129187\n"
     ]
    },
    {
     "name": "stderr",
     "output_type": "stream",
     "text": [
      "\u001b[32m[I 2021-11-22 09:34:32,538]\u001b[0m Trial 59 finished with value: 0.6389513108614231 and parameters: {'n_estimators': 620, 'max_depth': 30, 'max_features': 30, 'min_samples_leaf': 2, 'min_samples_split': 12, 'bootstrap': False, 'criterion': 'entropy'}. Best is trial 54 with value: 0.8262172284644194.\u001b[0m\n"
     ]
    },
    {
     "name": "stdout",
     "output_type": "stream",
     "text": [
      "val score: 0.6389513108614231\n",
      "test score: 0.6411483253588517\n"
     ]
    },
    {
     "name": "stderr",
     "output_type": "stream",
     "text": [
      "\u001b[32m[I 2021-11-22 09:34:39,876]\u001b[0m Trial 60 finished with value: 0.8232209737827715 and parameters: {'n_estimators': 540, 'max_depth': 41, 'max_features': 27, 'min_samples_leaf': 1, 'min_samples_split': 12, 'bootstrap': False, 'criterion': 'entropy'}. Best is trial 54 with value: 0.8262172284644194.\u001b[0m\n"
     ]
    },
    {
     "name": "stdout",
     "output_type": "stream",
     "text": [
      "val score: 0.8232209737827715\n",
      "test score: 0.7894736842105263\n"
     ]
    },
    {
     "name": "stderr",
     "output_type": "stream",
     "text": [
      "\u001b[32m[I 2021-11-22 09:34:46,870]\u001b[0m Trial 61 finished with value: 0.8239700374531835 and parameters: {'n_estimators': 530, 'max_depth': 43, 'max_features': 27, 'min_samples_leaf': 1, 'min_samples_split': 12, 'bootstrap': False, 'criterion': 'entropy'}. Best is trial 54 with value: 0.8262172284644194.\u001b[0m\n"
     ]
    },
    {
     "name": "stdout",
     "output_type": "stream",
     "text": [
      "val score: 0.8239700374531835\n",
      "test score: 0.7870813397129187\n"
     ]
    },
    {
     "name": "stderr",
     "output_type": "stream",
     "text": [
      "\u001b[32m[I 2021-11-22 09:34:53,374]\u001b[0m Trial 62 finished with value: 0.8247191011235955 and parameters: {'n_estimators': 530, 'max_depth': 35, 'max_features': 27, 'min_samples_leaf': 1, 'min_samples_split': 12, 'bootstrap': False, 'criterion': 'entropy'}. Best is trial 54 with value: 0.8262172284644194.\u001b[0m\n"
     ]
    },
    {
     "name": "stdout",
     "output_type": "stream",
     "text": [
      "val score: 0.8247191011235955\n",
      "test score: 0.7870813397129187\n"
     ]
    },
    {
     "name": "stderr",
     "output_type": "stream",
     "text": [
      "\u001b[32m[I 2021-11-22 09:34:59,846]\u001b[0m Trial 63 finished with value: 0.8269662921348315 and parameters: {'n_estimators': 530, 'max_depth': 34, 'max_features': 27, 'min_samples_leaf': 1, 'min_samples_split': 12, 'bootstrap': False, 'criterion': 'entropy'}. Best is trial 63 with value: 0.8269662921348315.\u001b[0m\n"
     ]
    },
    {
     "name": "stdout",
     "output_type": "stream",
     "text": [
      "val score: 0.8269662921348315\n",
      "test score: 0.784688995215311\n"
     ]
    },
    {
     "name": "stderr",
     "output_type": "stream",
     "text": [
      "\u001b[32m[I 2021-11-22 09:35:06,348]\u001b[0m Trial 64 finished with value: 0.8224719101123595 and parameters: {'n_estimators': 530, 'max_depth': 35, 'max_features': 26, 'min_samples_leaf': 1, 'min_samples_split': 12, 'bootstrap': False, 'criterion': 'entropy'}. Best is trial 63 with value: 0.8269662921348315.\u001b[0m\n"
     ]
    },
    {
     "name": "stdout",
     "output_type": "stream",
     "text": [
      "val score: 0.8224719101123595\n",
      "test score: 0.7942583732057417\n"
     ]
    },
    {
     "name": "stderr",
     "output_type": "stream",
     "text": [
      "\u001b[32m[I 2021-11-22 09:35:13,413]\u001b[0m Trial 65 finished with value: 0.8209737827715357 and parameters: {'n_estimators': 600, 'max_depth': 30, 'max_features': 27, 'min_samples_leaf': 1, 'min_samples_split': 13, 'bootstrap': False, 'criterion': 'entropy'}. Best is trial 63 with value: 0.8269662921348315.\u001b[0m\n"
     ]
    },
    {
     "name": "stdout",
     "output_type": "stream",
     "text": [
      "val score: 0.8209737827715357\n",
      "test score: 0.7870813397129187\n"
     ]
    },
    {
     "name": "stderr",
     "output_type": "stream",
     "text": [
      "\u001b[32m[I 2021-11-22 09:35:19,246]\u001b[0m Trial 66 finished with value: 0.8232209737827715 and parameters: {'n_estimators': 480, 'max_depth': 34, 'max_features': 24, 'min_samples_leaf': 1, 'min_samples_split': 12, 'bootstrap': False, 'criterion': 'entropy'}. Best is trial 63 with value: 0.8269662921348315.\u001b[0m\n"
     ]
    },
    {
     "name": "stdout",
     "output_type": "stream",
     "text": [
      "val score: 0.8232209737827715\n",
      "test score: 0.7870813397129187\n"
     ]
    },
    {
     "name": "stderr",
     "output_type": "stream",
     "text": [
      "\u001b[32m[I 2021-11-22 09:35:21,408]\u001b[0m Trial 67 finished with value: 0.6179775280898876 and parameters: {'n_estimators': 500, 'max_depth': 32, 'max_features': 23, 'min_samples_leaf': 3, 'min_samples_split': 11, 'bootstrap': False, 'criterion': 'entropy'}. Best is trial 63 with value: 0.8269662921348315.\u001b[0m\n"
     ]
    },
    {
     "name": "stdout",
     "output_type": "stream",
     "text": [
      "val score: 0.6179775280898876\n",
      "test score: 0.6220095693779905\n"
     ]
    },
    {
     "name": "stderr",
     "output_type": "stream",
     "text": [
      "\u001b[32m[I 2021-11-22 09:35:26,401]\u001b[0m Trial 68 finished with value: 0.8239700374531835 and parameters: {'n_estimators': 420, 'max_depth': 28, 'max_features': 29, 'min_samples_leaf': 1, 'min_samples_split': 12, 'bootstrap': False, 'criterion': 'entropy'}. Best is trial 63 with value: 0.8269662921348315.\u001b[0m\n"
     ]
    },
    {
     "name": "stdout",
     "output_type": "stream",
     "text": [
      "val score: 0.8239700374531835\n",
      "test score: 0.7894736842105263\n"
     ]
    },
    {
     "name": "stderr",
     "output_type": "stream",
     "text": [
      "\u001b[32m[I 2021-11-22 09:35:28,233]\u001b[0m Trial 69 finished with value: 0.6382022471910112 and parameters: {'n_estimators': 390, 'max_depth': 21, 'max_features': 29, 'min_samples_leaf': 2, 'min_samples_split': 12, 'bootstrap': False, 'criterion': 'entropy'}. Best is trial 63 with value: 0.8269662921348315.\u001b[0m\n"
     ]
    },
    {
     "name": "stdout",
     "output_type": "stream",
     "text": [
      "val score: 0.6382022471910112\n",
      "test score: 0.6674641148325359\n"
     ]
    },
    {
     "name": "stderr",
     "output_type": "stream",
     "text": [
      "\u001b[32m[I 2021-11-22 09:35:32,442]\u001b[0m Trial 70 finished with value: 0.8232209737827716 and parameters: {'n_estimators': 350, 'max_depth': 30, 'max_features': 28, 'min_samples_leaf': 1, 'min_samples_split': 13, 'bootstrap': False, 'criterion': 'entropy'}. Best is trial 63 with value: 0.8269662921348315.\u001b[0m\n"
     ]
    },
    {
     "name": "stdout",
     "output_type": "stream",
     "text": [
      "val score: 0.8232209737827716\n",
      "test score: 0.7894736842105263\n"
     ]
    },
    {
     "name": "stderr",
     "output_type": "stream",
     "text": [
      "\u001b[32m[I 2021-11-22 09:35:37,441]\u001b[0m Trial 71 finished with value: 0.8209737827715357 and parameters: {'n_estimators': 420, 'max_depth': 29, 'max_features': 28, 'min_samples_leaf': 1, 'min_samples_split': 13, 'bootstrap': False, 'criterion': 'entropy'}. Best is trial 63 with value: 0.8269662921348315.\u001b[0m\n"
     ]
    },
    {
     "name": "stdout",
     "output_type": "stream",
     "text": [
      "val score: 0.8209737827715357\n",
      "test score: 0.784688995215311\n"
     ]
    },
    {
     "name": "stderr",
     "output_type": "stream",
     "text": [
      "\u001b[32m[I 2021-11-22 09:35:41,779]\u001b[0m Trial 72 finished with value: 0.8232209737827716 and parameters: {'n_estimators': 350, 'max_depth': 28, 'max_features': 31, 'min_samples_leaf': 1, 'min_samples_split': 13, 'bootstrap': False, 'criterion': 'entropy'}. Best is trial 63 with value: 0.8269662921348315.\u001b[0m\n"
     ]
    },
    {
     "name": "stdout",
     "output_type": "stream",
     "text": [
      "val score: 0.8232209737827716\n",
      "test score: 0.784688995215311\n"
     ]
    },
    {
     "name": "stderr",
     "output_type": "stream",
     "text": [
      "\u001b[32m[I 2021-11-22 09:35:44,897]\u001b[0m Trial 73 finished with value: 0.8217228464419476 and parameters: {'n_estimators': 280, 'max_depth': 28, 'max_features': 25, 'min_samples_leaf': 1, 'min_samples_split': 12, 'bootstrap': False, 'criterion': 'entropy'}. Best is trial 63 with value: 0.8269662921348315.\u001b[0m\n"
     ]
    },
    {
     "name": "stdout",
     "output_type": "stream",
     "text": [
      "val score: 0.8217228464419476\n",
      "test score: 0.7894736842105263\n"
     ]
    },
    {
     "name": "stderr",
     "output_type": "stream",
     "text": [
      "\u001b[32m[I 2021-11-22 09:35:46,462]\u001b[0m Trial 74 finished with value: 0.6187265917602996 and parameters: {'n_estimators': 340, 'max_depth': 36, 'max_features': 30, 'min_samples_leaf': 4, 'min_samples_split': 13, 'bootstrap': False, 'criterion': 'entropy'}. Best is trial 63 with value: 0.8269662921348315.\u001b[0m\n"
     ]
    },
    {
     "name": "stdout",
     "output_type": "stream",
     "text": [
      "val score: 0.6187265917602996\n",
      "test score: 0.6220095693779905\n"
     ]
    },
    {
     "name": "stderr",
     "output_type": "stream",
     "text": [
      "\u001b[32m[I 2021-11-22 09:35:53,271]\u001b[0m Trial 75 finished with value: 0.8217228464419476 and parameters: {'n_estimators': 660, 'max_depth': 20, 'max_features': 31, 'min_samples_leaf': 1, 'min_samples_split': 11, 'bootstrap': False, 'criterion': 'entropy'}. Best is trial 63 with value: 0.8269662921348315.\u001b[0m\n"
     ]
    },
    {
     "name": "stdout",
     "output_type": "stream",
     "text": [
      "val score: 0.8217228464419476\n",
      "test score: 0.7870813397129187\n"
     ]
    },
    {
     "name": "stderr",
     "output_type": "stream",
     "text": [
      "\u001b[32m[I 2021-11-22 09:35:58,225]\u001b[0m Trial 76 finished with value: 0.8232209737827716 and parameters: {'n_estimators': 350, 'max_depth': 54, 'max_features': 28, 'min_samples_leaf': 1, 'min_samples_split': 13, 'bootstrap': False, 'criterion': 'entropy'}. Best is trial 63 with value: 0.8269662921348315.\u001b[0m\n"
     ]
    },
    {
     "name": "stdout",
     "output_type": "stream",
     "text": [
      "val score: 0.8232209737827716\n",
      "test score: 0.784688995215311\n"
     ]
    },
    {
     "name": "stderr",
     "output_type": "stream",
     "text": [
      "\u001b[32m[I 2021-11-22 09:36:04,244]\u001b[0m Trial 77 finished with value: 0.8194756554307115 and parameters: {'n_estimators': 430, 'max_depth': 56, 'max_features': 26, 'min_samples_leaf': 1, 'min_samples_split': 12, 'bootstrap': False, 'criterion': 'entropy'}. Best is trial 63 with value: 0.8269662921348315.\u001b[0m\n"
     ]
    },
    {
     "name": "stdout",
     "output_type": "stream",
     "text": [
      "val score: 0.8194756554307115\n",
      "test score: 0.7870813397129187\n"
     ]
    },
    {
     "name": "stderr",
     "output_type": "stream",
     "text": [
      "\u001b[32m[I 2021-11-22 09:36:12,534]\u001b[0m Trial 78 finished with value: 0.8187265917602996 and parameters: {'n_estimators': 580, 'max_depth': 43, 'max_features': 32, 'min_samples_leaf': 1, 'min_samples_split': 11, 'bootstrap': False, 'criterion': 'entropy'}. Best is trial 63 with value: 0.8269662921348315.\u001b[0m\n"
     ]
    },
    {
     "name": "stdout",
     "output_type": "stream",
     "text": [
      "val score: 0.8187265917602996\n",
      "test score: 0.784688995215311\n"
     ]
    },
    {
     "name": "stderr",
     "output_type": "stream",
     "text": [
      "\u001b[32m[I 2021-11-22 09:36:13,615]\u001b[0m Trial 79 finished with value: 0.6179775280898876 and parameters: {'n_estimators': 210, 'max_depth': 100, 'max_features': 22, 'min_samples_leaf': 2, 'min_samples_split': 12, 'bootstrap': False, 'criterion': 'entropy'}. Best is trial 63 with value: 0.8269662921348315.\u001b[0m\n"
     ]
    },
    {
     "name": "stdout",
     "output_type": "stream",
     "text": [
      "val score: 0.6179775280898876\n",
      "test score: 0.6220095693779905\n"
     ]
    },
    {
     "name": "stderr",
     "output_type": "stream",
     "text": [
      "\u001b[32m[I 2021-11-22 09:36:22,518]\u001b[0m Trial 80 finished with value: 0.8239700374531834 and parameters: {'n_estimators': 700, 'max_depth': 33, 'max_features': 29, 'min_samples_leaf': 1, 'min_samples_split': 12, 'bootstrap': False, 'criterion': 'entropy'}. Best is trial 63 with value: 0.8269662921348315.\u001b[0m\n"
     ]
    },
    {
     "name": "stdout",
     "output_type": "stream",
     "text": [
      "val score: 0.8239700374531834\n",
      "test score: 0.7894736842105263\n"
     ]
    },
    {
     "name": "stderr",
     "output_type": "stream",
     "text": [
      "\u001b[32m[I 2021-11-22 09:36:30,485]\u001b[0m Trial 81 finished with value: 0.8247191011235955 and parameters: {'n_estimators': 630, 'max_depth': 33, 'max_features': 29, 'min_samples_leaf': 1, 'min_samples_split': 12, 'bootstrap': False, 'criterion': 'entropy'}. Best is trial 63 with value: 0.8269662921348315.\u001b[0m\n"
     ]
    },
    {
     "name": "stdout",
     "output_type": "stream",
     "text": [
      "val score: 0.8247191011235955\n",
      "test score: 0.7870813397129187\n"
     ]
    },
    {
     "name": "stderr",
     "output_type": "stream",
     "text": [
      "\u001b[32m[I 2021-11-22 09:36:39,627]\u001b[0m Trial 82 finished with value: 0.8232209737827716 and parameters: {'n_estimators': 700, 'max_depth': 37, 'max_features': 30, 'min_samples_leaf': 1, 'min_samples_split': 12, 'bootstrap': False, 'criterion': 'entropy'}. Best is trial 63 with value: 0.8269662921348315.\u001b[0m\n"
     ]
    },
    {
     "name": "stdout",
     "output_type": "stream",
     "text": [
      "val score: 0.8232209737827716\n",
      "test score: 0.7894736842105263\n"
     ]
    },
    {
     "name": "stderr",
     "output_type": "stream",
     "text": [
      "\u001b[32m[I 2021-11-22 09:36:49,059]\u001b[0m Trial 83 finished with value: 0.8239700374531835 and parameters: {'n_estimators': 740, 'max_depth': 33, 'max_features': 29, 'min_samples_leaf': 1, 'min_samples_split': 12, 'bootstrap': False, 'criterion': 'entropy'}. Best is trial 63 with value: 0.8269662921348315.\u001b[0m\n"
     ]
    },
    {
     "name": "stdout",
     "output_type": "stream",
     "text": [
      "val score: 0.8239700374531835\n",
      "test score: 0.7894736842105263\n"
     ]
    },
    {
     "name": "stderr",
     "output_type": "stream",
     "text": [
      "\u001b[32m[I 2021-11-22 09:36:58,408]\u001b[0m Trial 84 finished with value: 0.8224719101123595 and parameters: {'n_estimators': 730, 'max_depth': 35, 'max_features': 29, 'min_samples_leaf': 1, 'min_samples_split': 12, 'bootstrap': False, 'criterion': 'entropy'}. Best is trial 63 with value: 0.8269662921348315.\u001b[0m\n"
     ]
    },
    {
     "name": "stdout",
     "output_type": "stream",
     "text": [
      "val score: 0.8224719101123595\n",
      "test score: 0.7894736842105263\n"
     ]
    },
    {
     "name": "stderr",
     "output_type": "stream",
     "text": [
      "\u001b[32m[I 2021-11-22 09:37:07,058]\u001b[0m Trial 85 finished with value: 0.8209737827715357 and parameters: {'n_estimators': 640, 'max_depth': 48, 'max_features': 27, 'min_samples_leaf': 1, 'min_samples_split': 11, 'bootstrap': False, 'criterion': 'entropy'}. Best is trial 63 with value: 0.8269662921348315.\u001b[0m\n"
     ]
    },
    {
     "name": "stdout",
     "output_type": "stream",
     "text": [
      "val score: 0.8209737827715357\n",
      "test score: 0.7918660287081339\n"
     ]
    },
    {
     "name": "stderr",
     "output_type": "stream",
     "text": [
      "\u001b[32m[I 2021-11-22 09:37:12,514]\u001b[0m Trial 86 finished with value: 0.8217228464419476 and parameters: {'n_estimators': 470, 'max_depth': 33, 'max_features': 24, 'min_samples_leaf': 1, 'min_samples_split': 12, 'bootstrap': False, 'criterion': 'entropy'}. Best is trial 63 with value: 0.8269662921348315.\u001b[0m\n"
     ]
    },
    {
     "name": "stdout",
     "output_type": "stream",
     "text": [
      "val score: 0.8217228464419476\n",
      "test score: 0.7918660287081339\n"
     ]
    },
    {
     "name": "stderr",
     "output_type": "stream",
     "text": [
      "\u001b[32m[I 2021-11-22 09:37:19,401]\u001b[0m Trial 87 finished with value: 0.8164794007490638 and parameters: {'n_estimators': 670, 'max_depth': 24, 'max_features': 25, 'min_samples_leaf': 1, 'min_samples_split': 12, 'bootstrap': False, 'criterion': 'entropy'}. Best is trial 63 with value: 0.8269662921348315.\u001b[0m\n"
     ]
    },
    {
     "name": "stdout",
     "output_type": "stream",
     "text": [
      "val score: 0.8164794007490638\n",
      "test score: 0.7822966507177034\n"
     ]
    },
    {
     "name": "stderr",
     "output_type": "stream",
     "text": [
      "\u001b[32m[I 2021-11-22 09:37:29,030]\u001b[0m Trial 88 finished with value: 0.8254681647940074 and parameters: {'n_estimators': 750, 'max_depth': 38, 'max_features': 26, 'min_samples_leaf': 1, 'min_samples_split': 12, 'bootstrap': False, 'criterion': 'entropy'}. Best is trial 63 with value: 0.8269662921348315.\u001b[0m\n"
     ]
    },
    {
     "name": "stdout",
     "output_type": "stream",
     "text": [
      "val score: 0.8254681647940074\n",
      "test score: 0.7894736842105263\n"
     ]
    },
    {
     "name": "stderr",
     "output_type": "stream",
     "text": [
      "\u001b[32m[I 2021-11-22 09:37:38,412]\u001b[0m Trial 89 finished with value: 0.8217228464419476 and parameters: {'n_estimators': 730, 'max_depth': 38, 'max_features': 27, 'min_samples_leaf': 1, 'min_samples_split': 12, 'bootstrap': False, 'criterion': 'entropy'}. Best is trial 63 with value: 0.8269662921348315.\u001b[0m\n"
     ]
    },
    {
     "name": "stdout",
     "output_type": "stream",
     "text": [
      "val score: 0.8217228464419476\n",
      "test score: 0.7918660287081339\n"
     ]
    },
    {
     "name": "stderr",
     "output_type": "stream",
     "text": [
      "\u001b[32m[I 2021-11-22 09:37:48,883]\u001b[0m Trial 90 finished with value: 0.8202247191011237 and parameters: {'n_estimators': 790, 'max_depth': 43, 'max_features': 26, 'min_samples_leaf': 1, 'min_samples_split': 12, 'bootstrap': False, 'criterion': 'entropy'}. Best is trial 63 with value: 0.8269662921348315.\u001b[0m\n"
     ]
    },
    {
     "name": "stdout",
     "output_type": "stream",
     "text": [
      "val score: 0.8202247191011237\n",
      "test score: 0.784688995215311\n"
     ]
    },
    {
     "name": "stderr",
     "output_type": "stream",
     "text": [
      "\u001b[32m[I 2021-11-22 09:37:57,741]\u001b[0m Trial 91 finished with value: 0.8247191011235955 and parameters: {'n_estimators': 750, 'max_depth': 27, 'max_features': 29, 'min_samples_leaf': 1, 'min_samples_split': 12, 'bootstrap': False, 'criterion': 'entropy'}. Best is trial 63 with value: 0.8269662921348315.\u001b[0m\n"
     ]
    },
    {
     "name": "stdout",
     "output_type": "stream",
     "text": [
      "val score: 0.8247191011235955\n",
      "test score: 0.7894736842105263\n"
     ]
    },
    {
     "name": "stderr",
     "output_type": "stream",
     "text": [
      "\u001b[32m[I 2021-11-22 09:38:06,594]\u001b[0m Trial 92 finished with value: 0.8209737827715354 and parameters: {'n_estimators': 750, 'max_depth': 27, 'max_features': 28, 'min_samples_leaf': 1, 'min_samples_split': 12, 'bootstrap': False, 'criterion': 'entropy'}. Best is trial 63 with value: 0.8269662921348315.\u001b[0m\n"
     ]
    },
    {
     "name": "stdout",
     "output_type": "stream",
     "text": [
      "val score: 0.8209737827715354\n",
      "test score: 0.7894736842105263\n"
     ]
    },
    {
     "name": "stderr",
     "output_type": "stream",
     "text": [
      "\u001b[32m[I 2021-11-22 09:38:15,017]\u001b[0m Trial 93 finished with value: 0.8202247191011235 and parameters: {'n_estimators': 680, 'max_depth': 31, 'max_features': 30, 'min_samples_leaf': 1, 'min_samples_split': 12, 'bootstrap': False, 'criterion': 'entropy'}. Best is trial 63 with value: 0.8269662921348315.\u001b[0m\n"
     ]
    },
    {
     "name": "stdout",
     "output_type": "stream",
     "text": [
      "val score: 0.8202247191011235\n",
      "test score: 0.7918660287081339\n"
     ]
    },
    {
     "name": "stderr",
     "output_type": "stream",
     "text": [
      "\u001b[32m[I 2021-11-22 09:38:22,285]\u001b[0m Trial 94 finished with value: 0.8232209737827716 and parameters: {'n_estimators': 640, 'max_depth': 23, 'max_features': 31, 'min_samples_leaf': 1, 'min_samples_split': 12, 'bootstrap': False, 'criterion': 'entropy'}. Best is trial 63 with value: 0.8269662921348315.\u001b[0m\n"
     ]
    },
    {
     "name": "stdout",
     "output_type": "stream",
     "text": [
      "val score: 0.8232209737827716\n",
      "test score: 0.7870813397129187\n"
     ]
    },
    {
     "name": "stderr",
     "output_type": "stream",
     "text": [
      "\u001b[32m[I 2021-11-22 09:38:29,133]\u001b[0m Trial 95 finished with value: 0.8224719101123595 and parameters: {'n_estimators': 520, 'max_depth': 39, 'max_features': 28, 'min_samples_leaf': 1, 'min_samples_split': 12, 'bootstrap': False, 'criterion': 'entropy'}. Best is trial 63 with value: 0.8269662921348315.\u001b[0m\n"
     ]
    },
    {
     "name": "stdout",
     "output_type": "stream",
     "text": [
      "val score: 0.8224719101123595\n",
      "test score: 0.7822966507177034\n"
     ]
    },
    {
     "name": "stderr",
     "output_type": "stream",
     "text": [
      "\u001b[32m[I 2021-11-22 09:38:37,220]\u001b[0m Trial 96 finished with value: 0.8239700374531835 and parameters: {'n_estimators': 580, 'max_depth': 45, 'max_features': 26, 'min_samples_leaf': 1, 'min_samples_split': 11, 'bootstrap': False, 'criterion': 'entropy'}. Best is trial 63 with value: 0.8269662921348315.\u001b[0m\n"
     ]
    },
    {
     "name": "stdout",
     "output_type": "stream",
     "text": [
      "val score: 0.8239700374531835\n",
      "test score: 0.7822966507177034\n"
     ]
    },
    {
     "name": "stderr",
     "output_type": "stream",
     "text": [
      "\u001b[32m[I 2021-11-22 09:38:44,680]\u001b[0m Trial 97 finished with value: 0.8239700374531835 and parameters: {'n_estimators': 560, 'max_depth': 51, 'max_features': 22, 'min_samples_leaf': 1, 'min_samples_split': 11, 'bootstrap': False, 'criterion': 'entropy'}. Best is trial 63 with value: 0.8269662921348315.\u001b[0m\n"
     ]
    },
    {
     "name": "stdout",
     "output_type": "stream",
     "text": [
      "val score: 0.8239700374531835\n",
      "test score: 0.7870813397129187\n"
     ]
    },
    {
     "name": "stderr",
     "output_type": "stream",
     "text": [
      "\u001b[32m[I 2021-11-22 09:38:52,052]\u001b[0m Trial 98 finished with value: 0.8202247191011235 and parameters: {'n_estimators': 520, 'max_depth': 51, 'max_features': 24, 'min_samples_leaf': 1, 'min_samples_split': 11, 'bootstrap': False, 'criterion': 'entropy'}. Best is trial 63 with value: 0.8269662921348315.\u001b[0m\n"
     ]
    },
    {
     "name": "stdout",
     "output_type": "stream",
     "text": [
      "val score: 0.8202247191011235\n",
      "test score: 0.784688995215311\n"
     ]
    },
    {
     "name": "stderr",
     "output_type": "stream",
     "text": [
      "\u001b[32m[I 2021-11-22 09:38:54,788]\u001b[0m Trial 99 finished with value: 0.6179775280898876 and parameters: {'n_estimators': 620, 'max_depth': 26, 'max_features': 22, 'min_samples_leaf': 2, 'min_samples_split': 11, 'bootstrap': False, 'criterion': 'entropy'}. Best is trial 63 with value: 0.8269662921348315.\u001b[0m\n"
     ]
    },
    {
     "name": "stdout",
     "output_type": "stream",
     "text": [
      "val score: 0.6179775280898876\n",
      "test score: 0.6220095693779905\n"
     ]
    }
   ],
   "source": []
  },
  {
   "cell_type": "code",
   "execution_count": 146,
   "id": "5d32f576",
   "metadata": {},
   "outputs": [
    {
     "data": {
      "image/png": "[encoded data removed]",
      "text/plain": [
       "<Figure size 1080x360 with 1 Axes>"
      ]
     },
     "metadata": {
      "needs_background": "light"
     },
     "output_type": "display_data"
    }
   ],
   "source": [
    "score_boad = pd.DataFrame(score_boad)\n",
    "score_boad = score_boad.iloc[score_boad[1].sort_values(ascending=False).index]\n",
    "\n",
    "plt.subplots(figsize=(15, 5))\n",
    "sns.scatterplot(x=score_boad.iloc[:, 0], y=score_boad.iloc[:,1])\n",
    "sns.regplot(x=score_boad.iloc[:, 0], y=score_boad.iloc[:,1])\n",
    "plt.show()"
   ]
  },
  {
   "cell_type": "markdown",
   "id": "3c3e040d",
   "metadata": {},
   "source": [
    "2차"
   ]
  },
  {
   "cell_type": "code",
   "execution_count": 147,
   "id": "93469d1c",
   "metadata": {},
   "outputs": [],
   "source": [
    "train = pd.read_csv('../../Data/titanic_origintrain.csv')\n",
    "test = pd.read_csv('../../Data/titanic_origintest.csv')\n",
    "all_data = pd.concat((train, test), axis=0)"
   ]
  },
  {
   "cell_type": "code",
   "execution_count": 148,
   "id": "fea460df",
   "metadata": {},
   "outputs": [],
   "source": [
    "# missing values\n",
    "all_data['Age'] = all_data.Age.fillna(train.Age.median())\n",
    "all_data['Fare'] = all_data.Fare.fillna(train.Fare.median())\n",
    "all_data.dropna(subset=['Embarked'], inplace=True)\n",
    "cabins = all_data.Cabin\n",
    "all_data.drop(['Cabin'], axis=1, inplace=True)\n",
    "\n",
    "# derivative features\n",
    "all_data['CabinCnt'] = cabins.apply(lambda x: 0 if pd.isna(x) else len(x.split(' ')))\n",
    "all_data['CabinClass'] = cabins.apply(lambda x: str(x)[0])\n",
    "all_data['IsNumericTicket'] = all_data.Ticket.apply(lambda x: 1 if x.isnumeric() else 0)\n",
    "all_data['TicketType'] = all_data.Ticket.apply(lambda x: ''.join(x.split(' ')[:-1]).replace('.','').replace('/','').lower() if len(x.split(' ')[:-1]) > 0 else 0)\n",
    "all_data['Title'] = all_data.Name.apply(lambda x: x.split(',')[1].split('.')[0].strip())\n",
    "all_data['Family'] = all_data.SibSp + all_data.Parch\n",
    "\n",
    "# feature transform\n",
    "numeric_vars = ['Age', 'SibSp', 'Parch', 'Fare', 'CabinCnt', 'Family']\n",
    "ordinal_vars = ['Pclass']\n",
    "nominal_vars = ['Name', 'Sex', 'Ticket', 'Embarked', 'CabinClass', 'IsNumericTicket', 'TicketType', 'Title']\n",
    "all_data[nominal_vars] = all_data[nominal_vars].astype('str')\n",
    "\n",
    "train = all_data[all_data.Survived.isnull() == False]\n",
    "test = all_data[all_data.Survived.isnull() == True]\n",
    "X_train, y_train = train.drop(['PassengerId', 'Ticket', 'Survived'], axis=1), train.Survived\n",
    "X_test = test.drop(['PassengerId', 'Ticket', 'Survived'], axis=1)\n",
    "\n",
    "numeric = X_train.columns[(X_train.dtypes != 'object')].values\n",
    "scaler = StandardScaler()\n",
    "X_train[numeric] = scaler.fit_transform(X_train[numeric])\n",
    "X_test[numeric] = scaler.transform(X_test[numeric])\n",
    "\n",
    "all_data = pd.concat((X_train, X_test), axis=0)\n",
    "all_data.Title = all_data.Title.apply(lambda x: 'Others' if x in list(all_data.Title.value_counts()[all_data.Title.value_counts() < 8].index) else x)\n",
    "all_data.TicketType = all_data.TicketType.apply(lambda x: 'Others' if x in list(all_data.TicketType.value_counts()[all_data.TicketType.value_counts() < 10].index) else x)\n",
    "\n",
    "data_dummies = pd.get_dummies(all_data)\n",
    "train_size = X_train.shape[0]\n",
    "X_train = data_dummies.iloc[:train_size, :]\n",
    "X_test = data_dummies.iloc[train_size:, :]\n",
    "\n",
    "y_test = pd.read_csv('../../Data/titanic_ytest.csv').Survived\n",
    "\n",
    "X_train = X_train.reset_index(drop=True)\n",
    "X_test = X_test.reset_index(drop=True)\n",
    "y_train = y_train.reset_index(drop=True)"
   ]
  },
  {
   "cell_type": "markdown",
   "id": "02a964d7",
   "metadata": {},
   "source": [
    "---"
   ]
  },
  {
   "cell_type": "code",
   "execution_count": 151,
   "id": "d9a98d41",
   "metadata": {},
   "outputs": [],
   "source": [
    "score_boad = []\n",
    "def objective(trial, X, y):\n",
    "    \n",
    "    # Random Forest Search Spec.\n",
    "    grid_param = {\n",
    "        'n_estimators': trial.suggest_int('n_estimators', 50, 1000, 10),\n",
    "        'max_depth': trial.suggest_int('max_depth', 2, 100),\n",
    "        'max_features': trial.suggest_int('max_features', 1, 40),\n",
    "        'min_samples_leaf': trial.suggest_int('min_samples_leaf', 1, 5),\n",
    "        'min_samples_split': trial.suggest_int('min_samples_split', 8, 13),\n",
    "        'bootstrap': trial.suggest_categorical('bootstrap', [True, False]),\n",
    "        'criterion': trial.suggest_categorical('criterion', ['entropy']),\n",
    "        'random_state': 42\n",
    "    }\n",
    "    #cv = StratifiedKFold(n_splits=5, shuffle=True, random_state=42)\n",
    "    #cv = RepeatedKFold(n_splits=5, n_repeats=10, random_state=42)\n",
    "    cv = StratifiedShuffleSplit(n_splits=5, test_size=.30, random_state=42)\n",
    "    \n",
    "    val_scores = []\n",
    "    for i, (train_idx, test_idx) in enumerate(cv.split(X_train, y_train)):\n",
    "        xtrain, xtest = X_train.iloc[train_idx, :], X_train.iloc[test_idx, :]\n",
    "        ytrain, ytest = y_train[train_idx], y_train[test_idx]\n",
    "        model = RandomForestClassifier(**grid_param).fit(xtrain, ytrain)\n",
    "        val_score = accuracy_score(ytest, model.predict(xtest))\n",
    "        val_scores.append(val_score)\n",
    "        \n",
    "    val_score = np.array(val_scores).mean()    \n",
    "    model = RandomForestClassifier(**grid_param)\n",
    "    test_score = accuracy_score(y_test, model.fit(X_train, y_train).predict(X_test))\n",
    "    \n",
    "    score_boad.append((val_score, test_score))\n",
    "    print(f'val score: {val_score}')\n",
    "    print(f'test score: {test_score}')\n",
    "    return val_score"
   ]
  },
  {
   "cell_type": "code",
   "execution_count": 152,
   "id": "ef886b53",
   "metadata": {
    "scrolled": true
   },
   "outputs": [
    {
     "name": "stderr",
     "output_type": "stream",
     "text": [
      "\u001b[32m[I 2021-11-22 09:49:31,509]\u001b[0m A new study created in memory with name: no-name-dc98197b-a7ff-4218-937c-c0fdf66f6632\u001b[0m\n",
      "\u001b[32m[I 2021-11-22 09:49:35,137]\u001b[0m Trial 0 finished with value: 0.6187265917602995 and parameters: {'n_estimators': 930, 'max_depth': 63, 'max_features': 29, 'min_samples_leaf': 3, 'min_samples_split': 12, 'bootstrap': False, 'criterion': 'entropy'}. Best is trial 0 with value: 0.6187265917602995.\u001b[0m\n"
     ]
    },
    {
     "name": "stdout",
     "output_type": "stream",
     "text": [
      "val score: 0.6187265917602995\n",
      "test score: 0.6291866028708134\n"
     ]
    },
    {
     "name": "stderr",
     "output_type": "stream",
     "text": [
      "\u001b[32m[I 2021-11-22 09:49:39,466]\u001b[0m Trial 1 finished with value: 0.6209737827715356 and parameters: {'n_estimators': 880, 'max_depth': 74, 'max_features': 31, 'min_samples_leaf': 2, 'min_samples_split': 8, 'bootstrap': True, 'criterion': 'entropy'}. Best is trial 1 with value: 0.6209737827715356.\u001b[0m\n"
     ]
    },
    {
     "name": "stdout",
     "output_type": "stream",
     "text": [
      "val score: 0.6209737827715356\n",
      "test score: 0.6339712918660287\n"
     ]
    },
    {
     "name": "stderr",
     "output_type": "stream",
     "text": [
      "\u001b[32m[I 2021-11-22 09:49:40,572]\u001b[0m Trial 2 finished with value: 0.650187265917603 and parameters: {'n_estimators': 200, 'max_depth': 29, 'max_features': 39, 'min_samples_leaf': 5, 'min_samples_split': 9, 'bootstrap': True, 'criterion': 'entropy'}. Best is trial 2 with value: 0.650187265917603.\u001b[0m\n"
     ]
    },
    {
     "name": "stdout",
     "output_type": "stream",
     "text": [
      "val score: 0.650187265917603\n",
      "test score: 0.6794258373205742\n"
     ]
    },
    {
     "name": "stderr",
     "output_type": "stream",
     "text": [
      "\u001b[32m[I 2021-11-22 09:49:43,844]\u001b[0m Trial 3 finished with value: 0.6179775280898876 and parameters: {'n_estimators': 680, 'max_depth': 51, 'max_features': 30, 'min_samples_leaf': 5, 'min_samples_split': 9, 'bootstrap': True, 'criterion': 'entropy'}. Best is trial 2 with value: 0.650187265917603.\u001b[0m\n"
     ]
    },
    {
     "name": "stdout",
     "output_type": "stream",
     "text": [
      "val score: 0.6179775280898876\n",
      "test score: 0.6220095693779905\n"
     ]
    },
    {
     "name": "stderr",
     "output_type": "stream",
     "text": [
      "\u001b[32m[I 2021-11-22 09:49:47,630]\u001b[0m Trial 4 finished with value: 0.6277153558052435 and parameters: {'n_estimators': 950, 'max_depth': 97, 'max_features': 32, 'min_samples_leaf': 5, 'min_samples_split': 9, 'bootstrap': False, 'criterion': 'entropy'}. Best is trial 2 with value: 0.650187265917603.\u001b[0m\n"
     ]
    },
    {
     "name": "stdout",
     "output_type": "stream",
     "text": [
      "val score: 0.6277153558052435\n",
      "test score: 0.6483253588516746\n"
     ]
    },
    {
     "name": "stderr",
     "output_type": "stream",
     "text": [
      "\u001b[32m[I 2021-11-22 09:49:47,974]\u001b[0m Trial 5 finished with value: 0.6179775280898876 and parameters: {'n_estimators': 70, 'max_depth': 32, 'max_features': 3, 'min_samples_leaf': 2, 'min_samples_split': 8, 'bootstrap': False, 'criterion': 'entropy'}. Best is trial 2 with value: 0.650187265917603.\u001b[0m\n"
     ]
    },
    {
     "name": "stdout",
     "output_type": "stream",
     "text": [
      "val score: 0.6179775280898876\n",
      "test score: 0.6220095693779905\n"
     ]
    },
    {
     "name": "stderr",
     "output_type": "stream",
     "text": [
      "\u001b[32m[I 2021-11-22 09:49:56,291]\u001b[0m Trial 6 finished with value: 0.8194756554307115 and parameters: {'n_estimators': 850, 'max_depth': 83, 'max_features': 15, 'min_samples_leaf': 1, 'min_samples_split': 9, 'bootstrap': True, 'criterion': 'entropy'}. Best is trial 6 with value: 0.8194756554307115.\u001b[0m\n"
     ]
    },
    {
     "name": "stdout",
     "output_type": "stream",
     "text": [
      "val score: 0.8194756554307115\n",
      "test score: 0.7942583732057417\n"
     ]
    },
    {
     "name": "stderr",
     "output_type": "stream",
     "text": [
      "\u001b[32m[I 2021-11-22 09:50:01,125]\u001b[0m Trial 7 finished with value: 0.6426966292134833 and parameters: {'n_estimators': 890, 'max_depth': 92, 'max_features': 33, 'min_samples_leaf': 2, 'min_samples_split': 9, 'bootstrap': True, 'criterion': 'entropy'}. Best is trial 6 with value: 0.8194756554307115.\u001b[0m\n"
     ]
    },
    {
     "name": "stdout",
     "output_type": "stream",
     "text": [
      "val score: 0.6426966292134833\n",
      "test score: 0.6746411483253588\n"
     ]
    },
    {
     "name": "stderr",
     "output_type": "stream",
     "text": [
      "\u001b[32m[I 2021-11-22 09:50:04,399]\u001b[0m Trial 8 finished with value: 0.7071161048689139 and parameters: {'n_estimators': 540, 'max_depth': 83, 'max_features': 40, 'min_samples_leaf': 2, 'min_samples_split': 12, 'bootstrap': True, 'criterion': 'entropy'}. Best is trial 6 with value: 0.8194756554307115.\u001b[0m\n"
     ]
    },
    {
     "name": "stdout",
     "output_type": "stream",
     "text": [
      "val score: 0.7071161048689139\n",
      "test score: 0.7129186602870813\n"
     ]
    },
    {
     "name": "stderr",
     "output_type": "stream",
     "text": [
      "\u001b[32m[I 2021-11-22 09:50:05,809]\u001b[0m Trial 9 finished with value: 0.6958801498127342 and parameters: {'n_estimators': 220, 'max_depth': 26, 'max_features': 38, 'min_samples_leaf': 2, 'min_samples_split': 13, 'bootstrap': True, 'criterion': 'entropy'}. Best is trial 6 with value: 0.8194756554307115.\u001b[0m\n"
     ]
    },
    {
     "name": "stdout",
     "output_type": "stream",
     "text": [
      "val score: 0.6958801498127342\n",
      "test score: 0.7200956937799043\n"
     ]
    },
    {
     "name": "stderr",
     "output_type": "stream",
     "text": [
      "\u001b[32m[I 2021-11-22 09:50:09,305]\u001b[0m Trial 10 finished with value: 0.7153558052434457 and parameters: {'n_estimators': 690, 'max_depth': 7, 'max_features': 13, 'min_samples_leaf': 1, 'min_samples_split': 11, 'bootstrap': False, 'criterion': 'entropy'}. Best is trial 6 with value: 0.8194756554307115.\u001b[0m\n"
     ]
    },
    {
     "name": "stdout",
     "output_type": "stream",
     "text": [
      "val score: 0.7153558052434457\n",
      "test score: 0.7200956937799043\n"
     ]
    },
    {
     "name": "stderr",
     "output_type": "stream",
     "text": [
      "\u001b[32m[I 2021-11-22 09:50:12,179]\u001b[0m Trial 11 finished with value: 0.6179775280898876 and parameters: {'n_estimators': 690, 'max_depth': 2, 'max_features': 13, 'min_samples_leaf': 1, 'min_samples_split': 11, 'bootstrap': False, 'criterion': 'entropy'}. Best is trial 6 with value: 0.8194756554307115.\u001b[0m\n"
     ]
    },
    {
     "name": "stdout",
     "output_type": "stream",
     "text": [
      "val score: 0.6179775280898876\n",
      "test score: 0.6220095693779905\n"
     ]
    },
    {
     "name": "stderr",
     "output_type": "stream",
     "text": [
      "\u001b[32m[I 2021-11-22 09:50:16,029]\u001b[0m Trial 12 finished with value: 0.7295880149812735 and parameters: {'n_estimators': 710, 'max_depth': 7, 'max_features': 16, 'min_samples_leaf': 1, 'min_samples_split': 10, 'bootstrap': False, 'criterion': 'entropy'}. Best is trial 6 with value: 0.8194756554307115.\u001b[0m\n"
     ]
    },
    {
     "name": "stdout",
     "output_type": "stream",
     "text": [
      "val score: 0.7295880149812735\n",
      "test score: 0.7416267942583732\n"
     ]
    },
    {
     "name": "stderr",
     "output_type": "stream",
     "text": [
      "\u001b[32m[I 2021-11-22 09:50:22,214]\u001b[0m Trial 13 finished with value: 0.8254681647940074 and parameters: {'n_estimators': 490, 'max_depth': 49, 'max_features': 19, 'min_samples_leaf': 1, 'min_samples_split': 10, 'bootstrap': False, 'criterion': 'entropy'}. Best is trial 13 with value: 0.8254681647940074.\u001b[0m\n"
     ]
    },
    {
     "name": "stdout",
     "output_type": "stream",
     "text": [
      "val score: 0.8254681647940074\n",
      "test score: 0.7870813397129187\n"
     ]
    },
    {
     "name": "stderr",
     "output_type": "stream",
     "text": [
      "\u001b[32m[I 2021-11-22 09:50:24,543]\u001b[0m Trial 14 finished with value: 0.6179775280898876 and parameters: {'n_estimators': 430, 'max_depth': 53, 'max_features': 23, 'min_samples_leaf': 3, 'min_samples_split': 10, 'bootstrap': True, 'criterion': 'entropy'}. Best is trial 13 with value: 0.8254681647940074.\u001b[0m\n"
     ]
    },
    {
     "name": "stdout",
     "output_type": "stream",
     "text": [
      "val score: 0.6179775280898876\n",
      "test score: 0.6220095693779905\n"
     ]
    },
    {
     "name": "stderr",
     "output_type": "stream",
     "text": [
      "\u001b[32m[I 2021-11-22 09:50:26,890]\u001b[0m Trial 15 finished with value: 0.6179775280898876 and parameters: {'n_estimators': 550, 'max_depth': 44, 'max_features': 21, 'min_samples_leaf': 4, 'min_samples_split': 10, 'bootstrap': False, 'criterion': 'entropy'}. Best is trial 13 with value: 0.8254681647940074.\u001b[0m\n"
     ]
    },
    {
     "name": "stdout",
     "output_type": "stream",
     "text": [
      "val score: 0.6179775280898876\n",
      "test score: 0.6220095693779905\n"
     ]
    },
    {
     "name": "stderr",
     "output_type": "stream",
     "text": [
      "\u001b[32m[I 2021-11-22 09:50:30,988]\u001b[0m Trial 16 finished with value: 0.8269662921348315 and parameters: {'n_estimators': 380, 'max_depth': 66, 'max_features': 6, 'min_samples_leaf': 1, 'min_samples_split': 8, 'bootstrap': False, 'criterion': 'entropy'}. Best is trial 16 with value: 0.8269662921348315.\u001b[0m\n"
     ]
    },
    {
     "name": "stdout",
     "output_type": "stream",
     "text": [
      "val score: 0.8269662921348315\n",
      "test score: 0.7870813397129187\n"
     ]
    },
    {
     "name": "stderr",
     "output_type": "stream",
     "text": [
      "\u001b[32m[I 2021-11-22 09:50:32,436]\u001b[0m Trial 17 finished with value: 0.6179775280898876 and parameters: {'n_estimators': 380, 'max_depth': 69, 'max_features': 1, 'min_samples_leaf': 4, 'min_samples_split': 8, 'bootstrap': False, 'criterion': 'entropy'}. Best is trial 16 with value: 0.8269662921348315.\u001b[0m\n"
     ]
    },
    {
     "name": "stdout",
     "output_type": "stream",
     "text": [
      "val score: 0.6179775280898876\n",
      "test score: 0.6220095693779905\n"
     ]
    },
    {
     "name": "stderr",
     "output_type": "stream",
     "text": [
      "\u001b[32m[I 2021-11-22 09:50:35,823]\u001b[0m Trial 18 finished with value: 0.8239700374531835 and parameters: {'n_estimators': 380, 'max_depth': 41, 'max_features': 7, 'min_samples_leaf': 1, 'min_samples_split': 11, 'bootstrap': False, 'criterion': 'entropy'}. Best is trial 16 with value: 0.8269662921348315.\u001b[0m\n"
     ]
    },
    {
     "name": "stdout",
     "output_type": "stream",
     "text": [
      "val score: 0.8239700374531835\n",
      "test score: 0.7918660287081339\n"
     ]
    },
    {
     "name": "stderr",
     "output_type": "stream",
     "text": [
      "\u001b[32m[I 2021-11-22 09:50:36,934]\u001b[0m Trial 19 finished with value: 0.6179775280898876 and parameters: {'n_estimators': 260, 'max_depth': 62, 'max_features': 7, 'min_samples_leaf': 3, 'min_samples_split': 13, 'bootstrap': False, 'criterion': 'entropy'}. Best is trial 16 with value: 0.8269662921348315.\u001b[0m\n"
     ]
    },
    {
     "name": "stdout",
     "output_type": "stream",
     "text": [
      "val score: 0.6179775280898876\n",
      "test score: 0.6220095693779905\n"
     ]
    },
    {
     "name": "stderr",
     "output_type": "stream",
     "text": [
      "\u001b[32m[I 2021-11-22 09:50:39,913]\u001b[0m Trial 20 finished with value: 0.7932584269662921 and parameters: {'n_estimators': 460, 'max_depth': 19, 'max_features': 9, 'min_samples_leaf': 1, 'min_samples_split': 8, 'bootstrap': False, 'criterion': 'entropy'}. Best is trial 16 with value: 0.8269662921348315.\u001b[0m\n"
     ]
    },
    {
     "name": "stdout",
     "output_type": "stream",
     "text": [
      "val score: 0.7932584269662921\n",
      "test score: 0.7607655502392344\n"
     ]
    },
    {
     "name": "stderr",
     "output_type": "stream",
     "text": [
      "\u001b[32m[I 2021-11-22 09:50:42,734]\u001b[0m Trial 21 finished with value: 0.8217228464419476 and parameters: {'n_estimators': 330, 'max_depth': 41, 'max_features': 7, 'min_samples_leaf': 1, 'min_samples_split': 11, 'bootstrap': False, 'criterion': 'entropy'}. Best is trial 16 with value: 0.8269662921348315.\u001b[0m\n"
     ]
    },
    {
     "name": "stdout",
     "output_type": "stream",
     "text": [
      "val score: 0.8217228464419476\n",
      "test score: 0.7942583732057417\n"
     ]
    },
    {
     "name": "stderr",
     "output_type": "stream",
     "text": [
      "\u001b[32m[I 2021-11-22 09:50:50,100]\u001b[0m Trial 22 finished with value: 0.8247191011235955 and parameters: {'n_estimators': 580, 'max_depth': 39, 'max_features': 26, 'min_samples_leaf': 1, 'min_samples_split': 12, 'bootstrap': False, 'criterion': 'entropy'}. Best is trial 16 with value: 0.8269662921348315.\u001b[0m\n"
     ]
    },
    {
     "name": "stdout",
     "output_type": "stream",
     "text": [
      "val score: 0.8247191011235955\n",
      "test score: 0.7894736842105263\n"
     ]
    },
    {
     "name": "stderr",
     "output_type": "stream",
     "text": [
      "\u001b[32m[I 2021-11-22 09:50:52,781]\u001b[0m Trial 23 finished with value: 0.6179775280898876 and parameters: {'n_estimators': 590, 'max_depth': 59, 'max_features': 25, 'min_samples_leaf': 2, 'min_samples_split': 12, 'bootstrap': False, 'criterion': 'entropy'}. Best is trial 16 with value: 0.8269662921348315.\u001b[0m\n"
     ]
    },
    {
     "name": "stdout",
     "output_type": "stream",
     "text": [
      "val score: 0.6179775280898876\n",
      "test score: 0.6220095693779905\n"
     ]
    },
    {
     "name": "stderr",
     "output_type": "stream",
     "text": [
      "\u001b[32m[I 2021-11-22 09:51:01,087]\u001b[0m Trial 24 finished with value: 0.8232209737827716 and parameters: {'n_estimators': 620, 'max_depth': 46, 'max_features': 26, 'min_samples_leaf': 1, 'min_samples_split': 12, 'bootstrap': False, 'criterion': 'entropy'}. Best is trial 16 with value: 0.8269662921348315.\u001b[0m\n"
     ]
    },
    {
     "name": "stdout",
     "output_type": "stream",
     "text": [
      "val score: 0.8232209737827716\n",
      "test score: 0.7822966507177034\n"
     ]
    },
    {
     "name": "stderr",
     "output_type": "stream",
     "text": [
      "\u001b[32m[I 2021-11-22 09:51:03,194]\u001b[0m Trial 25 finished with value: 0.6179775280898876 and parameters: {'n_estimators': 500, 'max_depth': 71, 'max_features': 18, 'min_samples_leaf': 2, 'min_samples_split': 13, 'bootstrap': False, 'criterion': 'entropy'}. Best is trial 16 with value: 0.8269662921348315.\u001b[0m\n"
     ]
    },
    {
     "name": "stdout",
     "output_type": "stream",
     "text": [
      "val score: 0.6179775280898876\n",
      "test score: 0.6220095693779905\n"
     ]
    },
    {
     "name": "stderr",
     "output_type": "stream",
     "text": [
      "\u001b[32m[I 2021-11-22 09:51:12,010]\u001b[0m Trial 26 finished with value: 0.8262172284644194 and parameters: {'n_estimators': 790, 'max_depth': 35, 'max_features': 18, 'min_samples_leaf': 1, 'min_samples_split': 10, 'bootstrap': False, 'criterion': 'entropy'}. Best is trial 16 with value: 0.8269662921348315.\u001b[0m\n"
     ]
    },
    {
     "name": "stdout",
     "output_type": "stream",
     "text": [
      "val score: 0.8262172284644194\n",
      "test score: 0.7918660287081339\n"
     ]
    },
    {
     "name": "stderr",
     "output_type": "stream",
     "text": [
      "\u001b[32m[I 2021-11-22 09:51:15,336]\u001b[0m Trial 27 finished with value: 0.6179775280898876 and parameters: {'n_estimators': 800, 'max_depth': 20, 'max_features': 19, 'min_samples_leaf': 4, 'min_samples_split': 10, 'bootstrap': False, 'criterion': 'entropy'}. Best is trial 16 with value: 0.8269662921348315.\u001b[0m\n"
     ]
    },
    {
     "name": "stdout",
     "output_type": "stream",
     "text": [
      "val score: 0.6179775280898876\n",
      "test score: 0.6220095693779905\n"
     ]
    },
    {
     "name": "stderr",
     "output_type": "stream",
     "text": [
      "\u001b[32m[I 2021-11-22 09:51:18,177]\u001b[0m Trial 28 finished with value: 0.6179775280898876 and parameters: {'n_estimators': 750, 'max_depth': 53, 'max_features': 10, 'min_samples_leaf': 2, 'min_samples_split': 10, 'bootstrap': False, 'criterion': 'entropy'}. Best is trial 16 with value: 0.8269662921348315.\u001b[0m\n"
     ]
    },
    {
     "name": "stdout",
     "output_type": "stream",
     "text": [
      "val score: 0.6179775280898876\n",
      "test score: 0.6220095693779905\n"
     ]
    },
    {
     "name": "stderr",
     "output_type": "stream",
     "text": [
      "\u001b[32m[I 2021-11-22 09:51:29,700]\u001b[0m Trial 29 finished with value: 0.8239700374531835 and parameters: {'n_estimators': 990, 'max_depth': 36, 'max_features': 22, 'min_samples_leaf': 1, 'min_samples_split': 9, 'bootstrap': False, 'criterion': 'entropy'}. Best is trial 16 with value: 0.8269662921348315.\u001b[0m\n"
     ]
    },
    {
     "name": "stdout",
     "output_type": "stream",
     "text": [
      "val score: 0.8239700374531835\n",
      "test score: 0.7870813397129187\n"
     ]
    },
    {
     "name": "stderr",
     "output_type": "stream",
     "text": [
      "\u001b[32m[I 2021-11-22 09:51:30,198]\u001b[0m Trial 30 finished with value: 0.6179775280898876 and parameters: {'n_estimators': 100, 'max_depth': 58, 'max_features': 4, 'min_samples_leaf': 3, 'min_samples_split': 10, 'bootstrap': False, 'criterion': 'entropy'}. Best is trial 16 with value: 0.8269662921348315.\u001b[0m\n"
     ]
    },
    {
     "name": "stdout",
     "output_type": "stream",
     "text": [
      "val score: 0.6179775280898876\n",
      "test score: 0.6220095693779905\n"
     ]
    },
    {
     "name": "stderr",
     "output_type": "stream",
     "text": [
      "\u001b[32m[I 2021-11-22 09:51:34,486]\u001b[0m Trial 31 finished with value: 0.8254681647940074 and parameters: {'n_estimators': 330, 'max_depth': 37, 'max_features': 27, 'min_samples_leaf': 1, 'min_samples_split': 11, 'bootstrap': False, 'criterion': 'entropy'}. Best is trial 16 with value: 0.8269662921348315.\u001b[0m\n"
     ]
    },
    {
     "name": "stdout",
     "output_type": "stream",
     "text": [
      "val score: 0.8254681647940074\n",
      "test score: 0.7822966507177034\n"
     ]
    },
    {
     "name": "stderr",
     "output_type": "stream",
     "text": [
      "\u001b[32m[I 2021-11-22 09:51:37,606]\u001b[0m Trial 32 finished with value: 0.8239700374531835 and parameters: {'n_estimators': 270, 'max_depth': 23, 'max_features': 34, 'min_samples_leaf': 1, 'min_samples_split': 11, 'bootstrap': False, 'criterion': 'entropy'}. Best is trial 16 with value: 0.8269662921348315.\u001b[0m\n"
     ]
    },
    {
     "name": "stdout",
     "output_type": "stream",
     "text": [
      "val score: 0.8239700374531835\n",
      "test score: 0.7799043062200957\n"
     ]
    },
    {
     "name": "stderr",
     "output_type": "stream",
     "text": [
      "\u001b[32m[I 2021-11-22 09:51:43,398]\u001b[0m Trial 33 finished with value: 0.8202247191011237 and parameters: {'n_estimators': 420, 'max_depth': 47, 'max_features': 28, 'min_samples_leaf': 1, 'min_samples_split': 11, 'bootstrap': False, 'criterion': 'entropy'}. Best is trial 16 with value: 0.8269662921348315.\u001b[0m\n"
     ]
    },
    {
     "name": "stdout",
     "output_type": "stream",
     "text": [
      "val score: 0.8202247191011237\n",
      "test score: 0.784688995215311\n"
     ]
    },
    {
     "name": "stderr",
     "output_type": "stream",
     "text": [
      "\u001b[32m[I 2021-11-22 09:51:44,800]\u001b[0m Trial 34 finished with value: 0.6179775280898876 and parameters: {'n_estimators': 320, 'max_depth': 32, 'max_features': 19, 'min_samples_leaf': 2, 'min_samples_split': 8, 'bootstrap': False, 'criterion': 'entropy'}. Best is trial 16 with value: 0.8269662921348315.\u001b[0m\n"
     ]
    },
    {
     "name": "stdout",
     "output_type": "stream",
     "text": [
      "val score: 0.6179775280898876\n",
      "test score: 0.6220095693779905\n"
     ]
    },
    {
     "name": "stderr",
     "output_type": "stream",
     "text": [
      "\u001b[32m[I 2021-11-22 09:51:47,596]\u001b[0m Trial 35 finished with value: 0.8254681647940074 and parameters: {'n_estimators': 180, 'max_depth': 66, 'max_features': 29, 'min_samples_leaf': 1, 'min_samples_split': 9, 'bootstrap': False, 'criterion': 'entropy'}. Best is trial 16 with value: 0.8269662921348315.\u001b[0m\n"
     ]
    },
    {
     "name": "stdout",
     "output_type": "stream",
     "text": [
      "val score: 0.8254681647940074\n",
      "test score: 0.7942583732057417\n"
     ]
    },
    {
     "name": "stderr",
     "output_type": "stream",
     "text": [
      "\u001b[32m[I 2021-11-22 09:51:48,309]\u001b[0m Trial 36 finished with value: 0.6606741573033708 and parameters: {'n_estimators': 120, 'max_depth': 78, 'max_features': 36, 'min_samples_leaf': 2, 'min_samples_split': 9, 'bootstrap': False, 'criterion': 'entropy'}. Best is trial 16 with value: 0.8269662921348315.\u001b[0m\n"
     ]
    },
    {
     "name": "stdout",
     "output_type": "stream",
     "text": [
      "val score: 0.6606741573033708\n",
      "test score: 0.7033492822966507\n"
     ]
    },
    {
     "name": "stderr",
     "output_type": "stream",
     "text": [
      "\u001b[32m[I 2021-11-22 09:51:50,549]\u001b[0m Trial 37 finished with value: 0.8224719101123595 and parameters: {'n_estimators': 140, 'max_depth': 66, 'max_features': 31, 'min_samples_leaf': 1, 'min_samples_split': 8, 'bootstrap': False, 'criterion': 'entropy'}. Best is trial 16 with value: 0.8269662921348315.\u001b[0m\n"
     ]
    },
    {
     "name": "stdout",
     "output_type": "stream",
     "text": [
      "val score: 0.8224719101123595\n",
      "test score: 0.7870813397129187\n"
     ]
    },
    {
     "name": "stderr",
     "output_type": "stream",
     "text": [
      "\u001b[32m[I 2021-11-22 09:51:51,655]\u001b[0m Trial 38 finished with value: 0.6187265917602995 and parameters: {'n_estimators': 180, 'max_depth': 77, 'max_features': 27, 'min_samples_leaf': 2, 'min_samples_split': 9, 'bootstrap': True, 'criterion': 'entropy'}. Best is trial 16 with value: 0.8269662921348315.\u001b[0m\n"
     ]
    },
    {
     "name": "stdout",
     "output_type": "stream",
     "text": [
      "val score: 0.6187265917602995\n",
      "test score: 0.6220095693779905\n"
     ]
    },
    {
     "name": "stderr",
     "output_type": "stream",
     "text": [
      "\u001b[32m[I 2021-11-22 09:51:56,716]\u001b[0m Trial 39 finished with value: 0.8247191011235955 and parameters: {'n_estimators': 320, 'max_depth': 91, 'max_features': 29, 'min_samples_leaf': 1, 'min_samples_split': 8, 'bootstrap': False, 'criterion': 'entropy'}. Best is trial 16 with value: 0.8269662921348315.\u001b[0m\n"
     ]
    },
    {
     "name": "stdout",
     "output_type": "stream",
     "text": [
      "val score: 0.8247191011235955\n",
      "test score: 0.7870813397129187\n"
     ]
    },
    {
     "name": "stderr",
     "output_type": "stream",
     "text": [
      "\u001b[32m[I 2021-11-22 09:51:59,447]\u001b[0m Trial 40 finished with value: 0.6179775280898876 and parameters: {'n_estimators': 510, 'max_depth': 34, 'max_features': 24, 'min_samples_leaf': 2, 'min_samples_split': 10, 'bootstrap': True, 'criterion': 'entropy'}. Best is trial 16 with value: 0.8269662921348315.\u001b[0m\n"
     ]
    },
    {
     "name": "stdout",
     "output_type": "stream",
     "text": [
      "val score: 0.6179775280898876\n",
      "test score: 0.6220095693779905\n"
     ]
    },
    {
     "name": "stderr",
     "output_type": "stream",
     "text": [
      "\u001b[32m[I 2021-11-22 09:52:02,859]\u001b[0m Trial 41 finished with value: 0.8224719101123596 and parameters: {'n_estimators': 260, 'max_depth': 56, 'max_features': 16, 'min_samples_leaf': 1, 'min_samples_split': 9, 'bootstrap': False, 'criterion': 'entropy'}. Best is trial 16 with value: 0.8269662921348315.\u001b[0m\n"
     ]
    },
    {
     "name": "stdout",
     "output_type": "stream",
     "text": [
      "val score: 0.8224719101123596\n",
      "test score: 0.7822966507177034\n"
     ]
    },
    {
     "name": "stderr",
     "output_type": "stream",
     "text": [
      "\u001b[32m[I 2021-11-22 09:52:03,783]\u001b[0m Trial 42 finished with value: 0.8209737827715357 and parameters: {'n_estimators': 50, 'max_depth': 50, 'max_features': 30, 'min_samples_leaf': 1, 'min_samples_split': 9, 'bootstrap': False, 'criterion': 'entropy'}. Best is trial 16 with value: 0.8269662921348315.\u001b[0m\n"
     ]
    },
    {
     "name": "stdout",
     "output_type": "stream",
     "text": [
      "val score: 0.8209737827715357\n",
      "test score: 0.7822966507177034\n"
     ]
    },
    {
     "name": "stderr",
     "output_type": "stream",
     "text": [
      "\u001b[32m[I 2021-11-22 09:52:08,661]\u001b[0m Trial 43 finished with value: 0.8254681647940074 and parameters: {'n_estimators': 380, 'max_depth': 64, 'max_features': 12, 'min_samples_leaf': 1, 'min_samples_split': 10, 'bootstrap': False, 'criterion': 'entropy'}. Best is trial 16 with value: 0.8269662921348315.\u001b[0m\n"
     ]
    },
    {
     "name": "stdout",
     "output_type": "stream",
     "text": [
      "val score: 0.8254681647940074\n",
      "test score: 0.7870813397129187\n"
     ]
    },
    {
     "name": "stderr",
     "output_type": "stream",
     "text": [
      "\u001b[32m[I 2021-11-22 09:52:13,511]\u001b[0m Trial 44 finished with value: 0.8209737827715357 and parameters: {'n_estimators': 370, 'max_depth': 64, 'max_features': 13, 'min_samples_leaf': 1, 'min_samples_split': 9, 'bootstrap': False, 'criterion': 'entropy'}. Best is trial 16 with value: 0.8269662921348315.\u001b[0m\n"
     ]
    },
    {
     "name": "stdout",
     "output_type": "stream",
     "text": [
      "val score: 0.8209737827715357\n",
      "test score: 0.784688995215311\n"
     ]
    },
    {
     "name": "stderr",
     "output_type": "stream",
     "text": [
      "\u001b[32m[I 2021-11-22 09:52:14,302]\u001b[0m Trial 45 finished with value: 0.6179775280898876 and parameters: {'n_estimators': 160, 'max_depth': 84, 'max_features': 11, 'min_samples_leaf': 2, 'min_samples_split': 11, 'bootstrap': False, 'criterion': 'entropy'}. Best is trial 16 with value: 0.8269662921348315.\u001b[0m\n"
     ]
    },
    {
     "name": "stdout",
     "output_type": "stream",
     "text": [
      "val score: 0.6179775280898876\n",
      "test score: 0.6220095693779905\n"
     ]
    },
    {
     "name": "stderr",
     "output_type": "stream",
     "text": [
      "\u001b[32m[I 2021-11-22 09:52:16,573]\u001b[0m Trial 46 finished with value: 0.8292134831460674 and parameters: {'n_estimators': 210, 'max_depth': 73, 'max_features': 4, 'min_samples_leaf': 1, 'min_samples_split': 10, 'bootstrap': False, 'criterion': 'entropy'}. Best is trial 46 with value: 0.8292134831460674.\u001b[0m\n"
     ]
    },
    {
     "name": "stdout",
     "output_type": "stream",
     "text": [
      "val score: 0.8292134831460674\n",
      "test score: 0.7918660287081339\n"
     ]
    },
    {
     "name": "stderr",
     "output_type": "stream",
     "text": [
      "\u001b[32m[I 2021-11-22 09:52:18,766]\u001b[0m Trial 47 finished with value: 0.8089887640449438 and parameters: {'n_estimators': 220, 'max_depth': 72, 'max_features': 3, 'min_samples_leaf': 1, 'min_samples_split': 10, 'bootstrap': True, 'criterion': 'entropy'}. Best is trial 46 with value: 0.8292134831460674.\u001b[0m\n"
     ]
    },
    {
     "name": "stdout",
     "output_type": "stream",
     "text": [
      "val score: 0.8089887640449438\n",
      "test score: 0.7870813397129187\n"
     ]
    },
    {
     "name": "stderr",
     "output_type": "stream",
     "text": [
      "\u001b[32m[I 2021-11-22 09:52:19,664]\u001b[0m Trial 48 finished with value: 0.6179775280898876 and parameters: {'n_estimators': 210, 'max_depth': 28, 'max_features': 1, 'min_samples_leaf': 2, 'min_samples_split': 8, 'bootstrap': False, 'criterion': 'entropy'}. Best is trial 46 with value: 0.8292134831460674.\u001b[0m\n"
     ]
    },
    {
     "name": "stdout",
     "output_type": "stream",
     "text": [
      "val score: 0.6179775280898876\n",
      "test score: 0.6220095693779905\n"
     ]
    },
    {
     "name": "stderr",
     "output_type": "stream",
     "text": [
      "\u001b[32m[I 2021-11-22 09:52:22,989]\u001b[0m Trial 49 finished with value: 0.6179775280898876 and parameters: {'n_estimators': 900, 'max_depth': 78, 'max_features': 4, 'min_samples_leaf': 5, 'min_samples_split': 9, 'bootstrap': False, 'criterion': 'entropy'}. Best is trial 46 with value: 0.8292134831460674.\u001b[0m\n"
     ]
    },
    {
     "name": "stdout",
     "output_type": "stream",
     "text": [
      "val score: 0.6179775280898876\n",
      "test score: 0.6220095693779905\n"
     ]
    },
    {
     "name": "stderr",
     "output_type": "stream",
     "text": [
      "\u001b[32m[I 2021-11-22 09:52:26,394]\u001b[0m Trial 50 finished with value: 0.8179775280898877 and parameters: {'n_estimators': 280, 'max_depth': 100, 'max_features': 32, 'min_samples_leaf': 1, 'min_samples_split': 11, 'bootstrap': True, 'criterion': 'entropy'}. Best is trial 46 with value: 0.8292134831460674.\u001b[0m\n"
     ]
    },
    {
     "name": "stdout",
     "output_type": "stream",
     "text": [
      "val score: 0.8179775280898877\n",
      "test score: 0.7822966507177034\n"
     ]
    },
    {
     "name": "stderr",
     "output_type": "stream",
     "text": [
      "\u001b[32m[I 2021-11-22 09:52:30,545]\u001b[0m Trial 51 finished with value: 0.8224719101123595 and parameters: {'n_estimators': 410, 'max_depth': 67, 'max_features': 5, 'min_samples_leaf': 1, 'min_samples_split': 10, 'bootstrap': False, 'criterion': 'entropy'}. Best is trial 46 with value: 0.8292134831460674.\u001b[0m\n"
     ]
    },
    {
     "name": "stdout",
     "output_type": "stream",
     "text": [
      "val score: 0.8224719101123595\n",
      "test score: 0.7966507177033493\n"
     ]
    },
    {
     "name": "stderr",
     "output_type": "stream",
     "text": [
      "\u001b[32m[I 2021-11-22 09:52:36,349]\u001b[0m Trial 52 finished with value: 0.8217228464419476 and parameters: {'n_estimators': 480, 'max_depth': 48, 'max_features': 17, 'min_samples_leaf': 1, 'min_samples_split': 10, 'bootstrap': False, 'criterion': 'entropy'}. Best is trial 46 with value: 0.8292134831460674.\u001b[0m\n"
     ]
    },
    {
     "name": "stdout",
     "output_type": "stream",
     "text": [
      "val score: 0.8217228464419476\n",
      "test score: 0.7894736842105263\n"
     ]
    },
    {
     "name": "stderr",
     "output_type": "stream",
     "text": [
      "\u001b[32m[I 2021-11-22 09:52:42,071]\u001b[0m Trial 53 finished with value: 0.8224719101123595 and parameters: {'n_estimators': 460, 'max_depth': 61, 'max_features': 13, 'min_samples_leaf': 1, 'min_samples_split': 10, 'bootstrap': False, 'criterion': 'entropy'}. Best is trial 46 with value: 0.8292134831460674.\u001b[0m\n"
     ]
    },
    {
     "name": "stdout",
     "output_type": "stream",
     "text": [
      "val score: 0.8224719101123595\n",
      "test score: 0.7870813397129187\n"
     ]
    },
    {
     "name": "stderr",
     "output_type": "stream",
     "text": [
      "\u001b[32m[I 2021-11-22 09:52:46,868]\u001b[0m Trial 54 finished with value: 0.8217228464419476 and parameters: {'n_estimators': 350, 'max_depth': 85, 'max_features': 11, 'min_samples_leaf': 1, 'min_samples_split': 11, 'bootstrap': False, 'criterion': 'entropy'}. Best is trial 46 with value: 0.8292134831460674.\u001b[0m\n"
     ]
    },
    {
     "name": "stdout",
     "output_type": "stream",
     "text": [
      "val score: 0.8217228464419476\n",
      "test score: 0.784688995215311\n"
     ]
    },
    {
     "name": "stderr",
     "output_type": "stream",
     "text": [
      "\u001b[32m[I 2021-11-22 09:52:53,740]\u001b[0m Trial 55 finished with value: 0.8254681647940074 and parameters: {'n_estimators': 540, 'max_depth': 56, 'max_features': 15, 'min_samples_leaf': 1, 'min_samples_split': 10, 'bootstrap': False, 'criterion': 'entropy'}. Best is trial 46 with value: 0.8292134831460674.\u001b[0m\n"
     ]
    },
    {
     "name": "stdout",
     "output_type": "stream",
     "text": [
      "val score: 0.8254681647940074\n",
      "test score: 0.7870813397129187\n"
     ]
    },
    {
     "name": "stderr",
     "output_type": "stream",
     "text": [
      "\u001b[32m[I 2021-11-22 09:53:02,180]\u001b[0m Trial 56 finished with value: 0.8232209737827715 and parameters: {'n_estimators': 630, 'max_depth': 55, 'max_features': 21, 'min_samples_leaf': 1, 'min_samples_split': 9, 'bootstrap': False, 'criterion': 'entropy'}. Best is trial 46 with value: 0.8292134831460674.\u001b[0m\n"
     ]
    },
    {
     "name": "stdout",
     "output_type": "stream",
     "text": [
      "val score: 0.8232209737827715\n",
      "test score: 0.7822966507177034\n"
     ]
    },
    {
     "name": "stderr",
     "output_type": "stream",
     "text": [
      "\u001b[32m[I 2021-11-22 09:53:05,591]\u001b[0m Trial 57 finished with value: 0.6179775280898876 and parameters: {'n_estimators': 810, 'max_depth': 12, 'max_features': 23, 'min_samples_leaf': 2, 'min_samples_split': 11, 'bootstrap': False, 'criterion': 'entropy'}. Best is trial 46 with value: 0.8292134831460674.\u001b[0m\n"
     ]
    },
    {
     "name": "stdout",
     "output_type": "stream",
     "text": [
      "val score: 0.6179775280898876\n",
      "test score: 0.6220095693779905\n"
     ]
    },
    {
     "name": "stderr",
     "output_type": "stream",
     "text": [
      "\u001b[32m[I 2021-11-22 09:53:11,976]\u001b[0m Trial 58 finished with value: 0.8217228464419476 and parameters: {'n_estimators': 550, 'max_depth': 75, 'max_features': 8, 'min_samples_leaf': 1, 'min_samples_split': 10, 'bootstrap': False, 'criterion': 'entropy'}. Best is trial 46 with value: 0.8292134831460674.\u001b[0m\n"
     ]
    },
    {
     "name": "stdout",
     "output_type": "stream",
     "text": [
      "val score: 0.8217228464419476\n",
      "test score: 0.7822966507177034\n"
     ]
    },
    {
     "name": "stderr",
     "output_type": "stream",
     "text": [
      "\u001b[32m[I 2021-11-22 09:53:18,893]\u001b[0m Trial 59 finished with value: 0.8239700374531835 and parameters: {'n_estimators': 660, 'max_depth': 38, 'max_features': 15, 'min_samples_leaf': 1, 'min_samples_split': 12, 'bootstrap': False, 'criterion': 'entropy'}. Best is trial 46 with value: 0.8292134831460674.\u001b[0m\n"
     ]
    },
    {
     "name": "stdout",
     "output_type": "stream",
     "text": [
      "val score: 0.8239700374531835\n",
      "test score: 0.7894736842105263\n"
     ]
    },
    {
     "name": "stderr",
     "output_type": "stream",
     "text": [
      "\u001b[32m[I 2021-11-22 09:53:19,876]\u001b[0m Trial 60 finished with value: 0.8209737827715354 and parameters: {'n_estimators': 80, 'max_depth': 68, 'max_features': 6, 'min_samples_leaf': 1, 'min_samples_split': 9, 'bootstrap': False, 'criterion': 'entropy'}. Best is trial 46 with value: 0.8292134831460674.\u001b[0m\n"
     ]
    },
    {
     "name": "stdout",
     "output_type": "stream",
     "text": [
      "val score: 0.8209737827715354\n",
      "test score: 0.8014354066985646\n"
     ]
    },
    {
     "name": "stderr",
     "output_type": "stream",
     "text": [
      "\u001b[32m[I 2021-11-22 09:53:23,787]\u001b[0m Trial 61 finished with value: 0.8224719101123595 and parameters: {'n_estimators': 300, 'max_depth': 64, 'max_features': 14, 'min_samples_leaf': 1, 'min_samples_split': 10, 'bootstrap': False, 'criterion': 'entropy'}. Best is trial 46 with value: 0.8292134831460674.\u001b[0m\n"
     ]
    },
    {
     "name": "stdout",
     "output_type": "stream",
     "text": [
      "val score: 0.8224719101123595\n",
      "test score: 0.7822966507177034\n"
     ]
    },
    {
     "name": "stderr",
     "output_type": "stream",
     "text": [
      "\u001b[32m[I 2021-11-22 09:53:26,808]\u001b[0m Trial 62 finished with value: 0.6179775280898876 and parameters: {'n_estimators': 730, 'max_depth': 59, 'max_features': 19, 'min_samples_leaf': 4, 'min_samples_split': 10, 'bootstrap': False, 'criterion': 'entropy'}. Best is trial 46 with value: 0.8292134831460674.\u001b[0m\n"
     ]
    },
    {
     "name": "stdout",
     "output_type": "stream",
     "text": [
      "val score: 0.6179775280898876\n",
      "test score: 0.6220095693779905\n"
     ]
    },
    {
     "name": "stderr",
     "output_type": "stream",
     "text": [
      "\u001b[32m[I 2021-11-22 09:53:29,125]\u001b[0m Trial 63 finished with value: 0.8187265917602996 and parameters: {'n_estimators': 240, 'max_depth': 43, 'max_features': 9, 'min_samples_leaf': 1, 'min_samples_split': 11, 'bootstrap': False, 'criterion': 'entropy'}. Best is trial 46 with value: 0.8292134831460674.\u001b[0m\n"
     ]
    },
    {
     "name": "stdout",
     "output_type": "stream",
     "text": [
      "val score: 0.8187265917602996\n",
      "test score: 0.784688995215311\n"
     ]
    },
    {
     "name": "stderr",
     "output_type": "stream",
     "text": [
      "\u001b[32m[I 2021-11-22 09:53:34,008]\u001b[0m Trial 64 finished with value: 0.8209737827715357 and parameters: {'n_estimators': 400, 'max_depth': 72, 'max_features': 11, 'min_samples_leaf': 1, 'min_samples_split': 10, 'bootstrap': False, 'criterion': 'entropy'}. Best is trial 46 with value: 0.8292134831460674.\u001b[0m\n"
     ]
    },
    {
     "name": "stdout",
     "output_type": "stream",
     "text": [
      "val score: 0.8209737827715357\n",
      "test score: 0.784688995215311\n"
     ]
    },
    {
     "name": "stderr",
     "output_type": "stream",
     "text": [
      "\u001b[32m[I 2021-11-22 09:53:41,042]\u001b[0m Trial 65 finished with value: 0.8194756554307115 and parameters: {'n_estimators': 450, 'max_depth': 80, 'max_features': 35, 'min_samples_leaf': 1, 'min_samples_split': 10, 'bootstrap': False, 'criterion': 'entropy'}. Best is trial 46 with value: 0.8292134831460674.\u001b[0m\n"
     ]
    },
    {
     "name": "stdout",
     "output_type": "stream",
     "text": [
      "val score: 0.8194756554307115\n",
      "test score: 0.7894736842105263\n"
     ]
    },
    {
     "name": "stderr",
     "output_type": "stream",
     "text": [
      "\u001b[32m[I 2021-11-22 09:53:43,380]\u001b[0m Trial 66 finished with value: 0.8224719101123596 and parameters: {'n_estimators': 180, 'max_depth': 53, 'max_features': 17, 'min_samples_leaf': 1, 'min_samples_split': 11, 'bootstrap': False, 'criterion': 'entropy'}. Best is trial 46 with value: 0.8292134831460674.\u001b[0m\n"
     ]
    },
    {
     "name": "stdout",
     "output_type": "stream",
     "text": [
      "val score: 0.8224719101123596\n",
      "test score: 0.7918660287081339\n"
     ]
    },
    {
     "name": "stderr",
     "output_type": "stream",
     "text": [
      "\u001b[32m[I 2021-11-22 09:53:45,268]\u001b[0m Trial 67 finished with value: 0.6179775280898876 and parameters: {'n_estimators': 350, 'max_depth': 50, 'max_features': 20, 'min_samples_leaf': 2, 'min_samples_split': 8, 'bootstrap': True, 'criterion': 'entropy'}. Best is trial 46 with value: 0.8292134831460674.\u001b[0m\n"
     ]
    },
    {
     "name": "stdout",
     "output_type": "stream",
     "text": [
      "val score: 0.6179775280898876\n",
      "test score: 0.6220095693779905\n"
     ]
    },
    {
     "name": "stderr",
     "output_type": "stream",
     "text": [
      "\u001b[32m[I 2021-11-22 09:53:47,862]\u001b[0m Trial 68 finished with value: 0.8187265917602996 and parameters: {'n_estimators': 300, 'max_depth': 61, 'max_features': 3, 'min_samples_leaf': 1, 'min_samples_split': 10, 'bootstrap': False, 'criterion': 'entropy'}. Best is trial 46 with value: 0.8292134831460674.\u001b[0m\n"
     ]
    },
    {
     "name": "stdout",
     "output_type": "stream",
     "text": [
      "val score: 0.8187265917602996\n",
      "test score: 0.7894736842105263\n"
     ]
    },
    {
     "name": "stderr",
     "output_type": "stream",
     "text": [
      "\u001b[32m[I 2021-11-22 09:53:51,030]\u001b[0m Trial 69 finished with value: 0.8209737827715357 and parameters: {'n_estimators': 240, 'max_depth': 69, 'max_features': 14, 'min_samples_leaf': 1, 'min_samples_split': 9, 'bootstrap': False, 'criterion': 'entropy'}. Best is trial 46 with value: 0.8292134831460674.\u001b[0m\n"
     ]
    },
    {
     "name": "stdout",
     "output_type": "stream",
     "text": [
      "val score: 0.8209737827715357\n",
      "test score: 0.784688995215311\n"
     ]
    },
    {
     "name": "stderr",
     "output_type": "stream",
     "text": [
      "\u001b[32m[I 2021-11-22 09:53:55,058]\u001b[0m Trial 70 finished with value: 0.6179775280898876 and parameters: {'n_estimators': 960, 'max_depth': 44, 'max_features': 24, 'min_samples_leaf': 2, 'min_samples_split': 8, 'bootstrap': False, 'criterion': 'entropy'}. Best is trial 46 with value: 0.8292134831460674.\u001b[0m\n"
     ]
    },
    {
     "name": "stdout",
     "output_type": "stream",
     "text": [
      "val score: 0.6179775280898876\n",
      "test score: 0.6220095693779905\n"
     ]
    },
    {
     "name": "stderr",
     "output_type": "stream",
     "text": [
      "\u001b[32m[I 2021-11-22 09:54:00,220]\u001b[0m Trial 71 finished with value: 0.8277153558052432 and parameters: {'n_estimators': 520, 'max_depth': 31, 'max_features': 17, 'min_samples_leaf': 1, 'min_samples_split': 10, 'bootstrap': False, 'criterion': 'entropy'}. Best is trial 46 with value: 0.8292134831460674.\u001b[0m\n"
     ]
    },
    {
     "name": "stdout",
     "output_type": "stream",
     "text": [
      "val score: 0.8277153558052432\n",
      "test score: 0.7822966507177034\n"
     ]
    },
    {
     "name": "stderr",
     "output_type": "stream",
     "text": [
      "\u001b[32m[I 2021-11-22 09:54:05,010]\u001b[0m Trial 72 finished with value: 0.8247191011235955 and parameters: {'n_estimators': 530, 'max_depth': 26, 'max_features': 17, 'min_samples_leaf': 1, 'min_samples_split': 10, 'bootstrap': False, 'criterion': 'entropy'}. Best is trial 46 with value: 0.8292134831460674.\u001b[0m\n"
     ]
    },
    {
     "name": "stdout",
     "output_type": "stream",
     "text": [
      "val score: 0.8247191011235955\n",
      "test score: 0.7894736842105263\n"
     ]
    },
    {
     "name": "stderr",
     "output_type": "stream",
     "text": [
      "\u001b[32m[I 2021-11-22 09:54:10,292]\u001b[0m Trial 73 finished with value: 0.8209737827715357 and parameters: {'n_estimators': 590, 'max_depth': 30, 'max_features': 12, 'min_samples_leaf': 1, 'min_samples_split': 10, 'bootstrap': False, 'criterion': 'entropy'}. Best is trial 46 with value: 0.8292134831460674.\u001b[0m\n"
     ]
    },
    {
     "name": "stdout",
     "output_type": "stream",
     "text": [
      "val score: 0.8209737827715357\n",
      "test score: 0.7822966507177034\n"
     ]
    },
    {
     "name": "stderr",
     "output_type": "stream",
     "text": [
      "\u001b[32m[I 2021-11-22 09:54:14,820]\u001b[0m Trial 74 finished with value: 0.8269662921348313 and parameters: {'n_estimators': 440, 'max_depth': 34, 'max_features': 16, 'min_samples_leaf': 1, 'min_samples_split': 10, 'bootstrap': False, 'criterion': 'entropy'}. Best is trial 46 with value: 0.8292134831460674.\u001b[0m\n"
     ]
    },
    {
     "name": "stdout",
     "output_type": "stream",
     "text": [
      "val score: 0.8269662921348313\n",
      "test score: 0.7894736842105263\n"
     ]
    },
    {
     "name": "stderr",
     "output_type": "stream",
     "text": [
      "\u001b[32m[I 2021-11-22 09:54:20,733]\u001b[0m Trial 75 finished with value: 0.8202247191011235 and parameters: {'n_estimators': 500, 'max_depth': 36, 'max_features': 21, 'min_samples_leaf': 1, 'min_samples_split': 11, 'bootstrap': False, 'criterion': 'entropy'}. Best is trial 46 with value: 0.8292134831460674.\u001b[0m\n"
     ]
    },
    {
     "name": "stdout",
     "output_type": "stream",
     "text": [
      "val score: 0.8202247191011235\n",
      "test score: 0.7894736842105263\n"
     ]
    },
    {
     "name": "stderr",
     "output_type": "stream",
     "text": [
      "\u001b[32m[I 2021-11-22 09:54:24,036]\u001b[0m Trial 76 finished with value: 0.8142322097378276 and parameters: {'n_estimators': 440, 'max_depth': 18, 'max_features': 15, 'min_samples_leaf': 1, 'min_samples_split': 10, 'bootstrap': False, 'criterion': 'entropy'}. Best is trial 46 with value: 0.8292134831460674.\u001b[0m\n"
     ]
    },
    {
     "name": "stdout",
     "output_type": "stream",
     "text": [
      "val score: 0.8142322097378276\n",
      "test score: 0.7870813397129187\n"
     ]
    },
    {
     "name": "stderr",
     "output_type": "stream",
     "text": [
      "\u001b[32m[I 2021-11-22 09:54:27,736]\u001b[0m Trial 77 finished with value: 0.8247191011235955 and parameters: {'n_estimators': 390, 'max_depth': 23, 'max_features': 18, 'min_samples_leaf': 1, 'min_samples_split': 10, 'bootstrap': False, 'criterion': 'entropy'}. Best is trial 46 with value: 0.8292134831460674.\u001b[0m\n"
     ]
    },
    {
     "name": "stdout",
     "output_type": "stream",
     "text": [
      "val score: 0.8247191011235955\n",
      "test score: 0.784688995215311\n"
     ]
    },
    {
     "name": "stderr",
     "output_type": "stream",
     "text": [
      "\u001b[32m[I 2021-11-22 09:54:29,814]\u001b[0m Trial 78 finished with value: 0.6179775280898876 and parameters: {'n_estimators': 480, 'max_depth': 33, 'max_features': 18, 'min_samples_leaf': 2, 'min_samples_split': 11, 'bootstrap': False, 'criterion': 'entropy'}. Best is trial 46 with value: 0.8292134831460674.\u001b[0m\n"
     ]
    },
    {
     "name": "stdout",
     "output_type": "stream",
     "text": [
      "val score: 0.6179775280898876\n",
      "test score: 0.6220095693779905\n"
     ]
    },
    {
     "name": "stderr",
     "output_type": "stream",
     "text": [
      "\u001b[32m[I 2021-11-22 09:54:34,220]\u001b[0m Trial 79 finished with value: 0.8202247191011235 and parameters: {'n_estimators': 420, 'max_depth': 40, 'max_features': 20, 'min_samples_leaf': 1, 'min_samples_split': 10, 'bootstrap': True, 'criterion': 'entropy'}. Best is trial 46 with value: 0.8292134831460674.\u001b[0m\n"
     ]
    },
    {
     "name": "stdout",
     "output_type": "stream",
     "text": [
      "val score: 0.8202247191011235\n",
      "test score: 0.7870813397129187\n"
     ]
    },
    {
     "name": "stderr",
     "output_type": "stream",
     "text": [
      "\u001b[32m[I 2021-11-22 09:54:36,363]\u001b[0m Trial 80 finished with value: 0.7438202247191011 and parameters: {'n_estimators': 340, 'max_depth': 31, 'max_features': 2, 'min_samples_leaf': 1, 'min_samples_split': 9, 'bootstrap': False, 'criterion': 'entropy'}. Best is trial 46 with value: 0.8292134831460674.\u001b[0m\n"
     ]
    },
    {
     "name": "stdout",
     "output_type": "stream",
     "text": [
      "val score: 0.7438202247191011\n",
      "test score: 0.7200956937799043\n"
     ]
    },
    {
     "name": "stderr",
     "output_type": "stream",
     "text": [
      "\u001b[32m[I 2021-11-22 09:54:40,487]\u001b[0m Trial 81 finished with value: 0.8239700374531835 and parameters: {'n_estimators': 370, 'max_depth': 36, 'max_features': 16, 'min_samples_leaf': 1, 'min_samples_split': 10, 'bootstrap': False, 'criterion': 'entropy'}. Best is trial 46 with value: 0.8292134831460674.\u001b[0m\n"
     ]
    },
    {
     "name": "stdout",
     "output_type": "stream",
     "text": [
      "val score: 0.8239700374531835\n",
      "test score: 0.7894736842105263\n"
     ]
    },
    {
     "name": "stderr",
     "output_type": "stream",
     "text": [
      "\u001b[32m[I 2021-11-22 09:54:41,468]\u001b[0m Trial 82 finished with value: 0.7835205992509364 and parameters: {'n_estimators': 130, 'max_depth': 27, 'max_features': 6, 'min_samples_leaf': 1, 'min_samples_split': 10, 'bootstrap': False, 'criterion': 'entropy'}. Best is trial 46 with value: 0.8292134831460674.\u001b[0m\n"
     ]
    },
    {
     "name": "stdout",
     "output_type": "stream",
     "text": [
      "val score: 0.7835205992509364\n",
      "test score: 0.7703349282296651\n"
     ]
    },
    {
     "name": "stderr",
     "output_type": "stream",
     "text": [
      "\u001b[32m[I 2021-11-22 09:54:48,211]\u001b[0m Trial 83 finished with value: 0.8217228464419476 and parameters: {'n_estimators': 480, 'max_depth': 74, 'max_features': 19, 'min_samples_leaf': 1, 'min_samples_split': 9, 'bootstrap': False, 'criterion': 'entropy'}. Best is trial 46 with value: 0.8292134831460674.\u001b[0m\n"
     ]
    },
    {
     "name": "stdout",
     "output_type": "stream",
     "text": [
      "val score: 0.8217228464419476\n",
      "test score: 0.7870813397129187\n"
     ]
    },
    {
     "name": "stderr",
     "output_type": "stream",
     "text": [
      "\u001b[32m[I 2021-11-22 09:54:56,122]\u001b[0m Trial 84 finished with value: 0.8232209737827716 and parameters: {'n_estimators': 620, 'max_depth': 64, 'max_features': 14, 'min_samples_leaf': 1, 'min_samples_split': 10, 'bootstrap': False, 'criterion': 'entropy'}. Best is trial 46 with value: 0.8292134831460674.\u001b[0m\n"
     ]
    },
    {
     "name": "stdout",
     "output_type": "stream",
     "text": [
      "val score: 0.8232209737827716\n",
      "test score: 0.7822966507177034\n"
     ]
    },
    {
     "name": "stderr",
     "output_type": "stream",
     "text": [
      "\u001b[32m[I 2021-11-22 09:55:00,485]\u001b[0m Trial 85 finished with value: 0.8239700374531835 and parameters: {'n_estimators': 300, 'max_depth': 56, 'max_features': 28, 'min_samples_leaf': 1, 'min_samples_split': 11, 'bootstrap': False, 'criterion': 'entropy'}. Best is trial 46 with value: 0.8292134831460674.\u001b[0m\n"
     ]
    },
    {
     "name": "stdout",
     "output_type": "stream",
     "text": [
      "val score: 0.8239700374531835\n",
      "test score: 0.7822966507177034\n"
     ]
    },
    {
     "name": "stderr",
     "output_type": "stream",
     "text": [
      "\u001b[32m[I 2021-11-22 09:55:02,892]\u001b[0m Trial 86 finished with value: 0.6179775280898876 and parameters: {'n_estimators': 570, 'max_depth': 46, 'max_features': 22, 'min_samples_leaf': 3, 'min_samples_split': 10, 'bootstrap': False, 'criterion': 'entropy'}. Best is trial 46 with value: 0.8292134831460674.\u001b[0m\n"
     ]
    },
    {
     "name": "stdout",
     "output_type": "stream",
     "text": [
      "val score: 0.6179775280898876\n",
      "test score: 0.6220095693779905\n"
     ]
    },
    {
     "name": "stderr",
     "output_type": "stream",
     "text": [
      "\u001b[32m[I 2021-11-22 09:55:05,091]\u001b[0m Trial 87 finished with value: 0.8209737827715354 and parameters: {'n_estimators': 180, 'max_depth': 71, 'max_features': 9, 'min_samples_leaf': 1, 'min_samples_split': 9, 'bootstrap': False, 'criterion': 'entropy'}. Best is trial 46 with value: 0.8292134831460674.\u001b[0m\n"
     ]
    },
    {
     "name": "stdout",
     "output_type": "stream",
     "text": [
      "val score: 0.8209737827715354\n",
      "test score: 0.7799043062200957\n"
     ]
    },
    {
     "name": "stderr",
     "output_type": "stream",
     "text": [
      "\u001b[32m[I 2021-11-22 09:55:15,422]\u001b[0m Trial 88 finished with value: 0.8224719101123595 and parameters: {'n_estimators': 810, 'max_depth': 65, 'max_features': 15, 'min_samples_leaf': 1, 'min_samples_split': 10, 'bootstrap': False, 'criterion': 'entropy'}. Best is trial 46 with value: 0.8292134831460674.\u001b[0m\n"
     ]
    },
    {
     "name": "stdout",
     "output_type": "stream",
     "text": [
      "val score: 0.8224719101123595\n",
      "test score: 0.7822966507177034\n"
     ]
    },
    {
     "name": "stderr",
     "output_type": "stream",
     "text": [
      "\u001b[32m[I 2021-11-22 09:55:21,248]\u001b[0m Trial 89 finished with value: 0.8239700374531835 and parameters: {'n_estimators': 430, 'max_depth': 42, 'max_features': 30, 'min_samples_leaf': 1, 'min_samples_split': 12, 'bootstrap': False, 'criterion': 'entropy'}. Best is trial 46 with value: 0.8292134831460674.\u001b[0m\n"
     ]
    },
    {
     "name": "stdout",
     "output_type": "stream",
     "text": [
      "val score: 0.8239700374531835\n",
      "test score: 0.7822966507177034\n"
     ]
    },
    {
     "name": "stderr",
     "output_type": "stream",
     "text": [
      "\u001b[32m[I 2021-11-22 09:55:27,939]\u001b[0m Trial 90 finished with value: 0.8202247191011237 and parameters: {'n_estimators': 520, 'max_depth': 81, 'max_features': 10, 'min_samples_leaf': 1, 'min_samples_split': 9, 'bootstrap': False, 'criterion': 'entropy'}. Best is trial 46 with value: 0.8292134831460674.\u001b[0m\n"
     ]
    },
    {
     "name": "stdout",
     "output_type": "stream",
     "text": [
      "val score: 0.8202247191011237\n",
      "test score: 0.784688995215311\n"
     ]
    },
    {
     "name": "stderr",
     "output_type": "stream",
     "text": [
      "\u001b[32m[I 2021-11-22 09:55:32,985]\u001b[0m Trial 91 finished with value: 0.8224719101123595 and parameters: {'n_estimators': 380, 'max_depth': 62, 'max_features': 16, 'min_samples_leaf': 1, 'min_samples_split': 10, 'bootstrap': False, 'criterion': 'entropy'}. Best is trial 46 with value: 0.8292134831460674.\u001b[0m\n"
     ]
    },
    {
     "name": "stdout",
     "output_type": "stream",
     "text": [
      "val score: 0.8224719101123595\n",
      "test score: 0.7870813397129187\n"
     ]
    },
    {
     "name": "stderr",
     "output_type": "stream",
     "text": [
      "\u001b[32m[I 2021-11-22 09:55:43,873]\u001b[0m Trial 92 finished with value: 0.8224719101123595 and parameters: {'n_estimators': 860, 'max_depth': 38, 'max_features': 26, 'min_samples_leaf': 1, 'min_samples_split': 10, 'bootstrap': False, 'criterion': 'entropy'}. Best is trial 46 with value: 0.8292134831460674.\u001b[0m\n"
     ]
    },
    {
     "name": "stdout",
     "output_type": "stream",
     "text": [
      "val score: 0.8224719101123595\n",
      "test score: 0.777511961722488\n"
     ]
    },
    {
     "name": "stderr",
     "output_type": "stream",
     "text": [
      "\u001b[32m[I 2021-11-22 09:55:48,299]\u001b[0m Trial 93 finished with value: 0.8232209737827715 and parameters: {'n_estimators': 470, 'max_depth': 35, 'max_features': 12, 'min_samples_leaf': 1, 'min_samples_split': 10, 'bootstrap': False, 'criterion': 'entropy'}. Best is trial 46 with value: 0.8292134831460674.\u001b[0m\n"
     ]
    },
    {
     "name": "stdout",
     "output_type": "stream",
     "text": [
      "val score: 0.8232209737827715\n",
      "test score: 0.784688995215311\n"
     ]
    },
    {
     "name": "stderr",
     "output_type": "stream",
     "text": [
      "\u001b[32m[I 2021-11-22 09:55:53,593]\u001b[0m Trial 94 finished with value: 0.8232209737827716 and parameters: {'n_estimators': 560, 'max_depth': 58, 'max_features': 5, 'min_samples_leaf': 1, 'min_samples_split': 10, 'bootstrap': False, 'criterion': 'entropy'}. Best is trial 46 with value: 0.8292134831460674.\u001b[0m\n"
     ]
    },
    {
     "name": "stdout",
     "output_type": "stream",
     "text": [
      "val score: 0.8232209737827716\n",
      "test score: 0.8014354066985646\n"
     ]
    },
    {
     "name": "stderr",
     "output_type": "stream",
     "text": [
      "\u001b[32m[I 2021-11-22 09:55:58,628]\u001b[0m Trial 95 finished with value: 0.8172284644194757 and parameters: {'n_estimators': 500, 'max_depth': 24, 'max_features': 32, 'min_samples_leaf': 1, 'min_samples_split': 10, 'bootstrap': True, 'criterion': 'entropy'}. Best is trial 46 with value: 0.8292134831460674.\u001b[0m\n"
     ]
    },
    {
     "name": "stdout",
     "output_type": "stream",
     "text": [
      "val score: 0.8172284644194757\n",
      "test score: 0.7966507177033493\n"
     ]
    },
    {
     "name": "stderr",
     "output_type": "stream",
     "text": [
      "\u001b[32m[I 2021-11-22 09:55:59,743]\u001b[0m Trial 96 finished with value: 0.6179775280898876 and parameters: {'n_estimators': 240, 'max_depth': 52, 'max_features': 17, 'min_samples_leaf': 5, 'min_samples_split': 11, 'bootstrap': False, 'criterion': 'entropy'}. Best is trial 46 with value: 0.8292134831460674.\u001b[0m\n"
     ]
    },
    {
     "name": "stdout",
     "output_type": "stream",
     "text": [
      "val score: 0.6179775280898876\n",
      "test score: 0.6220095693779905\n"
     ]
    },
    {
     "name": "stderr",
     "output_type": "stream",
     "text": [
      "\u001b[32m[I 2021-11-22 09:56:02,319]\u001b[0m Trial 97 finished with value: 0.8157303370786517 and parameters: {'n_estimators': 150, 'max_depth': 70, 'max_features': 37, 'min_samples_leaf': 1, 'min_samples_split': 10, 'bootstrap': False, 'criterion': 'entropy'}. Best is trial 46 with value: 0.8292134831460674.\u001b[0m\n"
     ]
    },
    {
     "name": "stdout",
     "output_type": "stream",
     "text": [
      "val score: 0.8157303370786517\n",
      "test score: 0.7894736842105263\n"
     ]
    },
    {
     "name": "stderr",
     "output_type": "stream",
     "text": [
      "\u001b[32m[I 2021-11-22 09:56:07,388]\u001b[0m Trial 98 finished with value: 0.8209737827715357 and parameters: {'n_estimators': 360, 'max_depth': 74, 'max_features': 18, 'min_samples_leaf': 1, 'min_samples_split': 8, 'bootstrap': False, 'criterion': 'entropy'}. Best is trial 46 with value: 0.8292134831460674.\u001b[0m\n"
     ]
    },
    {
     "name": "stdout",
     "output_type": "stream",
     "text": [
      "val score: 0.8209737827715357\n",
      "test score: 0.7894736842105263\n"
     ]
    },
    {
     "name": "stderr",
     "output_type": "stream",
     "text": [
      "\u001b[32m[I 2021-11-22 09:56:09,608]\u001b[0m Trial 99 finished with value: 0.6179775280898876 and parameters: {'n_estimators': 540, 'max_depth': 66, 'max_features': 16, 'min_samples_leaf': 3, 'min_samples_split': 11, 'bootstrap': False, 'criterion': 'entropy'}. Best is trial 46 with value: 0.8292134831460674.\u001b[0m\n"
     ]
    },
    {
     "name": "stdout",
     "output_type": "stream",
     "text": [
      "val score: 0.6179775280898876\n",
      "test score: 0.6220095693779905\n"
     ]
    }
   ],
   "source": [
    "optimize = partial(objective, X=X_train, y=y_train)\n",
    "study = optuna.create_study(direction='maximize')\n",
    "# Opimization\n",
    "# Recevies the function to be optimized and the number of trials\n",
    "study.optimize(optimize, n_trials=100)"
   ]
  },
  {
   "cell_type": "code",
   "execution_count": 173,
   "id": "32fb423d",
   "metadata": {},
   "outputs": [
    {
     "data": {
      "image/png": "[encoded data removed]",
      "text/plain": [
       "<Figure size 1080x360 with 1 Axes>"
      ]
     },
     "metadata": {
      "needs_background": "light"
     },
     "output_type": "display_data"
    }
   ],
   "source": [
    "score_boad = pd.DataFrame(score_boad)\n",
    "score_boad = score_boad.iloc[score_boad[0].sort_values(ascending=False).index]\n",
    "\n",
    "plt.subplots(figsize=(15, 5))\n",
    "sns.scatterplot(x=score_boad.iloc[:, 0], y=score_boad.iloc[:,1])\n",
    "sns.regplot(x=score_boad.iloc[:, 0], y=score_boad.iloc[:,1])\n",
    "plt.show()"
   ]
  },
  {
   "cell_type": "markdown",
   "id": "496f6dfe",
   "metadata": {},
   "source": [
    "시도3 - Stratified + No Scale"
   ]
  },
  {
   "cell_type": "code",
   "execution_count": 180,
   "id": "51ac589c",
   "metadata": {},
   "outputs": [],
   "source": [
    "train = pd.read_csv('../../Data/titanic_origintrain.csv')\n",
    "test = pd.read_csv('../../Data/titanic_origintest.csv')\n",
    "all_data = pd.concat((train, test), axis=0)"
   ]
  },
  {
   "cell_type": "code",
   "execution_count": 181,
   "id": "3161808f",
   "metadata": {},
   "outputs": [],
   "source": [
    "# missing values\n",
    "all_data['Age'] = all_data.Age.fillna(train.Age.median())\n",
    "all_data['Fare'] = all_data.Fare.fillna(train.Fare.median())\n",
    "all_data.dropna(subset=['Embarked'], inplace=True)\n",
    "cabins = all_data.Cabin\n",
    "all_data.drop(['Cabin'], axis=1, inplace=True)\n",
    "\n",
    "# derivative features\n",
    "all_data['CabinCnt'] = cabins.apply(lambda x: 0 if pd.isna(x) else len(x.split(' ')))\n",
    "all_data['CabinClass'] = cabins.apply(lambda x: str(x)[0])\n",
    "all_data['IsNumericTicket'] = all_data.Ticket.apply(lambda x: 1 if x.isnumeric() else 0)\n",
    "all_data['TicketType'] = all_data.Ticket.apply(lambda x: ''.join(x.split(' ')[:-1]).replace('.','').replace('/','').lower() if len(x.split(' ')[:-1]) > 0 else 0)\n",
    "all_data['Title'] = all_data.Name.apply(lambda x: x.split(',')[1].split('.')[0].strip())\n",
    "all_data['Family'] = all_data.SibSp + all_data.Parch\n",
    "\n",
    "# feature transform\n",
    "numeric_vars = ['Age', 'SibSp', 'Parch', 'Fare', 'CabinCnt', 'Family']\n",
    "ordinal_vars = ['Pclass']\n",
    "nominal_vars = ['Name', 'Sex', 'Ticket', 'Embarked', 'CabinClass', 'IsNumericTicket', 'TicketType', 'Title']\n",
    "all_data[nominal_vars] = all_data[nominal_vars].astype('str')\n",
    "\n",
    "train = all_data[all_data.Survived.isnull() == False]\n",
    "test = all_data[all_data.Survived.isnull() == True]\n",
    "X_train, y_train = train.drop(['PassengerId', 'Ticket', 'Survived'], axis=1), train.Survived\n",
    "X_test = test.drop(['PassengerId', 'Ticket', 'Survived'], axis=1)\n",
    "\n",
    "numeric = X_train.columns[(X_train.dtypes != 'object')].values\n",
    "#scaler = StandardScaler()\n",
    "#X_train[numeric] = scaler.fit_transform(X_train[numeric])\n",
    "#X_test[numeric] = scaler.transform(X_test[numeric])\n",
    "\n",
    "all_data = pd.concat((X_train, X_test), axis=0)\n",
    "all_data.Title = all_data.Title.apply(lambda x: 'Others' if x in list(all_data.Title.value_counts()[all_data.Title.value_counts() < 8].index) else x)\n",
    "all_data.TicketType = all_data.TicketType.apply(lambda x: 'Others' if x in list(all_data.TicketType.value_counts()[all_data.TicketType.value_counts() < 10].index) else x)\n",
    "\n",
    "data_dummies = pd.get_dummies(all_data)\n",
    "train_size = X_train.shape[0]\n",
    "X_train = data_dummies.iloc[:train_size, :]\n",
    "X_test = data_dummies.iloc[train_size:, :]\n",
    "\n",
    "y_test = pd.read_csv('../../Data/titanic_ytest.csv').Survived\n",
    "\n",
    "X_train = X_train.reset_index(drop=True)\n",
    "X_test = X_test.reset_index(drop=True)\n",
    "y_train = y_train.reset_index(drop=True)"
   ]
  },
  {
   "cell_type": "code",
   "execution_count": 182,
   "id": "51473f7d",
   "metadata": {},
   "outputs": [],
   "source": [
    "score_board = []\n",
    "def objective(trial, X, y):\n",
    "    \n",
    "    # Random Forest Search Spec.\n",
    "    grid_param = {\n",
    "        'n_estimators': trial.suggest_int('n_estimators', 50, 1000, 10),\n",
    "        'max_depth': trial.suggest_int('max_depth', 2, 100),\n",
    "        'max_features': trial.suggest_int('max_features', 1, 40),\n",
    "        'min_samples_leaf': trial.suggest_int('min_samples_leaf', 1, 5),\n",
    "        'min_samples_split': trial.suggest_int('min_samples_split', 8, 13),\n",
    "        'bootstrap': trial.suggest_categorical('bootstrap', [True, False]),\n",
    "        'criterion': trial.suggest_categorical('criterion', ['entropy']),\n",
    "        'random_state': 42\n",
    "    }\n",
    "    cv = StratifiedKFold(n_splits=5, shuffle=True, random_state=42)\n",
    "    #cv = RepeatedKFold(n_splits=5, n_repeats=10, random_state=42)\n",
    "    #cv = StratifiedShuffleSplit(n_splits=5, test_size=.30, random_state=42)\n",
    "    \n",
    "    val_scores = []\n",
    "    for i, (train_idx, test_idx) in enumerate(cv.split(X_train, y_train)):\n",
    "        xtrain, xtest = X_train.iloc[train_idx, :], X_train.iloc[test_idx, :]\n",
    "        ytrain, ytest = y_train[train_idx], y_train[test_idx]\n",
    "        model = RandomForestClassifier(**grid_param).fit(xtrain, ytrain)\n",
    "        val_score = accuracy_score(ytest, model.predict(xtest))\n",
    "        val_scores.append(val_score)\n",
    "        \n",
    "    val_score = np.array(val_scores).mean()    \n",
    "    val_std = np.array(val_scores).std()\n",
    "    model = RandomForestClassifier(**grid_param)\n",
    "    test_score = accuracy_score(y_test, model.fit(X_train, y_train).predict(X_test))\n",
    "    \n",
    "    score_board.append((val_score, val_std, test_score))\n",
    "    print(f'val score: {val_score}')\n",
    "    print(f'val std: {val_std}')\n",
    "    print(f'test score: {test_score}')\n",
    "    return val_score"
   ]
  },
  {
   "cell_type": "code",
   "execution_count": 183,
   "id": "1656cb5d",
   "metadata": {},
   "outputs": [
    {
     "name": "stderr",
     "output_type": "stream",
     "text": [
      "\u001b[32m[I 2021-11-22 10:56:56,057]\u001b[0m A new study created in memory with name: no-name-2bc426ce-0c75-4393-8ef0-6fe9c65f6a9f\u001b[0m\n",
      "\u001b[32m[I 2021-11-22 10:56:56,716]\u001b[0m Trial 0 finished with value: 0.6175458642798197 and parameters: {'n_estimators': 170, 'max_depth': 26, 'max_features': 1, 'min_samples_leaf': 4, 'min_samples_split': 10, 'bootstrap': False, 'criterion': 'entropy'}. Best is trial 0 with value: 0.6175458642798197.\u001b[0m\n"
     ]
    },
    {
     "name": "stdout",
     "output_type": "stream",
     "text": [
      "val score: 0.6175458642798197\n",
      "val std: 0.0008633276201358342\n",
      "test score: 0.6220095693779905\n"
     ]
    },
    {
     "name": "stderr",
     "output_type": "stream",
     "text": [
      "\u001b[32m[I 2021-11-22 10:57:00,779]\u001b[0m Trial 1 finished with value: 0.6209166507966736 and parameters: {'n_estimators': 970, 'max_depth': 71, 'max_features': 31, 'min_samples_leaf': 4, 'min_samples_split': 9, 'bootstrap': False, 'criterion': 'entropy'}. Best is trial 1 with value: 0.6209166507966736.\u001b[0m\n"
     ]
    },
    {
     "name": "stdout",
     "output_type": "stream",
     "text": [
      "val score: 0.6209166507966736\n",
      "val std: 0.00335115336007477\n",
      "test score: 0.6363636363636364\n"
     ]
    },
    {
     "name": "stderr",
     "output_type": "stream",
     "text": [
      "\u001b[32m[I 2021-11-22 10:57:05,338]\u001b[0m Trial 2 finished with value: 0.645692883895131 and parameters: {'n_estimators': 910, 'max_depth': 35, 'max_features': 34, 'min_samples_leaf': 4, 'min_samples_split': 11, 'bootstrap': True, 'criterion': 'entropy'}. Best is trial 2 with value: 0.645692883895131.\u001b[0m\n"
     ]
    },
    {
     "name": "stdout",
     "output_type": "stream",
     "text": [
      "val score: 0.645692883895131\n",
      "val std: 0.018704106350837107\n",
      "test score: 0.6674641148325359\n"
     ]
    },
    {
     "name": "stderr",
     "output_type": "stream",
     "text": [
      "\u001b[32m[I 2021-11-22 10:57:09,684]\u001b[0m Trial 3 finished with value: 0.6175458642798197 and parameters: {'n_estimators': 950, 'max_depth': 53, 'max_features': 17, 'min_samples_leaf': 5, 'min_samples_split': 10, 'bootstrap': True, 'criterion': 'entropy'}. Best is trial 2 with value: 0.645692883895131.\u001b[0m\n"
     ]
    },
    {
     "name": "stdout",
     "output_type": "stream",
     "text": [
      "val score: 0.6175458642798197\n",
      "val std: 0.0008633276201358342\n",
      "test score: 0.6220095693779905\n"
     ]
    },
    {
     "name": "stderr",
     "output_type": "stream",
     "text": [
      "\u001b[32m[I 2021-11-22 10:57:10,328]\u001b[0m Trial 4 finished with value: 0.6175458642798197 and parameters: {'n_estimators': 120, 'max_depth': 25, 'max_features': 10, 'min_samples_leaf': 5, 'min_samples_split': 8, 'bootstrap': True, 'criterion': 'entropy'}. Best is trial 2 with value: 0.645692883895131.\u001b[0m\n"
     ]
    },
    {
     "name": "stdout",
     "output_type": "stream",
     "text": [
      "val score: 0.6175458642798197\n",
      "val std: 0.0008633276201358342\n",
      "test score: 0.6220095693779905\n"
     ]
    },
    {
     "name": "stderr",
     "output_type": "stream",
     "text": [
      "\u001b[32m[I 2021-11-22 10:57:13,359]\u001b[0m Trial 5 finished with value: 0.8425188852916904 and parameters: {'n_estimators': 190, 'max_depth': 69, 'max_features': 38, 'min_samples_leaf': 1, 'min_samples_split': 10, 'bootstrap': False, 'criterion': 'entropy'}. Best is trial 5 with value: 0.8425188852916904.\u001b[0m\n"
     ]
    },
    {
     "name": "stdout",
     "output_type": "stream",
     "text": [
      "val score: 0.8425188852916904\n",
      "val std: 0.02775303868689586\n",
      "test score: 0.7799043062200957\n"
     ]
    },
    {
     "name": "stderr",
     "output_type": "stream",
     "text": [
      "\u001b[32m[I 2021-11-22 10:57:16,287]\u001b[0m Trial 6 finished with value: 0.6569478829429315 and parameters: {'n_estimators': 580, 'max_depth': 29, 'max_features': 36, 'min_samples_leaf': 4, 'min_samples_split': 12, 'bootstrap': True, 'criterion': 'entropy'}. Best is trial 5 with value: 0.8425188852916904.\u001b[0m\n"
     ]
    },
    {
     "name": "stdout",
     "output_type": "stream",
     "text": [
      "val score: 0.6569478829429315\n",
      "val std: 0.022034541142442687\n",
      "test score: 0.6674641148325359\n"
     ]
    },
    {
     "name": "stderr",
     "output_type": "stream",
     "text": [
      "\u001b[32m[I 2021-11-22 10:57:17,407]\u001b[0m Trial 7 finished with value: 0.6940582746143591 and parameters: {'n_estimators': 200, 'max_depth': 37, 'max_features': 40, 'min_samples_leaf': 5, 'min_samples_split': 10, 'bootstrap': True, 'criterion': 'entropy'}. Best is trial 5 with value: 0.8425188852916904.\u001b[0m\n"
     ]
    },
    {
     "name": "stdout",
     "output_type": "stream",
     "text": [
      "val score: 0.6940582746143591\n",
      "val std: 0.028789829522636482\n",
      "test score: 0.7081339712918661\n"
     ]
    },
    {
     "name": "stderr",
     "output_type": "stream",
     "text": [
      "\u001b[32m[I 2021-11-22 10:57:19,568]\u001b[0m Trial 8 finished with value: 0.6175458642798197 and parameters: {'n_estimators': 450, 'max_depth': 72, 'max_features': 21, 'min_samples_leaf': 2, 'min_samples_split': 13, 'bootstrap': True, 'criterion': 'entropy'}. Best is trial 5 with value: 0.8425188852916904.\u001b[0m\n"
     ]
    },
    {
     "name": "stdout",
     "output_type": "stream",
     "text": [
      "val score: 0.6175458642798197\n",
      "val std: 0.0008633276201358342\n",
      "test score: 0.6220095693779905\n"
     ]
    },
    {
     "name": "stderr",
     "output_type": "stream",
     "text": [
      "\u001b[32m[I 2021-11-22 10:57:19,911]\u001b[0m Trial 9 finished with value: 0.6175458642798197 and parameters: {'n_estimators': 60, 'max_depth': 49, 'max_features': 14, 'min_samples_leaf': 4, 'min_samples_split': 11, 'bootstrap': False, 'criterion': 'entropy'}. Best is trial 5 with value: 0.8425188852916904.\u001b[0m\n"
     ]
    },
    {
     "name": "stdout",
     "output_type": "stream",
     "text": [
      "val score: 0.6175458642798197\n",
      "val std: 0.0008633276201358342\n",
      "test score: 0.6220095693779905\n"
     ]
    },
    {
     "name": "stderr",
     "output_type": "stream",
     "text": [
      "\u001b[32m[I 2021-11-22 10:57:25,477]\u001b[0m Trial 10 finished with value: 0.8391480987748364 and parameters: {'n_estimators': 350, 'max_depth': 91, 'max_features': 27, 'min_samples_leaf': 1, 'min_samples_split': 8, 'bootstrap': False, 'criterion': 'entropy'}. Best is trial 5 with value: 0.8425188852916904.\u001b[0m\n"
     ]
    },
    {
     "name": "stdout",
     "output_type": "stream",
     "text": [
      "val score: 0.8391480987748364\n",
      "val std: 0.02647375440456169\n",
      "test score: 0.7894736842105263\n"
     ]
    },
    {
     "name": "stderr",
     "output_type": "stream",
     "text": [
      "\u001b[32m[I 2021-11-22 10:57:32,303]\u001b[0m Trial 11 finished with value: 0.8391417507776296 and parameters: {'n_estimators': 380, 'max_depth': 98, 'max_features': 26, 'min_samples_leaf': 1, 'min_samples_split': 8, 'bootstrap': False, 'criterion': 'entropy'}. Best is trial 5 with value: 0.8425188852916904.\u001b[0m\n"
     ]
    },
    {
     "name": "stdout",
     "output_type": "stream",
     "text": [
      "val score: 0.8391417507776296\n",
      "val std: 0.025293698227695515\n",
      "test score: 0.7799043062200957\n"
     ]
    },
    {
     "name": "stderr",
     "output_type": "stream",
     "text": [
      "\u001b[32m[I 2021-11-22 10:57:38,074]\u001b[0m Trial 12 finished with value: 0.8369072557608075 and parameters: {'n_estimators': 320, 'max_depth': 96, 'max_features': 27, 'min_samples_leaf': 1, 'min_samples_split': 9, 'bootstrap': False, 'criterion': 'entropy'}. Best is trial 5 with value: 0.8425188852916904.\u001b[0m\n"
     ]
    },
    {
     "name": "stdout",
     "output_type": "stream",
     "text": [
      "val score: 0.8369072557608075\n",
      "val std: 0.026279701017622854\n",
      "test score: 0.7918660287081339\n"
     ]
    },
    {
     "name": "stderr",
     "output_type": "stream",
     "text": [
      "\u001b[32m[I 2021-11-22 10:57:41,425]\u001b[0m Trial 13 finished with value: 0.7041642861677141 and parameters: {'n_estimators': 620, 'max_depth': 81, 'max_features': 39, 'min_samples_leaf': 2, 'min_samples_split': 9, 'bootstrap': False, 'criterion': 'entropy'}. Best is trial 5 with value: 0.8425188852916904.\u001b[0m\n"
     ]
    },
    {
     "name": "stdout",
     "output_type": "stream",
     "text": [
      "val score: 0.7041642861677141\n",
      "val std: 0.023152135327970832\n",
      "test score: 0.715311004784689\n"
     ]
    },
    {
     "name": "stderr",
     "output_type": "stream",
     "text": [
      "\u001b[32m[I 2021-11-22 10:57:42,736]\u001b[0m Trial 14 finished with value: 0.6175458642798197 and parameters: {'n_estimators': 270, 'max_depth': 6, 'max_features': 28, 'min_samples_leaf': 2, 'min_samples_split': 8, 'bootstrap': False, 'criterion': 'entropy'}. Best is trial 5 with value: 0.8425188852916904.\u001b[0m\n"
     ]
    },
    {
     "name": "stdout",
     "output_type": "stream",
     "text": [
      "val score: 0.6175458642798197\n",
      "val std: 0.0008633276201358342\n",
      "test score: 0.6220095693779905\n"
     ]
    },
    {
     "name": "stderr",
     "output_type": "stream",
     "text": [
      "\u001b[32m[I 2021-11-22 10:57:53,809]\u001b[0m Trial 15 finished with value: 0.8380308512664254 and parameters: {'n_estimators': 700, 'max_depth': 83, 'max_features': 22, 'min_samples_leaf': 1, 'min_samples_split': 12, 'bootstrap': False, 'criterion': 'entropy'}. Best is trial 5 with value: 0.8425188852916904.\u001b[0m\n"
     ]
    },
    {
     "name": "stdout",
     "output_type": "stream",
     "text": [
      "val score: 0.8380308512664254\n",
      "val std: 0.024651268368596668\n",
      "test score: 0.784688995215311\n"
     ]
    },
    {
     "name": "stderr",
     "output_type": "stream",
     "text": [
      "\u001b[32m[I 2021-11-22 10:57:55,832]\u001b[0m Trial 16 finished with value: 0.6288072113248271 and parameters: {'n_estimators': 400, 'max_depth': 63, 'max_features': 32, 'min_samples_leaf': 3, 'min_samples_split': 9, 'bootstrap': False, 'criterion': 'entropy'}. Best is trial 5 with value: 0.8425188852916904.\u001b[0m\n"
     ]
    },
    {
     "name": "stdout",
     "output_type": "stream",
     "text": [
      "val score: 0.6288072113248271\n",
      "val std: 0.008938859185599793\n",
      "test score: 0.6483253588516746\n"
     ]
    },
    {
     "name": "stderr",
     "output_type": "stream",
     "text": [
      "\u001b[32m[I 2021-11-22 10:57:57,099]\u001b[0m Trial 17 finished with value: 0.6175458642798197 and parameters: {'n_estimators': 270, 'max_depth': 87, 'max_features': 24, 'min_samples_leaf': 2, 'min_samples_split': 11, 'bootstrap': False, 'criterion': 'entropy'}. Best is trial 5 with value: 0.8425188852916904.\u001b[0m\n"
     ]
    },
    {
     "name": "stdout",
     "output_type": "stream",
     "text": [
      "val score: 0.6175458642798197\n",
      "val std: 0.0008633276201358342\n",
      "test score: 0.6220095693779905\n"
     ]
    },
    {
     "name": "stderr",
     "output_type": "stream",
     "text": [
      "\u001b[32m[I 2021-11-22 10:58:10,084]\u001b[0m Trial 18 finished with value: 0.8402780422776613 and parameters: {'n_estimators': 780, 'max_depth': 59, 'max_features': 36, 'min_samples_leaf': 1, 'min_samples_split': 13, 'bootstrap': False, 'criterion': 'entropy'}. Best is trial 5 with value: 0.8425188852916904.\u001b[0m\n"
     ]
    },
    {
     "name": "stdout",
     "output_type": "stream",
     "text": [
      "val score: 0.8402780422776613\n",
      "val std: 0.0266829090146266\n",
      "test score: 0.784688995215311\n"
     ]
    },
    {
     "name": "stderr",
     "output_type": "stream",
     "text": [
      "\u001b[32m[I 2021-11-22 10:58:13,938]\u001b[0m Trial 19 finished with value: 0.6861804100806195 and parameters: {'n_estimators': 760, 'max_depth': 55, 'max_features': 36, 'min_samples_leaf': 3, 'min_samples_split': 13, 'bootstrap': False, 'criterion': 'entropy'}. Best is trial 5 with value: 0.8425188852916904.\u001b[0m\n"
     ]
    },
    {
     "name": "stdout",
     "output_type": "stream",
     "text": [
      "val score: 0.6861804100806195\n",
      "val std: 0.020595063179982286\n",
      "test score: 0.7105263157894737\n"
     ]
    },
    {
     "name": "stderr",
     "output_type": "stream",
     "text": [
      "\u001b[32m[I 2021-11-22 10:58:18,353]\u001b[0m Trial 20 finished with value: 0.704170634164921 and parameters: {'n_estimators': 830, 'max_depth': 68, 'max_features': 40, 'min_samples_leaf': 3, 'min_samples_split': 12, 'bootstrap': False, 'criterion': 'entropy'}. Best is trial 5 with value: 0.8425188852916904.\u001b[0m\n"
     ]
    },
    {
     "name": "stdout",
     "output_type": "stream",
     "text": [
      "val score: 0.704170634164921\n",
      "val std: 0.018177327892819135\n",
      "test score: 0.7320574162679426\n"
     ]
    },
    {
     "name": "stderr",
     "output_type": "stream",
     "text": [
      "\u001b[32m[I 2021-11-22 10:58:26,486]\u001b[0m Trial 21 finished with value: 0.8402716942804546 and parameters: {'n_estimators': 500, 'max_depth': 78, 'max_features': 30, 'min_samples_leaf': 1, 'min_samples_split': 13, 'bootstrap': False, 'criterion': 'entropy'}. Best is trial 5 with value: 0.8425188852916904.\u001b[0m\n"
     ]
    },
    {
     "name": "stdout",
     "output_type": "stream",
     "text": [
      "val score: 0.8402716942804546\n",
      "val std: 0.025261349009982777\n",
      "test score: 0.7870813397129187\n"
     ]
    },
    {
     "name": "stderr",
     "output_type": "stream",
     "text": [
      "\u001b[32m[I 2021-11-22 10:58:34,584]\u001b[0m Trial 22 finished with value: 0.8402780422776616 and parameters: {'n_estimators': 480, 'max_depth': 77, 'max_features': 31, 'min_samples_leaf': 1, 'min_samples_split': 13, 'bootstrap': False, 'criterion': 'entropy'}. Best is trial 5 with value: 0.8425188852916904.\u001b[0m\n"
     ]
    },
    {
     "name": "stdout",
     "output_type": "stream",
     "text": [
      "val score: 0.8402780422776616\n",
      "val std: 0.024461308551686243\n",
      "test score: 0.7799043062200957\n"
     ]
    },
    {
     "name": "stderr",
     "output_type": "stream",
     "text": [
      "\u001b[32m[I 2021-11-22 10:58:37,649]\u001b[0m Trial 23 finished with value: 0.6895575445946803 and parameters: {'n_estimators': 600, 'max_depth': 60, 'max_features': 36, 'min_samples_leaf': 2, 'min_samples_split': 12, 'bootstrap': False, 'criterion': 'entropy'}. Best is trial 5 with value: 0.8425188852916904.\u001b[0m\n"
     ]
    },
    {
     "name": "stdout",
     "output_type": "stream",
     "text": [
      "val score: 0.6895575445946803\n",
      "val std: 0.0257434368618794\n",
      "test score: 0.7057416267942583\n"
     ]
    },
    {
     "name": "stderr",
     "output_type": "stream",
     "text": [
      "\u001b[32m[I 2021-11-22 10:58:48,794]\u001b[0m Trial 24 finished with value: 0.8436424807973084 and parameters: {'n_estimators': 710, 'max_depth': 45, 'max_features': 34, 'min_samples_leaf': 1, 'min_samples_split': 13, 'bootstrap': False, 'criterion': 'entropy'}. Best is trial 24 with value: 0.8436424807973084.\u001b[0m\n"
     ]
    },
    {
     "name": "stdout",
     "output_type": "stream",
     "text": [
      "val score: 0.8436424807973084\n",
      "val std: 0.023951737947411764\n",
      "test score: 0.7870813397129187\n"
     ]
    },
    {
     "name": "stderr",
     "output_type": "stream",
     "text": [
      "\u001b[32m[I 2021-11-22 10:58:59,850]\u001b[0m Trial 25 finished with value: 0.8413952897860725 and parameters: {'n_estimators': 700, 'max_depth': 43, 'max_features': 33, 'min_samples_leaf': 1, 'min_samples_split': 12, 'bootstrap': False, 'criterion': 'entropy'}. Best is trial 24 with value: 0.8436424807973084.\u001b[0m\n"
     ]
    },
    {
     "name": "stdout",
     "output_type": "stream",
     "text": [
      "val score: 0.8413952897860725\n",
      "val std: 0.02419734634659812\n",
      "test score: 0.7822966507177034\n"
     ]
    },
    {
     "name": "stderr",
     "output_type": "stream",
     "text": [
      "\u001b[32m[I 2021-11-22 10:59:03,421]\u001b[0m Trial 26 finished with value: 0.6479337269091602 and parameters: {'n_estimators': 700, 'max_depth': 45, 'max_features': 33, 'min_samples_leaf': 2, 'min_samples_split': 12, 'bootstrap': False, 'criterion': 'entropy'}. Best is trial 24 with value: 0.8436424807973084.\u001b[0m\n"
     ]
    },
    {
     "name": "stdout",
     "output_type": "stream",
     "text": [
      "val score: 0.6479337269091602\n",
      "val std: 0.009900787908199439\n",
      "test score: 0.6555023923444976\n"
     ]
    },
    {
     "name": "stderr",
     "output_type": "stream",
     "text": [
      "\u001b[32m[I 2021-11-22 10:59:12,440]\u001b[0m Trial 27 finished with value: 0.834641020757951 and parameters: {'n_estimators': 850, 'max_depth': 16, 'max_features': 38, 'min_samples_leaf': 1, 'min_samples_split': 11, 'bootstrap': False, 'criterion': 'entropy'}. Best is trial 24 with value: 0.8436424807973084.\u001b[0m\n"
     ]
    },
    {
     "name": "stdout",
     "output_type": "stream",
     "text": [
      "val score: 0.834641020757951\n",
      "val std: 0.014954032949458254\n",
      "test score: 0.784688995215311\n"
     ]
    },
    {
     "name": "stderr",
     "output_type": "stream",
     "text": [
      "\u001b[32m[I 2021-11-22 10:59:15,274]\u001b[0m Trial 28 finished with value: 0.6175458642798197 and parameters: {'n_estimators': 670, 'max_depth': 40, 'max_features': 17, 'min_samples_leaf': 2, 'min_samples_split': 10, 'bootstrap': False, 'criterion': 'entropy'}. Best is trial 24 with value: 0.8436424807973084.\u001b[0m\n"
     ]
    },
    {
     "name": "stdout",
     "output_type": "stream",
     "text": [
      "val score: 0.6175458642798197\n",
      "val std: 0.0008633276201358342\n",
      "test score: 0.6220095693779905\n"
     ]
    },
    {
     "name": "stderr",
     "output_type": "stream",
     "text": [
      "\u001b[32m[I 2021-11-22 10:59:17,553]\u001b[0m Trial 29 finished with value: 0.6175458642798197 and parameters: {'n_estimators': 550, 'max_depth': 44, 'max_features': 6, 'min_samples_leaf': 3, 'min_samples_split': 10, 'bootstrap': False, 'criterion': 'entropy'}. Best is trial 24 with value: 0.8436424807973084.\u001b[0m\n"
     ]
    },
    {
     "name": "stdout",
     "output_type": "stream",
     "text": [
      "val score: 0.6175458642798197\n",
      "val std: 0.0008633276201358342\n",
      "test score: 0.6220095693779905\n"
     ]
    },
    {
     "name": "stderr",
     "output_type": "stream",
     "text": [
      "\u001b[32m[I 2021-11-22 10:59:27,185]\u001b[0m Trial 30 finished with value: 0.834641020757951 and parameters: {'n_estimators': 760, 'max_depth': 24, 'max_features': 34, 'min_samples_leaf': 1, 'min_samples_split': 12, 'bootstrap': False, 'criterion': 'entropy'}. Best is trial 24 with value: 0.8436424807973084.\u001b[0m\n"
     ]
    },
    {
     "name": "stdout",
     "output_type": "stream",
     "text": [
      "val score: 0.834641020757951\n",
      "val std: 0.021528859814212594\n",
      "test score: 0.7894736842105263\n"
     ]
    },
    {
     "name": "stderr",
     "output_type": "stream",
     "text": [
      "\u001b[32m[I 2021-11-22 10:59:35,117]\u001b[0m Trial 31 finished with value: 0.8425188852916905 and parameters: {'n_estimators': 480, 'max_depth': 65, 'max_features': 30, 'min_samples_leaf': 1, 'min_samples_split': 13, 'bootstrap': False, 'criterion': 'entropy'}. Best is trial 24 with value: 0.8436424807973084.\u001b[0m\n"
     ]
    },
    {
     "name": "stdout",
     "output_type": "stream",
     "text": [
      "val score: 0.8425188852916905\n",
      "val std: 0.02775303868689586\n",
      "test score: 0.784688995215311\n"
     ]
    },
    {
     "name": "stderr",
     "output_type": "stream",
     "text": [
      "\u001b[32m[I 2021-11-22 10:59:45,494]\u001b[0m Trial 32 finished with value: 0.8402716942804546 and parameters: {'n_estimators': 640, 'max_depth': 64, 'max_features': 29, 'min_samples_leaf': 1, 'min_samples_split': 13, 'bootstrap': False, 'criterion': 'entropy'}. Best is trial 24 with value: 0.8436424807973084.\u001b[0m\n"
     ]
    },
    {
     "name": "stdout",
     "output_type": "stream",
     "text": [
      "val score: 0.8402716942804546\n",
      "val std: 0.02764746715033133\n",
      "test score: 0.784688995215311\n"
     ]
    },
    {
     "name": "stderr",
     "output_type": "stream",
     "text": [
      "\u001b[32m[I 2021-11-22 10:59:48,370]\u001b[0m Trial 33 finished with value: 0.8391544467720433 and parameters: {'n_estimators': 190, 'max_depth': 52, 'max_features': 32, 'min_samples_leaf': 1, 'min_samples_split': 13, 'bootstrap': False, 'criterion': 'entropy'}. Best is trial 24 with value: 0.8436424807973084.\u001b[0m\n"
     ]
    },
    {
     "name": "stdout",
     "output_type": "stream",
     "text": [
      "val score: 0.8391544467720433\n",
      "val std: 0.023126761850018274\n",
      "test score: 0.7918660287081339\n"
     ]
    },
    {
     "name": "stderr",
     "output_type": "stream",
     "text": [
      "\u001b[32m[I 2021-11-22 10:59:52,444]\u001b[0m Trial 34 finished with value: 0.6580206944708944 and parameters: {'n_estimators': 890, 'max_depth': 71, 'max_features': 34, 'min_samples_leaf': 2, 'min_samples_split': 11, 'bootstrap': False, 'criterion': 'entropy'}. Best is trial 24 with value: 0.8436424807973084.\u001b[0m\n"
     ]
    },
    {
     "name": "stdout",
     "output_type": "stream",
     "text": [
      "val score: 0.6580206944708944\n",
      "val std: 0.013580806772821448\n",
      "test score: 0.6818181818181818\n"
     ]
    },
    {
     "name": "stderr",
     "output_type": "stream",
     "text": [
      "\u001b[32m[I 2021-11-22 10:59:57,863]\u001b[0m Trial 35 finished with value: 0.8324001777439218 and parameters: {'n_estimators': 540, 'max_depth': 32, 'max_features': 24, 'min_samples_leaf': 1, 'min_samples_split': 12, 'bootstrap': True, 'criterion': 'entropy'}. Best is trial 24 with value: 0.8436424807973084.\u001b[0m\n"
     ]
    },
    {
     "name": "stdout",
     "output_type": "stream",
     "text": [
      "val score: 0.8324001777439218\n",
      "val std: 0.0228285365421766\n",
      "test score: 0.7966507177033493\n"
     ]
    },
    {
     "name": "stderr",
     "output_type": "stream",
     "text": [
      "\u001b[32m[I 2021-11-22 11:00:05,588]\u001b[0m Trial 36 finished with value: 0.8413952897860725 and parameters: {'n_estimators': 440, 'max_depth': 47, 'max_features': 37, 'min_samples_leaf': 1, 'min_samples_split': 13, 'bootstrap': False, 'criterion': 'entropy'}. Best is trial 24 with value: 0.8436424807973084.\u001b[0m\n"
     ]
    },
    {
     "name": "stdout",
     "output_type": "stream",
     "text": [
      "val score: 0.8413952897860725\n",
      "val std: 0.02419734634659812\n",
      "test score: 0.7894736842105263\n"
     ]
    },
    {
     "name": "stderr",
     "output_type": "stream",
     "text": [
      "\u001b[32m[I 2021-11-22 11:00:08,108]\u001b[0m Trial 37 finished with value: 0.699676252142449 and parameters: {'n_estimators': 430, 'max_depth': 56, 'max_features': 38, 'min_samples_leaf': 2, 'min_samples_split': 13, 'bootstrap': True, 'criterion': 'entropy'}. Best is trial 24 with value: 0.8436424807973084.\u001b[0m\n"
     ]
    },
    {
     "name": "stdout",
     "output_type": "stream",
     "text": [
      "val score: 0.699676252142449\n",
      "val std: 0.029926831495026195\n",
      "test score: 0.7200956937799043\n"
     ]
    },
    {
     "name": "stderr",
     "output_type": "stream",
     "text": [
      "\u001b[32m[I 2021-11-22 11:00:13,535]\u001b[0m Trial 38 finished with value: 0.8188979876848854 and parameters: {'n_estimators': 710, 'max_depth': 39, 'max_features': 3, 'min_samples_leaf': 1, 'min_samples_split': 11, 'bootstrap': True, 'criterion': 'entropy'}. Best is trial 24 with value: 0.8436424807973084.\u001b[0m\n"
     ]
    },
    {
     "name": "stdout",
     "output_type": "stream",
     "text": [
      "val score: 0.8188979876848854\n",
      "val std: 0.025714610756701454\n",
      "test score: 0.7751196172248804\n"
     ]
    },
    {
     "name": "stderr",
     "output_type": "stream",
     "text": [
      "\u001b[32m[I 2021-11-22 11:00:14,183]\u001b[0m Trial 39 finished with value: 0.6850314225861741 and parameters: {'n_estimators': 110, 'max_depth': 50, 'max_features': 37, 'min_samples_leaf': 2, 'min_samples_split': 13, 'bootstrap': False, 'criterion': 'entropy'}. Best is trial 24 with value: 0.8436424807973084.\u001b[0m\n"
     ]
    },
    {
     "name": "stdout",
     "output_type": "stream",
     "text": [
      "val score: 0.6850314225861741\n",
      "val std: 0.03715747770791961\n",
      "test score: 0.7009569377990431\n"
     ]
    },
    {
     "name": "stderr",
     "output_type": "stream",
     "text": [
      "\u001b[32m[I 2021-11-22 11:00:17,692]\u001b[0m Trial 40 finished with value: 0.8402653462832476 and parameters: {'n_estimators': 270, 'max_depth': 66, 'max_features': 35, 'min_samples_leaf': 1, 'min_samples_split': 10, 'bootstrap': True, 'criterion': 'entropy'}. Best is trial 24 with value: 0.8436424807973084.\u001b[0m\n"
     ]
    },
    {
     "name": "stdout",
     "output_type": "stream",
     "text": [
      "val score: 0.8402653462832476\n",
      "val std: 0.024022104752229725\n",
      "test score: 0.7966507177033493\n"
     ]
    },
    {
     "name": "stderr",
     "output_type": "stream",
     "text": [
      "\u001b[32m[I 2021-11-22 11:00:24,970]\u001b[0m Trial 41 finished with value: 0.8414016377832795 and parameters: {'n_estimators': 470, 'max_depth': 45, 'max_features': 30, 'min_samples_leaf': 1, 'min_samples_split': 12, 'bootstrap': False, 'criterion': 'entropy'}. Best is trial 24 with value: 0.8436424807973084.\u001b[0m\n"
     ]
    },
    {
     "name": "stdout",
     "output_type": "stream",
     "text": [
      "val score: 0.8414016377832795\n",
      "val std: 0.025430582300277692\n",
      "test score: 0.7870813397129187\n"
     ]
    },
    {
     "name": "stderr",
     "output_type": "stream",
     "text": [
      "\u001b[32m[I 2021-11-22 11:00:32,964]\u001b[0m Trial 42 finished with value: 0.8425188852916905 and parameters: {'n_estimators': 460, 'max_depth': 47, 'max_features': 30, 'min_samples_leaf': 1, 'min_samples_split': 13, 'bootstrap': False, 'criterion': 'entropy'}. Best is trial 24 with value: 0.8436424807973084.\u001b[0m\n"
     ]
    },
    {
     "name": "stdout",
     "output_type": "stream",
     "text": [
      "val score: 0.8425188852916905\n",
      "val std: 0.025376849101727467\n",
      "test score: 0.7870813397129187\n"
     ]
    },
    {
     "name": "stderr",
     "output_type": "stream",
     "text": [
      "\u001b[32m[I 2021-11-22 11:00:40,404]\u001b[0m Trial 43 finished with value: 0.8425315812861042 and parameters: {'n_estimators': 490, 'max_depth': 58, 'max_features': 25, 'min_samples_leaf': 1, 'min_samples_split': 13, 'bootstrap': False, 'criterion': 'entropy'}. Best is trial 24 with value: 0.8436424807973084.\u001b[0m\n"
     ]
    },
    {
     "name": "stdout",
     "output_type": "stream",
     "text": [
      "val score: 0.8425315812861042\n",
      "val std: 0.025797431209615536\n",
      "test score: 0.7822966507177034\n"
     ]
    },
    {
     "name": "stderr",
     "output_type": "stream",
     "text": [
      "\u001b[32m[I 2021-11-22 11:00:45,155]\u001b[0m Trial 44 finished with value: 0.8357836602551896 and parameters: {'n_estimators': 320, 'max_depth': 74, 'max_features': 18, 'min_samples_leaf': 1, 'min_samples_split': 13, 'bootstrap': False, 'criterion': 'entropy'}. Best is trial 24 with value: 0.8436424807973084.\u001b[0m\n"
     ]
    },
    {
     "name": "stdout",
     "output_type": "stream",
     "text": [
      "val score: 0.8357836602551896\n",
      "val std: 0.01980644711140174\n",
      "test score: 0.7870813397129187\n"
     ]
    },
    {
     "name": "stderr",
     "output_type": "stream",
     "text": [
      "\u001b[32m[I 2021-11-22 11:00:47,605]\u001b[0m Trial 45 finished with value: 0.6175458642798197 and parameters: {'n_estimators': 520, 'max_depth': 34, 'max_features': 26, 'min_samples_leaf': 5, 'min_samples_split': 13, 'bootstrap': False, 'criterion': 'entropy'}. Best is trial 24 with value: 0.8436424807973084.\u001b[0m\n"
     ]
    },
    {
     "name": "stdout",
     "output_type": "stream",
     "text": [
      "val score: 0.6175458642798197\n",
      "val std: 0.0008633276201358342\n",
      "test score: 0.6220095693779905\n"
     ]
    },
    {
     "name": "stderr",
     "output_type": "stream",
     "text": [
      "\u001b[32m[I 2021-11-22 11:00:50,254]\u001b[0m Trial 46 finished with value: 0.6175458642798197 and parameters: {'n_estimators': 570, 'max_depth': 59, 'max_features': 24, 'min_samples_leaf': 2, 'min_samples_split': 13, 'bootstrap': False, 'criterion': 'entropy'}. Best is trial 24 with value: 0.8436424807973084.\u001b[0m\n"
     ]
    },
    {
     "name": "stdout",
     "output_type": "stream",
     "text": [
      "val score: 0.6175458642798197\n",
      "val std: 0.0008633276201358342\n",
      "test score: 0.6220095693779905\n"
     ]
    },
    {
     "name": "stderr",
     "output_type": "stream",
     "text": [
      "\u001b[32m[I 2021-11-22 11:00:54,361]\u001b[0m Trial 47 finished with value: 0.6175458642798197 and parameters: {'n_estimators': 960, 'max_depth': 69, 'max_features': 20, 'min_samples_leaf': 4, 'min_samples_split': 12, 'bootstrap': False, 'criterion': 'entropy'}. Best is trial 24 with value: 0.8436424807973084.\u001b[0m\n"
     ]
    },
    {
     "name": "stdout",
     "output_type": "stream",
     "text": [
      "val score: 0.6175458642798197\n",
      "val std: 0.0008633276201358342\n",
      "test score: 0.6220095693779905\n"
     ]
    },
    {
     "name": "stderr",
     "output_type": "stream",
     "text": [
      "\u001b[32m[I 2021-11-22 11:01:00,584]\u001b[0m Trial 48 finished with value: 0.8402716942804546 and parameters: {'n_estimators': 380, 'max_depth': 54, 'max_features': 29, 'min_samples_leaf': 1, 'min_samples_split': 9, 'bootstrap': False, 'criterion': 'entropy'}. Best is trial 24 with value: 0.8436424807973084.\u001b[0m\n"
     ]
    },
    {
     "name": "stdout",
     "output_type": "stream",
     "text": [
      "val score: 0.8402716942804546\n",
      "val std: 0.030263483987440054\n",
      "test score: 0.7942583732057417\n"
     ]
    },
    {
     "name": "stderr",
     "output_type": "stream",
     "text": [
      "\u001b[32m[I 2021-11-22 11:01:03,152]\u001b[0m Trial 49 finished with value: 0.8312765822383037 and parameters: {'n_estimators': 220, 'max_depth': 64, 'max_features': 13, 'min_samples_leaf': 1, 'min_samples_split': 10, 'bootstrap': True, 'criterion': 'entropy'}. Best is trial 24 with value: 0.8436424807973084.\u001b[0m\n"
     ]
    },
    {
     "name": "stdout",
     "output_type": "stream",
     "text": [
      "val score: 0.8312765822383037\n",
      "val std: 0.01874987551102823\n",
      "test score: 0.7894736842105263\n"
     ]
    },
    {
     "name": "stderr",
     "output_type": "stream",
     "text": [
      "\u001b[32m[I 2021-11-22 11:01:03,898]\u001b[0m Trial 50 finished with value: 0.6175458642798197 and parameters: {'n_estimators': 130, 'max_depth': 49, 'max_features': 27, 'min_samples_leaf': 2, 'min_samples_split': 13, 'bootstrap': False, 'criterion': 'entropy'}. Best is trial 24 with value: 0.8436424807973084.\u001b[0m\n"
     ]
    },
    {
     "name": "stdout",
     "output_type": "stream",
     "text": [
      "val score: 0.6175458642798197\n",
      "val std: 0.0008633276201358342\n",
      "test score: 0.6220095693779905\n"
     ]
    },
    {
     "name": "stderr",
     "output_type": "stream",
     "text": [
      "\u001b[32m[I 2021-11-22 11:01:11,272]\u001b[0m Trial 51 finished with value: 0.8391480987748364 and parameters: {'n_estimators': 480, 'max_depth': 41, 'max_features': 31, 'min_samples_leaf': 1, 'min_samples_split': 13, 'bootstrap': False, 'criterion': 'entropy'}. Best is trial 24 with value: 0.8436424807973084.\u001b[0m\n"
     ]
    },
    {
     "name": "stdout",
     "output_type": "stream",
     "text": [
      "val score: 0.8391480987748364\n",
      "val std: 0.02205085726295948\n",
      "test score: 0.784688995215311\n"
     ]
    },
    {
     "name": "stderr",
     "output_type": "stream",
     "text": [
      "\u001b[32m[I 2021-11-22 11:01:18,418]\u001b[0m Trial 52 finished with value: 0.8425252332888974 and parameters: {'n_estimators': 460, 'max_depth': 58, 'max_features': 29, 'min_samples_leaf': 1, 'min_samples_split': 12, 'bootstrap': False, 'criterion': 'entropy'}. Best is trial 24 with value: 0.8436424807973084.\u001b[0m\n"
     ]
    },
    {
     "name": "stdout",
     "output_type": "stream",
     "text": [
      "val score: 0.8425252332888974\n",
      "val std: 0.029052444057436833\n",
      "test score: 0.784688995215311\n"
     ]
    },
    {
     "name": "stderr",
     "output_type": "stream",
     "text": [
      "\u001b[32m[I 2021-11-22 11:01:24,594]\u001b[0m Trial 53 finished with value: 0.8414016377832795 and parameters: {'n_estimators': 410, 'max_depth': 60, 'max_features': 25, 'min_samples_leaf': 1, 'min_samples_split': 12, 'bootstrap': False, 'criterion': 'entropy'}. Best is trial 24 with value: 0.8436424807973084.\u001b[0m\n"
     ]
    },
    {
     "name": "stdout",
     "output_type": "stream",
     "text": [
      "val score: 0.8414016377832795\n",
      "val std: 0.025430582300277692\n",
      "test score: 0.7799043062200957\n"
     ]
    },
    {
     "name": "stderr",
     "output_type": "stream",
     "text": [
      "\u001b[32m[I 2021-11-22 11:01:29,950]\u001b[0m Trial 54 finished with value: 0.8402716942804546 and parameters: {'n_estimators': 350, 'max_depth': 57, 'max_features': 28, 'min_samples_leaf': 1, 'min_samples_split': 13, 'bootstrap': False, 'criterion': 'entropy'}. Best is trial 24 with value: 0.8436424807973084.\u001b[0m\n"
     ]
    },
    {
     "name": "stdout",
     "output_type": "stream",
     "text": [
      "val score: 0.8402716942804546\n",
      "val std: 0.025261349009982777\n",
      "test score: 0.7870813397129187\n"
     ]
    },
    {
     "name": "stderr",
     "output_type": "stream",
     "text": [
      "\u001b[32m[I 2021-11-22 11:01:37,823]\u001b[0m Trial 55 finished with value: 0.8402780422776613 and parameters: {'n_estimators': 510, 'max_depth': 74, 'max_features': 22, 'min_samples_leaf': 1, 'min_samples_split': 13, 'bootstrap': False, 'criterion': 'entropy'}. Best is trial 24 with value: 0.8436424807973084.\u001b[0m\n"
     ]
    },
    {
     "name": "stdout",
     "output_type": "stream",
     "text": [
      "val score: 0.8402780422776613\n",
      "val std: 0.021728067793439578\n",
      "test score: 0.7822966507177034\n"
     ]
    },
    {
     "name": "stderr",
     "output_type": "stream",
     "text": [
      "\u001b[32m[I 2021-11-22 11:01:47,541]\u001b[0m Trial 56 finished with value: 0.8391480987748364 and parameters: {'n_estimators': 600, 'max_depth': 53, 'max_features': 32, 'min_samples_leaf': 1, 'min_samples_split': 12, 'bootstrap': False, 'criterion': 'entropy'}. Best is trial 24 with value: 0.8436424807973084.\u001b[0m\n"
     ]
    },
    {
     "name": "stdout",
     "output_type": "stream",
     "text": [
      "val score: 0.8391480987748364\n",
      "val std: 0.024232986915586913\n",
      "test score: 0.7870813397129187\n"
     ]
    },
    {
     "name": "stderr",
     "output_type": "stream",
     "text": [
      "\u001b[32m[I 2021-11-22 11:01:48,005]\u001b[0m Trial 57 finished with value: 0.6220402463022916 and parameters: {'n_estimators': 70, 'max_depth': 62, 'max_features': 29, 'min_samples_leaf': 2, 'min_samples_split': 13, 'bootstrap': False, 'criterion': 'entropy'}. Best is trial 24 with value: 0.8436424807973084.\u001b[0m\n"
     ]
    },
    {
     "name": "stdout",
     "output_type": "stream",
     "text": [
      "val score: 0.6220402463022916\n",
      "val std: 0.005909709245048318\n",
      "test score: 0.6363636363636364\n"
     ]
    },
    {
     "name": "stderr",
     "output_type": "stream",
     "text": [
      "\u001b[32m[I 2021-11-22 11:01:54,792]\u001b[0m Trial 58 finished with value: 0.8425188852916904 and parameters: {'n_estimators': 360, 'max_depth': 81, 'max_features': 40, 'min_samples_leaf': 1, 'min_samples_split': 11, 'bootstrap': False, 'criterion': 'entropy'}. Best is trial 24 with value: 0.8436424807973084.\u001b[0m\n"
     ]
    },
    {
     "name": "stdout",
     "output_type": "stream",
     "text": [
      "val score: 0.8425188852916904\n",
      "val std: 0.02775303868689586\n",
      "test score: 0.7799043062200957\n"
     ]
    },
    {
     "name": "stderr",
     "output_type": "stream",
     "text": [
      "\u001b[32m[I 2021-11-22 11:02:01,269]\u001b[0m Trial 59 finished with value: 0.8425252332888974 and parameters: {'n_estimators': 370, 'max_depth': 85, 'max_features': 26, 'min_samples_leaf': 1, 'min_samples_split': 11, 'bootstrap': False, 'criterion': 'entropy'}. Best is trial 24 with value: 0.8436424807973084.\u001b[0m\n"
     ]
    },
    {
     "name": "stdout",
     "output_type": "stream",
     "text": [
      "val score: 0.8425252332888974\n",
      "val std: 0.02406089077858638\n",
      "test score: 0.7870813397129187\n"
     ]
    },
    {
     "name": "stderr",
     "output_type": "stream",
     "text": [
      "\u001b[32m[I 2021-11-22 11:02:02,854]\u001b[0m Trial 60 finished with value: 0.6175458642798197 and parameters: {'n_estimators': 310, 'max_depth': 93, 'max_features': 26, 'min_samples_leaf': 2, 'min_samples_split': 12, 'bootstrap': False, 'criterion': 'entropy'}. Best is trial 24 with value: 0.8436424807973084.\u001b[0m\n"
     ]
    },
    {
     "name": "stdout",
     "output_type": "stream",
     "text": [
      "val score: 0.6175458642798197\n",
      "val std: 0.0008633276201358342\n",
      "test score: 0.6220095693779905\n"
     ]
    },
    {
     "name": "stderr",
     "output_type": "stream",
     "text": [
      "\u001b[32m[I 2021-11-22 11:02:08,725]\u001b[0m Trial 61 finished with value: 0.8380308512664254 and parameters: {'n_estimators': 360, 'max_depth': 88, 'max_features': 23, 'min_samples_leaf': 1, 'min_samples_split': 11, 'bootstrap': False, 'criterion': 'entropy'}. Best is trial 24 with value: 0.8436424807973084.\u001b[0m\n"
     ]
    },
    {
     "name": "stdout",
     "output_type": "stream",
     "text": [
      "val score: 0.8380308512664254\n",
      "val std: 0.024393859136637757\n",
      "test score: 0.7799043062200957\n"
     ]
    },
    {
     "name": "stderr",
     "output_type": "stream",
     "text": [
      "\u001b[32m[I 2021-11-22 11:02:16,081]\u001b[0m Trial 62 finished with value: 0.8425188852916905 and parameters: {'n_estimators': 400, 'max_depth': 83, 'max_features': 40, 'min_samples_leaf': 1, 'min_samples_split': 11, 'bootstrap': False, 'criterion': 'entropy'}. Best is trial 24 with value: 0.8436424807973084.\u001b[0m\n"
     ]
    },
    {
     "name": "stdout",
     "output_type": "stream",
     "text": [
      "val score: 0.8425188852916905\n",
      "val std: 0.025376849101727467\n",
      "test score: 0.7799043062200957\n"
     ]
    },
    {
     "name": "stderr",
     "output_type": "stream",
     "text": [
      "\u001b[32m[I 2021-11-22 11:02:22,746]\u001b[0m Trial 63 finished with value: 0.8380181552720117 and parameters: {'n_estimators': 410, 'max_depth': 85, 'max_features': 28, 'min_samples_leaf': 1, 'min_samples_split': 11, 'bootstrap': False, 'criterion': 'entropy'}. Best is trial 24 with value: 0.8436424807973084.\u001b[0m\n"
     ]
    },
    {
     "name": "stdout",
     "output_type": "stream",
     "text": [
      "val score: 0.8380181552720117\n",
      "val std: 0.02645667948968401\n",
      "test score: 0.7894736842105263\n"
     ]
    },
    {
     "name": "stderr",
     "output_type": "stream",
     "text": [
      "\u001b[32m[I 2021-11-22 11:02:29,393]\u001b[0m Trial 64 finished with value: 0.8380371992636324 and parameters: {'n_estimators': 450, 'max_depth': 90, 'max_features': 20, 'min_samples_leaf': 1, 'min_samples_split': 12, 'bootstrap': False, 'criterion': 'entropy'}. Best is trial 24 with value: 0.8436424807973084.\u001b[0m\n"
     ]
    },
    {
     "name": "stdout",
     "output_type": "stream",
     "text": [
      "val score: 0.8380371992636324\n",
      "val std: 0.02383435333213208\n",
      "test score: 0.7870813397129187\n"
     ]
    },
    {
     "name": "stderr",
     "output_type": "stream",
     "text": [
      "\u001b[32m[I 2021-11-22 11:02:37,584]\u001b[0m Trial 65 finished with value: 0.8402716942804546 and parameters: {'n_estimators': 500, 'max_depth': 97, 'max_features': 31, 'min_samples_leaf': 1, 'min_samples_split': 11, 'bootstrap': False, 'criterion': 'entropy'}. Best is trial 24 with value: 0.8436424807973084.\u001b[0m\n"
     ]
    },
    {
     "name": "stdout",
     "output_type": "stream",
     "text": [
      "val score: 0.8402716942804546\n",
      "val std: 0.025261349009982777\n",
      "test score: 0.784688995215311\n"
     ]
    },
    {
     "name": "stderr",
     "output_type": "stream",
     "text": [
      "\u001b[32m[I 2021-11-22 11:02:52,848]\u001b[0m Trial 66 finished with value: 0.8380308512664254 and parameters: {'n_estimators': 1000, 'max_depth': 77, 'max_features': 26, 'min_samples_leaf': 1, 'min_samples_split': 13, 'bootstrap': False, 'criterion': 'entropy'}. Best is trial 24 with value: 0.8436424807973084.\u001b[0m\n"
     ]
    },
    {
     "name": "stdout",
     "output_type": "stream",
     "text": [
      "val score: 0.8380308512664254\n",
      "val std: 0.022227528309700373\n",
      "test score: 0.784688995215311\n"
     ]
    },
    {
     "name": "stderr",
     "output_type": "stream",
     "text": [
      "\u001b[32m[I 2021-11-22 11:03:00,610]\u001b[0m Trial 67 finished with value: 0.8391417507776296 and parameters: {'n_estimators': 560, 'max_depth': 37, 'max_features': 33, 'min_samples_leaf': 1, 'min_samples_split': 12, 'bootstrap': False, 'criterion': 'entropy'}. Best is trial 24 with value: 0.8436424807973084.\u001b[0m\n"
     ]
    },
    {
     "name": "stdout",
     "output_type": "stream",
     "text": [
      "val score: 0.8391417507776296\n",
      "val std: 0.02767702758712032\n",
      "test score: 0.784688995215311\n"
     ]
    },
    {
     "name": "stderr",
     "output_type": "stream",
     "text": [
      "\u001b[32m[I 2021-11-22 11:03:07,860]\u001b[0m Trial 68 finished with value: 0.8391480987748364 and parameters: {'n_estimators': 480, 'max_depth': 67, 'max_features': 30, 'min_samples_leaf': 1, 'min_samples_split': 13, 'bootstrap': False, 'criterion': 'entropy'}. Best is trial 24 with value: 0.8436424807973084.\u001b[0m\n"
     ]
    },
    {
     "name": "stdout",
     "output_type": "stream",
     "text": [
      "val score: 0.8391480987748364\n",
      "val std: 0.02647375440456169\n",
      "test score: 0.784688995215311\n"
     ]
    },
    {
     "name": "stderr",
     "output_type": "stream",
     "text": [
      "\u001b[32m[I 2021-11-22 11:03:13,928]\u001b[0m Trial 69 finished with value: 0.8414016377832795 and parameters: {'n_estimators': 390, 'max_depth': 100, 'max_features': 25, 'min_samples_leaf': 1, 'min_samples_split': 11, 'bootstrap': False, 'criterion': 'entropy'}. Best is trial 24 with value: 0.8436424807973084.\u001b[0m\n"
     ]
    },
    {
     "name": "stdout",
     "output_type": "stream",
     "text": [
      "val score: 0.8414016377832795\n",
      "val std: 0.0280283048142077\n",
      "test score: 0.7799043062200957\n"
     ]
    },
    {
     "name": "stderr",
     "output_type": "stream",
     "text": [
      "\u001b[32m[I 2021-11-22 11:03:16,262]\u001b[0m Trial 70 finished with value: 0.6794451850441185 and parameters: {'n_estimators': 420, 'max_depth': 28, 'max_features': 35, 'min_samples_leaf': 2, 'min_samples_split': 12, 'bootstrap': True, 'criterion': 'entropy'}. Best is trial 24 with value: 0.8436424807973084.\u001b[0m\n"
     ]
    },
    {
     "name": "stdout",
     "output_type": "stream",
     "text": [
      "val score: 0.6794451850441185\n",
      "val std: 0.03598411700746009\n",
      "test score: 0.6913875598086124\n"
     ]
    },
    {
     "name": "stderr",
     "output_type": "stream",
     "text": [
      "\u001b[32m[I 2021-11-22 11:03:21,603]\u001b[0m Trial 71 finished with value: 0.8413952897860725 and parameters: {'n_estimators': 310, 'max_depth': 81, 'max_features': 40, 'min_samples_leaf': 1, 'min_samples_split': 11, 'bootstrap': False, 'criterion': 'entropy'}. Best is trial 24 with value: 0.8436424807973084.\u001b[0m\n"
     ]
    },
    {
     "name": "stdout",
     "output_type": "stream",
     "text": [
      "val score: 0.8413952897860725\n",
      "val std: 0.026678797878497404\n",
      "test score: 0.7799043062200957\n"
     ]
    },
    {
     "name": "stderr",
     "output_type": "stream",
     "text": [
      "\u001b[32m[I 2021-11-22 11:03:29,108]\u001b[0m Trial 72 finished with value: 0.8391417507776296 and parameters: {'n_estimators': 450, 'max_depth': 83, 'max_features': 39, 'min_samples_leaf': 1, 'min_samples_split': 11, 'bootstrap': False, 'criterion': 'entropy'}. Best is trial 24 with value: 0.8436424807973084.\u001b[0m\n"
     ]
    },
    {
     "name": "stdout",
     "output_type": "stream",
     "text": [
      "val score: 0.8391417507776296\n",
      "val std: 0.025293698227695515\n",
      "test score: 0.784688995215311\n"
     ]
    },
    {
     "name": "stderr",
     "output_type": "stream",
     "text": [
      "\u001b[32m[I 2021-11-22 11:03:35,167]\u001b[0m Trial 73 finished with value: 0.8357709642607757 and parameters: {'n_estimators': 370, 'max_depth': 78, 'max_features': 37, 'min_samples_leaf': 1, 'min_samples_split': 11, 'bootstrap': False, 'criterion': 'entropy'}. Best is trial 24 with value: 0.8436424807973084.\u001b[0m\n"
     ]
    },
    {
     "name": "stdout",
     "output_type": "stream",
     "text": [
      "val score: 0.8357709642607757\n",
      "val std: 0.022011568412246225\n",
      "test score: 0.7822966507177034\n"
     ]
    },
    {
     "name": "stderr",
     "output_type": "stream",
     "text": [
      "\u001b[32m[I 2021-11-22 11:03:39,331]\u001b[0m Trial 74 finished with value: 0.8380181552720117 and parameters: {'n_estimators': 240, 'max_depth': 49, 'max_features': 35, 'min_samples_leaf': 1, 'min_samples_split': 10, 'bootstrap': False, 'criterion': 'entropy'}. Best is trial 24 with value: 0.8436424807973084.\u001b[0m\n"
     ]
    },
    {
     "name": "stdout",
     "output_type": "stream",
     "text": [
      "val score: 0.8380181552720117\n",
      "val std: 0.019279899013122107\n",
      "test score: 0.784688995215311\n"
     ]
    },
    {
     "name": "stderr",
     "output_type": "stream",
     "text": [
      "\u001b[32m[I 2021-11-22 11:03:45,581]\u001b[0m Trial 75 finished with value: 0.834641020757951 and parameters: {'n_estimators': 340, 'max_depth': 87, 'max_features': 39, 'min_samples_leaf': 1, 'min_samples_split': 11, 'bootstrap': False, 'criterion': 'entropy'}. Best is trial 24 with value: 0.8436424807973084.\u001b[0m\n"
     ]
    },
    {
     "name": "stdout",
     "output_type": "stream",
     "text": [
      "val score: 0.834641020757951\n",
      "val std: 0.024284531927227057\n",
      "test score: 0.7822966507177034\n"
     ]
    },
    {
     "name": "stderr",
     "output_type": "stream",
     "text": [
      "\u001b[32m[I 2021-11-22 11:03:48,090]\u001b[0m Trial 76 finished with value: 0.6175458642798197 and parameters: {'n_estimators': 540, 'max_depth': 92, 'max_features': 28, 'min_samples_leaf': 5, 'min_samples_split': 13, 'bootstrap': False, 'criterion': 'entropy'}. Best is trial 24 with value: 0.8436424807973084.\u001b[0m\n"
     ]
    },
    {
     "name": "stdout",
     "output_type": "stream",
     "text": [
      "val score: 0.6175458642798197\n",
      "val std: 0.0008633276201358342\n",
      "test score: 0.6220095693779905\n"
     ]
    },
    {
     "name": "stderr",
     "output_type": "stream",
     "text": [
      "\u001b[32m[I 2021-11-22 11:03:52,861]\u001b[0m Trial 77 finished with value: 0.8357709642607757 and parameters: {'n_estimators': 280, 'max_depth': 74, 'max_features': 34, 'min_samples_leaf': 1, 'min_samples_split': 12, 'bootstrap': False, 'criterion': 'entropy'}. Best is trial 24 with value: 0.8436424807973084.\u001b[0m\n"
     ]
    },
    {
     "name": "stdout",
     "output_type": "stream",
     "text": [
      "val score: 0.8357709642607757\n",
      "val std: 0.021430347798439886\n",
      "test score: 0.777511961722488\n"
     ]
    },
    {
     "name": "stderr",
     "output_type": "stream",
     "text": [
      "\u001b[32m[I 2021-11-22 11:04:00,658]\u001b[0m Trial 78 finished with value: 0.8413952897860725 and parameters: {'n_estimators': 470, 'max_depth': 81, 'max_features': 30, 'min_samples_leaf': 1, 'min_samples_split': 13, 'bootstrap': False, 'criterion': 'entropy'}. Best is trial 24 with value: 0.8436424807973084.\u001b[0m\n"
     ]
    },
    {
     "name": "stdout",
     "output_type": "stream",
     "text": [
      "val score: 0.8413952897860725\n",
      "val std: 0.023935055914176932\n",
      "test score: 0.7799043062200957\n"
     ]
    },
    {
     "name": "stderr",
     "output_type": "stream",
     "text": [
      "\u001b[32m[I 2021-11-22 11:04:03,602]\u001b[0m Trial 79 finished with value: 0.6175458642798197 and parameters: {'n_estimators': 650, 'max_depth': 47, 'max_features': 27, 'min_samples_leaf': 2, 'min_samples_split': 11, 'bootstrap': False, 'criterion': 'entropy'}. Best is trial 24 with value: 0.8436424807973084.\u001b[0m\n"
     ]
    },
    {
     "name": "stdout",
     "output_type": "stream",
     "text": [
      "val score: 0.6175458642798197\n",
      "val std: 0.0008633276201358342\n",
      "test score: 0.6220095693779905\n"
     ]
    },
    {
     "name": "stderr",
     "output_type": "stream",
     "text": [
      "\u001b[32m[I 2021-11-22 11:04:11,112]\u001b[0m Trial 80 finished with value: 0.8391480987748364 and parameters: {'n_estimators': 440, 'max_depth': 57, 'max_features': 38, 'min_samples_leaf': 1, 'min_samples_split': 13, 'bootstrap': False, 'criterion': 'entropy'}. Best is trial 24 with value: 0.8436424807973084.\u001b[0m\n"
     ]
    },
    {
     "name": "stdout",
     "output_type": "stream",
     "text": [
      "val score: 0.8391480987748364\n",
      "val std: 0.023971086463666125\n",
      "test score: 0.7822966507177034\n"
     ]
    },
    {
     "name": "stderr",
     "output_type": "stream",
     "text": [
      "\u001b[32m[I 2021-11-22 11:04:21,652]\u001b[0m Trial 81 finished with value: 0.8380181552720117 and parameters: {'n_estimators': 590, 'max_depth': 70, 'max_features': 38, 'min_samples_leaf': 1, 'min_samples_split': 10, 'bootstrap': False, 'criterion': 'entropy'}. Best is trial 24 with value: 0.8436424807973084.\u001b[0m\n"
     ]
    },
    {
     "name": "stdout",
     "output_type": "stream",
     "text": [
      "val score: 0.8380181552720117\n",
      "val std: 0.02645667948968401\n",
      "test score: 0.7870813397129187\n"
     ]
    },
    {
     "name": "stderr",
     "output_type": "stream",
     "text": [
      "\u001b[32m[I 2021-11-22 11:04:28,216]\u001b[0m Trial 82 finished with value: 0.8436424807973084 and parameters: {'n_estimators': 380, 'max_depth': 62, 'max_features': 40, 'min_samples_leaf': 1, 'min_samples_split': 10, 'bootstrap': False, 'criterion': 'entropy'}. Best is trial 24 with value: 0.8436424807973084.\u001b[0m\n"
     ]
    },
    {
     "name": "stdout",
     "output_type": "stream",
     "text": [
      "val score: 0.8436424807973084\n",
      "val std: 0.026693765289453383\n",
      "test score: 0.7870813397129187\n"
     ]
    },
    {
     "name": "stderr",
     "output_type": "stream",
     "text": [
      "\u001b[32m[I 2021-11-22 11:04:35,140]\u001b[0m Trial 83 finished with value: 0.8391417507776296 and parameters: {'n_estimators': 390, 'max_depth': 61, 'max_features': 40, 'min_samples_leaf': 1, 'min_samples_split': 10, 'bootstrap': False, 'criterion': 'entropy'}. Best is trial 24 with value: 0.8436424807973084.\u001b[0m\n"
     ]
    },
    {
     "name": "stdout",
     "output_type": "stream",
     "text": [
      "val score: 0.8391417507776296\n",
      "val std: 0.027904166797463575\n",
      "test score: 0.7822966507177034\n"
     ]
    },
    {
     "name": "stderr",
     "output_type": "stream",
     "text": [
      "\u001b[32m[I 2021-11-22 11:04:40,703]\u001b[0m Trial 84 finished with value: 0.8436488287945153 and parameters: {'n_estimators': 330, 'max_depth': 51, 'max_features': 32, 'min_samples_leaf': 1, 'min_samples_split': 10, 'bootstrap': False, 'criterion': 'entropy'}. Best is trial 84 with value: 0.8436488287945153.\u001b[0m\n"
     ]
    },
    {
     "name": "stdout",
     "output_type": "stream",
     "text": [
      "val score: 0.8436488287945153\n",
      "val std: 0.02283064057070866\n",
      "test score: 0.7918660287081339\n"
     ]
    },
    {
     "name": "stderr",
     "output_type": "stream",
     "text": [
      "\u001b[32m[I 2021-11-22 11:04:45,401]\u001b[0m Trial 85 finished with value: 0.8346473687551578 and parameters: {'n_estimators': 330, 'max_depth': 53, 'max_features': 32, 'min_samples_leaf': 1, 'min_samples_split': 10, 'bootstrap': True, 'criterion': 'entropy'}. Best is trial 84 with value: 0.8436488287945153.\u001b[0m\n"
     ]
    },
    {
     "name": "stdout",
     "output_type": "stream",
     "text": [
      "val score: 0.8346473687551578\n",
      "val std: 0.02088352732591101\n",
      "test score: 0.7918660287081339\n"
     ]
    },
    {
     "name": "stderr",
     "output_type": "stream",
     "text": [
      "\u001b[32m[I 2021-11-22 11:04:50,648]\u001b[0m Trial 86 finished with value: 0.8414079857804863 and parameters: {'n_estimators': 290, 'max_depth': 51, 'max_features': 29, 'min_samples_leaf': 1, 'min_samples_split': 10, 'bootstrap': False, 'criterion': 'entropy'}. Best is trial 84 with value: 0.8436488287945153.\u001b[0m\n"
     ]
    },
    {
     "name": "stdout",
     "output_type": "stream",
     "text": [
      "val score: 0.8414079857804863\n",
      "val std: 0.02953271284315384\n",
      "test score: 0.784688995215311\n"
     ]
    },
    {
     "name": "stderr",
     "output_type": "stream",
     "text": [
      "\u001b[32m[I 2021-11-22 11:04:59,130]\u001b[0m Trial 87 finished with value: 0.8402716942804546 and parameters: {'n_estimators': 530, 'max_depth': 64, 'max_features': 33, 'min_samples_leaf': 1, 'min_samples_split': 10, 'bootstrap': False, 'criterion': 'entropy'}. Best is trial 84 with value: 0.8436488287945153.\u001b[0m\n"
     ]
    },
    {
     "name": "stdout",
     "output_type": "stream",
     "text": [
      "val score: 0.8402716942804546\n",
      "val std: 0.027874847236013675\n",
      "test score: 0.777511961722488\n"
     ]
    },
    {
     "name": "stderr",
     "output_type": "stream",
     "text": [
      "\u001b[32m[I 2021-11-22 11:05:05,816]\u001b[0m Trial 88 finished with value: 0.8425188852916905 and parameters: {'n_estimators': 420, 'max_depth': 58, 'max_features': 32, 'min_samples_leaf': 1, 'min_samples_split': 9, 'bootstrap': False, 'criterion': 'entropy'}. Best is trial 84 with value: 0.8436488287945153.\u001b[0m\n"
     ]
    },
    {
     "name": "stdout",
     "output_type": "stream",
     "text": [
      "val score: 0.8425188852916905\n",
      "val std: 0.02512687409387401\n",
      "test score: 0.7870813397129187\n"
     ]
    },
    {
     "name": "stderr",
     "output_type": "stream",
     "text": [
      "\u001b[32m[I 2021-11-22 11:05:07,646]\u001b[0m Trial 89 finished with value: 0.6389322668698025 and parameters: {'n_estimators': 400, 'max_depth': 42, 'max_features': 31, 'min_samples_leaf': 2, 'min_samples_split': 9, 'bootstrap': False, 'criterion': 'entropy'}. Best is trial 84 with value: 0.8436488287945153.\u001b[0m\n"
     ]
    },
    {
     "name": "stdout",
     "output_type": "stream",
     "text": [
      "val score: 0.6389322668698025\n",
      "val std: 0.01265153454469214\n",
      "test score: 0.6363636363636364\n"
     ]
    },
    {
     "name": "stderr",
     "output_type": "stream",
     "text": [
      "\u001b[32m[I 2021-11-22 11:05:09,881]\u001b[0m Trial 90 finished with value: 0.6243001333079413 and parameters: {'n_estimators': 500, 'max_depth': 56, 'max_features': 32, 'min_samples_leaf': 4, 'min_samples_split': 9, 'bootstrap': False, 'criterion': 'entropy'}. Best is trial 84 with value: 0.8436488287945153.\u001b[0m\n"
     ]
    },
    {
     "name": "stdout",
     "output_type": "stream",
     "text": [
      "val score: 0.6243001333079413\n",
      "val std: 0.0038223905253524596\n",
      "test score: 0.6507177033492823\n"
     ]
    },
    {
     "name": "stderr",
     "output_type": "stream",
     "text": [
      "\u001b[32m[I 2021-11-22 11:05:16,511]\u001b[0m Trial 91 finished with value: 0.8380181552720117 and parameters: {'n_estimators': 420, 'max_depth': 46, 'max_features': 36, 'min_samples_leaf': 1, 'min_samples_split': 8, 'bootstrap': False, 'criterion': 'entropy'}. Best is trial 84 with value: 0.8436488287945153.\u001b[0m\n"
     ]
    },
    {
     "name": "stdout",
     "output_type": "stream",
     "text": [
      "val score: 0.8380181552720117\n",
      "val std: 0.022315044073016727\n",
      "test score: 0.7799043062200957\n"
     ]
    },
    {
     "name": "stderr",
     "output_type": "stream",
     "text": [
      "\u001b[32m[I 2021-11-22 11:05:24,141]\u001b[0m Trial 92 finished with value: 0.8380181552720117 and parameters: {'n_estimators': 470, 'max_depth': 58, 'max_features': 28, 'min_samples_leaf': 1, 'min_samples_split': 9, 'bootstrap': False, 'criterion': 'entropy'}. Best is trial 84 with value: 0.8436488287945153.\u001b[0m\n"
     ]
    },
    {
     "name": "stdout",
     "output_type": "stream",
     "text": [
      "val score: 0.8380181552720117\n",
      "val std: 0.02645667948968401\n",
      "test score: 0.7870813397129187\n"
     ]
    },
    {
     "name": "stderr",
     "output_type": "stream",
     "text": [
      "\u001b[32m[I 2021-11-22 11:05:31,323]\u001b[0m Trial 93 finished with value: 0.8413952897860725 and parameters: {'n_estimators': 450, 'max_depth': 65, 'max_features': 30, 'min_samples_leaf': 1, 'min_samples_split': 8, 'bootstrap': False, 'criterion': 'entropy'}. Best is trial 84 with value: 0.8436488287945153.\u001b[0m\n"
     ]
    },
    {
     "name": "stdout",
     "output_type": "stream",
     "text": [
      "val score: 0.8413952897860725\n",
      "val std: 0.02644113438639251\n",
      "test score: 0.7918660287081339\n"
     ]
    },
    {
     "name": "stderr",
     "output_type": "stream",
     "text": [
      "\u001b[32m[I 2021-11-22 11:05:33,092]\u001b[0m Trial 94 finished with value: 0.6580270424681014 and parameters: {'n_estimators': 380, 'max_depth': 54, 'max_features': 34, 'min_samples_leaf': 3, 'min_samples_split': 10, 'bootstrap': False, 'criterion': 'entropy'}. Best is trial 84 with value: 0.8436488287945153.\u001b[0m\n"
     ]
    },
    {
     "name": "stdout",
     "output_type": "stream",
     "text": [
      "val score: 0.6580270424681014\n",
      "val std: 0.01598261820214861\n",
      "test score: 0.6746411483253588\n"
     ]
    },
    {
     "name": "stderr",
     "output_type": "stream",
     "text": [
      "\u001b[32m[I 2021-11-22 11:05:38,947]\u001b[0m Trial 95 finished with value: 0.8425188852916905 and parameters: {'n_estimators': 420, 'max_depth': 51, 'max_features': 25, 'min_samples_leaf': 1, 'min_samples_split': 13, 'bootstrap': False, 'criterion': 'entropy'}. Best is trial 84 with value: 0.8436488287945153.\u001b[0m\n"
     ]
    },
    {
     "name": "stdout",
     "output_type": "stream",
     "text": [
      "val score: 0.8425188852916905\n",
      "val std: 0.02512687409387401\n",
      "test score: 0.7822966507177034\n"
     ]
    },
    {
     "name": "stderr",
     "output_type": "stream",
     "text": [
      "\u001b[32m[I 2021-11-22 11:05:44,662]\u001b[0m Trial 96 finished with value: 0.8380245032692185 and parameters: {'n_estimators': 430, 'max_depth': 50, 'max_features': 23, 'min_samples_leaf': 1, 'min_samples_split': 13, 'bootstrap': False, 'criterion': 'entropy'}. Best is trial 84 with value: 0.8436488287945153.\u001b[0m\n"
     ]
    },
    {
     "name": "stdout",
     "output_type": "stream",
     "text": [
      "val score: 0.8380245032692185\n",
      "val std: 0.025444776273321968\n",
      "test score: 0.784688995215311\n"
     ]
    },
    {
     "name": "stderr",
     "output_type": "stream",
     "text": [
      "\u001b[32m[I 2021-11-22 11:05:51,942]\u001b[0m Trial 97 finished with value: 0.8447787722973402 and parameters: {'n_estimators': 500, 'max_depth': 60, 'max_features': 27, 'min_samples_leaf': 1, 'min_samples_split': 13, 'bootstrap': False, 'criterion': 'entropy'}. Best is trial 97 with value: 0.8447787722973402.\u001b[0m\n"
     ]
    },
    {
     "name": "stdout",
     "output_type": "stream",
     "text": [
      "val score: 0.8447787722973402\n",
      "val std: 0.02312904433795378\n",
      "test score: 0.784688995215311\n"
     ]
    },
    {
     "name": "stderr",
     "output_type": "stream",
     "text": [
      "\u001b[32m[I 2021-11-22 11:05:57,483]\u001b[0m Trial 98 finished with value: 0.8335237732495397 and parameters: {'n_estimators': 490, 'max_depth': 62, 'max_features': 25, 'min_samples_leaf': 1, 'min_samples_split': 13, 'bootstrap': True, 'criterion': 'entropy'}. Best is trial 97 with value: 0.8447787722973402.\u001b[0m\n"
     ]
    },
    {
     "name": "stdout",
     "output_type": "stream",
     "text": [
      "val score: 0.8335237732495397\n",
      "val std: 0.019945776947993456\n",
      "test score: 0.7894736842105263\n"
     ]
    },
    {
     "name": "stderr",
     "output_type": "stream",
     "text": [
      "\u001b[32m[I 2021-11-22 11:06:05,799]\u001b[0m Trial 99 finished with value: 0.8380245032692185 and parameters: {'n_estimators': 550, 'max_depth': 68, 'max_features': 29, 'min_samples_leaf': 1, 'min_samples_split': 13, 'bootstrap': False, 'criterion': 'entropy'}. Best is trial 97 with value: 0.8447787722973402.\u001b[0m\n"
     ]
    },
    {
     "name": "stdout",
     "output_type": "stream",
     "text": [
      "val score: 0.8380245032692185\n",
      "val std: 0.027815163591535835\n",
      "test score: 0.7870813397129187\n"
     ]
    }
   ],
   "source": [
    "optimize = partial(objective, X=X_train, y=y_train)\n",
    "study = optuna.create_study(direction='maximize')\n",
    "# Opimization\n",
    "# Recevies the function to be optimized and the number of trials\n",
    "study.optimize(optimize, n_trials=100)"
   ]
  },
  {
   "cell_type": "code",
   "execution_count": 193,
   "id": "b21a10eb",
   "metadata": {},
   "outputs": [
    {
     "data": {
      "image/png": "[encoded data removed]",
      "text/plain": [
       "<Figure size 1080x360 with 1 Axes>"
      ]
     },
     "metadata": {
      "needs_background": "light"
     },
     "output_type": "display_data"
    }
   ],
   "source": [
    "score_board = pd.DataFrame(score_board)\n",
    "score_board = score_boad.iloc[score_board[2].sort_values(ascending=False).index]\n",
    "\n",
    "plt.subplots(figsize=(15, 5))\n",
    "sns.scatterplot(x=score_board.iloc[:, 0], y=score_boad.iloc[:,2])\n",
    "sns.regplot(x=score_board.iloc[:, 0], y=score_board.iloc[:,2])\n",
    "plt.show()"
   ]
  },
  {
   "cell_type": "code",
   "execution_count": 195,
   "id": "b6b10300",
   "metadata": {},
   "outputs": [
    {
     "data": {
      "text/html": [
       "<div>\n",
       "<style scoped>\n",
       "    .dataframe tbody tr th:only-of-type {\n",
       "        vertical-align: middle;\n",
       "    }\n",
       "\n",
       "    .dataframe tbody tr th {\n",
       "        vertical-align: top;\n",
       "    }\n",
       "\n",
       "    .dataframe thead th {\n",
       "        text-align: right;\n",
       "    }\n",
       "</style>\n",
       "<table border=\"1\" class=\"dataframe\">\n",
       "  <thead>\n",
       "    <tr style=\"text-align: right;\">\n",
       "      <th></th>\n",
       "      <th>0</th>\n",
       "      <th>1</th>\n",
       "      <th>2</th>\n",
       "    </tr>\n",
       "  </thead>\n",
       "  <tbody>\n",
       "    <tr>\n",
       "      <th>85</th>\n",
       "      <td>0.834647</td>\n",
       "      <td>0.020884</td>\n",
       "      <td>0.791866</td>\n",
       "    </tr>\n",
       "    <tr>\n",
       "      <th>42</th>\n",
       "      <td>0.842519</td>\n",
       "      <td>0.025377</td>\n",
       "      <td>0.787081</td>\n",
       "    </tr>\n",
       "    <tr>\n",
       "      <th>5</th>\n",
       "      <td>0.842519</td>\n",
       "      <td>0.027753</td>\n",
       "      <td>0.779904</td>\n",
       "    </tr>\n",
       "    <tr>\n",
       "      <th>31</th>\n",
       "      <td>0.842519</td>\n",
       "      <td>0.027753</td>\n",
       "      <td>0.784689</td>\n",
       "    </tr>\n",
       "    <tr>\n",
       "      <th>74</th>\n",
       "      <td>0.838018</td>\n",
       "      <td>0.019280</td>\n",
       "      <td>0.784689</td>\n",
       "    </tr>\n",
       "    <tr>\n",
       "      <th>98</th>\n",
       "      <td>0.833524</td>\n",
       "      <td>0.019946</td>\n",
       "      <td>0.789474</td>\n",
       "    </tr>\n",
       "    <tr>\n",
       "      <th>28</th>\n",
       "      <td>0.617546</td>\n",
       "      <td>0.000863</td>\n",
       "      <td>0.622010</td>\n",
       "    </tr>\n",
       "    <tr>\n",
       "      <th>64</th>\n",
       "      <td>0.838037</td>\n",
       "      <td>0.023834</td>\n",
       "      <td>0.787081</td>\n",
       "    </tr>\n",
       "    <tr>\n",
       "      <th>97</th>\n",
       "      <td>0.844779</td>\n",
       "      <td>0.023129</td>\n",
       "      <td>0.784689</td>\n",
       "    </tr>\n",
       "    <tr>\n",
       "      <th>22</th>\n",
       "      <td>0.840278</td>\n",
       "      <td>0.024461</td>\n",
       "      <td>0.779904</td>\n",
       "    </tr>\n",
       "    <tr>\n",
       "      <th>9</th>\n",
       "      <td>0.617546</td>\n",
       "      <td>0.000863</td>\n",
       "      <td>0.622010</td>\n",
       "    </tr>\n",
       "    <tr>\n",
       "      <th>49</th>\n",
       "      <td>0.831277</td>\n",
       "      <td>0.018750</td>\n",
       "      <td>0.789474</td>\n",
       "    </tr>\n",
       "    <tr>\n",
       "      <th>90</th>\n",
       "      <td>0.624300</td>\n",
       "      <td>0.003822</td>\n",
       "      <td>0.650718</td>\n",
       "    </tr>\n",
       "    <tr>\n",
       "      <th>53</th>\n",
       "      <td>0.841402</td>\n",
       "      <td>0.025431</td>\n",
       "      <td>0.779904</td>\n",
       "    </tr>\n",
       "    <tr>\n",
       "      <th>99</th>\n",
       "      <td>0.838025</td>\n",
       "      <td>0.027815</td>\n",
       "      <td>0.787081</td>\n",
       "    </tr>\n",
       "    <tr>\n",
       "      <th>54</th>\n",
       "      <td>0.840272</td>\n",
       "      <td>0.025261</td>\n",
       "      <td>0.787081</td>\n",
       "    </tr>\n",
       "    <tr>\n",
       "      <th>29</th>\n",
       "      <td>0.617546</td>\n",
       "      <td>0.000863</td>\n",
       "      <td>0.622010</td>\n",
       "    </tr>\n",
       "    <tr>\n",
       "      <th>91</th>\n",
       "      <td>0.838018</td>\n",
       "      <td>0.022315</td>\n",
       "      <td>0.779904</td>\n",
       "    </tr>\n",
       "    <tr>\n",
       "      <th>66</th>\n",
       "      <td>0.838031</td>\n",
       "      <td>0.022228</td>\n",
       "      <td>0.784689</td>\n",
       "    </tr>\n",
       "    <tr>\n",
       "      <th>58</th>\n",
       "      <td>0.842519</td>\n",
       "      <td>0.027753</td>\n",
       "      <td>0.779904</td>\n",
       "    </tr>\n",
       "  </tbody>\n",
       "</table>\n",
       "</div>"
      ],
      "text/plain": [
       "           0         1         2\n",
       "85  0.834647  0.020884  0.791866\n",
       "42  0.842519  0.025377  0.787081\n",
       "5   0.842519  0.027753  0.779904\n",
       "31  0.842519  0.027753  0.784689\n",
       "74  0.838018  0.019280  0.784689\n",
       "98  0.833524  0.019946  0.789474\n",
       "28  0.617546  0.000863  0.622010\n",
       "64  0.838037  0.023834  0.787081\n",
       "97  0.844779  0.023129  0.784689\n",
       "22  0.840278  0.024461  0.779904\n",
       "9   0.617546  0.000863  0.622010\n",
       "49  0.831277  0.018750  0.789474\n",
       "90  0.624300  0.003822  0.650718\n",
       "53  0.841402  0.025431  0.779904\n",
       "99  0.838025  0.027815  0.787081\n",
       "54  0.840272  0.025261  0.787081\n",
       "29  0.617546  0.000863  0.622010\n",
       "91  0.838018  0.022315  0.779904\n",
       "66  0.838031  0.022228  0.784689\n",
       "58  0.842519  0.027753  0.779904"
      ]
     },
     "execution_count": 195,
     "metadata": {},
     "output_type": "execute_result"
    }
   ],
   "source": [
    "score_board.head(20)"
   ]
  },
  {
   "cell_type": "code",
   "execution_count": null,
   "id": "1fd808c8",
   "metadata": {},
   "outputs": [],
   "source": []
  },
  {
   "cell_type": "code",
   "execution_count": null,
   "id": "78f6360e",
   "metadata": {},
   "outputs": [],
   "source": []
  },
  {
   "cell_type": "code",
   "execution_count": null,
   "id": "b5d8f9dc",
   "metadata": {},
   "outputs": [],
   "source": []
  },
  {
   "cell_type": "code",
   "execution_count": null,
   "id": "71207ee5",
   "metadata": {},
   "outputs": [],
   "source": []
  },
  {
   "cell_type": "code",
   "execution_count": null,
   "id": "31612f42",
   "metadata": {},
   "outputs": [],
   "source": []
  },
  {
   "cell_type": "code",
   "execution_count": null,
   "id": "3260b122",
   "metadata": {},
   "outputs": [],
   "source": []
  },
  {
   "cell_type": "code",
   "execution_count": null,
   "id": "8bcf846c",
   "metadata": {},
   "outputs": [],
   "source": []
  },
  {
   "cell_type": "code",
   "execution_count": null,
   "id": "89bbb8ee",
   "metadata": {},
   "outputs": [],
   "source": []
  },
  {
   "cell_type": "code",
   "execution_count": null,
   "id": "a1b18753",
   "metadata": {},
   "outputs": [],
   "source": []
  },
  {
   "cell_type": "code",
   "execution_count": null,
   "id": "739046a9",
   "metadata": {},
   "outputs": [],
   "source": []
  },
  {
   "cell_type": "code",
   "execution_count": null,
   "id": "c2982aa9",
   "metadata": {},
   "outputs": [],
   "source": []
  }
 ],
 "metadata": {
  "hide_input": false,
  "kernelspec": {
   "display_name": "Python 3",
   "language": "python",
   "name": "python3"
  },
  "language_info": {
   "codemirror_mode": {
    "name": "ipython",
    "version": 3
   },
   "file_extension": ".py",
   "mimetype": "text/x-python",
   "name": "python",
   "nbconvert_exporter": "python",
   "pygments_lexer": "ipython3",
   "version": "3.8.8"
  }
 },
 "nbformat": 4,
 "nbformat_minor": 5
}
