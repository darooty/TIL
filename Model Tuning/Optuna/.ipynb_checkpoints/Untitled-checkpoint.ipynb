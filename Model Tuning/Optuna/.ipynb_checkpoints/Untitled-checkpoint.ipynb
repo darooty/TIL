{
 "cells": [
  {
   "cell_type": "code",
   "execution_count": 186,
   "id": "limiting-vacuum",
   "metadata": {},
   "outputs": [],
   "source": [
    "import numpy as np\n",
    "import pandas as pd\n",
    "import matplotlib.pyplot as pld\n",
    "import seaborn as sns\n",
    "import optuna\n",
    "from functools import partial\n",
    "\n",
    "from sklearn.ensemble import RandomForestClassifier\n",
    "from sklearn.model_selection import KFold, StratifiedKFold, train_test_split, GridSearchCV, RandomizedSearchCV, cross_val_score\n",
    "from sklearn.model_selection import LeaveOneOut, RepeatedKFold, LeavePOut, StratifiedShuffleSplit\n",
    "from sklearn.metrics import roc_auc_score, accuracy_score"
   ]
  },
  {
   "cell_type": "code",
   "execution_count": 277,
   "id": "classified-argentina",
   "metadata": {},
   "outputs": [],
   "source": [
    "X_train, y_train = pd.read_csv('../../Data/titanic_xtrain.csv'), pd.read_csv('../../Data/titanic_ytrain.csv')\n",
    "X_test, y_test = pd.read_csv('../../Data/titanic_xtest.csv'), pd.read_csv('../../Data/titanic_ytest.csv')"
   ]
  },
  {
   "cell_type": "code",
   "execution_count": 278,
   "id": "prostate-substitute",
   "metadata": {},
   "outputs": [],
   "source": [
    "X_train = X_train.iloc[:, 1:]\n",
    "X_test = X_test.iloc[:, 1:]\n",
    "y_train = y_train.Survived\n",
    "y_test = y_test.Survived"
   ]
  },
  {
   "cell_type": "code",
   "execution_count": 279,
   "id": "trying-anniversary",
   "metadata": {},
   "outputs": [],
   "source": [
    "X_train2, X_test2, y_train2, y_test2 = train_test_split(X_train, y_train, test_size=.1, random_state=42)"
   ]
  },
  {
   "cell_type": "code",
   "execution_count": 280,
   "id": "internal-vienna",
   "metadata": {},
   "outputs": [],
   "source": [
    "X_train2.reset_index(inplace=True, drop=True)\n",
    "y_train2 = y_train2.reset_index(drop=True)"
   ]
  },
  {
   "cell_type": "code",
   "execution_count": 293,
   "id": "outer-tourist",
   "metadata": {},
   "outputs": [],
   "source": [
    "score_boad = []\n",
    "def objective(trial, X, y):\n",
    "    grid_param = {\n",
    "        'n_estimators': trial.suggest_int('n_estimators', 50, 1000, 10),\n",
    "        'max_depth': trial.suggest_int('max_depth', 2, 100),\n",
    "        'max_features': trial.suggest_int('max_features', 1, 40),\n",
    "        'min_samples_leaf': trial.suggest_int('min_samples_leaf', 1, 5),\n",
    "        'min_samples_split': trial.suggest_int('min_samples_split', 8, 13),\n",
    "        'bootstrap': trial.suggest_categorical('bootstrap', [True, False]),\n",
    "        'criterion': trial.suggest_categorical('criterion', ['entropy']),\n",
    "        'random_state': 42\n",
    "    }\n",
    "    #cv = StratifiedKFold(n_splits=5, shuffle=True, random_state=42)\n",
    "    #cv = RepeatedKFold(n_splits=5, n_repeats=10, random_state=42)\n",
    "    cv = StratifiedShuffleSplit(n_splits=5, test_size=.30, random_state=42)\n",
    "    val_scores = []\n",
    "    y_preds = 0\n",
    "    for i, (train_idx, test_idx) in enumerate(cv.split(X_train2, y_train2)):\n",
    "        xtrain, xtest = X_train2.iloc[train_idx, :], X_train2.iloc[test_idx, :]\n",
    "        ytrain, ytest = y_train2[train_idx], y_train2[test_idx]\n",
    "        model = RandomForestClassifier(**grid_param).fit(xtrain, ytrain)\n",
    "        val_score = accuracy_score(ytest, model.predict(xtest))\n",
    "        val_scores.append(val_score)\n",
    "        \n",
    "#         y_pred = model.predict_proba(X_test2)\n",
    "#         if i == 0:\n",
    "#             y_preds = y_pred\n",
    "#         else:\n",
    "#             y_pred += y_pred\n",
    "        \n",
    "    val_score = np.array(val_scores).mean()\n",
    "    #y_pred = y_preds.argmax(axis=1)\n",
    "    #test_score = accuracy_score(y_test2, y_pred)\n",
    "    model = RandomForestClassifier(**grid_param)\n",
    "    test_score = accuracy_score(y_test2, model.fit(X_train2, y_train2).predict(X_test2))\n",
    "    \n",
    "    score_boad.append((val_score, test_score))\n",
    "    print(f'val score: {val_score}')\n",
    "    print(f'test score: {test_score}')\n",
    "    return val_score"
   ]
  },
  {
   "cell_type": "code",
   "execution_count": 294,
   "id": "cross-preservation",
   "metadata": {},
   "outputs": [
    {
     "name": "stderr",
     "output_type": "stream",
     "text": [
      "\u001b[32m[I 2021-11-22 00:34:00,948]\u001b[0m A new study created in memory with name: no-name-370cf61d-0db5-4848-8b02-22689b414b47\u001b[0m\n"
     ]
    }
   ],
   "source": [
    "optimize = partial(objective, X=X_train, y=y_train)\n",
    "study = optuna.create_study(direction='maximize')"
   ]
  },
  {
   "cell_type": "code",
   "execution_count": 296,
   "id": "hearing-highway",
   "metadata": {
    "scrolled": true
   },
   "outputs": [
    {
     "name": "stderr",
     "output_type": "stream",
     "text": [
      "\u001b[32m[I 2021-11-22 00:34:45,704]\u001b[0m Trial 5 finished with value: 0.8375 and parameters: {'n_estimators': 50, 'max_depth': 6, 'max_features': 25, 'min_samples_leaf': 5, 'min_samples_split': 11, 'bootstrap': True, 'criterion': 'entropy'}. Best is trial 2 with value: 0.8441666666666666.\u001b[0m\n"
     ]
    },
    {
     "name": "stdout",
     "output_type": "stream",
     "text": [
      "val score: 0.8375\n",
      "test score: 0.8089887640449438\n"
     ]
    },
    {
     "name": "stderr",
     "output_type": "stream",
     "text": [
      "\u001b[32m[I 2021-11-22 00:34:46,734]\u001b[0m Trial 6 finished with value: 0.8358333333333334 and parameters: {'n_estimators': 90, 'max_depth': 65, 'max_features': 6, 'min_samples_leaf': 2, 'min_samples_split': 8, 'bootstrap': True, 'criterion': 'entropy'}. Best is trial 2 with value: 0.8441666666666666.\u001b[0m\n"
     ]
    },
    {
     "name": "stdout",
     "output_type": "stream",
     "text": [
      "val score: 0.8358333333333334\n",
      "test score: 0.7865168539325843\n"
     ]
    },
    {
     "name": "stderr",
     "output_type": "stream",
     "text": [
      "\u001b[32m[I 2021-11-22 00:34:49,248]\u001b[0m Trial 7 finished with value: 0.8341666666666667 and parameters: {'n_estimators': 240, 'max_depth': 37, 'max_features': 10, 'min_samples_leaf': 5, 'min_samples_split': 9, 'bootstrap': False, 'criterion': 'entropy'}. Best is trial 2 with value: 0.8441666666666666.\u001b[0m\n"
     ]
    },
    {
     "name": "stdout",
     "output_type": "stream",
     "text": [
      "val score: 0.8341666666666667\n",
      "test score: 0.7865168539325843\n"
     ]
    },
    {
     "name": "stderr",
     "output_type": "stream",
     "text": [
      "\u001b[32m[I 2021-11-22 00:34:59,500]\u001b[0m Trial 8 finished with value: 0.8416666666666666 and parameters: {'n_estimators': 740, 'max_depth': 62, 'max_features': 35, 'min_samples_leaf': 5, 'min_samples_split': 11, 'bootstrap': True, 'criterion': 'entropy'}. Best is trial 2 with value: 0.8441666666666666.\u001b[0m\n"
     ]
    },
    {
     "name": "stdout",
     "output_type": "stream",
     "text": [
      "val score: 0.8416666666666666\n",
      "test score: 0.797752808988764\n"
     ]
    },
    {
     "name": "stderr",
     "output_type": "stream",
     "text": [
      "\u001b[32m[I 2021-11-22 00:35:02,681]\u001b[0m Trial 9 finished with value: 0.8225000000000001 and parameters: {'n_estimators': 200, 'max_depth': 41, 'max_features': 34, 'min_samples_leaf': 4, 'min_samples_split': 8, 'bootstrap': False, 'criterion': 'entropy'}. Best is trial 2 with value: 0.8441666666666666.\u001b[0m\n"
     ]
    },
    {
     "name": "stdout",
     "output_type": "stream",
     "text": [
      "val score: 0.8225000000000001\n",
      "test score: 0.797752808988764\n"
     ]
    },
    {
     "name": "stderr",
     "output_type": "stream",
     "text": [
      "\u001b[32m[I 2021-11-22 00:35:06,429]\u001b[0m Trial 10 finished with value: 0.8283333333333334 and parameters: {'n_estimators': 310, 'max_depth': 91, 'max_features': 2, 'min_samples_leaf': 1, 'min_samples_split': 9, 'bootstrap': True, 'criterion': 'entropy'}. Best is trial 2 with value: 0.8441666666666666.\u001b[0m\n"
     ]
    },
    {
     "name": "stdout",
     "output_type": "stream",
     "text": [
      "val score: 0.8283333333333334\n",
      "test score: 0.797752808988764\n"
     ]
    },
    {
     "name": "stderr",
     "output_type": "stream",
     "text": [
      "\u001b[32m[I 2021-11-22 00:35:15,615]\u001b[0m Trial 11 finished with value: 0.8433333333333334 and parameters: {'n_estimators': 580, 'max_depth': 75, 'max_features': 40, 'min_samples_leaf': 4, 'min_samples_split': 12, 'bootstrap': True, 'criterion': 'entropy'}. Best is trial 2 with value: 0.8441666666666666.\u001b[0m\n"
     ]
    },
    {
     "name": "stdout",
     "output_type": "stream",
     "text": [
      "val score: 0.8433333333333334\n",
      "test score: 0.8202247191011236\n"
     ]
    },
    {
     "name": "stderr",
     "output_type": "stream",
     "text": [
      "\u001b[32m[I 2021-11-22 00:35:23,716]\u001b[0m Trial 12 finished with value: 0.8441666666666666 and parameters: {'n_estimators': 550, 'max_depth': 77, 'max_features': 39, 'min_samples_leaf': 4, 'min_samples_split': 12, 'bootstrap': True, 'criterion': 'entropy'}. Best is trial 2 with value: 0.8441666666666666.\u001b[0m\n"
     ]
    },
    {
     "name": "stdout",
     "output_type": "stream",
     "text": [
      "val score: 0.8441666666666666\n",
      "test score: 0.8089887640449438\n"
     ]
    },
    {
     "name": "stderr",
     "output_type": "stream",
     "text": [
      "\u001b[32m[I 2021-11-22 00:35:35,430]\u001b[0m Trial 13 finished with value: 0.8433333333333334 and parameters: {'n_estimators': 980, 'max_depth': 84, 'max_features': 20, 'min_samples_leaf': 4, 'min_samples_split': 12, 'bootstrap': True, 'criterion': 'entropy'}. Best is trial 2 with value: 0.8441666666666666.\u001b[0m\n"
     ]
    },
    {
     "name": "stdout",
     "output_type": "stream",
     "text": [
      "val score: 0.8433333333333334\n",
      "test score: 0.797752808988764\n"
     ]
    },
    {
     "name": "stderr",
     "output_type": "stream",
     "text": [
      "\u001b[32m[I 2021-11-22 00:35:42,486]\u001b[0m Trial 14 finished with value: 0.8416666666666666 and parameters: {'n_estimators': 520, 'max_depth': 73, 'max_features': 30, 'min_samples_leaf': 3, 'min_samples_split': 12, 'bootstrap': True, 'criterion': 'entropy'}. Best is trial 2 with value: 0.8441666666666666.\u001b[0m\n"
     ]
    },
    {
     "name": "stdout",
     "output_type": "stream",
     "text": [
      "val score: 0.8416666666666666\n",
      "test score: 0.8089887640449438\n"
     ]
    },
    {
     "name": "stderr",
     "output_type": "stream",
     "text": [
      "\u001b[32m[I 2021-11-22 00:35:50,426]\u001b[0m Trial 15 finished with value: 0.8466666666666667 and parameters: {'n_estimators': 540, 'max_depth': 42, 'max_features': 40, 'min_samples_leaf': 5, 'min_samples_split': 10, 'bootstrap': True, 'criterion': 'entropy'}. Best is trial 15 with value: 0.8466666666666667.\u001b[0m\n"
     ]
    },
    {
     "name": "stdout",
     "output_type": "stream",
     "text": [
      "val score: 0.8466666666666667\n",
      "test score: 0.8089887640449438\n"
     ]
    },
    {
     "name": "stderr",
     "output_type": "stream",
     "text": [
      "\u001b[32m[I 2021-11-22 00:36:02,628]\u001b[0m Trial 16 finished with value: 0.8416666666666666 and parameters: {'n_estimators': 1000, 'max_depth': 23, 'max_features': 22, 'min_samples_leaf': 5, 'min_samples_split': 10, 'bootstrap': True, 'criterion': 'entropy'}. Best is trial 15 with value: 0.8466666666666667.\u001b[0m\n"
     ]
    },
    {
     "name": "stdout",
     "output_type": "stream",
     "text": [
      "val score: 0.8416666666666666\n",
      "test score: 0.797752808988764\n"
     ]
    },
    {
     "name": "stderr",
     "output_type": "stream",
     "text": [
      "\u001b[32m[I 2021-11-22 00:36:10,292]\u001b[0m Trial 17 finished with value: 0.8408333333333333 and parameters: {'n_estimators': 660, 'max_depth': 44, 'max_features': 18, 'min_samples_leaf': 5, 'min_samples_split': 10, 'bootstrap': True, 'criterion': 'entropy'}. Best is trial 15 with value: 0.8466666666666667.\u001b[0m\n"
     ]
    },
    {
     "name": "stdout",
     "output_type": "stream",
     "text": [
      "val score: 0.8408333333333333\n",
      "test score: 0.797752808988764\n"
     ]
    },
    {
     "name": "stderr",
     "output_type": "stream",
     "text": [
      "\u001b[32m[I 2021-11-22 00:36:16,414]\u001b[0m Trial 18 finished with value: 0.8424999999999999 and parameters: {'n_estimators': 440, 'max_depth': 26, 'max_features': 31, 'min_samples_leaf': 3, 'min_samples_split': 11, 'bootstrap': True, 'criterion': 'entropy'}. Best is trial 15 with value: 0.8466666666666667.\u001b[0m\n"
     ]
    },
    {
     "name": "stdout",
     "output_type": "stream",
     "text": [
      "val score: 0.8424999999999999\n",
      "test score: 0.8089887640449438\n"
     ]
    },
    {
     "name": "stderr",
     "output_type": "stream",
     "text": [
      "\u001b[32m[I 2021-11-22 00:36:28,135]\u001b[0m Trial 19 finished with value: 0.8266666666666668 and parameters: {'n_estimators': 880, 'max_depth': 28, 'max_features': 25, 'min_samples_leaf': 5, 'min_samples_split': 10, 'bootstrap': False, 'criterion': 'entropy'}. Best is trial 15 with value: 0.8466666666666667.\u001b[0m\n"
     ]
    },
    {
     "name": "stdout",
     "output_type": "stream",
     "text": [
      "val score: 0.8266666666666668\n",
      "test score: 0.7640449438202247\n"
     ]
    },
    {
     "name": "stderr",
     "output_type": "stream",
     "text": [
      "\u001b[32m[I 2021-11-22 00:36:38,334]\u001b[0m Trial 20 finished with value: 0.8441666666666666 and parameters: {'n_estimators': 690, 'max_depth': 49, 'max_features': 36, 'min_samples_leaf': 3, 'min_samples_split': 9, 'bootstrap': True, 'criterion': 'entropy'}. Best is trial 15 with value: 0.8466666666666667.\u001b[0m\n"
     ]
    },
    {
     "name": "stdout",
     "output_type": "stream",
     "text": [
      "val score: 0.8441666666666666\n",
      "test score: 0.8202247191011236\n"
     ]
    },
    {
     "name": "stderr",
     "output_type": "stream",
     "text": [
      "\u001b[32m[I 2021-11-22 00:36:48,997]\u001b[0m Trial 21 finished with value: 0.8433333333333334 and parameters: {'n_estimators': 710, 'max_depth': 48, 'max_features': 36, 'min_samples_leaf': 2, 'min_samples_split': 9, 'bootstrap': True, 'criterion': 'entropy'}. Best is trial 15 with value: 0.8466666666666667.\u001b[0m\n"
     ]
    },
    {
     "name": "stdout",
     "output_type": "stream",
     "text": [
      "val score: 0.8433333333333334\n",
      "test score: 0.8202247191011236\n"
     ]
    },
    {
     "name": "stderr",
     "output_type": "stream",
     "text": [
      "\u001b[32m[I 2021-11-22 00:36:55,744]\u001b[0m Trial 22 finished with value: 0.8441666666666666 and parameters: {'n_estimators': 460, 'max_depth': 76, 'max_features': 38, 'min_samples_leaf': 4, 'min_samples_split': 12, 'bootstrap': True, 'criterion': 'entropy'}. Best is trial 15 with value: 0.8466666666666667.\u001b[0m\n"
     ]
    },
    {
     "name": "stdout",
     "output_type": "stream",
     "text": [
      "val score: 0.8441666666666666\n",
      "test score: 0.8089887640449438\n"
     ]
    },
    {
     "name": "stderr",
     "output_type": "stream",
     "text": [
      "\u001b[32m[I 2021-11-22 00:37:03,346]\u001b[0m Trial 23 finished with value: 0.8441666666666666 and parameters: {'n_estimators': 470, 'max_depth': 53, 'max_features': 37, 'min_samples_leaf': 3, 'min_samples_split': 9, 'bootstrap': True, 'criterion': 'entropy'}. Best is trial 15 with value: 0.8466666666666667.\u001b[0m\n"
     ]
    },
    {
     "name": "stdout",
     "output_type": "stream",
     "text": [
      "val score: 0.8441666666666666\n",
      "test score: 0.8202247191011236\n"
     ]
    },
    {
     "name": "stderr",
     "output_type": "stream",
     "text": [
      "\u001b[32m[I 2021-11-22 00:37:12,739]\u001b[0m Trial 24 finished with value: 0.845 and parameters: {'n_estimators': 620, 'max_depth': 34, 'max_features': 40, 'min_samples_leaf': 4, 'min_samples_split': 10, 'bootstrap': True, 'criterion': 'entropy'}. Best is trial 15 with value: 0.8466666666666667.\u001b[0m\n"
     ]
    },
    {
     "name": "stdout",
     "output_type": "stream",
     "text": [
      "val score: 0.845\n",
      "test score: 0.8202247191011236\n"
     ]
    },
    {
     "name": "stderr",
     "output_type": "stream",
     "text": [
      "\u001b[32m[I 2021-11-22 00:37:18,574]\u001b[0m Trial 25 finished with value: 0.8416666666666666 and parameters: {'n_estimators': 420, 'max_depth': 17, 'max_features': 32, 'min_samples_leaf': 4, 'min_samples_split': 10, 'bootstrap': True, 'criterion': 'entropy'}. Best is trial 15 with value: 0.8466666666666667.\u001b[0m\n"
     ]
    },
    {
     "name": "stdout",
     "output_type": "stream",
     "text": [
      "val score: 0.8416666666666666\n",
      "test score: 0.797752808988764\n"
     ]
    },
    {
     "name": "stderr",
     "output_type": "stream",
     "text": [
      "\u001b[32m[I 2021-11-22 00:37:27,726]\u001b[0m Trial 26 finished with value: 0.8433333333333334 and parameters: {'n_estimators': 600, 'max_depth': 35, 'max_features': 40, 'min_samples_leaf': 3, 'min_samples_split': 9, 'bootstrap': True, 'criterion': 'entropy'}. Best is trial 15 with value: 0.8466666666666667.\u001b[0m\n"
     ]
    },
    {
     "name": "stdout",
     "output_type": "stream",
     "text": [
      "val score: 0.8433333333333334\n",
      "test score: 0.8202247191011236\n"
     ]
    },
    {
     "name": "stderr",
     "output_type": "stream",
     "text": [
      "\u001b[32m[I 2021-11-22 00:37:39,489]\u001b[0m Trial 27 finished with value: 0.8275 and parameters: {'n_estimators': 900, 'max_depth': 9, 'max_features': 27, 'min_samples_leaf': 5, 'min_samples_split': 11, 'bootstrap': False, 'criterion': 'entropy'}. Best is trial 15 with value: 0.8466666666666667.\u001b[0m\n"
     ]
    },
    {
     "name": "stdout",
     "output_type": "stream",
     "text": [
      "val score: 0.8275\n",
      "test score: 0.797752808988764\n"
     ]
    },
    {
     "name": "stderr",
     "output_type": "stream",
     "text": [
      "\u001b[32m[I 2021-11-22 00:37:44,959]\u001b[0m Trial 28 finished with value: 0.8441666666666666 and parameters: {'n_estimators': 390, 'max_depth': 33, 'max_features': 33, 'min_samples_leaf': 4, 'min_samples_split': 10, 'bootstrap': True, 'criterion': 'entropy'}. Best is trial 15 with value: 0.8466666666666667.\u001b[0m\n"
     ]
    },
    {
     "name": "stdout",
     "output_type": "stream",
     "text": [
      "val score: 0.8441666666666666\n",
      "test score: 0.8089887640449438\n"
     ]
    },
    {
     "name": "stderr",
     "output_type": "stream",
     "text": [
      "\u001b[32m[I 2021-11-22 00:37:50,358]\u001b[0m Trial 29 finished with value: 0.8441666666666666 and parameters: {'n_estimators': 380, 'max_depth': 34, 'max_features': 33, 'min_samples_leaf': 4, 'min_samples_split': 10, 'bootstrap': True, 'criterion': 'entropy'}. Best is trial 15 with value: 0.8466666666666667.\u001b[0m\n"
     ]
    },
    {
     "name": "stdout",
     "output_type": "stream",
     "text": [
      "val score: 0.8441666666666666\n",
      "test score: 0.8202247191011236\n"
     ]
    },
    {
     "name": "stderr",
     "output_type": "stream",
     "text": [
      "\u001b[32m[I 2021-11-22 00:37:58,983]\u001b[0m Trial 30 finished with value: 0.8049999999999999 and parameters: {'n_estimators': 510, 'max_depth': 58, 'max_features': 37, 'min_samples_leaf': 3, 'min_samples_split': 9, 'bootstrap': False, 'criterion': 'entropy'}. Best is trial 15 with value: 0.8466666666666667.\u001b[0m\n"
     ]
    },
    {
     "name": "stdout",
     "output_type": "stream",
     "text": [
      "val score: 0.8049999999999999\n",
      "test score: 0.7752808988764045\n"
     ]
    },
    {
     "name": "stderr",
     "output_type": "stream",
     "text": [
      "\u001b[32m[I 2021-11-22 00:38:09,158]\u001b[0m Trial 31 finished with value: 0.8441666666666666 and parameters: {'n_estimators': 780, 'max_depth': 69, 'max_features': 29, 'min_samples_leaf': 5, 'min_samples_split': 13, 'bootstrap': True, 'criterion': 'entropy'}. Best is trial 15 with value: 0.8466666666666667.\u001b[0m\n"
     ]
    },
    {
     "name": "stdout",
     "output_type": "stream",
     "text": [
      "val score: 0.8441666666666666\n",
      "test score: 0.797752808988764\n"
     ]
    },
    {
     "name": "stderr",
     "output_type": "stream",
     "text": [
      "\u001b[32m[I 2021-11-22 00:38:17,783]\u001b[0m Trial 32 finished with value: 0.8433333333333334 and parameters: {'n_estimators': 640, 'max_depth': 17, 'max_features': 29, 'min_samples_leaf': 4, 'min_samples_split': 13, 'bootstrap': True, 'criterion': 'entropy'}. Best is trial 15 with value: 0.8466666666666667.\u001b[0m\n"
     ]
    },
    {
     "name": "stdout",
     "output_type": "stream",
     "text": [
      "val score: 0.8433333333333334\n",
      "test score: 0.797752808988764\n"
     ]
    },
    {
     "name": "stderr",
     "output_type": "stream",
     "text": [
      "\u001b[32m[I 2021-11-22 00:38:23,580]\u001b[0m Trial 33 finished with value: 0.8441666666666666 and parameters: {'n_estimators': 390, 'max_depth': 42, 'max_features': 38, 'min_samples_leaf': 4, 'min_samples_split': 10, 'bootstrap': True, 'criterion': 'entropy'}. Best is trial 15 with value: 0.8466666666666667.\u001b[0m\n"
     ]
    },
    {
     "name": "stdout",
     "output_type": "stream",
     "text": [
      "val score: 0.8441666666666666\n",
      "test score: 0.8089887640449438\n"
     ]
    },
    {
     "name": "stderr",
     "output_type": "stream",
     "text": [
      "\u001b[32m[I 2021-11-22 00:38:34,921]\u001b[0m Trial 34 finished with value: 0.8475000000000001 and parameters: {'n_estimators': 770, 'max_depth': 42, 'max_features': 40, 'min_samples_leaf': 5, 'min_samples_split': 11, 'bootstrap': True, 'criterion': 'entropy'}. Best is trial 34 with value: 0.8475000000000001.\u001b[0m\n"
     ]
    },
    {
     "name": "stdout",
     "output_type": "stream",
     "text": [
      "val score: 0.8475000000000001\n",
      "test score: 0.8089887640449438\n"
     ]
    },
    {
     "name": "stderr",
     "output_type": "stream",
     "text": [
      "\u001b[32m[I 2021-11-22 00:38:47,231]\u001b[0m Trial 35 finished with value: 0.8416666666666666 and parameters: {'n_estimators': 790, 'max_depth': 50, 'max_features': 40, 'min_samples_leaf': 2, 'min_samples_split': 11, 'bootstrap': True, 'criterion': 'entropy'}. Best is trial 34 with value: 0.8475000000000001.\u001b[0m\n"
     ]
    },
    {
     "name": "stdout",
     "output_type": "stream",
     "text": [
      "val score: 0.8416666666666666\n",
      "test score: 0.8202247191011236\n"
     ]
    },
    {
     "name": "stderr",
     "output_type": "stream",
     "text": [
      "\u001b[32m[I 2021-11-22 00:38:54,262]\u001b[0m Trial 36 finished with value: 0.8474999999999999 and parameters: {'n_estimators': 480, 'max_depth': 55, 'max_features': 38, 'min_samples_leaf': 5, 'min_samples_split': 11, 'bootstrap': True, 'criterion': 'entropy'}. Best is trial 34 with value: 0.8475000000000001.\u001b[0m\n"
     ]
    },
    {
     "name": "stdout",
     "output_type": "stream",
     "text": [
      "val score: 0.8474999999999999\n",
      "test score: 0.797752808988764\n"
     ]
    },
    {
     "name": "stderr",
     "output_type": "stream",
     "text": [
      "\u001b[32m[I 2021-11-22 00:39:03,065]\u001b[0m Trial 37 finished with value: 0.8416666666666666 and parameters: {'n_estimators': 620, 'max_depth': 53, 'max_features': 35, 'min_samples_leaf': 5, 'min_samples_split': 11, 'bootstrap': True, 'criterion': 'entropy'}. Best is trial 34 with value: 0.8475000000000001.\u001b[0m\n"
     ]
    },
    {
     "name": "stdout",
     "output_type": "stream",
     "text": [
      "val score: 0.8416666666666666\n",
      "test score: 0.797752808988764\n"
     ]
    },
    {
     "name": "stderr",
     "output_type": "stream",
     "text": [
      "\u001b[32m[I 2021-11-22 00:39:08,904]\u001b[0m Trial 38 finished with value: 0.8383333333333333 and parameters: {'n_estimators': 570, 'max_depth': 58, 'max_features': 12, 'min_samples_leaf': 5, 'min_samples_split': 11, 'bootstrap': False, 'criterion': 'entropy'}. Best is trial 34 with value: 0.8475000000000001.\u001b[0m\n"
     ]
    },
    {
     "name": "stdout",
     "output_type": "stream",
     "text": [
      "val score: 0.8383333333333333\n",
      "test score: 0.7752808988764045\n"
     ]
    },
    {
     "name": "stderr",
     "output_type": "stream",
     "text": [
      "\u001b[32m[I 2021-11-22 00:39:20,369]\u001b[0m Trial 39 finished with value: 0.8458333333333334 and parameters: {'n_estimators': 760, 'max_depth': 39, 'max_features': 40, 'min_samples_leaf': 5, 'min_samples_split': 11, 'bootstrap': True, 'criterion': 'entropy'}. Best is trial 34 with value: 0.8475000000000001.\u001b[0m\n"
     ]
    },
    {
     "name": "stdout",
     "output_type": "stream",
     "text": [
      "val score: 0.8458333333333334\n",
      "test score: 0.8089887640449438\n"
     ]
    },
    {
     "name": "stderr",
     "output_type": "stream",
     "text": [
      "\u001b[32m[I 2021-11-22 00:39:30,843]\u001b[0m Trial 40 finished with value: 0.8433333333333334 and parameters: {'n_estimators': 750, 'max_depth': 43, 'max_features': 34, 'min_samples_leaf': 5, 'min_samples_split': 11, 'bootstrap': True, 'criterion': 'entropy'}. Best is trial 34 with value: 0.8475000000000001.\u001b[0m\n"
     ]
    },
    {
     "name": "stdout",
     "output_type": "stream",
     "text": [
      "val score: 0.8433333333333334\n",
      "test score: 0.797752808988764\n"
     ]
    },
    {
     "name": "stderr",
     "output_type": "stream",
     "text": [
      "\u001b[32m[I 2021-11-22 00:39:44,618]\u001b[0m Trial 41 finished with value: 0.8191666666666666 and parameters: {'n_estimators': 830, 'max_depth': 61, 'max_features': 38, 'min_samples_leaf': 5, 'min_samples_split': 11, 'bootstrap': False, 'criterion': 'entropy'}. Best is trial 34 with value: 0.8475000000000001.\u001b[0m\n"
     ]
    },
    {
     "name": "stdout",
     "output_type": "stream",
     "text": [
      "val score: 0.8191666666666666\n",
      "test score: 0.7752808988764045\n"
     ]
    },
    {
     "name": "stderr",
     "output_type": "stream",
     "text": [
      "\u001b[32m[I 2021-11-22 00:39:54,840]\u001b[0m Trial 42 finished with value: 0.845 and parameters: {'n_estimators': 680, 'max_depth': 38, 'max_features': 40, 'min_samples_leaf': 5, 'min_samples_split': 10, 'bootstrap': True, 'criterion': 'entropy'}. Best is trial 34 with value: 0.8475000000000001.\u001b[0m\n"
     ]
    },
    {
     "name": "stdout",
     "output_type": "stream",
     "text": [
      "val score: 0.845\n",
      "test score: 0.8089887640449438\n"
     ]
    },
    {
     "name": "stderr",
     "output_type": "stream",
     "text": [
      "\u001b[32m[I 2021-11-22 00:40:05,645]\u001b[0m Trial 43 finished with value: 0.8441666666666666 and parameters: {'n_estimators': 710, 'max_depth': 39, 'max_features': 36, 'min_samples_leaf': 5, 'min_samples_split': 11, 'bootstrap': True, 'criterion': 'entropy'}. Best is trial 34 with value: 0.8475000000000001.\u001b[0m\n"
     ]
    },
    {
     "name": "stdout",
     "output_type": "stream",
     "text": [
      "val score: 0.8441666666666666\n",
      "test score: 0.8202247191011236\n"
     ]
    },
    {
     "name": "stderr",
     "output_type": "stream",
     "text": [
      "\u001b[32m[I 2021-11-22 00:40:18,591]\u001b[0m Trial 44 finished with value: 0.8483333333333334 and parameters: {'n_estimators': 840, 'max_depth': 29, 'max_features': 38, 'min_samples_leaf': 5, 'min_samples_split': 11, 'bootstrap': True, 'criterion': 'entropy'}. Best is trial 44 with value: 0.8483333333333334.\u001b[0m\n"
     ]
    },
    {
     "name": "stdout",
     "output_type": "stream",
     "text": [
      "val score: 0.8483333333333334\n",
      "test score: 0.8089887640449438\n"
     ]
    },
    {
     "name": "stderr",
     "output_type": "stream",
     "text": [
      "\u001b[32m[I 2021-11-22 00:40:32,291]\u001b[0m Trial 45 finished with value: 0.8474999999999999 and parameters: {'n_estimators': 920, 'max_depth': 28, 'max_features': 38, 'min_samples_leaf': 5, 'min_samples_split': 11, 'bootstrap': True, 'criterion': 'entropy'}. Best is trial 44 with value: 0.8483333333333334.\u001b[0m\n"
     ]
    },
    {
     "name": "stdout",
     "output_type": "stream",
     "text": [
      "val score: 0.8474999999999999\n",
      "test score: 0.8089887640449438\n"
     ]
    },
    {
     "name": "stderr",
     "output_type": "stream",
     "text": [
      "\u001b[32m[I 2021-11-22 00:40:46,401]\u001b[0m Trial 46 finished with value: 0.8458333333333332 and parameters: {'n_estimators': 930, 'max_depth': 29, 'max_features': 32, 'min_samples_leaf': 1, 'min_samples_split': 12, 'bootstrap': True, 'criterion': 'entropy'}. Best is trial 44 with value: 0.8483333333333334.\u001b[0m\n"
     ]
    },
    {
     "name": "stdout",
     "output_type": "stream",
     "text": [
      "val score: 0.8458333333333332\n",
      "test score: 0.8089887640449438\n"
     ]
    },
    {
     "name": "stderr",
     "output_type": "stream",
     "text": [
      "\u001b[32m[I 2021-11-22 00:40:59,704]\u001b[0m Trial 47 finished with value: 0.8408333333333333 and parameters: {'n_estimators': 930, 'max_depth': 21, 'max_features': 35, 'min_samples_leaf': 5, 'min_samples_split': 11, 'bootstrap': True, 'criterion': 'entropy'}. Best is trial 44 with value: 0.8483333333333334.\u001b[0m\n"
     ]
    },
    {
     "name": "stdout",
     "output_type": "stream",
     "text": [
      "val score: 0.8408333333333333\n",
      "test score: 0.797752808988764\n"
     ]
    },
    {
     "name": "stderr",
     "output_type": "stream",
     "text": [
      "\u001b[32m[I 2021-11-22 00:41:12,379]\u001b[0m Trial 48 finished with value: 0.8483333333333333 and parameters: {'n_estimators': 860, 'max_depth': 46, 'max_features': 38, 'min_samples_leaf': 5, 'min_samples_split': 12, 'bootstrap': True, 'criterion': 'entropy'}. Best is trial 44 with value: 0.8483333333333334.\u001b[0m\n"
     ]
    },
    {
     "name": "stdout",
     "output_type": "stream",
     "text": [
      "val score: 0.8483333333333333\n",
      "test score: 0.8089887640449438\n"
     ]
    },
    {
     "name": "stderr",
     "output_type": "stream",
     "text": [
      "\u001b[32m[I 2021-11-22 00:41:24,493]\u001b[0m Trial 49 finished with value: 0.8466666666666667 and parameters: {'n_estimators': 830, 'max_depth': 64, 'max_features': 38, 'min_samples_leaf': 5, 'min_samples_split': 12, 'bootstrap': True, 'criterion': 'entropy'}. Best is trial 44 with value: 0.8483333333333334.\u001b[0m\n"
     ]
    },
    {
     "name": "stdout",
     "output_type": "stream",
     "text": [
      "val score: 0.8466666666666667\n",
      "test score: 0.8089887640449438\n"
     ]
    },
    {
     "name": "stderr",
     "output_type": "stream",
     "text": [
      "\u001b[32m[I 2021-11-22 00:41:32,871]\u001b[0m Trial 50 finished with value: 0.7816666666666667 and parameters: {'n_estimators': 970, 'max_depth': 14, 'max_features': 1, 'min_samples_leaf': 5, 'min_samples_split': 12, 'bootstrap': True, 'criterion': 'entropy'}. Best is trial 44 with value: 0.8483333333333334.\u001b[0m\n"
     ]
    },
    {
     "name": "stdout",
     "output_type": "stream",
     "text": [
      "val score: 0.7816666666666667\n",
      "test score: 0.797752808988764\n"
     ]
    },
    {
     "name": "stderr",
     "output_type": "stream",
     "text": [
      "\u001b[32m[I 2021-11-22 00:41:41,078]\u001b[0m Trial 51 finished with value: 0.8300000000000001 and parameters: {'n_estimators': 860, 'max_depth': 45, 'max_features': 5, 'min_samples_leaf': 5, 'min_samples_split': 12, 'bootstrap': True, 'criterion': 'entropy'}. Best is trial 44 with value: 0.8483333333333334.\u001b[0m\n"
     ]
    },
    {
     "name": "stdout",
     "output_type": "stream",
     "text": [
      "val score: 0.8300000000000001\n",
      "test score: 0.8314606741573034\n"
     ]
    },
    {
     "name": "stderr",
     "output_type": "stream",
     "text": [
      "\u001b[32m[I 2021-11-22 00:41:53,009]\u001b[0m Trial 52 finished with value: 0.8466666666666667 and parameters: {'n_estimators': 820, 'max_depth': 67, 'max_features': 38, 'min_samples_leaf': 5, 'min_samples_split': 12, 'bootstrap': True, 'criterion': 'entropy'}. Best is trial 44 with value: 0.8483333333333334.\u001b[0m\n"
     ]
    },
    {
     "name": "stdout",
     "output_type": "stream",
     "text": [
      "val score: 0.8466666666666667\n",
      "test score: 0.8089887640449438\n"
     ]
    },
    {
     "name": "stderr",
     "output_type": "stream",
     "text": [
      "\u001b[32m[I 2021-11-22 00:42:04,152]\u001b[0m Trial 53 finished with value: 0.8483333333333333 and parameters: {'n_estimators': 800, 'max_depth': 67, 'max_features': 34, 'min_samples_leaf': 5, 'min_samples_split': 13, 'bootstrap': True, 'criterion': 'entropy'}. Best is trial 44 with value: 0.8483333333333334.\u001b[0m\n"
     ]
    },
    {
     "name": "stdout",
     "output_type": "stream",
     "text": [
      "val score: 0.8483333333333333\n",
      "test score: 0.797752808988764\n"
     ]
    },
    {
     "name": "stderr",
     "output_type": "stream",
     "text": [
      "\u001b[32m[I 2021-11-22 00:42:17,382]\u001b[0m Trial 54 finished with value: 0.8466666666666667 and parameters: {'n_estimators': 940, 'max_depth': 85, 'max_features': 34, 'min_samples_leaf': 5, 'min_samples_split': 13, 'bootstrap': True, 'criterion': 'entropy'}. Best is trial 44 with value: 0.8483333333333334.\u001b[0m\n"
     ]
    },
    {
     "name": "stdout",
     "output_type": "stream",
     "text": [
      "val score: 0.8466666666666667\n",
      "test score: 0.797752808988764\n"
     ]
    },
    {
     "name": "stderr",
     "output_type": "stream",
     "text": [
      "\u001b[32m[I 2021-11-22 00:42:29,861]\u001b[0m Trial 55 finished with value: 0.8458333333333334 and parameters: {'n_estimators': 890, 'max_depth': 56, 'max_features': 36, 'min_samples_leaf': 5, 'min_samples_split': 13, 'bootstrap': True, 'criterion': 'entropy'}. Best is trial 44 with value: 0.8483333333333334.\u001b[0m\n"
     ]
    },
    {
     "name": "stdout",
     "output_type": "stream",
     "text": [
      "val score: 0.8458333333333334\n",
      "test score: 0.797752808988764\n"
     ]
    },
    {
     "name": "stderr",
     "output_type": "stream",
     "text": [
      "\u001b[32m[I 2021-11-22 00:42:40,554]\u001b[0m Trial 56 finished with value: 0.8474999999999999 and parameters: {'n_estimators': 790, 'max_depth': 30, 'max_features': 31, 'min_samples_leaf': 5, 'min_samples_split': 13, 'bootstrap': True, 'criterion': 'entropy'}. Best is trial 44 with value: 0.8483333333333334.\u001b[0m\n"
     ]
    },
    {
     "name": "stdout",
     "output_type": "stream",
     "text": [
      "val score: 0.8474999999999999\n",
      "test score: 0.8089887640449438\n"
     ]
    },
    {
     "name": "stderr",
     "output_type": "stream",
     "text": [
      "\u001b[32m[I 2021-11-22 00:42:51,011]\u001b[0m Trial 57 finished with value: 0.8400000000000001 and parameters: {'n_estimators': 810, 'max_depth': 30, 'max_features': 24, 'min_samples_leaf': 4, 'min_samples_split': 13, 'bootstrap': True, 'criterion': 'entropy'}. Best is trial 44 with value: 0.8483333333333334.\u001b[0m\n"
     ]
    },
    {
     "name": "stdout",
     "output_type": "stream",
     "text": [
      "val score: 0.8400000000000001\n",
      "test score: 0.797752808988764\n"
     ]
    },
    {
     "name": "stderr",
     "output_type": "stream",
     "text": [
      "\u001b[32m[I 2021-11-22 00:43:03,718]\u001b[0m Trial 58 finished with value: 0.8241666666666667 and parameters: {'n_estimators': 860, 'max_depth': 47, 'max_features': 31, 'min_samples_leaf': 5, 'min_samples_split': 13, 'bootstrap': False, 'criterion': 'entropy'}. Best is trial 44 with value: 0.8483333333333334.\u001b[0m\n"
     ]
    },
    {
     "name": "stdout",
     "output_type": "stream",
     "text": [
      "val score: 0.8241666666666667\n",
      "test score: 0.8089887640449438\n"
     ]
    },
    {
     "name": "stderr",
     "output_type": "stream",
     "text": [
      "\u001b[32m[I 2021-11-22 00:43:13,927]\u001b[0m Trial 59 finished with value: 0.8391666666666667 and parameters: {'n_estimators': 910, 'max_depth': 99, 'max_features': 15, 'min_samples_leaf': 5, 'min_samples_split': 12, 'bootstrap': True, 'criterion': 'entropy'}. Best is trial 44 with value: 0.8483333333333334.\u001b[0m\n"
     ]
    },
    {
     "name": "stdout",
     "output_type": "stream",
     "text": [
      "val score: 0.8391666666666667\n",
      "test score: 0.8089887640449438\n"
     ]
    },
    {
     "name": "stderr",
     "output_type": "stream",
     "text": [
      "\u001b[32m[I 2021-11-22 00:43:18,200]\u001b[0m Trial 60 finished with value: 0.8474999999999999 and parameters: {'n_estimators': 300, 'max_depth': 22, 'max_features': 35, 'min_samples_leaf': 4, 'min_samples_split': 13, 'bootstrap': True, 'criterion': 'entropy'}. Best is trial 44 with value: 0.8483333333333334.\u001b[0m\n"
     ]
    },
    {
     "name": "stdout",
     "output_type": "stream",
     "text": [
      "val score: 0.8474999999999999\n",
      "test score: 0.797752808988764\n"
     ]
    },
    {
     "name": "stderr",
     "output_type": "stream",
     "text": [
      "\u001b[32m[I 2021-11-22 00:43:21,159]\u001b[0m Trial 61 finished with value: 0.8441666666666666 and parameters: {'n_estimators': 210, 'max_depth': 25, 'max_features': 34, 'min_samples_leaf': 4, 'min_samples_split': 13, 'bootstrap': True, 'criterion': 'entropy'}. Best is trial 44 with value: 0.8483333333333334.\u001b[0m\n"
     ]
    },
    {
     "name": "stdout",
     "output_type": "stream",
     "text": [
      "val score: 0.8441666666666666\n",
      "test score: 0.8089887640449438\n"
     ]
    },
    {
     "name": "stderr",
     "output_type": "stream",
     "text": [
      "\u001b[32m[I 2021-11-22 00:43:23,315]\u001b[0m Trial 62 finished with value: 0.8433333333333334 and parameters: {'n_estimators': 150, 'max_depth': 20, 'max_features': 36, 'min_samples_leaf': 5, 'min_samples_split': 13, 'bootstrap': True, 'criterion': 'entropy'}. Best is trial 44 with value: 0.8483333333333334.\u001b[0m\n"
     ]
    },
    {
     "name": "stdout",
     "output_type": "stream",
     "text": [
      "val score: 0.8433333333333334\n",
      "test score: 0.7865168539325843\n"
     ]
    },
    {
     "name": "stderr",
     "output_type": "stream",
     "text": [
      "\u001b[32m[I 2021-11-22 00:43:26,797]\u001b[0m Trial 63 finished with value: 0.8233333333333335 and parameters: {'n_estimators': 340, 'max_depth': 2, 'max_features': 32, 'min_samples_leaf': 4, 'min_samples_split': 13, 'bootstrap': True, 'criterion': 'entropy'}. Best is trial 44 with value: 0.8483333333333334.\u001b[0m\n"
     ]
    },
    {
     "name": "stdout",
     "output_type": "stream",
     "text": [
      "val score: 0.8233333333333335\n",
      "test score: 0.8089887640449438\n"
     ]
    },
    {
     "name": "stderr",
     "output_type": "stream",
     "text": [
      "\u001b[32m[I 2021-11-22 00:43:37,107]\u001b[0m Trial 64 finished with value: 0.845 and parameters: {'n_estimators': 720, 'max_depth': 11, 'max_features': 37, 'min_samples_leaf': 5, 'min_samples_split': 13, 'bootstrap': True, 'criterion': 'entropy'}. Best is trial 44 with value: 0.8483333333333334.\u001b[0m\n"
     ]
    },
    {
     "name": "stdout",
     "output_type": "stream",
     "text": [
      "val score: 0.845\n",
      "test score: 0.797752808988764\n"
     ]
    },
    {
     "name": "stderr",
     "output_type": "stream",
     "text": [
      "\u001b[32m[I 2021-11-22 00:43:47,860]\u001b[0m Trial 65 finished with value: 0.8458333333333334 and parameters: {'n_estimators': 790, 'max_depth': 31, 'max_features': 30, 'min_samples_leaf': 5, 'min_samples_split': 12, 'bootstrap': True, 'criterion': 'entropy'}. Best is trial 44 with value: 0.8483333333333334.\u001b[0m\n"
     ]
    },
    {
     "name": "stdout",
     "output_type": "stream",
     "text": [
      "val score: 0.8458333333333334\n",
      "test score: 0.797752808988764\n"
     ]
    },
    {
     "name": "stderr",
     "output_type": "stream",
     "text": [
      "\u001b[32m[I 2021-11-22 00:43:52,076]\u001b[0m Trial 66 finished with value: 0.8466666666666667 and parameters: {'n_estimators': 280, 'max_depth': 24, 'max_features': 39, 'min_samples_leaf': 4, 'min_samples_split': 12, 'bootstrap': True, 'criterion': 'entropy'}. Best is trial 44 with value: 0.8483333333333334.\u001b[0m\n"
     ]
    },
    {
     "name": "stdout",
     "output_type": "stream",
     "text": [
      "val score: 0.8466666666666667\n",
      "test score: 0.797752808988764\n"
     ]
    },
    {
     "name": "stderr",
     "output_type": "stream",
     "text": [
      "\u001b[32m[I 2021-11-22 00:43:52,905]\u001b[0m Trial 67 finished with value: 0.8466666666666667 and parameters: {'n_estimators': 50, 'max_depth': 53, 'max_features': 39, 'min_samples_leaf': 5, 'min_samples_split': 11, 'bootstrap': True, 'criterion': 'entropy'}. Best is trial 44 with value: 0.8483333333333334.\u001b[0m\n"
     ]
    },
    {
     "name": "stdout",
     "output_type": "stream",
     "text": [
      "val score: 0.8466666666666667\n",
      "test score: 0.8089887640449438\n"
     ]
    },
    {
     "name": "stderr",
     "output_type": "stream",
     "text": [
      "\u001b[32m[I 2021-11-22 00:44:04,658]\u001b[0m Trial 68 finished with value: 0.845 and parameters: {'n_estimators': 860, 'max_depth': 28, 'max_features': 33, 'min_samples_leaf': 5, 'min_samples_split': 13, 'bootstrap': True, 'criterion': 'entropy'}. Best is trial 44 with value: 0.8483333333333334.\u001b[0m\n"
     ]
    },
    {
     "name": "stdout",
     "output_type": "stream",
     "text": [
      "val score: 0.845\n",
      "test score: 0.797752808988764\n"
     ]
    },
    {
     "name": "stderr",
     "output_type": "stream",
     "text": [
      "\u001b[32m[I 2021-11-22 00:44:06,659]\u001b[0m Trial 69 finished with value: 0.8191666666666666 and parameters: {'n_estimators': 120, 'max_depth': 73, 'max_features': 35, 'min_samples_leaf': 4, 'min_samples_split': 12, 'bootstrap': False, 'criterion': 'entropy'}. Best is trial 44 with value: 0.8483333333333334.\u001b[0m\n"
     ]
    },
    {
     "name": "stdout",
     "output_type": "stream",
     "text": [
      "val score: 0.8191666666666666\n",
      "test score: 0.8089887640449438\n"
     ]
    },
    {
     "name": "stderr",
     "output_type": "stream",
     "text": [
      "\u001b[32m[I 2021-11-22 00:44:20,926]\u001b[0m Trial 70 finished with value: 0.8441666666666666 and parameters: {'n_estimators': 970, 'max_depth': 46, 'max_features': 37, 'min_samples_leaf': 5, 'min_samples_split': 11, 'bootstrap': True, 'criterion': 'entropy'}. Best is trial 44 with value: 0.8483333333333334.\u001b[0m\n"
     ]
    },
    {
     "name": "stdout",
     "output_type": "stream",
     "text": [
      "val score: 0.8441666666666666\n",
      "test score: 0.8089887640449438\n"
     ]
    },
    {
     "name": "stderr",
     "output_type": "stream",
     "text": [
      "\u001b[32m[I 2021-11-22 00:44:30,660]\u001b[0m Trial 71 finished with value: 0.8425 and parameters: {'n_estimators': 770, 'max_depth': 36, 'max_features': 22, 'min_samples_leaf': 4, 'min_samples_split': 13, 'bootstrap': True, 'criterion': 'entropy'}. Best is trial 44 with value: 0.8483333333333334.\u001b[0m\n"
     ]
    },
    {
     "name": "stdout",
     "output_type": "stream",
     "text": [
      "val score: 0.8425\n",
      "test score: 0.797752808988764\n"
     ]
    },
    {
     "name": "stderr",
     "output_type": "stream",
     "text": [
      "\u001b[32m[I 2021-11-22 00:44:45,292]\u001b[0m Trial 72 finished with value: 0.8474999999999999 and parameters: {'n_estimators': 1000, 'max_depth': 19, 'max_features': 39, 'min_samples_leaf': 5, 'min_samples_split': 11, 'bootstrap': True, 'criterion': 'entropy'}. Best is trial 44 with value: 0.8483333333333334.\u001b[0m\n"
     ]
    },
    {
     "name": "stdout",
     "output_type": "stream",
     "text": [
      "val score: 0.8474999999999999\n",
      "test score: 0.8089887640449438\n"
     ]
    },
    {
     "name": "stderr",
     "output_type": "stream",
     "text": [
      "\u001b[32m[I 2021-11-22 00:44:56,132]\u001b[0m Trial 73 finished with value: 0.8458333333333334 and parameters: {'n_estimators': 740, 'max_depth': 27, 'max_features': 37, 'min_samples_leaf': 5, 'min_samples_split': 11, 'bootstrap': True, 'criterion': 'entropy'}. Best is trial 44 with value: 0.8483333333333334.\u001b[0m\n"
     ]
    },
    {
     "name": "stdout",
     "output_type": "stream",
     "text": [
      "val score: 0.8458333333333334\n",
      "test score: 0.8089887640449438\n"
     ]
    },
    {
     "name": "stderr",
     "output_type": "stream",
     "text": [
      "\u001b[32m[I 2021-11-22 00:45:10,707]\u001b[0m Trial 74 finished with value: 0.8474999999999999 and parameters: {'n_estimators': 1000, 'max_depth': 17, 'max_features': 39, 'min_samples_leaf': 5, 'min_samples_split': 11, 'bootstrap': True, 'criterion': 'entropy'}. Best is trial 44 with value: 0.8483333333333334.\u001b[0m\n"
     ]
    },
    {
     "name": "stdout",
     "output_type": "stream",
     "text": [
      "val score: 0.8474999999999999\n",
      "test score: 0.8089887640449438\n"
     ]
    },
    {
     "name": "stderr",
     "output_type": "stream",
     "text": [
      "\u001b[32m[I 2021-11-22 00:45:20,224]\u001b[0m Trial 75 finished with value: 0.8441666666666666 and parameters: {'n_estimators': 670, 'max_depth': 13, 'max_features': 35, 'min_samples_leaf': 5, 'min_samples_split': 12, 'bootstrap': True, 'criterion': 'entropy'}. Best is trial 44 with value: 0.8483333333333334.\u001b[0m\n"
     ]
    },
    {
     "name": "stdout",
     "output_type": "stream",
     "text": [
      "val score: 0.8441666666666666\n",
      "test score: 0.797752808988764\n"
     ]
    },
    {
     "name": "stderr",
     "output_type": "stream",
     "text": [
      "\u001b[32m[I 2021-11-22 00:45:35,570]\u001b[0m Trial 76 finished with value: 0.8425 and parameters: {'n_estimators': 960, 'max_depth': 22, 'max_features': 39, 'min_samples_leaf': 2, 'min_samples_split': 8, 'bootstrap': True, 'criterion': 'entropy'}. Best is trial 44 with value: 0.8483333333333334.\u001b[0m\n"
     ]
    },
    {
     "name": "stdout",
     "output_type": "stream",
     "text": [
      "val score: 0.8425\n",
      "test score: 0.8202247191011236\n"
     ]
    },
    {
     "name": "stderr",
     "output_type": "stream",
     "text": [
      "\u001b[32m[I 2021-11-22 00:45:48,667]\u001b[0m Trial 77 finished with value: 0.8433333333333334 and parameters: {'n_estimators': 910, 'max_depth': 80, 'max_features': 37, 'min_samples_leaf': 5, 'min_samples_split': 11, 'bootstrap': True, 'criterion': 'entropy'}. Best is trial 44 with value: 0.8483333333333334.\u001b[0m\n"
     ]
    },
    {
     "name": "stdout",
     "output_type": "stream",
     "text": [
      "val score: 0.8433333333333334\n",
      "test score: 0.8089887640449438\n"
     ]
    },
    {
     "name": "stderr",
     "output_type": "stream",
     "text": [
      "\u001b[32m[I 2021-11-22 00:46:03,213]\u001b[0m Trial 78 finished with value: 0.8474999999999999 and parameters: {'n_estimators': 1000, 'max_depth': 18, 'max_features': 39, 'min_samples_leaf': 5, 'min_samples_split': 11, 'bootstrap': True, 'criterion': 'entropy'}. Best is trial 44 with value: 0.8483333333333334.\u001b[0m\n"
     ]
    },
    {
     "name": "stdout",
     "output_type": "stream",
     "text": [
      "val score: 0.8474999999999999\n",
      "test score: 0.8089887640449438\n"
     ]
    },
    {
     "name": "stderr",
     "output_type": "stream",
     "text": [
      "\u001b[32m[I 2021-11-22 00:46:14,378]\u001b[0m Trial 79 finished with value: 0.8408333333333333 and parameters: {'n_estimators': 860, 'max_depth': 51, 'max_features': 27, 'min_samples_leaf': 5, 'min_samples_split': 11, 'bootstrap': True, 'criterion': 'entropy'}. Best is trial 44 with value: 0.8483333333333334.\u001b[0m\n"
     ]
    },
    {
     "name": "stdout",
     "output_type": "stream",
     "text": [
      "val score: 0.8408333333333333\n",
      "test score: 0.797752808988764\n"
     ]
    },
    {
     "name": "stderr",
     "output_type": "stream",
     "text": [
      "\u001b[32m[I 2021-11-22 00:46:22,071]\u001b[0m Trial 80 finished with value: 0.8225 and parameters: {'n_estimators': 510, 'max_depth': 41, 'max_features': 33, 'min_samples_leaf': 5, 'min_samples_split': 13, 'bootstrap': False, 'criterion': 'entropy'}. Best is trial 44 with value: 0.8483333333333334.\u001b[0m\n"
     ]
    },
    {
     "name": "stdout",
     "output_type": "stream",
     "text": [
      "val score: 0.8225\n",
      "test score: 0.797752808988764\n"
     ]
    },
    {
     "name": "stderr",
     "output_type": "stream",
     "text": [
      "\u001b[32m[I 2021-11-22 00:46:33,705]\u001b[0m Trial 81 finished with value: 0.8416666666666666 and parameters: {'n_estimators': 990, 'max_depth': 18, 'max_features': 18, 'min_samples_leaf': 4, 'min_samples_split': 12, 'bootstrap': True, 'criterion': 'entropy'}. Best is trial 44 with value: 0.8483333333333334.\u001b[0m\n"
     ]
    },
    {
     "name": "stdout",
     "output_type": "stream",
     "text": [
      "val score: 0.8416666666666666\n",
      "test score: 0.8089887640449438\n"
     ]
    },
    {
     "name": "stderr",
     "output_type": "stream",
     "text": [
      "\u001b[32m[I 2021-11-22 00:46:47,789]\u001b[0m Trial 82 finished with value: 0.8466666666666667 and parameters: {'n_estimators': 1000, 'max_depth': 8, 'max_features': 39, 'min_samples_leaf': 5, 'min_samples_split': 11, 'bootstrap': True, 'criterion': 'entropy'}. Best is trial 44 with value: 0.8483333333333334.\u001b[0m\n"
     ]
    },
    {
     "name": "stdout",
     "output_type": "stream",
     "text": [
      "val score: 0.8466666666666667\n",
      "test score: 0.797752808988764\n"
     ]
    },
    {
     "name": "stderr",
     "output_type": "stream",
     "text": [
      "\u001b[32m[I 2021-11-22 00:46:59,404]\u001b[0m Trial 83 finished with value: 0.8433333333333334 and parameters: {'n_estimators': 810, 'max_depth': 31, 'max_features': 36, 'min_samples_leaf': 5, 'min_samples_split': 11, 'bootstrap': True, 'criterion': 'entropy'}. Best is trial 44 with value: 0.8483333333333334.\u001b[0m\n"
     ]
    },
    {
     "name": "stdout",
     "output_type": "stream",
     "text": [
      "val score: 0.8433333333333334\n",
      "test score: 0.8089887640449438\n"
     ]
    },
    {
     "name": "stderr",
     "output_type": "stream",
     "text": [
      "\u001b[32m[I 2021-11-22 00:47:13,860]\u001b[0m Trial 84 finished with value: 0.8458333333333334 and parameters: {'n_estimators': 950, 'max_depth': 25, 'max_features': 38, 'min_samples_leaf': 5, 'min_samples_split': 10, 'bootstrap': True, 'criterion': 'entropy'}. Best is trial 44 with value: 0.8483333333333334.\u001b[0m\n"
     ]
    },
    {
     "name": "stdout",
     "output_type": "stream",
     "text": [
      "val score: 0.8458333333333334\n",
      "test score: 0.8089887640449438\n"
     ]
    },
    {
     "name": "stderr",
     "output_type": "stream",
     "text": [
      "\u001b[32m[I 2021-11-22 00:47:26,583]\u001b[0m Trial 85 finished with value: 0.8408333333333333 and parameters: {'n_estimators': 890, 'max_depth': 32, 'max_features': 35, 'min_samples_leaf': 5, 'min_samples_split': 11, 'bootstrap': True, 'criterion': 'entropy'}. Best is trial 44 with value: 0.8483333333333334.\u001b[0m\n"
     ]
    },
    {
     "name": "stdout",
     "output_type": "stream",
     "text": [
      "val score: 0.8408333333333333\n",
      "test score: 0.797752808988764\n"
     ]
    },
    {
     "name": "stderr",
     "output_type": "stream",
     "text": [
      "\u001b[32m[I 2021-11-22 00:47:40,222]\u001b[0m Trial 86 finished with value: 0.8475000000000001 and parameters: {'n_estimators': 920, 'max_depth': 22, 'max_features': 40, 'min_samples_leaf': 5, 'min_samples_split': 12, 'bootstrap': True, 'criterion': 'entropy'}. Best is trial 44 with value: 0.8483333333333334.\u001b[0m\n"
     ]
    },
    {
     "name": "stdout",
     "output_type": "stream",
     "text": [
      "val score: 0.8475000000000001\n",
      "test score: 0.8089887640449438\n"
     ]
    },
    {
     "name": "stderr",
     "output_type": "stream",
     "text": [
      "\u001b[32m[I 2021-11-22 00:47:53,893]\u001b[0m Trial 87 finished with value: 0.8475000000000001 and parameters: {'n_estimators': 920, 'max_depth': 15, 'max_features': 40, 'min_samples_leaf': 5, 'min_samples_split': 11, 'bootstrap': True, 'criterion': 'entropy'}. Best is trial 44 with value: 0.8483333333333334.\u001b[0m\n"
     ]
    },
    {
     "name": "stdout",
     "output_type": "stream",
     "text": [
      "val score: 0.8475000000000001\n",
      "test score: 0.8089887640449438\n"
     ]
    },
    {
     "name": "stderr",
     "output_type": "stream",
     "text": [
      "\u001b[32m[I 2021-11-22 00:48:06,361]\u001b[0m Trial 88 finished with value: 0.8466666666666667 and parameters: {'n_estimators': 840, 'max_depth': 15, 'max_features': 40, 'min_samples_leaf': 5, 'min_samples_split': 11, 'bootstrap': True, 'criterion': 'entropy'}. Best is trial 44 with value: 0.8483333333333334.\u001b[0m\n"
     ]
    },
    {
     "name": "stdout",
     "output_type": "stream",
     "text": [
      "val score: 0.8466666666666667\n",
      "test score: 0.8089887640449438\n"
     ]
    },
    {
     "name": "stderr",
     "output_type": "stream",
     "text": [
      "\u001b[32m[I 2021-11-22 00:48:10,396]\u001b[0m Trial 89 finished with value: 0.8416666666666668 and parameters: {'n_estimators': 290, 'max_depth': 6, 'max_features': 40, 'min_samples_leaf': 5, 'min_samples_split': 10, 'bootstrap': True, 'criterion': 'entropy'}. Best is trial 44 with value: 0.8483333333333334.\u001b[0m\n"
     ]
    },
    {
     "name": "stdout",
     "output_type": "stream",
     "text": [
      "val score: 0.8416666666666668\n",
      "test score: 0.8089887640449438\n"
     ]
    },
    {
     "name": "stderr",
     "output_type": "stream",
     "text": [
      "\u001b[32m[I 2021-11-22 00:48:23,846]\u001b[0m Trial 90 finished with value: 0.8466666666666667 and parameters: {'n_estimators': 920, 'max_depth': 64, 'max_features': 38, 'min_samples_leaf': 5, 'min_samples_split': 12, 'bootstrap': True, 'criterion': 'entropy'}. Best is trial 44 with value: 0.8483333333333334.\u001b[0m\n"
     ]
    },
    {
     "name": "stdout",
     "output_type": "stream",
     "text": [
      "val score: 0.8466666666666667\n",
      "test score: 0.8089887640449438\n"
     ]
    },
    {
     "name": "stderr",
     "output_type": "stream",
     "text": [
      "\u001b[32m[I 2021-11-22 00:48:30,824]\u001b[0m Trial 91 finished with value: 0.8433333333333334 and parameters: {'n_estimators': 490, 'max_depth': 56, 'max_features': 34, 'min_samples_leaf': 4, 'min_samples_split': 13, 'bootstrap': True, 'criterion': 'entropy'}. Best is trial 44 with value: 0.8483333333333334.\u001b[0m\n"
     ]
    },
    {
     "name": "stdout",
     "output_type": "stream",
     "text": [
      "val score: 0.8433333333333334\n",
      "test score: 0.797752808988764\n"
     ]
    },
    {
     "name": "stderr",
     "output_type": "stream",
     "text": [
      "\u001b[32m[I 2021-11-22 00:48:43,797]\u001b[0m Trial 92 finished with value: 0.8475000000000001 and parameters: {'n_estimators': 880, 'max_depth': 20, 'max_features': 39, 'min_samples_leaf': 5, 'min_samples_split': 11, 'bootstrap': True, 'criterion': 'entropy'}. Best is trial 44 with value: 0.8483333333333334.\u001b[0m\n"
     ]
    },
    {
     "name": "stdout",
     "output_type": "stream",
     "text": [
      "val score: 0.8475000000000001\n",
      "test score: 0.8089887640449438\n"
     ]
    },
    {
     "name": "stderr",
     "output_type": "stream",
     "text": [
      "\u001b[32m[I 2021-11-22 00:48:55,385]\u001b[0m Trial 93 finished with value: 0.8441666666666666 and parameters: {'n_estimators': 800, 'max_depth': 23, 'max_features': 37, 'min_samples_leaf': 5, 'min_samples_split': 13, 'bootstrap': True, 'criterion': 'entropy'}. Best is trial 44 with value: 0.8483333333333334.\u001b[0m\n"
     ]
    },
    {
     "name": "stdout",
     "output_type": "stream",
     "text": [
      "val score: 0.8441666666666666\n",
      "test score: 0.8089887640449438\n"
     ]
    },
    {
     "name": "stderr",
     "output_type": "stream",
     "text": [
      "\u001b[32m[I 2021-11-22 00:49:09,640]\u001b[0m Trial 94 finished with value: 0.8416666666666666 and parameters: {'n_estimators': 880, 'max_depth': 16, 'max_features': 40, 'min_samples_leaf': 1, 'min_samples_split': 11, 'bootstrap': True, 'criterion': 'entropy'}. Best is trial 44 with value: 0.8483333333333334.\u001b[0m\n"
     ]
    },
    {
     "name": "stdout",
     "output_type": "stream",
     "text": [
      "val score: 0.8416666666666666\n",
      "test score: 0.8089887640449438\n"
     ]
    },
    {
     "name": "stderr",
     "output_type": "stream",
     "text": [
      "\u001b[32m[I 2021-11-22 00:49:23,573]\u001b[0m Trial 95 finished with value: 0.8458333333333334 and parameters: {'n_estimators': 950, 'max_depth': 59, 'max_features': 38, 'min_samples_leaf': 5, 'min_samples_split': 11, 'bootstrap': True, 'criterion': 'entropy'}. Best is trial 44 with value: 0.8483333333333334.\u001b[0m\n"
     ]
    },
    {
     "name": "stdout",
     "output_type": "stream",
     "text": [
      "val score: 0.8458333333333334\n",
      "test score: 0.8089887640449438\n"
     ]
    },
    {
     "name": "stderr",
     "output_type": "stream",
     "text": [
      "\u001b[32m[I 2021-11-22 00:49:36,516]\u001b[0m Trial 96 finished with value: 0.8425 and parameters: {'n_estimators': 870, 'max_depth': 94, 'max_features': 36, 'min_samples_leaf': 3, 'min_samples_split': 11, 'bootstrap': True, 'criterion': 'entropy'}. Best is trial 44 with value: 0.8483333333333334.\u001b[0m\n"
     ]
    },
    {
     "name": "stdout",
     "output_type": "stream",
     "text": [
      "val score: 0.8425\n",
      "test score: 0.8202247191011236\n"
     ]
    },
    {
     "name": "stderr",
     "output_type": "stream",
     "text": [
      "\u001b[32m[I 2021-11-22 00:49:48,731]\u001b[0m Trial 97 finished with value: 0.8474999999999999 and parameters: {'n_estimators': 840, 'max_depth': 36, 'max_features': 38, 'min_samples_leaf': 5, 'min_samples_split': 12, 'bootstrap': True, 'criterion': 'entropy'}. Best is trial 44 with value: 0.8483333333333334.\u001b[0m\n"
     ]
    },
    {
     "name": "stdout",
     "output_type": "stream",
     "text": [
      "val score: 0.8474999999999999\n",
      "test score: 0.8089887640449438\n"
     ]
    },
    {
     "name": "stderr",
     "output_type": "stream",
     "text": [
      "\u001b[32m[I 2021-11-22 00:50:02,766]\u001b[0m Trial 98 finished with value: 0.825 and parameters: {'n_estimators': 900, 'max_depth': 22, 'max_features': 36, 'min_samples_leaf': 5, 'min_samples_split': 13, 'bootstrap': False, 'criterion': 'entropy'}. Best is trial 44 with value: 0.8483333333333334.\u001b[0m\n"
     ]
    },
    {
     "name": "stdout",
     "output_type": "stream",
     "text": [
      "val score: 0.825\n",
      "test score: 0.7865168539325843\n"
     ]
    },
    {
     "name": "stderr",
     "output_type": "stream",
     "text": [
      "\u001b[32m[I 2021-11-22 00:50:14,935]\u001b[0m Trial 99 finished with value: 0.8474999999999999 and parameters: {'n_estimators': 840, 'max_depth': 37, 'max_features': 38, 'min_samples_leaf': 5, 'min_samples_split': 12, 'bootstrap': True, 'criterion': 'entropy'}. Best is trial 44 with value: 0.8483333333333334.\u001b[0m\n"
     ]
    },
    {
     "name": "stdout",
     "output_type": "stream",
     "text": [
      "val score: 0.8474999999999999\n",
      "test score: 0.8089887640449438\n"
     ]
    },
    {
     "name": "stderr",
     "output_type": "stream",
     "text": [
      "\u001b[32m[I 2021-11-22 00:50:25,079]\u001b[0m Trial 100 finished with value: 0.8466666666666667 and parameters: {'n_estimators': 760, 'max_depth': 11, 'max_features': 31, 'min_samples_leaf': 5, 'min_samples_split': 13, 'bootstrap': True, 'criterion': 'entropy'}. Best is trial 44 with value: 0.8483333333333334.\u001b[0m\n"
     ]
    },
    {
     "name": "stdout",
     "output_type": "stream",
     "text": [
      "val score: 0.8466666666666667\n",
      "test score: 0.797752808988764\n"
     ]
    },
    {
     "name": "stderr",
     "output_type": "stream",
     "text": [
      "\u001b[32m[I 2021-11-22 00:50:37,283]\u001b[0m Trial 101 finished with value: 0.8483333333333334 and parameters: {'n_estimators': 840, 'max_depth': 12, 'max_features': 39, 'min_samples_leaf': 5, 'min_samples_split': 12, 'bootstrap': True, 'criterion': 'entropy'}. Best is trial 44 with value: 0.8483333333333334.\u001b[0m\n"
     ]
    },
    {
     "name": "stdout",
     "output_type": "stream",
     "text": [
      "val score: 0.8483333333333334\n",
      "test score: 0.8089887640449438\n"
     ]
    },
    {
     "name": "stderr",
     "output_type": "stream",
     "text": [
      "\u001b[32m[I 2021-11-22 00:50:51,624]\u001b[0m Trial 102 finished with value: 0.8466666666666667 and parameters: {'n_estimators': 980, 'max_depth': 19, 'max_features': 39, 'min_samples_leaf': 5, 'min_samples_split': 11, 'bootstrap': True, 'criterion': 'entropy'}. Best is trial 44 with value: 0.8483333333333334.\u001b[0m\n"
     ]
    },
    {
     "name": "stdout",
     "output_type": "stream",
     "text": [
      "val score: 0.8466666666666667\n",
      "test score: 0.8089887640449438\n"
     ]
    },
    {
     "name": "stderr",
     "output_type": "stream",
     "text": [
      "\u001b[32m[I 2021-11-22 00:51:05,316]\u001b[0m Trial 103 finished with value: 0.8475000000000001 and parameters: {'n_estimators': 920, 'max_depth': 34, 'max_features': 40, 'min_samples_leaf': 5, 'min_samples_split': 12, 'bootstrap': True, 'criterion': 'entropy'}. Best is trial 44 with value: 0.8483333333333334.\u001b[0m\n"
     ]
    },
    {
     "name": "stdout",
     "output_type": "stream",
     "text": [
      "val score: 0.8475000000000001\n",
      "test score: 0.8089887640449438\n"
     ]
    },
    {
     "name": "stderr",
     "output_type": "stream",
     "text": [
      "\u001b[32m[I 2021-11-22 00:51:18,877]\u001b[0m Trial 104 finished with value: 0.8475000000000001 and parameters: {'n_estimators': 920, 'max_depth': 34, 'max_features': 40, 'min_samples_leaf': 5, 'min_samples_split': 12, 'bootstrap': True, 'criterion': 'entropy'}. Best is trial 44 with value: 0.8483333333333334.\u001b[0m\n"
     ]
    },
    {
     "name": "stdout",
     "output_type": "stream",
     "text": [
      "val score: 0.8475000000000001\n",
      "test score: 0.8089887640449438\n"
     ]
    },
    {
     "name": "stderr",
     "output_type": "stream",
     "text": [
      "\u001b[32m[I 2021-11-22 00:51:29,723]\u001b[0m Trial 105 finished with value: 0.8475000000000001 and parameters: {'n_estimators': 730, 'max_depth': 34, 'max_features': 40, 'min_samples_leaf': 5, 'min_samples_split': 12, 'bootstrap': True, 'criterion': 'entropy'}. Best is trial 44 with value: 0.8483333333333334.\u001b[0m\n"
     ]
    },
    {
     "name": "stdout",
     "output_type": "stream",
     "text": [
      "val score: 0.8475000000000001\n",
      "test score: 0.8089887640449438\n"
     ]
    },
    {
     "name": "stderr",
     "output_type": "stream",
     "text": [
      "\u001b[32m[I 2021-11-22 00:51:40,409]\u001b[0m Trial 106 finished with value: 0.8491666666666667 and parameters: {'n_estimators': 730, 'max_depth': 39, 'max_features': 39, 'min_samples_leaf': 5, 'min_samples_split': 12, 'bootstrap': True, 'criterion': 'entropy'}. Best is trial 106 with value: 0.8491666666666667.\u001b[0m\n"
     ]
    },
    {
     "name": "stdout",
     "output_type": "stream",
     "text": [
      "val score: 0.8491666666666667\n",
      "test score: 0.8089887640449438\n"
     ]
    },
    {
     "name": "stderr",
     "output_type": "stream",
     "text": [
      "\u001b[32m[I 2021-11-22 00:51:51,075]\u001b[0m Trial 107 finished with value: 0.8475000000000001 and parameters: {'n_estimators': 730, 'max_depth': 33, 'max_features': 40, 'min_samples_leaf': 5, 'min_samples_split': 12, 'bootstrap': True, 'criterion': 'entropy'}. Best is trial 106 with value: 0.8491666666666667.\u001b[0m\n"
     ]
    },
    {
     "name": "stdout",
     "output_type": "stream",
     "text": [
      "val score: 0.8475000000000001\n",
      "test score: 0.8089887640449438\n"
     ]
    },
    {
     "name": "stderr",
     "output_type": "stream",
     "text": [
      "\u001b[32m[I 2021-11-22 00:52:01,895]\u001b[0m Trial 108 finished with value: 0.8475000000000001 and parameters: {'n_estimators': 730, 'max_depth': 44, 'max_features': 40, 'min_samples_leaf': 5, 'min_samples_split': 12, 'bootstrap': True, 'criterion': 'entropy'}. Best is trial 106 with value: 0.8491666666666667.\u001b[0m\n"
     ]
    },
    {
     "name": "stdout",
     "output_type": "stream",
     "text": [
      "val score: 0.8475000000000001\n",
      "test score: 0.8089887640449438\n"
     ]
    },
    {
     "name": "stderr",
     "output_type": "stream",
     "text": [
      "\u001b[32m[I 2021-11-22 00:52:12,090]\u001b[0m Trial 109 finished with value: 0.8466666666666667 and parameters: {'n_estimators': 710, 'max_depth': 40, 'max_features': 37, 'min_samples_leaf': 5, 'min_samples_split': 12, 'bootstrap': True, 'criterion': 'entropy'}. Best is trial 106 with value: 0.8491666666666667.\u001b[0m\n"
     ]
    },
    {
     "name": "stdout",
     "output_type": "stream",
     "text": [
      "val score: 0.8466666666666667\n",
      "test score: 0.8089887640449438\n"
     ]
    },
    {
     "name": "stderr",
     "output_type": "stream",
     "text": [
      "\u001b[32m[I 2021-11-22 00:52:22,137]\u001b[0m Trial 110 finished with value: 0.8483333333333334 and parameters: {'n_estimators': 690, 'max_depth': 48, 'max_features': 39, 'min_samples_leaf': 5, 'min_samples_split': 12, 'bootstrap': True, 'criterion': 'entropy'}. Best is trial 106 with value: 0.8491666666666667.\u001b[0m\n"
     ]
    },
    {
     "name": "stdout",
     "output_type": "stream",
     "text": [
      "val score: 0.8483333333333334\n",
      "test score: 0.8089887640449438\n"
     ]
    },
    {
     "name": "stderr",
     "output_type": "stream",
     "text": [
      "\u001b[32m[I 2021-11-22 00:52:31,484]\u001b[0m Trial 111 finished with value: 0.8466666666666667 and parameters: {'n_estimators': 650, 'max_depth': 43, 'max_features': 37, 'min_samples_leaf': 5, 'min_samples_split': 12, 'bootstrap': True, 'criterion': 'entropy'}. Best is trial 106 with value: 0.8491666666666667.\u001b[0m\n"
     ]
    },
    {
     "name": "stdout",
     "output_type": "stream",
     "text": [
      "val score: 0.8466666666666667\n",
      "test score: 0.797752808988764\n"
     ]
    },
    {
     "name": "stderr",
     "output_type": "stream",
     "text": [
      "\u001b[32m[I 2021-11-22 00:52:44,332]\u001b[0m Trial 112 finished with value: 0.8483333333333334 and parameters: {'n_estimators': 880, 'max_depth': 39, 'max_features': 39, 'min_samples_leaf': 5, 'min_samples_split': 12, 'bootstrap': True, 'criterion': 'entropy'}. Best is trial 106 with value: 0.8491666666666667.\u001b[0m\n"
     ]
    },
    {
     "name": "stdout",
     "output_type": "stream",
     "text": [
      "val score: 0.8483333333333334\n",
      "test score: 0.8089887640449438\n"
     ]
    },
    {
     "name": "stderr",
     "output_type": "stream",
     "text": [
      "\u001b[32m[I 2021-11-22 00:52:57,209]\u001b[0m Trial 113 finished with value: 0.8483333333333334 and parameters: {'n_estimators': 880, 'max_depth': 12, 'max_features': 39, 'min_samples_leaf': 5, 'min_samples_split': 12, 'bootstrap': True, 'criterion': 'entropy'}. Best is trial 106 with value: 0.8491666666666667.\u001b[0m\n"
     ]
    },
    {
     "name": "stdout",
     "output_type": "stream",
     "text": [
      "val score: 0.8483333333333334\n",
      "test score: 0.8089887640449438\n"
     ]
    },
    {
     "name": "stderr",
     "output_type": "stream",
     "text": [
      "\u001b[32m[I 2021-11-22 00:53:08,696]\u001b[0m Trial 114 finished with value: 0.8491666666666667 and parameters: {'n_estimators': 780, 'max_depth': 47, 'max_features': 39, 'min_samples_leaf': 5, 'min_samples_split': 12, 'bootstrap': True, 'criterion': 'entropy'}. Best is trial 106 with value: 0.8491666666666667.\u001b[0m\n"
     ]
    },
    {
     "name": "stdout",
     "output_type": "stream",
     "text": [
      "val score: 0.8491666666666667\n",
      "test score: 0.8089887640449438\n"
     ]
    },
    {
     "name": "stderr",
     "output_type": "stream",
     "text": [
      "\u001b[32m[I 2021-11-22 00:53:18,895]\u001b[0m Trial 115 finished with value: 0.8483333333333334 and parameters: {'n_estimators': 690, 'max_depth': 47, 'max_features': 39, 'min_samples_leaf': 5, 'min_samples_split': 12, 'bootstrap': True, 'criterion': 'entropy'}. Best is trial 106 with value: 0.8491666666666667.\u001b[0m\n"
     ]
    },
    {
     "name": "stdout",
     "output_type": "stream",
     "text": [
      "val score: 0.8483333333333334\n",
      "test score: 0.8089887640449438\n"
     ]
    },
    {
     "name": "stderr",
     "output_type": "stream",
     "text": [
      "\u001b[32m[I 2021-11-22 00:53:30,147]\u001b[0m Trial 116 finished with value: 0.8475000000000001 and parameters: {'n_estimators': 770, 'max_depth': 48, 'max_features': 39, 'min_samples_leaf': 5, 'min_samples_split': 12, 'bootstrap': True, 'criterion': 'entropy'}. Best is trial 106 with value: 0.8491666666666667.\u001b[0m\n"
     ]
    },
    {
     "name": "stdout",
     "output_type": "stream",
     "text": [
      "val score: 0.8475000000000001\n",
      "test score: 0.8089887640449438\n"
     ]
    },
    {
     "name": "stderr",
     "output_type": "stream",
     "text": [
      "\u001b[32m[I 2021-11-22 00:53:42,041]\u001b[0m Trial 117 finished with value: 0.8466666666666667 and parameters: {'n_estimators': 820, 'max_depth': 46, 'max_features': 38, 'min_samples_leaf': 5, 'min_samples_split': 12, 'bootstrap': True, 'criterion': 'entropy'}. Best is trial 106 with value: 0.8491666666666667.\u001b[0m\n"
     ]
    },
    {
     "name": "stdout",
     "output_type": "stream",
     "text": [
      "val score: 0.8466666666666667\n",
      "test score: 0.8089887640449438\n"
     ]
    },
    {
     "name": "stderr",
     "output_type": "stream",
     "text": [
      "\u001b[32m[I 2021-11-22 00:53:52,694]\u001b[0m Trial 118 finished with value: 0.8466666666666667 and parameters: {'n_estimators': 750, 'max_depth': 50, 'max_features': 37, 'min_samples_leaf': 5, 'min_samples_split': 12, 'bootstrap': True, 'criterion': 'entropy'}. Best is trial 106 with value: 0.8491666666666667.\u001b[0m\n"
     ]
    },
    {
     "name": "stdout",
     "output_type": "stream",
     "text": [
      "val score: 0.8466666666666667\n",
      "test score: 0.8089887640449438\n"
     ]
    },
    {
     "name": "stderr",
     "output_type": "stream",
     "text": [
      "\u001b[32m[I 2021-11-22 00:54:03,893]\u001b[0m Trial 119 finished with value: 0.8158333333333333 and parameters: {'n_estimators': 690, 'max_depth': 41, 'max_features': 39, 'min_samples_leaf': 5, 'min_samples_split': 12, 'bootstrap': False, 'criterion': 'entropy'}. Best is trial 106 with value: 0.8491666666666667.\u001b[0m\n"
     ]
    },
    {
     "name": "stdout",
     "output_type": "stream",
     "text": [
      "val score: 0.8158333333333333\n",
      "test score: 0.7752808988764045\n"
     ]
    },
    {
     "name": "stderr",
     "output_type": "stream",
     "text": [
      "\u001b[32m[I 2021-11-22 00:54:13,691]\u001b[0m Trial 120 finished with value: 0.8474999999999999 and parameters: {'n_estimators': 690, 'max_depth': 52, 'max_features': 36, 'min_samples_leaf': 5, 'min_samples_split': 12, 'bootstrap': True, 'criterion': 'entropy'}. Best is trial 106 with value: 0.8491666666666667.\u001b[0m\n"
     ]
    },
    {
     "name": "stdout",
     "output_type": "stream",
     "text": [
      "val score: 0.8474999999999999\n",
      "test score: 0.797752808988764\n"
     ]
    },
    {
     "name": "stderr",
     "output_type": "stream",
     "text": [
      "\u001b[32m[I 2021-11-22 00:54:21,929]\u001b[0m Trial 121 finished with value: 0.8241666666666667 and parameters: {'n_estimators': 790, 'max_depth': 2, 'max_features': 37, 'min_samples_leaf': 5, 'min_samples_split': 12, 'bootstrap': True, 'criterion': 'entropy'}. Best is trial 106 with value: 0.8491666666666667.\u001b[0m\n"
     ]
    },
    {
     "name": "stdout",
     "output_type": "stream",
     "text": [
      "val score: 0.8241666666666667\n",
      "test score: 0.8089887640449438\n"
     ]
    },
    {
     "name": "stderr",
     "output_type": "stream",
     "text": [
      "\u001b[32m[I 2021-11-22 00:54:34,615]\u001b[0m Trial 122 finished with value: 0.8474999999999999 and parameters: {'n_estimators': 860, 'max_depth': 12, 'max_features': 39, 'min_samples_leaf': 5, 'min_samples_split': 12, 'bootstrap': True, 'criterion': 'entropy'}. Best is trial 106 with value: 0.8491666666666667.\u001b[0m\n"
     ]
    },
    {
     "name": "stdout",
     "output_type": "stream",
     "text": [
      "val score: 0.8474999999999999\n",
      "test score: 0.8089887640449438\n"
     ]
    },
    {
     "name": "stderr",
     "output_type": "stream",
     "text": [
      "\u001b[32m[I 2021-11-22 00:54:43,771]\u001b[0m Trial 123 finished with value: 0.8491666666666667 and parameters: {'n_estimators': 630, 'max_depth': 38, 'max_features': 38, 'min_samples_leaf': 5, 'min_samples_split': 12, 'bootstrap': True, 'criterion': 'entropy'}. Best is trial 106 with value: 0.8491666666666667.\u001b[0m\n"
     ]
    },
    {
     "name": "stdout",
     "output_type": "stream",
     "text": [
      "val score: 0.8491666666666667\n",
      "test score: 0.8089887640449438\n"
     ]
    },
    {
     "name": "stderr",
     "output_type": "stream",
     "text": [
      "\u001b[32m[I 2021-11-22 00:54:52,827]\u001b[0m Trial 124 finished with value: 0.8483333333333334 and parameters: {'n_estimators': 620, 'max_depth': 46, 'max_features': 38, 'min_samples_leaf': 5, 'min_samples_split': 12, 'bootstrap': True, 'criterion': 'entropy'}. Best is trial 106 with value: 0.8491666666666667.\u001b[0m\n"
     ]
    },
    {
     "name": "stdout",
     "output_type": "stream",
     "text": [
      "val score: 0.8483333333333334\n",
      "test score: 0.8089887640449438\n"
     ]
    },
    {
     "name": "stderr",
     "output_type": "stream",
     "text": [
      "\u001b[32m[I 2021-11-22 00:55:01,345]\u001b[0m Trial 125 finished with value: 0.8483333333333334 and parameters: {'n_estimators': 590, 'max_depth': 49, 'max_features': 38, 'min_samples_leaf': 5, 'min_samples_split': 12, 'bootstrap': True, 'criterion': 'entropy'}. Best is trial 106 with value: 0.8491666666666667.\u001b[0m\n"
     ]
    },
    {
     "name": "stdout",
     "output_type": "stream",
     "text": [
      "val score: 0.8483333333333334\n",
      "test score: 0.8089887640449438\n"
     ]
    },
    {
     "name": "stderr",
     "output_type": "stream",
     "text": [
      "\u001b[32m[I 2021-11-22 00:55:10,161]\u001b[0m Trial 126 finished with value: 0.8474999999999999 and parameters: {'n_estimators': 620, 'max_depth': 48, 'max_features': 36, 'min_samples_leaf': 5, 'min_samples_split': 12, 'bootstrap': True, 'criterion': 'entropy'}. Best is trial 106 with value: 0.8491666666666667.\u001b[0m\n"
     ]
    },
    {
     "name": "stdout",
     "output_type": "stream",
     "text": [
      "val score: 0.8474999999999999\n",
      "test score: 0.797752808988764\n"
     ]
    },
    {
     "name": "stderr",
     "output_type": "stream",
     "text": [
      "\u001b[32m[I 2021-11-22 00:55:18,439]\u001b[0m Trial 127 finished with value: 0.8491666666666667 and parameters: {'n_estimators': 570, 'max_depth': 54, 'max_features': 38, 'min_samples_leaf': 5, 'min_samples_split': 12, 'bootstrap': True, 'criterion': 'entropy'}. Best is trial 106 with value: 0.8491666666666667.\u001b[0m\n"
     ]
    },
    {
     "name": "stdout",
     "output_type": "stream",
     "text": [
      "val score: 0.8491666666666667\n",
      "test score: 0.797752808988764\n"
     ]
    },
    {
     "name": "stderr",
     "output_type": "stream",
     "text": [
      "\u001b[32m[I 2021-11-22 00:55:24,510]\u001b[0m Trial 128 finished with value: 0.8391666666666667 and parameters: {'n_estimators': 580, 'max_depth': 39, 'max_features': 10, 'min_samples_leaf': 5, 'min_samples_split': 12, 'bootstrap': True, 'criterion': 'entropy'}. Best is trial 106 with value: 0.8491666666666667.\u001b[0m\n"
     ]
    },
    {
     "name": "stdout",
     "output_type": "stream",
     "text": [
      "val score: 0.8391666666666667\n",
      "test score: 0.8202247191011236\n"
     ]
    },
    {
     "name": "stderr",
     "output_type": "stream",
     "text": [
      "\u001b[32m[I 2021-11-22 00:55:33,607]\u001b[0m Trial 129 finished with value: 0.8450000000000001 and parameters: {'n_estimators': 630, 'max_depth': 44, 'max_features': 37, 'min_samples_leaf': 5, 'min_samples_split': 12, 'bootstrap': True, 'criterion': 'entropy'}. Best is trial 106 with value: 0.8491666666666667.\u001b[0m\n"
     ]
    },
    {
     "name": "stdout",
     "output_type": "stream",
     "text": [
      "val score: 0.8450000000000001\n",
      "test score: 0.8089887640449438\n"
     ]
    },
    {
     "name": "stderr",
     "output_type": "stream",
     "text": [
      "\u001b[32m[I 2021-11-22 00:55:41,888]\u001b[0m Trial 130 finished with value: 0.845 and parameters: {'n_estimators': 590, 'max_depth': 54, 'max_features': 35, 'min_samples_leaf': 5, 'min_samples_split': 12, 'bootstrap': True, 'criterion': 'entropy'}. Best is trial 106 with value: 0.8491666666666667.\u001b[0m\n"
     ]
    },
    {
     "name": "stdout",
     "output_type": "stream",
     "text": [
      "val score: 0.845\n",
      "test score: 0.797752808988764\n"
     ]
    },
    {
     "name": "stderr",
     "output_type": "stream",
     "text": [
      "\u001b[32m[I 2021-11-22 00:55:49,921]\u001b[0m Trial 131 finished with value: 0.8491666666666667 and parameters: {'n_estimators': 550, 'max_depth': 49, 'max_features': 38, 'min_samples_leaf': 5, 'min_samples_split': 12, 'bootstrap': True, 'criterion': 'entropy'}. Best is trial 106 with value: 0.8491666666666667.\u001b[0m\n"
     ]
    },
    {
     "name": "stdout",
     "output_type": "stream",
     "text": [
      "val score: 0.8491666666666667\n",
      "test score: 0.797752808988764\n"
     ]
    },
    {
     "name": "stderr",
     "output_type": "stream",
     "text": [
      "\u001b[32m[I 2021-11-22 00:55:58,034]\u001b[0m Trial 132 finished with value: 0.8491666666666667 and parameters: {'n_estimators': 560, 'max_depth': 51, 'max_features': 38, 'min_samples_leaf': 5, 'min_samples_split': 12, 'bootstrap': True, 'criterion': 'entropy'}. Best is trial 106 with value: 0.8491666666666667.\u001b[0m\n"
     ]
    },
    {
     "name": "stdout",
     "output_type": "stream",
     "text": [
      "val score: 0.8491666666666667\n",
      "test score: 0.797752808988764\n"
     ]
    },
    {
     "name": "stderr",
     "output_type": "stream",
     "text": [
      "\u001b[32m[I 2021-11-22 00:56:05,627]\u001b[0m Trial 133 finished with value: 0.8491666666666667 and parameters: {'n_estimators': 520, 'max_depth': 51, 'max_features': 38, 'min_samples_leaf': 5, 'min_samples_split': 12, 'bootstrap': True, 'criterion': 'entropy'}. Best is trial 106 with value: 0.8491666666666667.\u001b[0m\n"
     ]
    },
    {
     "name": "stdout",
     "output_type": "stream",
     "text": [
      "val score: 0.8491666666666667\n",
      "test score: 0.797752808988764\n"
     ]
    },
    {
     "name": "stderr",
     "output_type": "stream",
     "text": [
      "\u001b[32m[I 2021-11-22 00:56:13,940]\u001b[0m Trial 134 finished with value: 0.8491666666666667 and parameters: {'n_estimators': 560, 'max_depth': 57, 'max_features': 38, 'min_samples_leaf': 5, 'min_samples_split': 12, 'bootstrap': True, 'criterion': 'entropy'}. Best is trial 106 with value: 0.8491666666666667.\u001b[0m\n"
     ]
    },
    {
     "name": "stdout",
     "output_type": "stream",
     "text": [
      "val score: 0.8491666666666667\n",
      "test score: 0.797752808988764\n"
     ]
    },
    {
     "name": "stderr",
     "output_type": "stream",
     "text": [
      "\u001b[32m[I 2021-11-22 00:56:21,687]\u001b[0m Trial 135 finished with value: 0.85 and parameters: {'n_estimators': 530, 'max_depth': 56, 'max_features': 38, 'min_samples_leaf': 5, 'min_samples_split': 12, 'bootstrap': True, 'criterion': 'entropy'}. Best is trial 135 with value: 0.85.\u001b[0m\n"
     ]
    },
    {
     "name": "stdout",
     "output_type": "stream",
     "text": [
      "val score: 0.85\n",
      "test score: 0.797752808988764\n"
     ]
    },
    {
     "name": "stderr",
     "output_type": "stream",
     "text": [
      "\u001b[32m[I 2021-11-22 00:56:29,683]\u001b[0m Trial 136 finished with value: 0.8483333333333333 and parameters: {'n_estimators': 550, 'max_depth': 57, 'max_features': 37, 'min_samples_leaf': 5, 'min_samples_split': 12, 'bootstrap': True, 'criterion': 'entropy'}. Best is trial 135 with value: 0.85.\u001b[0m\n"
     ]
    },
    {
     "name": "stdout",
     "output_type": "stream",
     "text": [
      "val score: 0.8483333333333333\n",
      "test score: 0.797752808988764\n"
     ]
    },
    {
     "name": "stderr",
     "output_type": "stream",
     "text": [
      "\u001b[32m[I 2021-11-22 00:56:37,860]\u001b[0m Trial 137 finished with value: 0.8491666666666667 and parameters: {'n_estimators': 560, 'max_depth': 61, 'max_features': 38, 'min_samples_leaf': 5, 'min_samples_split': 12, 'bootstrap': True, 'criterion': 'entropy'}. Best is trial 135 with value: 0.85.\u001b[0m\n"
     ]
    },
    {
     "name": "stdout",
     "output_type": "stream",
     "text": [
      "val score: 0.8491666666666667\n",
      "test score: 0.797752808988764\n"
     ]
    },
    {
     "name": "stderr",
     "output_type": "stream",
     "text": [
      "\u001b[32m[I 2021-11-22 00:56:45,843]\u001b[0m Trial 138 finished with value: 0.8491666666666667 and parameters: {'n_estimators': 540, 'max_depth': 62, 'max_features': 38, 'min_samples_leaf': 5, 'min_samples_split': 12, 'bootstrap': True, 'criterion': 'entropy'}. Best is trial 135 with value: 0.85.\u001b[0m\n"
     ]
    },
    {
     "name": "stdout",
     "output_type": "stream",
     "text": [
      "val score: 0.8491666666666667\n",
      "test score: 0.797752808988764\n"
     ]
    },
    {
     "name": "stderr",
     "output_type": "stream",
     "text": [
      "\u001b[32m[I 2021-11-22 00:56:53,554]\u001b[0m Trial 139 finished with value: 0.845 and parameters: {'n_estimators': 530, 'max_depth': 63, 'max_features': 35, 'min_samples_leaf': 5, 'min_samples_split': 12, 'bootstrap': True, 'criterion': 'entropy'}. Best is trial 135 with value: 0.85.\u001b[0m\n"
     ]
    },
    {
     "name": "stdout",
     "output_type": "stream",
     "text": [
      "val score: 0.845\n",
      "test score: 0.797752808988764\n"
     ]
    },
    {
     "name": "stderr",
     "output_type": "stream",
     "text": [
      "\u001b[32m[I 2021-11-22 00:57:01,759]\u001b[0m Trial 140 finished with value: 0.8425 and parameters: {'n_estimators': 540, 'max_depth': 61, 'max_features': 36, 'min_samples_leaf': 2, 'min_samples_split': 12, 'bootstrap': True, 'criterion': 'entropy'}. Best is trial 135 with value: 0.85.\u001b[0m\n"
     ]
    },
    {
     "name": "stdout",
     "output_type": "stream",
     "text": [
      "val score: 0.8425\n",
      "test score: 0.8089887640449438\n"
     ]
    },
    {
     "name": "stderr",
     "output_type": "stream",
     "text": [
      "\u001b[32m[I 2021-11-22 00:57:10,070]\u001b[0m Trial 141 finished with value: 0.8491666666666667 and parameters: {'n_estimators': 560, 'max_depth': 60, 'max_features': 38, 'min_samples_leaf': 5, 'min_samples_split': 12, 'bootstrap': True, 'criterion': 'entropy'}. Best is trial 135 with value: 0.85.\u001b[0m\n"
     ]
    },
    {
     "name": "stdout",
     "output_type": "stream",
     "text": [
      "val score: 0.8491666666666667\n",
      "test score: 0.797752808988764\n"
     ]
    },
    {
     "name": "stderr",
     "output_type": "stream",
     "text": [
      "\u001b[32m[I 2021-11-22 00:57:18,134]\u001b[0m Trial 142 finished with value: 0.8491666666666667 and parameters: {'n_estimators': 560, 'max_depth': 60, 'max_features': 38, 'min_samples_leaf': 5, 'min_samples_split': 12, 'bootstrap': True, 'criterion': 'entropy'}. Best is trial 135 with value: 0.85.\u001b[0m\n"
     ]
    },
    {
     "name": "stdout",
     "output_type": "stream",
     "text": [
      "val score: 0.8491666666666667\n",
      "test score: 0.797752808988764\n"
     ]
    },
    {
     "name": "stderr",
     "output_type": "stream",
     "text": [
      "\u001b[32m[I 2021-11-22 00:57:26,286]\u001b[0m Trial 143 finished with value: 0.8491666666666667 and parameters: {'n_estimators': 560, 'max_depth': 60, 'max_features': 38, 'min_samples_leaf': 5, 'min_samples_split': 12, 'bootstrap': True, 'criterion': 'entropy'}. Best is trial 135 with value: 0.85.\u001b[0m\n"
     ]
    },
    {
     "name": "stdout",
     "output_type": "stream",
     "text": [
      "val score: 0.8491666666666667\n",
      "test score: 0.797752808988764\n"
     ]
    },
    {
     "name": "stderr",
     "output_type": "stream",
     "text": [
      "\u001b[32m[I 2021-11-22 00:57:34,259]\u001b[0m Trial 144 finished with value: 0.8483333333333333 and parameters: {'n_estimators': 560, 'max_depth': 59, 'max_features': 37, 'min_samples_leaf': 5, 'min_samples_split': 12, 'bootstrap': True, 'criterion': 'entropy'}. Best is trial 135 with value: 0.85.\u001b[0m\n"
     ]
    },
    {
     "name": "stdout",
     "output_type": "stream",
     "text": [
      "val score: 0.8483333333333333\n",
      "test score: 0.797752808988764\n"
     ]
    },
    {
     "name": "stderr",
     "output_type": "stream",
     "text": [
      "\u001b[32m[I 2021-11-22 00:57:41,490]\u001b[0m Trial 145 finished with value: 0.8483333333333334 and parameters: {'n_estimators': 500, 'max_depth': 55, 'max_features': 38, 'min_samples_leaf': 5, 'min_samples_split': 12, 'bootstrap': True, 'criterion': 'entropy'}. Best is trial 135 with value: 0.85.\u001b[0m\n"
     ]
    },
    {
     "name": "stdout",
     "output_type": "stream",
     "text": [
      "val score: 0.8483333333333334\n",
      "test score: 0.797752808988764\n"
     ]
    },
    {
     "name": "stderr",
     "output_type": "stream",
     "text": [
      "\u001b[32m[I 2021-11-22 00:57:48,636]\u001b[0m Trial 146 finished with value: 0.8216666666666667 and parameters: {'n_estimators': 460, 'max_depth': 68, 'max_features': 36, 'min_samples_leaf': 5, 'min_samples_split': 12, 'bootstrap': False, 'criterion': 'entropy'}. Best is trial 135 with value: 0.85.\u001b[0m\n"
     ]
    },
    {
     "name": "stdout",
     "output_type": "stream",
     "text": [
      "val score: 0.8216666666666667\n",
      "test score: 0.797752808988764\n"
     ]
    },
    {
     "name": "stderr",
     "output_type": "stream",
     "text": [
      "\u001b[32m[I 2021-11-22 00:57:56,192]\u001b[0m Trial 147 finished with value: 0.8491666666666667 and parameters: {'n_estimators': 520, 'max_depth': 61, 'max_features': 38, 'min_samples_leaf': 5, 'min_samples_split': 12, 'bootstrap': True, 'criterion': 'entropy'}. Best is trial 135 with value: 0.85.\u001b[0m\n"
     ]
    },
    {
     "name": "stdout",
     "output_type": "stream",
     "text": [
      "val score: 0.8491666666666667\n",
      "test score: 0.797752808988764\n"
     ]
    },
    {
     "name": "stderr",
     "output_type": "stream",
     "text": [
      "\u001b[32m[I 2021-11-22 00:58:03,636]\u001b[0m Trial 148 finished with value: 0.8491666666666667 and parameters: {'n_estimators': 520, 'max_depth': 65, 'max_features': 38, 'min_samples_leaf': 5, 'min_samples_split': 12, 'bootstrap': True, 'criterion': 'entropy'}. Best is trial 135 with value: 0.85.\u001b[0m\n"
     ]
    },
    {
     "name": "stdout",
     "output_type": "stream",
     "text": [
      "val score: 0.8491666666666667\n",
      "test score: 0.797752808988764\n"
     ]
    },
    {
     "name": "stderr",
     "output_type": "stream",
     "text": [
      "\u001b[32m[I 2021-11-22 00:58:12,085]\u001b[0m Trial 149 finished with value: 0.8474999999999999 and parameters: {'n_estimators': 520, 'max_depth': 66, 'max_features': 37, 'min_samples_leaf': 5, 'min_samples_split': 12, 'bootstrap': True, 'criterion': 'entropy'}. Best is trial 135 with value: 0.85.\u001b[0m\n"
     ]
    },
    {
     "name": "stdout",
     "output_type": "stream",
     "text": [
      "val score: 0.8474999999999999\n",
      "test score: 0.797752808988764\n"
     ]
    },
    {
     "name": "stderr",
     "output_type": "stream",
     "text": [
      "\u001b[32m[I 2021-11-22 00:58:18,193]\u001b[0m Trial 150 finished with value: 0.8466666666666667 and parameters: {'n_estimators': 430, 'max_depth': 57, 'max_features': 36, 'min_samples_leaf': 5, 'min_samples_split': 12, 'bootstrap': True, 'criterion': 'entropy'}. Best is trial 135 with value: 0.85.\u001b[0m\n"
     ]
    },
    {
     "name": "stdout",
     "output_type": "stream",
     "text": [
      "val score: 0.8466666666666667\n",
      "test score: 0.797752808988764\n"
     ]
    },
    {
     "name": "stderr",
     "output_type": "stream",
     "text": [
      "\u001b[32m[I 2021-11-22 00:58:25,137]\u001b[0m Trial 151 finished with value: 0.8458333333333334 and parameters: {'n_estimators': 480, 'max_depth': 62, 'max_features': 35, 'min_samples_leaf': 5, 'min_samples_split': 12, 'bootstrap': True, 'criterion': 'entropy'}. Best is trial 135 with value: 0.85.\u001b[0m\n"
     ]
    },
    {
     "name": "stdout",
     "output_type": "stream",
     "text": [
      "val score: 0.8458333333333334\n",
      "test score: 0.797752808988764\n"
     ]
    },
    {
     "name": "stderr",
     "output_type": "stream",
     "text": [
      "\u001b[32m[I 2021-11-22 00:58:33,538]\u001b[0m Trial 152 finished with value: 0.8491666666666667 and parameters: {'n_estimators': 570, 'max_depth': 61, 'max_features': 38, 'min_samples_leaf': 5, 'min_samples_split': 12, 'bootstrap': True, 'criterion': 'entropy'}. Best is trial 135 with value: 0.85.\u001b[0m\n"
     ]
    },
    {
     "name": "stdout",
     "output_type": "stream",
     "text": [
      "val score: 0.8491666666666667\n",
      "test score: 0.797752808988764\n"
     ]
    },
    {
     "name": "stderr",
     "output_type": "stream",
     "text": [
      "\u001b[32m[I 2021-11-22 00:58:41,560]\u001b[0m Trial 153 finished with value: 0.8491666666666667 and parameters: {'n_estimators': 540, 'max_depth': 65, 'max_features': 38, 'min_samples_leaf': 5, 'min_samples_split': 12, 'bootstrap': True, 'criterion': 'entropy'}. Best is trial 135 with value: 0.85.\u001b[0m\n"
     ]
    },
    {
     "name": "stdout",
     "output_type": "stream",
     "text": [
      "val score: 0.8491666666666667\n",
      "test score: 0.797752808988764\n"
     ]
    },
    {
     "name": "stderr",
     "output_type": "stream",
     "text": [
      "\u001b[32m[I 2021-11-22 00:58:49,886]\u001b[0m Trial 154 finished with value: 0.8483333333333333 and parameters: {'n_estimators': 560, 'max_depth': 72, 'max_features': 37, 'min_samples_leaf': 5, 'min_samples_split': 12, 'bootstrap': True, 'criterion': 'entropy'}. Best is trial 135 with value: 0.85.\u001b[0m\n"
     ]
    },
    {
     "name": "stdout",
     "output_type": "stream",
     "text": [
      "val score: 0.8483333333333333\n",
      "test score: 0.797752808988764\n"
     ]
    },
    {
     "name": "stderr",
     "output_type": "stream",
     "text": [
      "\u001b[32m[I 2021-11-22 00:58:57,765]\u001b[0m Trial 155 finished with value: 0.85 and parameters: {'n_estimators': 530, 'max_depth': 59, 'max_features': 38, 'min_samples_leaf': 5, 'min_samples_split': 12, 'bootstrap': True, 'criterion': 'entropy'}. Best is trial 135 with value: 0.85.\u001b[0m\n"
     ]
    },
    {
     "name": "stdout",
     "output_type": "stream",
     "text": [
      "val score: 0.85\n",
      "test score: 0.797752808988764\n"
     ]
    },
    {
     "ename": "KeyboardInterrupt",
     "evalue": "",
     "output_type": "error",
     "traceback": [
      "\u001b[1;31m---------------------------------------------------------------------------\u001b[0m",
      "\u001b[1;31mKeyboardInterrupt\u001b[0m                         Traceback (most recent call last)",
      "\u001b[1;32m<ipython-input-296-1e262ec080fb>\u001b[0m in \u001b[0;36m<module>\u001b[1;34m\u001b[0m\n\u001b[0;32m      1\u001b[0m \u001b[1;31m# Opimization\u001b[0m\u001b[1;33m\u001b[0m\u001b[1;33m\u001b[0m\u001b[0m\n\u001b[0;32m      2\u001b[0m \u001b[1;31m# Recevies the function to be optimized and the number of trials\u001b[0m\u001b[1;33m\u001b[0m\u001b[1;33m\u001b[0m\u001b[0m\n\u001b[1;32m----> 3\u001b[1;33m \u001b[0mstudy\u001b[0m\u001b[1;33m.\u001b[0m\u001b[0moptimize\u001b[0m\u001b[1;33m(\u001b[0m\u001b[0moptimize\u001b[0m\u001b[1;33m,\u001b[0m \u001b[0mn_trials\u001b[0m\u001b[1;33m=\u001b[0m\u001b[1;36m500\u001b[0m\u001b[1;33m)\u001b[0m\u001b[1;33m\u001b[0m\u001b[0m\n\u001b[0m",
      "\u001b[1;32m~\\anaconda3\\envs\\tf2.0-gpu\\lib\\site-packages\\optuna\\study\\study.py\u001b[0m in \u001b[0;36moptimize\u001b[1;34m(self, func, n_trials, timeout, n_jobs, catch, callbacks, gc_after_trial, show_progress_bar)\u001b[0m\n\u001b[0;32m    407\u001b[0m             \u001b[0mcallbacks\u001b[0m\u001b[1;33m=\u001b[0m\u001b[0mcallbacks\u001b[0m\u001b[1;33m,\u001b[0m\u001b[1;33m\u001b[0m\u001b[0m\n\u001b[0;32m    408\u001b[0m             \u001b[0mgc_after_trial\u001b[0m\u001b[1;33m=\u001b[0m\u001b[0mgc_after_trial\u001b[0m\u001b[1;33m,\u001b[0m\u001b[1;33m\u001b[0m\u001b[0m\n\u001b[1;32m--> 409\u001b[1;33m             \u001b[0mshow_progress_bar\u001b[0m\u001b[1;33m=\u001b[0m\u001b[0mshow_progress_bar\u001b[0m\u001b[1;33m,\u001b[0m\u001b[1;33m\u001b[0m\u001b[0m\n\u001b[0m\u001b[0;32m    410\u001b[0m         )\n\u001b[0;32m    411\u001b[0m \u001b[1;33m\u001b[0m\u001b[0m\n",
      "\u001b[1;32m~\\anaconda3\\envs\\tf2.0-gpu\\lib\\site-packages\\optuna\\study\\_optimize.py\u001b[0m in \u001b[0;36m_optimize\u001b[1;34m(study, func, n_trials, timeout, n_jobs, catch, callbacks, gc_after_trial, show_progress_bar)\u001b[0m\n\u001b[0;32m     74\u001b[0m                 \u001b[0mreseed_sampler_rng\u001b[0m\u001b[1;33m=\u001b[0m\u001b[1;32mFalse\u001b[0m\u001b[1;33m,\u001b[0m\u001b[1;33m\u001b[0m\u001b[0m\n\u001b[0;32m     75\u001b[0m                 \u001b[0mtime_start\u001b[0m\u001b[1;33m=\u001b[0m\u001b[1;32mNone\u001b[0m\u001b[1;33m,\u001b[0m\u001b[1;33m\u001b[0m\u001b[0m\n\u001b[1;32m---> 76\u001b[1;33m                 \u001b[0mprogress_bar\u001b[0m\u001b[1;33m=\u001b[0m\u001b[0mprogress_bar\u001b[0m\u001b[1;33m,\u001b[0m\u001b[1;33m\u001b[0m\u001b[0m\n\u001b[0m\u001b[0;32m     77\u001b[0m             )\n\u001b[0;32m     78\u001b[0m         \u001b[1;32melse\u001b[0m\u001b[1;33m:\u001b[0m\u001b[1;33m\u001b[0m\u001b[0m\n",
      "\u001b[1;32m~\\anaconda3\\envs\\tf2.0-gpu\\lib\\site-packages\\optuna\\study\\_optimize.py\u001b[0m in \u001b[0;36m_optimize_sequential\u001b[1;34m(study, func, n_trials, timeout, catch, callbacks, gc_after_trial, reseed_sampler_rng, time_start, progress_bar)\u001b[0m\n\u001b[0;32m    161\u001b[0m \u001b[1;33m\u001b[0m\u001b[0m\n\u001b[0;32m    162\u001b[0m         \u001b[1;32mtry\u001b[0m\u001b[1;33m:\u001b[0m\u001b[1;33m\u001b[0m\u001b[0m\n\u001b[1;32m--> 163\u001b[1;33m             \u001b[0mtrial\u001b[0m \u001b[1;33m=\u001b[0m \u001b[0m_run_trial\u001b[0m\u001b[1;33m(\u001b[0m\u001b[0mstudy\u001b[0m\u001b[1;33m,\u001b[0m \u001b[0mfunc\u001b[0m\u001b[1;33m,\u001b[0m \u001b[0mcatch\u001b[0m\u001b[1;33m)\u001b[0m\u001b[1;33m\u001b[0m\u001b[0m\n\u001b[0m\u001b[0;32m    164\u001b[0m         \u001b[1;32mexcept\u001b[0m \u001b[0mException\u001b[0m\u001b[1;33m:\u001b[0m\u001b[1;33m\u001b[0m\u001b[0m\n\u001b[0;32m    165\u001b[0m             \u001b[1;32mraise\u001b[0m\u001b[1;33m\u001b[0m\u001b[0m\n",
      "\u001b[1;32m~\\anaconda3\\envs\\tf2.0-gpu\\lib\\site-packages\\optuna\\study\\_optimize.py\u001b[0m in \u001b[0;36m_run_trial\u001b[1;34m(study, func, catch)\u001b[0m\n\u001b[0;32m    211\u001b[0m \u001b[1;33m\u001b[0m\u001b[0m\n\u001b[0;32m    212\u001b[0m     \u001b[1;32mtry\u001b[0m\u001b[1;33m:\u001b[0m\u001b[1;33m\u001b[0m\u001b[0m\n\u001b[1;32m--> 213\u001b[1;33m         \u001b[0mvalue_or_values\u001b[0m \u001b[1;33m=\u001b[0m \u001b[0mfunc\u001b[0m\u001b[1;33m(\u001b[0m\u001b[0mtrial\u001b[0m\u001b[1;33m)\u001b[0m\u001b[1;33m\u001b[0m\u001b[0m\n\u001b[0m\u001b[0;32m    214\u001b[0m     \u001b[1;32mexcept\u001b[0m \u001b[0mexceptions\u001b[0m\u001b[1;33m.\u001b[0m\u001b[0mTrialPruned\u001b[0m \u001b[1;32mas\u001b[0m \u001b[0me\u001b[0m\u001b[1;33m:\u001b[0m\u001b[1;33m\u001b[0m\u001b[0m\n\u001b[0;32m    215\u001b[0m         \u001b[1;31m# TODO(mamu): Handle multi-objective cases.\u001b[0m\u001b[1;33m\u001b[0m\u001b[1;33m\u001b[0m\u001b[0m\n",
      "\u001b[1;32m<ipython-input-293-faa37f96e43d>\u001b[0m in \u001b[0;36mobjective\u001b[1;34m(trial, X, y)\u001b[0m\n\u001b[0;32m     19\u001b[0m         \u001b[0mxtrain\u001b[0m\u001b[1;33m,\u001b[0m \u001b[0mxtest\u001b[0m \u001b[1;33m=\u001b[0m \u001b[0mX_train2\u001b[0m\u001b[1;33m.\u001b[0m\u001b[0miloc\u001b[0m\u001b[1;33m[\u001b[0m\u001b[0mtrain_idx\u001b[0m\u001b[1;33m,\u001b[0m \u001b[1;33m:\u001b[0m\u001b[1;33m]\u001b[0m\u001b[1;33m,\u001b[0m \u001b[0mX_train2\u001b[0m\u001b[1;33m.\u001b[0m\u001b[0miloc\u001b[0m\u001b[1;33m[\u001b[0m\u001b[0mtest_idx\u001b[0m\u001b[1;33m,\u001b[0m \u001b[1;33m:\u001b[0m\u001b[1;33m]\u001b[0m\u001b[1;33m\u001b[0m\u001b[0m\n\u001b[0;32m     20\u001b[0m         \u001b[0mytrain\u001b[0m\u001b[1;33m,\u001b[0m \u001b[0mytest\u001b[0m \u001b[1;33m=\u001b[0m \u001b[0my_train2\u001b[0m\u001b[1;33m[\u001b[0m\u001b[0mtrain_idx\u001b[0m\u001b[1;33m]\u001b[0m\u001b[1;33m,\u001b[0m \u001b[0my_train2\u001b[0m\u001b[1;33m[\u001b[0m\u001b[0mtest_idx\u001b[0m\u001b[1;33m]\u001b[0m\u001b[1;33m\u001b[0m\u001b[0m\n\u001b[1;32m---> 21\u001b[1;33m         \u001b[0mmodel\u001b[0m \u001b[1;33m=\u001b[0m \u001b[0mRandomForestClassifier\u001b[0m\u001b[1;33m(\u001b[0m\u001b[1;33m**\u001b[0m\u001b[0mgrid_param\u001b[0m\u001b[1;33m)\u001b[0m\u001b[1;33m.\u001b[0m\u001b[0mfit\u001b[0m\u001b[1;33m(\u001b[0m\u001b[0mxtrain\u001b[0m\u001b[1;33m,\u001b[0m \u001b[0mytrain\u001b[0m\u001b[1;33m)\u001b[0m\u001b[1;33m\u001b[0m\u001b[0m\n\u001b[0m\u001b[0;32m     22\u001b[0m         \u001b[0mval_score\u001b[0m \u001b[1;33m=\u001b[0m \u001b[0maccuracy_score\u001b[0m\u001b[1;33m(\u001b[0m\u001b[0mytest\u001b[0m\u001b[1;33m,\u001b[0m \u001b[0mmodel\u001b[0m\u001b[1;33m.\u001b[0m\u001b[0mpredict\u001b[0m\u001b[1;33m(\u001b[0m\u001b[0mxtest\u001b[0m\u001b[1;33m)\u001b[0m\u001b[1;33m)\u001b[0m\u001b[1;33m\u001b[0m\u001b[0m\n\u001b[0;32m     23\u001b[0m         \u001b[0mval_scores\u001b[0m\u001b[1;33m.\u001b[0m\u001b[0mappend\u001b[0m\u001b[1;33m(\u001b[0m\u001b[0mval_score\u001b[0m\u001b[1;33m)\u001b[0m\u001b[1;33m\u001b[0m\u001b[0m\n",
      "\u001b[1;32m~\\anaconda3\\envs\\tf2.0-gpu\\lib\\site-packages\\sklearn\\ensemble\\_forest.py\u001b[0m in \u001b[0;36mfit\u001b[1;34m(self, X, y, sample_weight)\u001b[0m\n\u001b[0;32m    391\u001b[0m                     \u001b[0mverbose\u001b[0m\u001b[1;33m=\u001b[0m\u001b[0mself\u001b[0m\u001b[1;33m.\u001b[0m\u001b[0mverbose\u001b[0m\u001b[1;33m,\u001b[0m \u001b[0mclass_weight\u001b[0m\u001b[1;33m=\u001b[0m\u001b[0mself\u001b[0m\u001b[1;33m.\u001b[0m\u001b[0mclass_weight\u001b[0m\u001b[1;33m,\u001b[0m\u001b[1;33m\u001b[0m\u001b[0m\n\u001b[0;32m    392\u001b[0m                     n_samples_bootstrap=n_samples_bootstrap)\n\u001b[1;32m--> 393\u001b[1;33m                 for i, t in enumerate(trees))\n\u001b[0m\u001b[0;32m    394\u001b[0m \u001b[1;33m\u001b[0m\u001b[0m\n\u001b[0;32m    395\u001b[0m             \u001b[1;31m# Collect newly grown trees\u001b[0m\u001b[1;33m\u001b[0m\u001b[1;33m\u001b[0m\u001b[0m\n",
      "\u001b[1;32m~\\anaconda3\\envs\\tf2.0-gpu\\lib\\site-packages\\joblib\\parallel.py\u001b[0m in \u001b[0;36m__call__\u001b[1;34m(self, iterable)\u001b[0m\n\u001b[0;32m   1042\u001b[0m                 \u001b[0mself\u001b[0m\u001b[1;33m.\u001b[0m\u001b[0m_iterating\u001b[0m \u001b[1;33m=\u001b[0m \u001b[0mself\u001b[0m\u001b[1;33m.\u001b[0m\u001b[0m_original_iterator\u001b[0m \u001b[1;32mis\u001b[0m \u001b[1;32mnot\u001b[0m \u001b[1;32mNone\u001b[0m\u001b[1;33m\u001b[0m\u001b[0m\n\u001b[0;32m   1043\u001b[0m \u001b[1;33m\u001b[0m\u001b[0m\n\u001b[1;32m-> 1044\u001b[1;33m             \u001b[1;32mwhile\u001b[0m \u001b[0mself\u001b[0m\u001b[1;33m.\u001b[0m\u001b[0mdispatch_one_batch\u001b[0m\u001b[1;33m(\u001b[0m\u001b[0miterator\u001b[0m\u001b[1;33m)\u001b[0m\u001b[1;33m:\u001b[0m\u001b[1;33m\u001b[0m\u001b[0m\n\u001b[0m\u001b[0;32m   1045\u001b[0m                 \u001b[1;32mpass\u001b[0m\u001b[1;33m\u001b[0m\u001b[0m\n\u001b[0;32m   1046\u001b[0m \u001b[1;33m\u001b[0m\u001b[0m\n",
      "\u001b[1;32m~\\anaconda3\\envs\\tf2.0-gpu\\lib\\site-packages\\joblib\\parallel.py\u001b[0m in \u001b[0;36mdispatch_one_batch\u001b[1;34m(self, iterator)\u001b[0m\n\u001b[0;32m    857\u001b[0m                 \u001b[1;32mreturn\u001b[0m \u001b[1;32mFalse\u001b[0m\u001b[1;33m\u001b[0m\u001b[0m\n\u001b[0;32m    858\u001b[0m             \u001b[1;32melse\u001b[0m\u001b[1;33m:\u001b[0m\u001b[1;33m\u001b[0m\u001b[0m\n\u001b[1;32m--> 859\u001b[1;33m                 \u001b[0mself\u001b[0m\u001b[1;33m.\u001b[0m\u001b[0m_dispatch\u001b[0m\u001b[1;33m(\u001b[0m\u001b[0mtasks\u001b[0m\u001b[1;33m)\u001b[0m\u001b[1;33m\u001b[0m\u001b[0m\n\u001b[0m\u001b[0;32m    860\u001b[0m                 \u001b[1;32mreturn\u001b[0m \u001b[1;32mTrue\u001b[0m\u001b[1;33m\u001b[0m\u001b[0m\n\u001b[0;32m    861\u001b[0m \u001b[1;33m\u001b[0m\u001b[0m\n",
      "\u001b[1;32m~\\anaconda3\\envs\\tf2.0-gpu\\lib\\site-packages\\joblib\\parallel.py\u001b[0m in \u001b[0;36m_dispatch\u001b[1;34m(self, batch)\u001b[0m\n\u001b[0;32m    775\u001b[0m         \u001b[1;32mwith\u001b[0m \u001b[0mself\u001b[0m\u001b[1;33m.\u001b[0m\u001b[0m_lock\u001b[0m\u001b[1;33m:\u001b[0m\u001b[1;33m\u001b[0m\u001b[0m\n\u001b[0;32m    776\u001b[0m             \u001b[0mjob_idx\u001b[0m \u001b[1;33m=\u001b[0m \u001b[0mlen\u001b[0m\u001b[1;33m(\u001b[0m\u001b[0mself\u001b[0m\u001b[1;33m.\u001b[0m\u001b[0m_jobs\u001b[0m\u001b[1;33m)\u001b[0m\u001b[1;33m\u001b[0m\u001b[0m\n\u001b[1;32m--> 777\u001b[1;33m             \u001b[0mjob\u001b[0m \u001b[1;33m=\u001b[0m \u001b[0mself\u001b[0m\u001b[1;33m.\u001b[0m\u001b[0m_backend\u001b[0m\u001b[1;33m.\u001b[0m\u001b[0mapply_async\u001b[0m\u001b[1;33m(\u001b[0m\u001b[0mbatch\u001b[0m\u001b[1;33m,\u001b[0m \u001b[0mcallback\u001b[0m\u001b[1;33m=\u001b[0m\u001b[0mcb\u001b[0m\u001b[1;33m)\u001b[0m\u001b[1;33m\u001b[0m\u001b[0m\n\u001b[0m\u001b[0;32m    778\u001b[0m             \u001b[1;31m# A job can complete so quickly than its callback is\u001b[0m\u001b[1;33m\u001b[0m\u001b[1;33m\u001b[0m\u001b[0m\n\u001b[0;32m    779\u001b[0m             \u001b[1;31m# called before we get here, causing self._jobs to\u001b[0m\u001b[1;33m\u001b[0m\u001b[1;33m\u001b[0m\u001b[0m\n",
      "\u001b[1;32m~\\anaconda3\\envs\\tf2.0-gpu\\lib\\site-packages\\joblib\\_parallel_backends.py\u001b[0m in \u001b[0;36mapply_async\u001b[1;34m(self, func, callback)\u001b[0m\n\u001b[0;32m    206\u001b[0m     \u001b[1;32mdef\u001b[0m \u001b[0mapply_async\u001b[0m\u001b[1;33m(\u001b[0m\u001b[0mself\u001b[0m\u001b[1;33m,\u001b[0m \u001b[0mfunc\u001b[0m\u001b[1;33m,\u001b[0m \u001b[0mcallback\u001b[0m\u001b[1;33m=\u001b[0m\u001b[1;32mNone\u001b[0m\u001b[1;33m)\u001b[0m\u001b[1;33m:\u001b[0m\u001b[1;33m\u001b[0m\u001b[0m\n\u001b[0;32m    207\u001b[0m         \u001b[1;34m\"\"\"Schedule a func to be run\"\"\"\u001b[0m\u001b[1;33m\u001b[0m\u001b[0m\n\u001b[1;32m--> 208\u001b[1;33m         \u001b[0mresult\u001b[0m \u001b[1;33m=\u001b[0m \u001b[0mImmediateResult\u001b[0m\u001b[1;33m(\u001b[0m\u001b[0mfunc\u001b[0m\u001b[1;33m)\u001b[0m\u001b[1;33m\u001b[0m\u001b[0m\n\u001b[0m\u001b[0;32m    209\u001b[0m         \u001b[1;32mif\u001b[0m \u001b[0mcallback\u001b[0m\u001b[1;33m:\u001b[0m\u001b[1;33m\u001b[0m\u001b[0m\n\u001b[0;32m    210\u001b[0m             \u001b[0mcallback\u001b[0m\u001b[1;33m(\u001b[0m\u001b[0mresult\u001b[0m\u001b[1;33m)\u001b[0m\u001b[1;33m\u001b[0m\u001b[0m\n",
      "\u001b[1;32m~\\anaconda3\\envs\\tf2.0-gpu\\lib\\site-packages\\joblib\\_parallel_backends.py\u001b[0m in \u001b[0;36m__init__\u001b[1;34m(self, batch)\u001b[0m\n\u001b[0;32m    570\u001b[0m         \u001b[1;31m# Don't delay the application, to avoid keeping the input\u001b[0m\u001b[1;33m\u001b[0m\u001b[1;33m\u001b[0m\u001b[0m\n\u001b[0;32m    571\u001b[0m         \u001b[1;31m# arguments in memory\u001b[0m\u001b[1;33m\u001b[0m\u001b[1;33m\u001b[0m\u001b[0m\n\u001b[1;32m--> 572\u001b[1;33m         \u001b[0mself\u001b[0m\u001b[1;33m.\u001b[0m\u001b[0mresults\u001b[0m \u001b[1;33m=\u001b[0m \u001b[0mbatch\u001b[0m\u001b[1;33m(\u001b[0m\u001b[1;33m)\u001b[0m\u001b[1;33m\u001b[0m\u001b[0m\n\u001b[0m\u001b[0;32m    573\u001b[0m \u001b[1;33m\u001b[0m\u001b[0m\n\u001b[0;32m    574\u001b[0m     \u001b[1;32mdef\u001b[0m \u001b[0mget\u001b[0m\u001b[1;33m(\u001b[0m\u001b[0mself\u001b[0m\u001b[1;33m)\u001b[0m\u001b[1;33m:\u001b[0m\u001b[1;33m\u001b[0m\u001b[0m\n",
      "\u001b[1;32m~\\anaconda3\\envs\\tf2.0-gpu\\lib\\site-packages\\joblib\\parallel.py\u001b[0m in \u001b[0;36m__call__\u001b[1;34m(self)\u001b[0m\n\u001b[0;32m    261\u001b[0m         \u001b[1;32mwith\u001b[0m \u001b[0mparallel_backend\u001b[0m\u001b[1;33m(\u001b[0m\u001b[0mself\u001b[0m\u001b[1;33m.\u001b[0m\u001b[0m_backend\u001b[0m\u001b[1;33m,\u001b[0m \u001b[0mn_jobs\u001b[0m\u001b[1;33m=\u001b[0m\u001b[0mself\u001b[0m\u001b[1;33m.\u001b[0m\u001b[0m_n_jobs\u001b[0m\u001b[1;33m)\u001b[0m\u001b[1;33m:\u001b[0m\u001b[1;33m\u001b[0m\u001b[0m\n\u001b[0;32m    262\u001b[0m             return [func(*args, **kwargs)\n\u001b[1;32m--> 263\u001b[1;33m                     for func, args, kwargs in self.items]\n\u001b[0m\u001b[0;32m    264\u001b[0m \u001b[1;33m\u001b[0m\u001b[0m\n\u001b[0;32m    265\u001b[0m     \u001b[1;32mdef\u001b[0m \u001b[0m__reduce__\u001b[0m\u001b[1;33m(\u001b[0m\u001b[0mself\u001b[0m\u001b[1;33m)\u001b[0m\u001b[1;33m:\u001b[0m\u001b[1;33m\u001b[0m\u001b[0m\n",
      "\u001b[1;32m~\\anaconda3\\envs\\tf2.0-gpu\\lib\\site-packages\\joblib\\parallel.py\u001b[0m in \u001b[0;36m<listcomp>\u001b[1;34m(.0)\u001b[0m\n\u001b[0;32m    261\u001b[0m         \u001b[1;32mwith\u001b[0m \u001b[0mparallel_backend\u001b[0m\u001b[1;33m(\u001b[0m\u001b[0mself\u001b[0m\u001b[1;33m.\u001b[0m\u001b[0m_backend\u001b[0m\u001b[1;33m,\u001b[0m \u001b[0mn_jobs\u001b[0m\u001b[1;33m=\u001b[0m\u001b[0mself\u001b[0m\u001b[1;33m.\u001b[0m\u001b[0m_n_jobs\u001b[0m\u001b[1;33m)\u001b[0m\u001b[1;33m:\u001b[0m\u001b[1;33m\u001b[0m\u001b[0m\n\u001b[0;32m    262\u001b[0m             return [func(*args, **kwargs)\n\u001b[1;32m--> 263\u001b[1;33m                     for func, args, kwargs in self.items]\n\u001b[0m\u001b[0;32m    264\u001b[0m \u001b[1;33m\u001b[0m\u001b[0m\n\u001b[0;32m    265\u001b[0m     \u001b[1;32mdef\u001b[0m \u001b[0m__reduce__\u001b[0m\u001b[1;33m(\u001b[0m\u001b[0mself\u001b[0m\u001b[1;33m)\u001b[0m\u001b[1;33m:\u001b[0m\u001b[1;33m\u001b[0m\u001b[0m\n",
      "\u001b[1;32m~\\anaconda3\\envs\\tf2.0-gpu\\lib\\site-packages\\sklearn\\utils\\fixes.py\u001b[0m in \u001b[0;36m__call__\u001b[1;34m(self, *args, **kwargs)\u001b[0m\n\u001b[0;32m    220\u001b[0m     \u001b[1;32mdef\u001b[0m \u001b[0m__call__\u001b[0m\u001b[1;33m(\u001b[0m\u001b[0mself\u001b[0m\u001b[1;33m,\u001b[0m \u001b[1;33m*\u001b[0m\u001b[0margs\u001b[0m\u001b[1;33m,\u001b[0m \u001b[1;33m**\u001b[0m\u001b[0mkwargs\u001b[0m\u001b[1;33m)\u001b[0m\u001b[1;33m:\u001b[0m\u001b[1;33m\u001b[0m\u001b[0m\n\u001b[0;32m    221\u001b[0m         \u001b[1;32mwith\u001b[0m \u001b[0mconfig_context\u001b[0m\u001b[1;33m(\u001b[0m\u001b[1;33m**\u001b[0m\u001b[0mself\u001b[0m\u001b[1;33m.\u001b[0m\u001b[0mconfig\u001b[0m\u001b[1;33m)\u001b[0m\u001b[1;33m:\u001b[0m\u001b[1;33m\u001b[0m\u001b[0m\n\u001b[1;32m--> 222\u001b[1;33m             \u001b[1;32mreturn\u001b[0m \u001b[0mself\u001b[0m\u001b[1;33m.\u001b[0m\u001b[0mfunction\u001b[0m\u001b[1;33m(\u001b[0m\u001b[1;33m*\u001b[0m\u001b[0margs\u001b[0m\u001b[1;33m,\u001b[0m \u001b[1;33m**\u001b[0m\u001b[0mkwargs\u001b[0m\u001b[1;33m)\u001b[0m\u001b[1;33m\u001b[0m\u001b[0m\n\u001b[0m",
      "\u001b[1;32m~\\anaconda3\\envs\\tf2.0-gpu\\lib\\site-packages\\sklearn\\ensemble\\_forest.py\u001b[0m in \u001b[0;36m_parallel_build_trees\u001b[1;34m(tree, forest, X, y, sample_weight, tree_idx, n_trees, verbose, class_weight, n_samples_bootstrap)\u001b[0m\n\u001b[0;32m    167\u001b[0m                                                         indices=indices)\n\u001b[0;32m    168\u001b[0m \u001b[1;33m\u001b[0m\u001b[0m\n\u001b[1;32m--> 169\u001b[1;33m         \u001b[0mtree\u001b[0m\u001b[1;33m.\u001b[0m\u001b[0mfit\u001b[0m\u001b[1;33m(\u001b[0m\u001b[0mX\u001b[0m\u001b[1;33m,\u001b[0m \u001b[0my\u001b[0m\u001b[1;33m,\u001b[0m \u001b[0msample_weight\u001b[0m\u001b[1;33m=\u001b[0m\u001b[0mcurr_sample_weight\u001b[0m\u001b[1;33m,\u001b[0m \u001b[0mcheck_input\u001b[0m\u001b[1;33m=\u001b[0m\u001b[1;32mFalse\u001b[0m\u001b[1;33m)\u001b[0m\u001b[1;33m\u001b[0m\u001b[0m\n\u001b[0m\u001b[0;32m    170\u001b[0m     \u001b[1;32melse\u001b[0m\u001b[1;33m:\u001b[0m\u001b[1;33m\u001b[0m\u001b[0m\n\u001b[0;32m    171\u001b[0m         \u001b[0mtree\u001b[0m\u001b[1;33m.\u001b[0m\u001b[0mfit\u001b[0m\u001b[1;33m(\u001b[0m\u001b[0mX\u001b[0m\u001b[1;33m,\u001b[0m \u001b[0my\u001b[0m\u001b[1;33m,\u001b[0m \u001b[0msample_weight\u001b[0m\u001b[1;33m=\u001b[0m\u001b[0msample_weight\u001b[0m\u001b[1;33m,\u001b[0m \u001b[0mcheck_input\u001b[0m\u001b[1;33m=\u001b[0m\u001b[1;32mFalse\u001b[0m\u001b[1;33m)\u001b[0m\u001b[1;33m\u001b[0m\u001b[0m\n",
      "\u001b[1;32m~\\anaconda3\\envs\\tf2.0-gpu\\lib\\site-packages\\sklearn\\tree\\_classes.py\u001b[0m in \u001b[0;36mfit\u001b[1;34m(self, X, y, sample_weight, check_input, X_idx_sorted)\u001b[0m\n\u001b[0;32m    905\u001b[0m             \u001b[0msample_weight\u001b[0m\u001b[1;33m=\u001b[0m\u001b[0msample_weight\u001b[0m\u001b[1;33m,\u001b[0m\u001b[1;33m\u001b[0m\u001b[0m\n\u001b[0;32m    906\u001b[0m             \u001b[0mcheck_input\u001b[0m\u001b[1;33m=\u001b[0m\u001b[0mcheck_input\u001b[0m\u001b[1;33m,\u001b[0m\u001b[1;33m\u001b[0m\u001b[0m\n\u001b[1;32m--> 907\u001b[1;33m             X_idx_sorted=X_idx_sorted)\n\u001b[0m\u001b[0;32m    908\u001b[0m         \u001b[1;32mreturn\u001b[0m \u001b[0mself\u001b[0m\u001b[1;33m\u001b[0m\u001b[0m\n\u001b[0;32m    909\u001b[0m \u001b[1;33m\u001b[0m\u001b[0m\n",
      "\u001b[1;32m~\\anaconda3\\envs\\tf2.0-gpu\\lib\\site-packages\\sklearn\\tree\\_classes.py\u001b[0m in \u001b[0;36mfit\u001b[1;34m(self, X, y, sample_weight, check_input, X_idx_sorted)\u001b[0m\n\u001b[0;32m    392\u001b[0m                                            min_impurity_split)\n\u001b[0;32m    393\u001b[0m \u001b[1;33m\u001b[0m\u001b[0m\n\u001b[1;32m--> 394\u001b[1;33m         \u001b[0mbuilder\u001b[0m\u001b[1;33m.\u001b[0m\u001b[0mbuild\u001b[0m\u001b[1;33m(\u001b[0m\u001b[0mself\u001b[0m\u001b[1;33m.\u001b[0m\u001b[0mtree_\u001b[0m\u001b[1;33m,\u001b[0m \u001b[0mX\u001b[0m\u001b[1;33m,\u001b[0m \u001b[0my\u001b[0m\u001b[1;33m,\u001b[0m \u001b[0msample_weight\u001b[0m\u001b[1;33m)\u001b[0m\u001b[1;33m\u001b[0m\u001b[0m\n\u001b[0m\u001b[0;32m    395\u001b[0m \u001b[1;33m\u001b[0m\u001b[0m\n\u001b[0;32m    396\u001b[0m         \u001b[1;32mif\u001b[0m \u001b[0mself\u001b[0m\u001b[1;33m.\u001b[0m\u001b[0mn_outputs_\u001b[0m \u001b[1;33m==\u001b[0m \u001b[1;36m1\u001b[0m \u001b[1;32mand\u001b[0m \u001b[0mis_classifier\u001b[0m\u001b[1;33m(\u001b[0m\u001b[0mself\u001b[0m\u001b[1;33m)\u001b[0m\u001b[1;33m:\u001b[0m\u001b[1;33m\u001b[0m\u001b[0m\n",
      "\u001b[1;31mKeyboardInterrupt\u001b[0m: "
     ]
    }
   ],
   "source": [
    "# Opimization\n",
    "# Recevies the function to be optimized and the number of trials\n",
    "study.optimize(optimize, n_trials=500)"
   ]
  },
  {
   "cell_type": "code",
   "execution_count": 288,
   "id": "running-stranger",
   "metadata": {},
   "outputs": [
    {
     "data": {
      "text/html": [
       "<div>\n",
       "<style scoped>\n",
       "    .dataframe tbody tr th:only-of-type {\n",
       "        vertical-align: middle;\n",
       "    }\n",
       "\n",
       "    .dataframe tbody tr th {\n",
       "        vertical-align: top;\n",
       "    }\n",
       "\n",
       "    .dataframe thead th {\n",
       "        text-align: right;\n",
       "    }\n",
       "</style>\n",
       "<table border=\"1\" class=\"dataframe\">\n",
       "  <thead>\n",
       "    <tr style=\"text-align: right;\">\n",
       "      <th></th>\n",
       "      <th>0</th>\n",
       "      <th>1</th>\n",
       "    </tr>\n",
       "  </thead>\n",
       "  <tbody>\n",
       "    <tr>\n",
       "      <th>14</th>\n",
       "      <td>0.833333</td>\n",
       "      <td>0.842697</td>\n",
       "    </tr>\n",
       "    <tr>\n",
       "      <th>77</th>\n",
       "      <td>0.850000</td>\n",
       "      <td>0.842697</td>\n",
       "    </tr>\n",
       "    <tr>\n",
       "      <th>8</th>\n",
       "      <td>0.832500</td>\n",
       "      <td>0.842697</td>\n",
       "    </tr>\n",
       "    <tr>\n",
       "      <th>80</th>\n",
       "      <td>0.848333</td>\n",
       "      <td>0.842697</td>\n",
       "    </tr>\n",
       "    <tr>\n",
       "      <th>21</th>\n",
       "      <td>0.843333</td>\n",
       "      <td>0.842697</td>\n",
       "    </tr>\n",
       "    <tr>\n",
       "      <th>...</th>\n",
       "      <td>...</td>\n",
       "      <td>...</td>\n",
       "    </tr>\n",
       "    <tr>\n",
       "      <th>2</th>\n",
       "      <td>0.815000</td>\n",
       "      <td>0.730337</td>\n",
       "    </tr>\n",
       "    <tr>\n",
       "      <th>47</th>\n",
       "      <td>0.818333</td>\n",
       "      <td>0.730337</td>\n",
       "    </tr>\n",
       "    <tr>\n",
       "      <th>7</th>\n",
       "      <td>0.816667</td>\n",
       "      <td>0.730337</td>\n",
       "    </tr>\n",
       "    <tr>\n",
       "      <th>35</th>\n",
       "      <td>0.820000</td>\n",
       "      <td>0.730337</td>\n",
       "    </tr>\n",
       "    <tr>\n",
       "      <th>60</th>\n",
       "      <td>0.813333</td>\n",
       "      <td>0.719101</td>\n",
       "    </tr>\n",
       "  </tbody>\n",
       "</table>\n",
       "<p>100 rows × 2 columns</p>\n",
       "</div>"
      ],
      "text/plain": [
       "           0         1\n",
       "14  0.833333  0.842697\n",
       "77  0.850000  0.842697\n",
       "8   0.832500  0.842697\n",
       "80  0.848333  0.842697\n",
       "21  0.843333  0.842697\n",
       "..       ...       ...\n",
       "2   0.815000  0.730337\n",
       "47  0.818333  0.730337\n",
       "7   0.816667  0.730337\n",
       "35  0.820000  0.730337\n",
       "60  0.813333  0.719101\n",
       "\n",
       "[100 rows x 2 columns]"
      ]
     },
     "execution_count": 288,
     "metadata": {},
     "output_type": "execute_result"
    }
   ],
   "source": [
    "score_boad.iloc[score_boad[1].sort_values(ascending=False).index, :]"
   ]
  },
  {
   "cell_type": "code",
   "execution_count": 292,
   "id": "described-person",
   "metadata": {},
   "outputs": [
    {
     "data": {
      "text/plain": [
       "<AxesSubplot:xlabel='0', ylabel='1'>"
      ]
     },
     "execution_count": 292,
     "metadata": {},
     "output_type": "execute_result"
    },
    {
     "data": {
      "image/png": "[encoded data removed]",
      "text/plain": [
       "<Figure size 432x288 with 1 Axes>"
      ]
     },
     "metadata": {
      "needs_background": "light"
     },
     "output_type": "display_data"
    }
   ],
   "source": [
    "score_boad = pd.DataFrame(score_boad)\n",
    "sns.scatterplot(x=score_boad.iloc[:, 0], y=score_boad.iloc[:,1])\n",
    "sns.regplot(x=score_boad.iloc[:, 0], y=score_boad.iloc[:,1])"
   ]
  },
  {
   "cell_type": "code",
   "execution_count": 220,
   "id": "colonial-details",
   "metadata": {},
   "outputs": [
    {
     "data": {
      "text/plain": [
       "<AxesSubplot:xlabel='0', ylabel='1'>"
      ]
     },
     "execution_count": 220,
     "metadata": {},
     "output_type": "execute_result"
    },
    {
     "data": {
      "image/png": "[encoded data removed]",
      "text/plain": [
       "<Figure size 432x288 with 1 Axes>"
      ]
     },
     "metadata": {
      "needs_background": "light"
     },
     "output_type": "display_data"
    }
   ],
   "source": [
    "score_boad = pd.DataFrame(score_boad)\n",
    "sns.scatterplot(x=score_boad.iloc[:, 0], y=score_boad.iloc[:,1])\n",
    "sns.regplot(x=score_boad.iloc[:, 0], y=score_boad.iloc[:,1])"
   ]
  },
  {
   "cell_type": "code",
   "execution_count": 21,
   "id": "dietary-smith",
   "metadata": {},
   "outputs": [
    {
     "data": {
      "text/plain": [
       "{'n_estimators': 440,\n",
       " 'max_depth': 73,\n",
       " 'max_features': 4,\n",
       " 'min_samples_leaf': 2,\n",
       " 'min_samples_split': 10,\n",
       " 'bootstrap': True,\n",
       " 'criterion': 'entropy'}"
      ]
     },
     "execution_count": 21,
     "metadata": {},
     "output_type": "execute_result"
    }
   ],
   "source": [
    "study.best_params"
   ]
  },
  {
   "cell_type": "code",
   "execution_count": 120,
   "id": "efficient-velvet",
   "metadata": {},
   "outputs": [
    {
     "data": {
      "text/plain": [
       "array([0.8062201])"
      ]
     },
     "execution_count": 120,
     "metadata": {},
     "output_type": "execute_result"
    }
   ],
   "source": [
    "model_rf = RandomForestClassifier(bootstrap=True,\n",
    "                                  criterion='entropy',\n",
    "                                  max_depth=50, max_features=6, \n",
    "                                  min_samples_leaf=1, \n",
    "                                  min_samples_split=10, \n",
    "                                  n_estimators=100,\n",
    "                                  random_state=734)\n",
    "y_pred_exist = model_rf.fit(X_train, y_train).predict(X_test)\n",
    "(y_test.values == y_pred_exist).sum() / y_test.shape"
   ]
  },
  {
   "cell_type": "code",
   "execution_count": 22,
   "id": "automotive-diary",
   "metadata": {},
   "outputs": [
    {
     "data": {
      "text/plain": [
       "array([0.80143541])"
      ]
     },
     "execution_count": 22,
     "metadata": {},
     "output_type": "execute_result"
    }
   ],
   "source": [
    "model_rf_new = RandomForestClassifier(**study.best_params, random_state=734)\n",
    "y_pred_new = model_rf_new.fit(X_train, y_train).predict(X_test)\n",
    "(y_test.values == y_pred_new).sum() / y_test.shape"
   ]
  },
  {
   "cell_type": "code",
   "execution_count": 98,
   "id": "discrete-columbia",
   "metadata": {},
   "outputs": [
    {
     "data": {
      "text/plain": [
       "0.8290484352186885"
      ]
     },
     "execution_count": 98,
     "metadata": {},
     "output_type": "execute_result"
    }
   ],
   "source": [
    "cross_val_score(model_rf, X_train, y_train, cv=cv, scoring='accuracy').mean()"
   ]
  },
  {
   "cell_type": "code",
   "execution_count": 182,
   "id": "perceived-neighborhood",
   "metadata": {},
   "outputs": [
    {
     "name": "stdout",
     "output_type": "stream",
     "text": [
      "0.8571428571428571\n",
      "1.0\n"
     ]
    }
   ],
   "source": [
    "model_tmp = RandomForestClassifier(\n",
    "    n_estimators=710,\n",
    "    max_depth=10, \n",
    "    max_features=28,\n",
    "    min_samples_leaf=5, \n",
    "    min_samples_split=11, bootstrap=False, criterion='entropy', random_state=42)\n",
    "model_tmp.fit(X_train.iloc[:700, :], y_train[:700])\n",
    "print(accuracy_score(y_train[700:], model_tmp.predict(X_train.iloc[700:,:])))\n",
    "print(accuracy_score(y_test[:1], model_tmp.predict(X_test.iloc[:1, :])))"
   ]
  },
  {
   "cell_type": "code",
   "execution_count": null,
   "id": "silent-choice",
   "metadata": {},
   "outputs": [],
   "source": [
    "from sklearn.model_selection import GridSearchCV, StratifiedKFold, StratifiedShuffleSplit\n",
    "from sklearn.ensemble import RandomForestClassifier\n",
    "n_estimators = [140,145,150,155,160];\n",
    "max_depth = range(1,10);\n",
    "criterions = ['gini', 'entropy'];\n",
    "cv = StratifiedShuffleSplit(n_splits=10, test_size=.30, random_state=15)\n",
    "\n",
    "\n",
    "parameters = {'n_estimators':n_estimators,\n",
    "              'max_depth':max_depth,\n",
    "              'criterion': criterions\n",
    "              \n",
    "        }\n",
    "grid = GridSearchCV(estimator=RandomForestClassifier(max_features='auto'),\n",
    "                                 param_grid=parameters,\n",
    "                                 cv=cv,\n",
    "                                 n_jobs = -1)\n",
    "grid.fit(X,y) "
   ]
  },
  {
   "cell_type": "code",
   "execution_count": null,
   "id": "guided-walter",
   "metadata": {},
   "outputs": [],
   "source": []
  },
  {
   "cell_type": "code",
   "execution_count": null,
   "id": "great-brother",
   "metadata": {},
   "outputs": [],
   "source": []
  },
  {
   "cell_type": "code",
   "execution_count": null,
   "id": "cleared-flexibility",
   "metadata": {},
   "outputs": [],
   "source": []
  },
  {
   "cell_type": "code",
   "execution_count": null,
   "id": "august-sheffield",
   "metadata": {},
   "outputs": [],
   "source": [
    "model = RandomForestClassifier()"
   ]
  },
  {
   "cell_type": "code",
   "execution_count": null,
   "id": "configured-lunch",
   "metadata": {},
   "outputs": [],
   "source": []
  },
  {
   "cell_type": "code",
   "execution_count": null,
   "id": "municipal-acquisition",
   "metadata": {},
   "outputs": [],
   "source": []
  },
  {
   "cell_type": "code",
   "execution_count": null,
   "id": "scheduled-greeting",
   "metadata": {},
   "outputs": [],
   "source": []
  },
  {
   "cell_type": "code",
   "execution_count": null,
   "id": "technical-backup",
   "metadata": {},
   "outputs": [],
   "source": []
  },
  {
   "cell_type": "code",
   "execution_count": null,
   "id": "compatible-commons",
   "metadata": {},
   "outputs": [],
   "source": []
  },
  {
   "cell_type": "code",
   "execution_count": null,
   "id": "canadian-municipality",
   "metadata": {},
   "outputs": [],
   "source": []
  },
  {
   "cell_type": "code",
   "execution_count": null,
   "id": "seeing-infection",
   "metadata": {},
   "outputs": [],
   "source": []
  },
  {
   "cell_type": "code",
   "execution_count": null,
   "id": "threatened-prospect",
   "metadata": {},
   "outputs": [],
   "source": []
  },
  {
   "cell_type": "code",
   "execution_count": null,
   "id": "spectacular-hurricane",
   "metadata": {},
   "outputs": [],
   "source": []
  },
  {
   "cell_type": "code",
   "execution_count": null,
   "id": "elegant-collins",
   "metadata": {},
   "outputs": [],
   "source": []
  },
  {
   "cell_type": "code",
   "execution_count": null,
   "id": "conditional-grain",
   "metadata": {},
   "outputs": [],
   "source": []
  },
  {
   "cell_type": "code",
   "execution_count": null,
   "id": "practical-update",
   "metadata": {},
   "outputs": [],
   "source": []
  },
  {
   "cell_type": "code",
   "execution_count": null,
   "id": "national-proceeding",
   "metadata": {},
   "outputs": [],
   "source": []
  },
  {
   "cell_type": "code",
   "execution_count": null,
   "id": "ordinary-ukraine",
   "metadata": {},
   "outputs": [],
   "source": []
  },
  {
   "cell_type": "code",
   "execution_count": null,
   "id": "constitutional-community",
   "metadata": {},
   "outputs": [],
   "source": []
  },
  {
   "cell_type": "code",
   "execution_count": null,
   "id": "center-publisher",
   "metadata": {},
   "outputs": [],
   "source": []
  },
  {
   "cell_type": "code",
   "execution_count": null,
   "id": "sealed-sunglasses",
   "metadata": {},
   "outputs": [],
   "source": []
  },
  {
   "cell_type": "code",
   "execution_count": null,
   "id": "normal-importance",
   "metadata": {},
   "outputs": [],
   "source": []
  },
  {
   "cell_type": "code",
   "execution_count": null,
   "id": "upset-geneva",
   "metadata": {},
   "outputs": [],
   "source": []
  },
  {
   "cell_type": "code",
   "execution_count": null,
   "id": "macro-falls",
   "metadata": {},
   "outputs": [],
   "source": []
  },
  {
   "cell_type": "code",
   "execution_count": null,
   "id": "sharing-worst",
   "metadata": {},
   "outputs": [],
   "source": []
  },
  {
   "cell_type": "code",
   "execution_count": null,
   "id": "german-crossing",
   "metadata": {},
   "outputs": [],
   "source": []
  }
 ],
 "metadata": {
  "hide_input": false,
  "kernelspec": {
   "display_name": "Python 3",
   "language": "python",
   "name": "python3"
  },
  "language_info": {
   "codemirror_mode": {
    "name": "ipython",
    "version": 3
   },
   "file_extension": ".py",
   "mimetype": "text/x-python",
   "name": "python",
   "nbconvert_exporter": "python",
   "pygments_lexer": "ipython3",
   "version": "3.7.0"
  }
 },
 "nbformat": 4,
 "nbformat_minor": 5
}
