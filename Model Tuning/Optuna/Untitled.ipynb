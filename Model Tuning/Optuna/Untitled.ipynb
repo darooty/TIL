{
 "cells": [
  {
   "cell_type": "code",
   "execution_count": 45,
   "id": "bf359c66",
   "metadata": {},
   "outputs": [],
   "source": [
    "import numpy as np\n",
    "import pandas as pd\n",
    "import matplotlib.pyplot as pld\n",
    "import seaborn as sns\n",
    "import optuna\n",
    "from functools import partial\n",
    "\n",
    "from sklearn.ensemble import RandomForestClassifier\n",
    "from sklearn.model_selection import KFold, StratifiedKFold, train_test_split, GridSearchCV, RandomizedSearchCV, cross_val_score\n",
    "from sklearn.metrics import roc_auc_score"
   ]
  },
  {
   "cell_type": "code",
   "execution_count": 46,
   "id": "82df97bf",
   "metadata": {},
   "outputs": [],
   "source": [
    "X_train, y_train = pd.read_csv('../../Data/titanic_xtrain.csv'), pd.read_csv('../../Data/titanic_ytrain.csv')\n",
    "X_test, y_test = pd.read_csv('../../Data/titanic_xtest.csv'), pd.read_csv('../../Data/titanic_ytest.csv')"
   ]
  },
  {
   "cell_type": "code",
   "execution_count": 47,
   "id": "ea049240",
   "metadata": {},
   "outputs": [],
   "source": [
    "X_train = X_train.iloc[:, 1:]\n",
    "X_test = X_test.iloc[:, 1:]\n",
    "y_train = y_train.Survived\n",
    "y_test = y_test.Survived"
   ]
  },
  {
   "cell_type": "code",
   "execution_count": 86,
   "id": "5620df03",
   "metadata": {},
   "outputs": [],
   "source": [
    "def objective(trial, X, y):\n",
    "    grid_param = {\n",
    "        'n_estimators': trial.suggest_int('n_estimators', 50, 1000, 10),\n",
    "        'max_depth': trial.suggest_int('max_depth', 2, 100),\n",
    "        'max_features': trial.suggest_int('max_features', 1, 40),\n",
    "        'min_samples_leaf': trial.suggest_int('min_samples_leaf', 1, 5),\n",
    "        'min_samples_split': trial.suggest_int('min_samples_split', 8, 13),\n",
    "        'bootstrap': trial.suggest_categorical('bootstrap', [True, False]),\n",
    "        'criterion': trial.suggest_categorical('criterion', ['entropy'])\n",
    "    }\n",
    "    cv = StratifiedKFold(n_splits=5, shuffle=True, random_state=True)\n",
    "    model = RandomForestClassifier(**grid_param)\n",
    "    score = cross_val_score(model, X, y, scoring='accuracy').mean()\n",
    "    print(f'score: {score}')\n",
    "    return score"
   ]
  },
  {
   "cell_type": "code",
   "execution_count": 87,
   "id": "e754d90d",
   "metadata": {},
   "outputs": [
    {
     "name": "stderr",
     "output_type": "stream",
     "text": [
      "\u001b[32m[I 2021-11-21 17:56:17,671]\u001b[0m A new study created in memory with name: no-name-2ad7b8ae-0861-49e3-a1b6-fa9d91d5c904\u001b[0m\n"
     ]
    }
   ],
   "source": [
    "optimize = partial(objective, X=X_train, y=y_train)\n",
    "study = optuna.create_study(direction='maximize')"
   ]
  },
  {
   "cell_type": "code",
   "execution_count": 88,
   "id": "80c904c0",
   "metadata": {
    "scrolled": true
   },
   "outputs": [
    {
     "name": "stderr",
     "output_type": "stream",
     "text": [
      "\u001b[32m[I 2021-11-21 17:56:21,594]\u001b[0m Trial 0 finished with value: 0.8245604011934236 and parameters: {'n_estimators': 650, 'max_depth': 20, 'max_features': 6, 'min_samples_leaf': 3, 'min_samples_split': 13, 'bootstrap': True, 'criterion': 'entropy'}. Best is trial 0 with value: 0.8245604011934236.\u001b[0m\n"
     ]
    },
    {
     "name": "stdout",
     "output_type": "stream",
     "text": [
      "score: 0.8245604011934236\n"
     ]
    },
    {
     "name": "stderr",
     "output_type": "stream",
     "text": [
      "\u001b[32m[I 2021-11-21 17:56:25,011]\u001b[0m Trial 1 finished with value: 0.8335364692439533 and parameters: {'n_estimators': 530, 'max_depth': 63, 'max_features': 21, 'min_samples_leaf': 4, 'min_samples_split': 8, 'bootstrap': True, 'criterion': 'entropy'}. Best is trial 1 with value: 0.8335364692439533.\u001b[0m\n"
     ]
    },
    {
     "name": "stdout",
     "output_type": "stream",
     "text": [
      "score: 0.8335364692439533\n"
     ]
    },
    {
     "name": "stderr",
     "output_type": "stream",
     "text": [
      "\u001b[32m[I 2021-11-21 17:56:25,738]\u001b[0m Trial 2 finished with value: 0.8132990541484162 and parameters: {'n_estimators': 70, 'max_depth': 100, 'max_features': 40, 'min_samples_leaf': 2, 'min_samples_split': 11, 'bootstrap': False, 'criterion': 'entropy'}. Best is trial 1 with value: 0.8335364692439533.\u001b[0m\n"
     ]
    },
    {
     "name": "stdout",
     "output_type": "stream",
     "text": [
      "score: 0.8132990541484162\n"
     ]
    },
    {
     "name": "stderr",
     "output_type": "stream",
     "text": [
      "\u001b[32m[I 2021-11-21 17:56:27,020]\u001b[0m Trial 3 finished with value: 0.8189360756681265 and parameters: {'n_estimators': 280, 'max_depth': 84, 'max_features': 4, 'min_samples_leaf': 4, 'min_samples_split': 8, 'bootstrap': True, 'criterion': 'entropy'}. Best is trial 1 with value: 0.8335364692439533.\u001b[0m\n"
     ]
    },
    {
     "name": "stdout",
     "output_type": "stream",
     "text": [
      "score: 0.8189360756681265\n"
     ]
    },
    {
     "name": "stderr",
     "output_type": "stream",
     "text": [
      "\u001b[32m[I 2021-11-21 17:56:28,585]\u001b[0m Trial 4 finished with value: 0.8290484352186885 and parameters: {'n_estimators': 320, 'max_depth': 49, 'max_features': 6, 'min_samples_leaf': 2, 'min_samples_split': 12, 'bootstrap': True, 'criterion': 'entropy'}. Best is trial 1 with value: 0.8335364692439533.\u001b[0m\n"
     ]
    },
    {
     "name": "stdout",
     "output_type": "stream",
     "text": [
      "score: 0.8290484352186885\n"
     ]
    },
    {
     "name": "stderr",
     "output_type": "stream",
     "text": [
      "\u001b[32m[I 2021-11-21 17:56:31,928]\u001b[0m Trial 5 finished with value: 0.8346664127467784 and parameters: {'n_estimators': 580, 'max_depth': 82, 'max_features': 12, 'min_samples_leaf': 3, 'min_samples_split': 11, 'bootstrap': False, 'criterion': 'entropy'}. Best is trial 5 with value: 0.8346664127467784.\u001b[0m\n"
     ]
    },
    {
     "name": "stdout",
     "output_type": "stream",
     "text": [
      "score: 0.8346664127467784\n"
     ]
    },
    {
     "name": "stderr",
     "output_type": "stream",
     "text": [
      "\u001b[32m[I 2021-11-21 17:56:40,243]\u001b[0m Trial 6 finished with value: 0.7986796165809688 and parameters: {'n_estimators': 690, 'max_depth': 23, 'max_features': 38, 'min_samples_leaf': 3, 'min_samples_split': 10, 'bootstrap': False, 'criterion': 'entropy'}. Best is trial 5 with value: 0.8346664127467784.\u001b[0m\n"
     ]
    },
    {
     "name": "stdout",
     "output_type": "stream",
     "text": [
      "score: 0.7986796165809688\n"
     ]
    },
    {
     "name": "stderr",
     "output_type": "stream",
     "text": [
      "\u001b[32m[I 2021-11-21 17:56:48,239]\u001b[0m Trial 7 finished with value: 0.8357773122579826 and parameters: {'n_estimators': 980, 'max_depth': 28, 'max_features': 22, 'min_samples_leaf': 5, 'min_samples_split': 10, 'bootstrap': False, 'criterion': 'entropy'}. Best is trial 7 with value: 0.8357773122579826.\u001b[0m\n"
     ]
    },
    {
     "name": "stdout",
     "output_type": "stream",
     "text": [
      "score: 0.8357773122579826\n"
     ]
    },
    {
     "name": "stderr",
     "output_type": "stream",
     "text": [
      "\u001b[32m[I 2021-11-21 17:56:53,826]\u001b[0m Trial 8 finished with value: 0.8335491652383672 and parameters: {'n_estimators': 900, 'max_depth': 45, 'max_features': 13, 'min_samples_leaf': 3, 'min_samples_split': 9, 'bootstrap': False, 'criterion': 'entropy'}. Best is trial 7 with value: 0.8357773122579826.\u001b[0m\n"
     ]
    },
    {
     "name": "stdout",
     "output_type": "stream",
     "text": [
      "score: 0.8335491652383672\n"
     ]
    },
    {
     "name": "stderr",
     "output_type": "stream",
     "text": [
      "\u001b[32m[I 2021-11-21 17:56:59,405]\u001b[0m Trial 9 finished with value: 0.8234241096933917 and parameters: {'n_estimators': 590, 'max_depth': 94, 'max_features': 36, 'min_samples_leaf': 4, 'min_samples_split': 13, 'bootstrap': False, 'criterion': 'entropy'}. Best is trial 7 with value: 0.8357773122579826.\u001b[0m\n"
     ]
    },
    {
     "name": "stdout",
     "output_type": "stream",
     "text": [
      "score: 0.8234241096933917\n"
     ]
    },
    {
     "name": "stderr",
     "output_type": "stream",
     "text": [
      "\u001b[32m[I 2021-11-21 17:57:04,511]\u001b[0m Trial 10 finished with value: 0.8279184917158636 and parameters: {'n_estimators': 990, 'max_depth': 3, 'max_features': 28, 'min_samples_leaf': 5, 'min_samples_split': 10, 'bootstrap': False, 'criterion': 'entropy'}. Best is trial 7 with value: 0.8357773122579826.\u001b[0m\n"
     ]
    },
    {
     "name": "stdout",
     "output_type": "stream",
     "text": [
      "score: 0.8279184917158636\n"
     ]
    },
    {
     "name": "stderr",
     "output_type": "stream",
     "text": [
      "\u001b[32m[I 2021-11-21 17:57:10,327]\u001b[0m Trial 11 finished with value: 0.830146638735479 and parameters: {'n_estimators': 810, 'max_depth': 71, 'max_features': 17, 'min_samples_leaf': 1, 'min_samples_split': 11, 'bootstrap': False, 'criterion': 'entropy'}. Best is trial 7 with value: 0.8357773122579826.\u001b[0m\n"
     ]
    },
    {
     "name": "stdout",
     "output_type": "stream",
     "text": [
      "score: 0.830146638735479\n"
     ]
    },
    {
     "name": "stderr",
     "output_type": "stream",
     "text": [
      "\u001b[32m[I 2021-11-21 17:57:13,160]\u001b[0m Trial 12 finished with value: 0.8380308512664254 and parameters: {'n_estimators': 380, 'max_depth': 35, 'max_features': 23, 'min_samples_leaf': 5, 'min_samples_split': 11, 'bootstrap': False, 'criterion': 'entropy'}. Best is trial 12 with value: 0.8380308512664254.\u001b[0m\n"
     ]
    },
    {
     "name": "stdout",
     "output_type": "stream",
     "text": [
      "score: 0.8380308512664254\n"
     ]
    },
    {
     "name": "stderr",
     "output_type": "stream",
     "text": [
      "\u001b[32m[I 2021-11-21 17:57:16,056]\u001b[0m Trial 13 finished with value: 0.8357836602551896 and parameters: {'n_estimators': 360, 'max_depth': 36, 'max_features': 27, 'min_samples_leaf': 5, 'min_samples_split': 9, 'bootstrap': False, 'criterion': 'entropy'}. Best is trial 12 with value: 0.8380308512664254.\u001b[0m\n"
     ]
    },
    {
     "name": "stdout",
     "output_type": "stream",
     "text": [
      "score: 0.8357836602551896\n"
     ]
    },
    {
     "name": "stderr",
     "output_type": "stream",
     "text": [
      "\u001b[32m[I 2021-11-21 17:57:18,976]\u001b[0m Trial 14 finished with value: 0.8324065257411286 and parameters: {'n_estimators': 350, 'max_depth': 35, 'max_features': 29, 'min_samples_leaf': 5, 'min_samples_split': 9, 'bootstrap': False, 'criterion': 'entropy'}. Best is trial 12 with value: 0.8380308512664254.\u001b[0m\n"
     ]
    },
    {
     "name": "stdout",
     "output_type": "stream",
     "text": [
      "score: 0.8324065257411286\n"
     ]
    },
    {
     "name": "stderr",
     "output_type": "stream",
     "text": [
      "\u001b[32m[I 2021-11-21 17:57:22,350]\u001b[0m Trial 15 finished with value: 0.8357773122579827 and parameters: {'n_estimators': 430, 'max_depth': 9, 'max_features': 29, 'min_samples_leaf': 5, 'min_samples_split': 9, 'bootstrap': False, 'criterion': 'entropy'}. Best is trial 12 with value: 0.8380308512664254.\u001b[0m\n"
     ]
    },
    {
     "name": "stdout",
     "output_type": "stream",
     "text": [
      "score: 0.8357773122579827\n"
     ]
    },
    {
     "name": "stderr",
     "output_type": "stream",
     "text": [
      "\u001b[32m[I 2021-11-21 17:57:23,693]\u001b[0m Trial 16 finished with value: 0.8346537167523647 and parameters: {'n_estimators': 170, 'max_depth': 41, 'max_features': 25, 'min_samples_leaf': 4, 'min_samples_split': 12, 'bootstrap': False, 'criterion': 'entropy'}. Best is trial 12 with value: 0.8380308512664254.\u001b[0m\n"
     ]
    },
    {
     "name": "stdout",
     "output_type": "stream",
     "text": [
      "score: 0.8346537167523647\n"
     ]
    },
    {
     "name": "stderr",
     "output_type": "stream",
     "text": [
      "\u001b[32m[I 2021-11-21 17:57:27,735]\u001b[0m Trial 17 finished with value: 0.8312765822383037 and parameters: {'n_estimators': 450, 'max_depth': 63, 'max_features': 33, 'min_samples_leaf': 5, 'min_samples_split': 12, 'bootstrap': False, 'criterion': 'entropy'}. Best is trial 12 with value: 0.8380308512664254.\u001b[0m\n"
     ]
    },
    {
     "name": "stdout",
     "output_type": "stream",
     "text": [
      "score: 0.8312765822383037\n"
     ]
    },
    {
     "name": "stderr",
     "output_type": "stream",
     "text": [
      "\u001b[32m[I 2021-11-21 17:57:29,225]\u001b[0m Trial 18 finished with value: 0.8324128737383354 and parameters: {'n_estimators': 220, 'max_depth': 58, 'max_features': 18, 'min_samples_leaf': 4, 'min_samples_split': 9, 'bootstrap': True, 'criterion': 'entropy'}. Best is trial 12 with value: 0.8380308512664254.\u001b[0m\n"
     ]
    },
    {
     "name": "stdout",
     "output_type": "stream",
     "text": [
      "score: 0.8324128737383354\n"
     ]
    },
    {
     "name": "stderr",
     "output_type": "stream",
     "text": [
      "\u001b[32m[I 2021-11-21 17:57:32,915]\u001b[0m Trial 19 finished with value: 0.8357836602551896 and parameters: {'n_estimators': 450, 'max_depth': 34, 'max_features': 24, 'min_samples_leaf': 5, 'min_samples_split': 8, 'bootstrap': False, 'criterion': 'entropy'}. Best is trial 12 with value: 0.8380308512664254.\u001b[0m\n"
     ]
    },
    {
     "name": "stdout",
     "output_type": "stream",
     "text": [
      "score: 0.8357836602551896\n"
     ]
    },
    {
     "name": "stderr",
     "output_type": "stream",
     "text": [
      "\u001b[32m[I 2021-11-21 17:57:37,287]\u001b[0m Trial 20 finished with value: 0.8042785501174381 and parameters: {'n_estimators': 440, 'max_depth': 14, 'max_features': 33, 'min_samples_leaf': 1, 'min_samples_split': 8, 'bootstrap': False, 'criterion': 'entropy'}. Best is trial 12 with value: 0.8380308512664254.\u001b[0m\n"
     ]
    },
    {
     "name": "stdout",
     "output_type": "stream",
     "text": [
      "score: 0.8042785501174381\n"
     ]
    },
    {
     "name": "stderr",
     "output_type": "stream",
     "text": [
      "\u001b[32m[I 2021-11-21 17:57:40,259]\u001b[0m Trial 21 finished with value: 0.8346537167523647 and parameters: {'n_estimators': 380, 'max_depth': 36, 'max_features': 25, 'min_samples_leaf': 5, 'min_samples_split': 8, 'bootstrap': False, 'criterion': 'entropy'}. Best is trial 12 with value: 0.8380308512664254.\u001b[0m\n"
     ]
    },
    {
     "name": "stdout",
     "output_type": "stream",
     "text": [
      "score: 0.8346537167523647\n"
     ]
    },
    {
     "name": "stderr",
     "output_type": "stream",
     "text": [
      "\u001b[32m[I 2021-11-21 17:57:42,045]\u001b[0m Trial 22 finished with value: 0.8369009077636006 and parameters: {'n_estimators': 220, 'max_depth': 29, 'max_features': 26, 'min_samples_leaf': 5, 'min_samples_split': 9, 'bootstrap': False, 'criterion': 'entropy'}. Best is trial 12 with value: 0.8380308512664254.\u001b[0m\n"
     ]
    },
    {
     "name": "stdout",
     "output_type": "stream",
     "text": [
      "score: 0.8369009077636006\n"
     ]
    },
    {
     "name": "stderr",
     "output_type": "stream",
     "text": [
      "\u001b[32m[I 2021-11-21 17:57:42,750]\u001b[0m Trial 23 finished with value: 0.8335428172411603 and parameters: {'n_estimators': 100, 'max_depth': 26, 'max_features': 17, 'min_samples_leaf': 4, 'min_samples_split': 10, 'bootstrap': False, 'criterion': 'entropy'}. Best is trial 12 with value: 0.8380308512664254.\u001b[0m\n"
     ]
    },
    {
     "name": "stdout",
     "output_type": "stream",
     "text": [
      "score: 0.8335428172411603\n"
     ]
    },
    {
     "name": "stderr",
     "output_type": "stream",
     "text": [
      "\u001b[32m[I 2021-11-21 17:57:44,745]\u001b[0m Trial 24 finished with value: 0.8391544467720433 and parameters: {'n_estimators': 260, 'max_depth': 54, 'max_features': 24, 'min_samples_leaf': 5, 'min_samples_split': 8, 'bootstrap': False, 'criterion': 'entropy'}. Best is trial 24 with value: 0.8391544467720433.\u001b[0m\n"
     ]
    },
    {
     "name": "stdout",
     "output_type": "stream",
     "text": [
      "score: 0.8391544467720433\n"
     ]
    },
    {
     "name": "stderr",
     "output_type": "stream",
     "text": [
      "\u001b[32m[I 2021-11-21 17:57:46,415]\u001b[0m Trial 25 finished with value: 0.8290357392242749 and parameters: {'n_estimators': 190, 'max_depth': 55, 'max_features': 31, 'min_samples_leaf': 4, 'min_samples_split': 11, 'bootstrap': False, 'criterion': 'entropy'}. Best is trial 24 with value: 0.8391544467720433.\u001b[0m\n"
     ]
    },
    {
     "name": "stdout",
     "output_type": "stream",
     "text": [
      "score: 0.8290357392242749\n"
     ]
    },
    {
     "name": "stderr",
     "output_type": "stream",
     "text": [
      "\u001b[32m[I 2021-11-21 17:57:48,057]\u001b[0m Trial 26 finished with value: 0.8279121437186567 and parameters: {'n_estimators': 250, 'max_depth': 48, 'max_features': 20, 'min_samples_leaf': 5, 'min_samples_split': 9, 'bootstrap': True, 'criterion': 'entropy'}. Best is trial 24 with value: 0.8391544467720433.\u001b[0m\n"
     ]
    },
    {
     "name": "stdout",
     "output_type": "stream",
     "text": [
      "score: 0.8279121437186567\n"
     ]
    },
    {
     "name": "stderr",
     "output_type": "stream",
     "text": [
      "\u001b[32m[I 2021-11-21 17:57:48,733]\u001b[0m Trial 27 finished with value: 0.8279248397130706 and parameters: {'n_estimators': 120, 'max_depth': 71, 'max_features': 11, 'min_samples_leaf': 5, 'min_samples_split': 10, 'bootstrap': False, 'criterion': 'entropy'}. Best is trial 24 with value: 0.8391544467720433.\u001b[0m\n"
     ]
    },
    {
     "name": "stdout",
     "output_type": "stream",
     "text": [
      "score: 0.8279248397130706\n"
     ]
    },
    {
     "name": "stderr",
     "output_type": "stream",
     "text": [
      "\u001b[32m[I 2021-11-21 17:57:50,514]\u001b[0m Trial 28 finished with value: 0.8357900082523964 and parameters: {'n_estimators': 280, 'max_depth': 15, 'max_features': 15, 'min_samples_leaf': 4, 'min_samples_split': 8, 'bootstrap': False, 'criterion': 'entropy'}. Best is trial 24 with value: 0.8391544467720433.\u001b[0m\n"
     ]
    },
    {
     "name": "stdout",
     "output_type": "stream",
     "text": [
      "score: 0.8357900082523964\n"
     ]
    },
    {
     "name": "stderr",
     "output_type": "stream",
     "text": [
      "\u001b[32m[I 2021-11-21 17:57:51,552]\u001b[0m Trial 29 finished with value: 0.8312892782327175 and parameters: {'n_estimators': 150, 'max_depth': 42, 'max_features': 23, 'min_samples_leaf': 5, 'min_samples_split': 13, 'bootstrap': True, 'criterion': 'entropy'}. Best is trial 24 with value: 0.8391544467720433.\u001b[0m\n"
     ]
    },
    {
     "name": "stdout",
     "output_type": "stream",
     "text": [
      "score: 0.8312892782327175\n"
     ]
    },
    {
     "name": "stderr",
     "output_type": "stream",
     "text": [
      "\u001b[32m[I 2021-11-21 17:57:51,873]\u001b[0m Trial 30 finished with value: 0.8290547832158953 and parameters: {'n_estimators': 50, 'max_depth': 28, 'max_features': 9, 'min_samples_leaf': 2, 'min_samples_split': 12, 'bootstrap': False, 'criterion': 'entropy'}. Best is trial 24 with value: 0.8391544467720433.\u001b[0m\n"
     ]
    },
    {
     "name": "stdout",
     "output_type": "stream",
     "text": [
      "score: 0.8290547832158953\n"
     ]
    },
    {
     "name": "stderr",
     "output_type": "stream",
     "text": [
      "\u001b[32m[I 2021-11-21 17:57:53,936]\u001b[0m Trial 31 finished with value: 0.8335428172411603 and parameters: {'n_estimators': 290, 'max_depth': 16, 'max_features': 15, 'min_samples_leaf': 4, 'min_samples_split': 8, 'bootstrap': False, 'criterion': 'entropy'}. Best is trial 24 with value: 0.8391544467720433.\u001b[0m\n"
     ]
    },
    {
     "name": "stdout",
     "output_type": "stream",
     "text": [
      "score: 0.8335428172411603\n"
     ]
    },
    {
     "name": "stderr",
     "output_type": "stream",
     "text": [
      "\u001b[32m[I 2021-11-21 17:57:55,760]\u001b[0m Trial 32 finished with value: 0.8335364692439537 and parameters: {'n_estimators': 240, 'max_depth': 18, 'max_features': 20, 'min_samples_leaf': 4, 'min_samples_split': 8, 'bootstrap': False, 'criterion': 'entropy'}. Best is trial 24 with value: 0.8391544467720433.\u001b[0m\n"
     ]
    },
    {
     "name": "stdout",
     "output_type": "stream",
     "text": [
      "score: 0.8335364692439537\n"
     ]
    },
    {
     "name": "stderr",
     "output_type": "stream",
     "text": [
      "\u001b[32m[I 2021-11-21 17:57:59,285]\u001b[0m Trial 33 finished with value: 0.8357900082523964 and parameters: {'n_estimators': 510, 'max_depth': 10, 'max_features': 19, 'min_samples_leaf': 4, 'min_samples_split': 8, 'bootstrap': False, 'criterion': 'entropy'}. Best is trial 24 with value: 0.8391544467720433.\u001b[0m\n"
     ]
    },
    {
     "name": "stdout",
     "output_type": "stream",
     "text": [
      "score: 0.8357900082523964\n"
     ]
    },
    {
     "name": "stderr",
     "output_type": "stream",
     "text": [
      "\u001b[32m[I 2021-11-21 17:58:02,929]\u001b[0m Trial 34 finished with value: 0.82790579572145 and parameters: {'n_estimators': 530, 'max_depth': 8, 'max_features': 26, 'min_samples_leaf': 5, 'min_samples_split': 9, 'bootstrap': True, 'criterion': 'entropy'}. Best is trial 24 with value: 0.8391544467720433.\u001b[0m\n"
     ]
    },
    {
     "name": "stdout",
     "output_type": "stream",
     "text": [
      "score: 0.82790579572145\n"
     ]
    },
    {
     "name": "stderr",
     "output_type": "stream",
     "text": [
      "\u001b[32m[I 2021-11-21 17:58:05,160]\u001b[0m Trial 35 finished with value: 0.6805306925664952 and parameters: {'n_estimators': 710, 'max_depth': 2, 'max_features': 1, 'min_samples_leaf': 4, 'min_samples_split': 8, 'bootstrap': False, 'criterion': 'entropy'}. Best is trial 24 with value: 0.8391544467720433.\u001b[0m\n"
     ]
    },
    {
     "name": "stdout",
     "output_type": "stream",
     "text": [
      "score: 0.6805306925664952\n"
     ]
    },
    {
     "name": "stderr",
     "output_type": "stream",
     "text": [
      "\u001b[32m[I 2021-11-21 17:58:07,078]\u001b[0m Trial 36 finished with value: 0.8357836602551896 and parameters: {'n_estimators': 290, 'max_depth': 31, 'max_features': 15, 'min_samples_leaf': 5, 'min_samples_split': 8, 'bootstrap': False, 'criterion': 'entropy'}. Best is trial 24 with value: 0.8391544467720433.\u001b[0m\n"
     ]
    },
    {
     "name": "stdout",
     "output_type": "stream",
     "text": [
      "score: 0.8357836602551896\n"
     ]
    },
    {
     "name": "stderr",
     "output_type": "stream",
     "text": [
      "\u001b[32m[I 2021-11-21 17:58:10,602]\u001b[0m Trial 37 finished with value: 0.8335428172411603 and parameters: {'n_estimators': 500, 'max_depth': 22, 'max_features': 20, 'min_samples_leaf': 3, 'min_samples_split': 11, 'bootstrap': True, 'criterion': 'entropy'}. Best is trial 24 with value: 0.8391544467720433.\u001b[0m\n"
     ]
    },
    {
     "name": "stdout",
     "output_type": "stream",
     "text": [
      "score: 0.8335428172411603\n"
     ]
    },
    {
     "name": "stderr",
     "output_type": "stream",
     "text": [
      "\u001b[32m[I 2021-11-21 17:58:13,613]\u001b[0m Trial 38 finished with value: 0.8369136037580143 and parameters: {'n_estimators': 390, 'max_depth': 56, 'max_features': 21, 'min_samples_leaf': 4, 'min_samples_split': 9, 'bootstrap': False, 'criterion': 'entropy'}. Best is trial 24 with value: 0.8391544467720433.\u001b[0m\n"
     ]
    },
    {
     "name": "stdout",
     "output_type": "stream",
     "text": [
      "score: 0.8369136037580143\n"
     ]
    },
    {
     "name": "stderr",
     "output_type": "stream",
     "text": [
      "\u001b[32m[I 2021-11-21 17:58:16,193]\u001b[0m Trial 39 finished with value: 0.8369009077636006 and parameters: {'n_estimators': 340, 'max_depth': 53, 'max_features': 21, 'min_samples_leaf': 5, 'min_samples_split': 10, 'bootstrap': False, 'criterion': 'entropy'}. Best is trial 24 with value: 0.8391544467720433.\u001b[0m\n"
     ]
    },
    {
     "name": "stdout",
     "output_type": "stream",
     "text": [
      "score: 0.8369009077636006\n"
     ]
    },
    {
     "name": "stderr",
     "output_type": "stream",
     "text": [
      "\u001b[32m[I 2021-11-21 17:58:19,413]\u001b[0m Trial 40 finished with value: 0.8369009077636006 and parameters: {'n_estimators': 410, 'max_depth': 64, 'max_features': 22, 'min_samples_leaf': 2, 'min_samples_split': 10, 'bootstrap': False, 'criterion': 'entropy'}. Best is trial 24 with value: 0.8391544467720433.\u001b[0m\n"
     ]
    },
    {
     "name": "stdout",
     "output_type": "stream",
     "text": [
      "score: 0.8369009077636006\n"
     ]
    },
    {
     "name": "stderr",
     "output_type": "stream",
     "text": [
      "\u001b[32m[I 2021-11-21 17:58:22,893]\u001b[0m Trial 41 finished with value: 0.8346537167523647 and parameters: {'n_estimators': 420, 'max_depth': 72, 'max_features': 23, 'min_samples_leaf': 2, 'min_samples_split': 11, 'bootstrap': False, 'criterion': 'entropy'}. Best is trial 24 with value: 0.8391544467720433.\u001b[0m\n"
     ]
    },
    {
     "name": "stdout",
     "output_type": "stream",
     "text": [
      "score: 0.8346537167523647\n"
     ]
    },
    {
     "name": "stderr",
     "output_type": "stream",
     "text": [
      "\u001b[32m[I 2021-11-21 17:58:25,819]\u001b[0m Trial 42 finished with value: 0.8279121437186567 and parameters: {'n_estimators': 320, 'max_depth': 53, 'max_features': 31, 'min_samples_leaf': 5, 'min_samples_split': 9, 'bootstrap': False, 'criterion': 'entropy'}. Best is trial 24 with value: 0.8391544467720433.\u001b[0m\n"
     ]
    },
    {
     "name": "stdout",
     "output_type": "stream",
     "text": [
      "score: 0.8279121437186567\n"
     ]
    },
    {
     "name": "stderr",
     "output_type": "stream",
     "text": [
      "\u001b[32m[I 2021-11-21 17:58:29,047]\u001b[0m Trial 43 finished with value: 0.8335237732495397 and parameters: {'n_estimators': 400, 'max_depth': 63, 'max_features': 22, 'min_samples_leaf': 2, 'min_samples_split': 10, 'bootstrap': False, 'criterion': 'entropy'}. Best is trial 24 with value: 0.8391544467720433.\u001b[0m\n"
     ]
    },
    {
     "name": "stdout",
     "output_type": "stream",
     "text": [
      "score: 0.8335237732495397\n"
     ]
    },
    {
     "name": "stderr",
     "output_type": "stream",
     "text": [
      "\u001b[32m[I 2021-11-21 17:58:34,000]\u001b[0m Trial 44 finished with value: 0.823411413698978 and parameters: {'n_estimators': 570, 'max_depth': 78, 'max_features': 26, 'min_samples_leaf': 3, 'min_samples_split': 10, 'bootstrap': False, 'criterion': 'entropy'}. Best is trial 24 with value: 0.8391544467720433.\u001b[0m\n"
     ]
    },
    {
     "name": "stdout",
     "output_type": "stream",
     "text": [
      "score: 0.823411413698978\n"
     ]
    },
    {
     "name": "stderr",
     "output_type": "stream",
     "text": [
      "\u001b[32m[I 2021-11-21 17:58:35,668]\u001b[0m Trial 45 finished with value: 0.8312702342410969 and parameters: {'n_estimators': 190, 'max_depth': 60, 'max_features': 23, 'min_samples_leaf': 2, 'min_samples_split': 9, 'bootstrap': False, 'criterion': 'entropy'}. Best is trial 24 with value: 0.8391544467720433.\u001b[0m\n"
     ]
    },
    {
     "name": "stdout",
     "output_type": "stream",
     "text": [
      "score: 0.8312702342410969\n"
     ]
    },
    {
     "name": "stderr",
     "output_type": "stream",
     "text": [
      "\u001b[32m[I 2021-11-21 17:58:39,157]\u001b[0m Trial 46 finished with value: 0.8177616961848537 and parameters: {'n_estimators': 370, 'max_depth': 66, 'max_features': 28, 'min_samples_leaf': 1, 'min_samples_split': 10, 'bootstrap': False, 'criterion': 'entropy'}. Best is trial 24 with value: 0.8391544467720433.\u001b[0m\n"
     ]
    },
    {
     "name": "stdout",
     "output_type": "stream",
     "text": [
      "score: 0.8177616961848537\n"
     ]
    },
    {
     "name": "stderr",
     "output_type": "stream",
     "text": [
      "\u001b[32m[I 2021-11-21 17:58:42,978]\u001b[0m Trial 47 finished with value: 0.8335301212467467 and parameters: {'n_estimators': 470, 'max_depth': 51, 'max_features': 22, 'min_samples_leaf': 3, 'min_samples_split': 11, 'bootstrap': False, 'criterion': 'entropy'}. Best is trial 24 with value: 0.8391544467720433.\u001b[0m\n"
     ]
    },
    {
     "name": "stdout",
     "output_type": "stream",
     "text": [
      "score: 0.8335301212467467\n"
     ]
    },
    {
     "name": "stderr",
     "output_type": "stream",
     "text": [
      "\u001b[32m[I 2021-11-21 17:58:47,791]\u001b[0m Trial 48 finished with value: 0.8324001777439218 and parameters: {'n_estimators': 630, 'max_depth': 46, 'max_features': 30, 'min_samples_leaf': 5, 'min_samples_split': 9, 'bootstrap': True, 'criterion': 'entropy'}. Best is trial 24 with value: 0.8391544467720433.\u001b[0m\n"
     ]
    },
    {
     "name": "stdout",
     "output_type": "stream",
     "text": [
      "score: 0.8324001777439218\n"
     ]
    },
    {
     "name": "stderr",
     "output_type": "stream",
     "text": [
      "\u001b[32m[I 2021-11-21 17:58:50,646]\u001b[0m Trial 49 finished with value: 0.8324001777439218 and parameters: {'n_estimators': 320, 'max_depth': 90, 'max_features': 27, 'min_samples_leaf': 4, 'min_samples_split': 9, 'bootstrap': False, 'criterion': 'entropy'}. Best is trial 24 with value: 0.8391544467720433.\u001b[0m\n"
     ]
    },
    {
     "name": "stdout",
     "output_type": "stream",
     "text": [
      "score: 0.8324001777439218\n"
     ]
    },
    {
     "name": "stderr",
     "output_type": "stream",
     "text": [
      "\u001b[32m[I 2021-11-21 17:58:53,235]\u001b[0m Trial 50 finished with value: 0.8357773122579826 and parameters: {'n_estimators': 330, 'max_depth': 41, 'max_features': 25, 'min_samples_leaf': 5, 'min_samples_split': 11, 'bootstrap': False, 'criterion': 'entropy'}. Best is trial 24 with value: 0.8391544467720433.\u001b[0m\n"
     ]
    },
    {
     "name": "stdout",
     "output_type": "stream",
     "text": [
      "score: 0.8357773122579826\n"
     ]
    },
    {
     "name": "stderr",
     "output_type": "stream",
     "text": [
      "\u001b[32m[I 2021-11-21 17:58:54,911]\u001b[0m Trial 51 finished with value: 0.8391480987748364 and parameters: {'n_estimators': 230, 'max_depth': 56, 'max_features': 21, 'min_samples_leaf': 5, 'min_samples_split': 10, 'bootstrap': False, 'criterion': 'entropy'}. Best is trial 24 with value: 0.8391544467720433.\u001b[0m\n"
     ]
    },
    {
     "name": "stdout",
     "output_type": "stream",
     "text": [
      "score: 0.8391480987748364\n"
     ]
    },
    {
     "name": "stderr",
     "output_type": "stream",
     "text": [
      "\u001b[32m[I 2021-11-21 17:58:57,464]\u001b[0m Trial 52 finished with value: 0.8346537167523647 and parameters: {'n_estimators': 390, 'max_depth': 58, 'max_features': 17, 'min_samples_leaf': 5, 'min_samples_split': 10, 'bootstrap': False, 'criterion': 'entropy'}. Best is trial 24 with value: 0.8391544467720433.\u001b[0m\n"
     ]
    },
    {
     "name": "stdout",
     "output_type": "stream",
     "text": [
      "score: 0.8346537167523647\n"
     ]
    },
    {
     "name": "stderr",
     "output_type": "stream",
     "text": [
      "\u001b[32m[I 2021-11-21 17:58:59,196]\u001b[0m Trial 53 finished with value: 0.8391480987748364 and parameters: {'n_estimators': 240, 'max_depth': 54, 'max_features': 21, 'min_samples_leaf': 5, 'min_samples_split': 10, 'bootstrap': False, 'criterion': 'entropy'}. Best is trial 24 with value: 0.8391544467720433.\u001b[0m\n"
     ]
    },
    {
     "name": "stdout",
     "output_type": "stream",
     "text": [
      "score: 0.8391480987748364\n"
     ]
    },
    {
     "name": "stderr",
     "output_type": "stream",
     "text": [
      "\u001b[32m[I 2021-11-21 17:59:00,900]\u001b[0m Trial 54 finished with value: 0.8380245032692185 and parameters: {'n_estimators': 250, 'max_depth': 55, 'max_features': 18, 'min_samples_leaf': 5, 'min_samples_split': 10, 'bootstrap': False, 'criterion': 'entropy'}. Best is trial 24 with value: 0.8391544467720433.\u001b[0m\n"
     ]
    },
    {
     "name": "stdout",
     "output_type": "stream",
     "text": [
      "score: 0.8380245032692185\n"
     ]
    },
    {
     "name": "stderr",
     "output_type": "stream",
     "text": [
      "\u001b[32m[I 2021-11-21 17:59:01,780]\u001b[0m Trial 55 finished with value: 0.8357900082523964 and parameters: {'n_estimators': 130, 'max_depth': 56, 'max_features': 18, 'min_samples_leaf': 5, 'min_samples_split': 11, 'bootstrap': False, 'criterion': 'entropy'}. Best is trial 24 with value: 0.8391544467720433.\u001b[0m\n"
     ]
    },
    {
     "name": "stdout",
     "output_type": "stream",
     "text": [
      "score: 0.8357900082523964\n"
     ]
    },
    {
     "name": "stderr",
     "output_type": "stream",
     "text": [
      "\u001b[32m[I 2021-11-21 17:59:03,597]\u001b[0m Trial 56 finished with value: 0.8369072557608075 and parameters: {'n_estimators': 260, 'max_depth': 68, 'max_features': 19, 'min_samples_leaf': 5, 'min_samples_split': 10, 'bootstrap': False, 'criterion': 'entropy'}. Best is trial 24 with value: 0.8391544467720433.\u001b[0m\n"
     ]
    },
    {
     "name": "stdout",
     "output_type": "stream",
     "text": [
      "score: 0.8369072557608075\n"
     ]
    },
    {
     "name": "stderr",
     "output_type": "stream",
     "text": [
      "\u001b[32m[I 2021-11-21 17:59:04,870]\u001b[0m Trial 57 finished with value: 0.8301593347298926 and parameters: {'n_estimators': 200, 'max_depth': 50, 'max_features': 14, 'min_samples_leaf': 5, 'min_samples_split': 10, 'bootstrap': False, 'criterion': 'entropy'}. Best is trial 24 with value: 0.8391544467720433.\u001b[0m\n"
     ]
    },
    {
     "name": "stdout",
     "output_type": "stream",
     "text": [
      "score: 0.8301593347298926\n"
     ]
    },
    {
     "name": "stderr",
     "output_type": "stream",
     "text": [
      "\u001b[32m[I 2021-11-21 17:59:06,751]\u001b[0m Trial 58 finished with value: 0.8357773122579826 and parameters: {'n_estimators': 230, 'max_depth': 43, 'max_features': 24, 'min_samples_leaf': 5, 'min_samples_split': 11, 'bootstrap': False, 'criterion': 'entropy'}. Best is trial 24 with value: 0.8391544467720433.\u001b[0m\n"
     ]
    },
    {
     "name": "stdout",
     "output_type": "stream",
     "text": [
      "score: 0.8357773122579826\n"
     ]
    },
    {
     "name": "stderr",
     "output_type": "stream",
     "text": [
      "\u001b[32m[I 2021-11-21 17:59:07,373]\u001b[0m Trial 59 finished with value: 0.8391607947692503 and parameters: {'n_estimators': 80, 'max_depth': 46, 'max_features': 18, 'min_samples_leaf': 4, 'min_samples_split': 10, 'bootstrap': False, 'criterion': 'entropy'}. Best is trial 59 with value: 0.8391607947692503.\u001b[0m\n"
     ]
    },
    {
     "name": "stdout",
     "output_type": "stream",
     "text": [
      "score: 0.8391607947692503\n"
     ]
    },
    {
     "name": "stderr",
     "output_type": "stream",
     "text": [
      "\u001b[32m[I 2021-11-21 17:59:07,992]\u001b[0m Trial 60 finished with value: 0.8279248397130704 and parameters: {'n_estimators': 100, 'max_depth': 37, 'max_features': 12, 'min_samples_leaf': 5, 'min_samples_split': 12, 'bootstrap': True, 'criterion': 'entropy'}. Best is trial 59 with value: 0.8391607947692503.\u001b[0m\n"
     ]
    },
    {
     "name": "stdout",
     "output_type": "stream",
     "text": [
      "score: 0.8279248397130704\n"
     ]
    },
    {
     "name": "stderr",
     "output_type": "stream",
     "text": [
      "\u001b[32m[I 2021-11-21 17:59:09,152]\u001b[0m Trial 61 finished with value: 0.8369199517552213 and parameters: {'n_estimators': 160, 'max_depth': 47, 'max_features': 16, 'min_samples_leaf': 4, 'min_samples_split': 10, 'bootstrap': False, 'criterion': 'entropy'}. Best is trial 59 with value: 0.8391607947692503.\u001b[0m\n"
     ]
    },
    {
     "name": "stdout",
     "output_type": "stream",
     "text": [
      "score: 0.8369199517552213\n"
     ]
    },
    {
     "name": "stderr",
     "output_type": "stream",
     "text": [
      "\u001b[32m[I 2021-11-21 17:59:10,267]\u001b[0m Trial 62 finished with value: 0.8369136037580143 and parameters: {'n_estimators': 160, 'max_depth': 39, 'max_features': 16, 'min_samples_leaf': 4, 'min_samples_split': 10, 'bootstrap': False, 'criterion': 'entropy'}. Best is trial 59 with value: 0.8391607947692503.\u001b[0m\n"
     ]
    },
    {
     "name": "stdout",
     "output_type": "stream",
     "text": [
      "score: 0.8369136037580143\n"
     ]
    },
    {
     "name": "stderr",
     "output_type": "stream",
     "text": [
      "\u001b[32m[I 2021-11-21 17:59:10,775]\u001b[0m Trial 63 finished with value: 0.8369009077636006 and parameters: {'n_estimators': 70, 'max_depth': 47, 'max_features': 18, 'min_samples_leaf': 5, 'min_samples_split': 10, 'bootstrap': False, 'criterion': 'entropy'}. Best is trial 59 with value: 0.8391607947692503.\u001b[0m\n"
     ]
    },
    {
     "name": "stdout",
     "output_type": "stream",
     "text": [
      "score: 0.8369009077636006\n"
     ]
    },
    {
     "name": "stderr",
     "output_type": "stream",
     "text": [
      "\u001b[32m[I 2021-11-21 17:59:11,634]\u001b[0m Trial 64 finished with value: 0.8301720307243065 and parameters: {'n_estimators': 160, 'max_depth': 60, 'max_features': 9, 'min_samples_leaf': 5, 'min_samples_split': 11, 'bootstrap': False, 'criterion': 'entropy'}. Best is trial 59 with value: 0.8391607947692503.\u001b[0m\n"
     ]
    },
    {
     "name": "stdout",
     "output_type": "stream",
     "text": [
      "score: 0.8301720307243065\n"
     ]
    },
    {
     "name": "stderr",
     "output_type": "stream",
     "text": [
      "\u001b[32m[I 2021-11-21 17:59:12,507]\u001b[0m Trial 65 finished with value: 0.8357836602551896 and parameters: {'n_estimators': 120, 'max_depth': 45, 'max_features': 19, 'min_samples_leaf': 4, 'min_samples_split': 10, 'bootstrap': False, 'criterion': 'entropy'}. Best is trial 59 with value: 0.8391607947692503.\u001b[0m\n"
     ]
    },
    {
     "name": "stdout",
     "output_type": "stream",
     "text": [
      "score: 0.8357836602551896\n"
     ]
    },
    {
     "name": "stderr",
     "output_type": "stream",
     "text": [
      "\u001b[32m[I 2021-11-21 17:59:13,718]\u001b[0m Trial 66 finished with value: 0.8324255697327493 and parameters: {'n_estimators': 190, 'max_depth': 54, 'max_features': 13, 'min_samples_leaf': 5, 'min_samples_split': 11, 'bootstrap': False, 'criterion': 'entropy'}. Best is trial 59 with value: 0.8391607947692503.\u001b[0m\n"
     ]
    },
    {
     "name": "stdout",
     "output_type": "stream",
     "text": [
      "score: 0.8324255697327493\n"
     ]
    },
    {
     "name": "stderr",
     "output_type": "stream",
     "text": [
      "\u001b[32m[I 2021-11-21 17:59:15,398]\u001b[0m Trial 67 finished with value: 0.8357836602551896 and parameters: {'n_estimators': 260, 'max_depth': 48, 'max_features': 16, 'min_samples_leaf': 5, 'min_samples_split': 10, 'bootstrap': False, 'criterion': 'entropy'}. Best is trial 59 with value: 0.8391607947692503.\u001b[0m\n"
     ]
    },
    {
     "name": "stdout",
     "output_type": "stream",
     "text": [
      "score: 0.8357836602551896\n"
     ]
    },
    {
     "name": "stderr",
     "output_type": "stream",
     "text": [
      "\u001b[32m[I 2021-11-21 17:59:16,041]\u001b[0m Trial 68 finished with value: 0.8369009077636006 and parameters: {'n_estimators': 80, 'max_depth': 39, 'max_features': 24, 'min_samples_leaf': 4, 'min_samples_split': 11, 'bootstrap': False, 'criterion': 'entropy'}. Best is trial 59 with value: 0.8391607947692503.\u001b[0m\n"
     ]
    },
    {
     "name": "stdout",
     "output_type": "stream",
     "text": [
      "score: 0.8369009077636006\n"
     ]
    },
    {
     "name": "stderr",
     "output_type": "stream",
     "text": [
      "\u001b[32m[I 2021-11-21 17:59:17,643]\u001b[0m Trial 69 finished with value: 0.8380308512664254 and parameters: {'n_estimators': 220, 'max_depth': 32, 'max_features': 21, 'min_samples_leaf': 5, 'min_samples_split': 10, 'bootstrap': False, 'criterion': 'entropy'}. Best is trial 59 with value: 0.8391607947692503.\u001b[0m\n"
     ]
    },
    {
     "name": "stdout",
     "output_type": "stream",
     "text": [
      "score: 0.8380308512664254\n"
     ]
    },
    {
     "name": "stderr",
     "output_type": "stream",
     "text": [
      "\u001b[32m[I 2021-11-21 17:59:19,813]\u001b[0m Trial 70 finished with value: 0.8369009077636006 and parameters: {'n_estimators': 300, 'max_depth': 31, 'max_features': 21, 'min_samples_leaf': 5, 'min_samples_split': 10, 'bootstrap': False, 'criterion': 'entropy'}. Best is trial 59 with value: 0.8391607947692503.\u001b[0m\n"
     ]
    },
    {
     "name": "stdout",
     "output_type": "stream",
     "text": [
      "score: 0.8369009077636006\n"
     ]
    },
    {
     "name": "stderr",
     "output_type": "stream",
     "text": [
      "\u001b[32m[I 2021-11-21 17:59:21,151]\u001b[0m Trial 71 finished with value: 0.8346600647495717 and parameters: {'n_estimators': 200, 'max_depth': 44, 'max_features': 18, 'min_samples_leaf': 5, 'min_samples_split': 10, 'bootstrap': False, 'criterion': 'entropy'}. Best is trial 59 with value: 0.8391607947692503.\u001b[0m\n"
     ]
    },
    {
     "name": "stdout",
     "output_type": "stream",
     "text": [
      "score: 0.8346600647495717\n"
     ]
    },
    {
     "name": "stderr",
     "output_type": "stream",
     "text": [
      "\u001b[32m[I 2021-11-21 17:59:22,157]\u001b[0m Trial 72 finished with value: 0.8391480987748366 and parameters: {'n_estimators': 140, 'max_depth': 25, 'max_features': 20, 'min_samples_leaf': 5, 'min_samples_split': 10, 'bootstrap': False, 'criterion': 'entropy'}. Best is trial 59 with value: 0.8391607947692503.\u001b[0m\n"
     ]
    },
    {
     "name": "stdout",
     "output_type": "stream",
     "text": [
      "score: 0.8391480987748366\n"
     ]
    },
    {
     "name": "stderr",
     "output_type": "stream",
     "text": [
      "\u001b[32m[I 2021-11-21 17:59:23,745]\u001b[0m Trial 73 finished with value: 0.8346600647495717 and parameters: {'n_estimators': 220, 'max_depth': 27, 'max_features': 19, 'min_samples_leaf': 5, 'min_samples_split': 13, 'bootstrap': False, 'criterion': 'entropy'}. Best is trial 59 with value: 0.8391607947692503.\u001b[0m\n"
     ]
    },
    {
     "name": "stdout",
     "output_type": "stream",
     "text": [
      "score: 0.8346600647495717\n"
     ]
    },
    {
     "name": "stderr",
     "output_type": "stream",
     "text": [
      "\u001b[32m[I 2021-11-21 17:59:25,699]\u001b[0m Trial 74 finished with value: 0.8369072557608075 and parameters: {'n_estimators': 260, 'max_depth': 24, 'max_features': 20, 'min_samples_leaf': 5, 'min_samples_split': 10, 'bootstrap': False, 'criterion': 'entropy'}. Best is trial 59 with value: 0.8391607947692503.\u001b[0m\n"
     ]
    },
    {
     "name": "stdout",
     "output_type": "stream",
     "text": [
      "score: 0.8369072557608075\n"
     ]
    },
    {
     "name": "stderr",
     "output_type": "stream",
     "text": [
      "\u001b[32m[I 2021-11-21 17:59:26,853]\u001b[0m Trial 75 finished with value: 0.8357773122579827 and parameters: {'n_estimators': 140, 'max_depth': 31, 'max_features': 23, 'min_samples_leaf': 5, 'min_samples_split': 10, 'bootstrap': False, 'criterion': 'entropy'}. Best is trial 59 with value: 0.8391607947692503.\u001b[0m\n"
     ]
    },
    {
     "name": "stdout",
     "output_type": "stream",
     "text": [
      "score: 0.8357773122579827\n"
     ]
    },
    {
     "name": "stderr",
     "output_type": "stream",
     "text": [
      "\u001b[32m[I 2021-11-21 17:59:27,616]\u001b[0m Trial 76 finished with value: 0.8324128737383354 and parameters: {'n_estimators': 100, 'max_depth': 21, 'max_features': 21, 'min_samples_leaf': 5, 'min_samples_split': 11, 'bootstrap': True, 'criterion': 'entropy'}. Best is trial 59 with value: 0.8391607947692503.\u001b[0m\n"
     ]
    },
    {
     "name": "stdout",
     "output_type": "stream",
     "text": [
      "score: 0.8324128737383354\n"
     ]
    },
    {
     "name": "stderr",
     "output_type": "stream",
     "text": [
      "\u001b[32m[I 2021-11-21 17:59:34,985]\u001b[0m Trial 77 finished with value: 0.8369072557608075 and parameters: {'n_estimators': 930, 'max_depth': 60, 'max_features': 25, 'min_samples_leaf': 5, 'min_samples_split': 12, 'bootstrap': False, 'criterion': 'entropy'}. Best is trial 59 with value: 0.8391607947692503.\u001b[0m\n"
     ]
    },
    {
     "name": "stdout",
     "output_type": "stream",
     "text": [
      "score: 0.8369072557608075\n"
     ]
    },
    {
     "name": "stderr",
     "output_type": "stream",
     "text": [
      "\u001b[32m[I 2021-11-21 17:59:36,711]\u001b[0m Trial 78 finished with value: 0.8391607947692503 and parameters: {'n_estimators': 220, 'max_depth': 34, 'max_features': 22, 'min_samples_leaf': 5, 'min_samples_split': 10, 'bootstrap': False, 'criterion': 'entropy'}. Best is trial 59 with value: 0.8391607947692503.\u001b[0m\n"
     ]
    },
    {
     "name": "stdout",
     "output_type": "stream",
     "text": [
      "score: 0.8391607947692503\n"
     ]
    },
    {
     "name": "stderr",
     "output_type": "stream",
     "text": [
      "\u001b[32m[I 2021-11-21 17:59:37,146]\u001b[0m Trial 79 finished with value: 0.8402716942804546 and parameters: {'n_estimators': 50, 'max_depth': 34, 'max_features': 24, 'min_samples_leaf': 5, 'min_samples_split': 9, 'bootstrap': False, 'criterion': 'entropy'}. Best is trial 79 with value: 0.8402716942804546.\u001b[0m\n"
     ]
    },
    {
     "name": "stdout",
     "output_type": "stream",
     "text": [
      "score: 0.8402716942804546\n"
     ]
    },
    {
     "name": "stderr",
     "output_type": "stream",
     "text": [
      "\u001b[32m[I 2021-11-21 17:59:37,613]\u001b[0m Trial 80 finished with value: 0.8324065257411286 and parameters: {'n_estimators': 50, 'max_depth': 34, 'max_features': 27, 'min_samples_leaf': 5, 'min_samples_split': 9, 'bootstrap': False, 'criterion': 'entropy'}. Best is trial 79 with value: 0.8402716942804546.\u001b[0m\n"
     ]
    },
    {
     "name": "stdout",
     "output_type": "stream",
     "text": [
      "score: 0.8324065257411286\n"
     ]
    },
    {
     "name": "stderr",
     "output_type": "stream",
     "text": [
      "\u001b[32m[I 2021-11-21 17:59:38,499]\u001b[0m Trial 81 finished with value: 0.8357836602551896 and parameters: {'n_estimators': 110, 'max_depth': 38, 'max_features': 22, 'min_samples_leaf': 5, 'min_samples_split': 9, 'bootstrap': False, 'criterion': 'entropy'}. Best is trial 79 with value: 0.8402716942804546.\u001b[0m\n"
     ]
    },
    {
     "name": "stdout",
     "output_type": "stream",
     "text": [
      "score: 0.8357836602551896\n"
     ]
    },
    {
     "name": "stderr",
     "output_type": "stream",
     "text": [
      "\u001b[32m[I 2021-11-21 17:59:39,871]\u001b[0m Trial 82 finished with value: 0.8357773122579826 and parameters: {'n_estimators': 170, 'max_depth': 32, 'max_features': 23, 'min_samples_leaf': 5, 'min_samples_split': 10, 'bootstrap': False, 'criterion': 'entropy'}. Best is trial 79 with value: 0.8402716942804546.\u001b[0m\n"
     ]
    },
    {
     "name": "stdout",
     "output_type": "stream",
     "text": [
      "score: 0.8357773122579826\n"
     ]
    },
    {
     "name": "stderr",
     "output_type": "stream",
     "text": [
      "\u001b[32m[I 2021-11-21 17:59:40,411]\u001b[0m Trial 83 finished with value: 0.8324065257411286 and parameters: {'n_estimators': 60, 'max_depth': 24, 'max_features': 24, 'min_samples_leaf': 5, 'min_samples_split': 10, 'bootstrap': False, 'criterion': 'entropy'}. Best is trial 79 with value: 0.8402716942804546.\u001b[0m\n"
     ]
    },
    {
     "name": "stdout",
     "output_type": "stream",
     "text": [
      "score: 0.8324065257411286\n"
     ]
    },
    {
     "name": "stderr",
     "output_type": "stream",
     "text": [
      "\u001b[32m[I 2021-11-21 17:59:41,039]\u001b[0m Trial 84 finished with value: 0.8369072557608075 and parameters: {'n_estimators': 80, 'max_depth': 35, 'max_features': 20, 'min_samples_leaf': 5, 'min_samples_split': 9, 'bootstrap': False, 'criterion': 'entropy'}. Best is trial 79 with value: 0.8402716942804546.\u001b[0m\n"
     ]
    },
    {
     "name": "stdout",
     "output_type": "stream",
     "text": [
      "score: 0.8369072557608075\n"
     ]
    },
    {
     "name": "stderr",
     "output_type": "stream",
     "text": [
      "\u001b[32m[I 2021-11-21 17:59:43,338]\u001b[0m Trial 85 finished with value: 0.8380245032692185 and parameters: {'n_estimators': 300, 'max_depth': 29, 'max_features': 22, 'min_samples_leaf': 5, 'min_samples_split': 10, 'bootstrap': False, 'criterion': 'entropy'}. Best is trial 79 with value: 0.8402716942804546.\u001b[0m\n"
     ]
    },
    {
     "name": "stdout",
     "output_type": "stream",
     "text": [
      "score: 0.8380245032692185\n"
     ]
    },
    {
     "name": "stderr",
     "output_type": "stream",
     "text": [
      "\u001b[32m[I 2021-11-21 17:59:45,614]\u001b[0m Trial 86 finished with value: 0.8121691106455913 and parameters: {'n_estimators': 210, 'max_depth': 19, 'max_features': 40, 'min_samples_leaf': 5, 'min_samples_split': 9, 'bootstrap': False, 'criterion': 'entropy'}. Best is trial 79 with value: 0.8402716942804546.\u001b[0m\n"
     ]
    },
    {
     "name": "stdout",
     "output_type": "stream",
     "text": [
      "score: 0.8121691106455913\n"
     ]
    },
    {
     "name": "stderr",
     "output_type": "stream",
     "text": [
      "\u001b[32m[I 2021-11-21 17:59:47,940]\u001b[0m Trial 87 finished with value: 0.8369009077636006 and parameters: {'n_estimators': 280, 'max_depth': 41, 'max_features': 26, 'min_samples_leaf': 5, 'min_samples_split': 10, 'bootstrap': False, 'criterion': 'entropy'}. Best is trial 79 with value: 0.8402716942804546.\u001b[0m\n"
     ]
    },
    {
     "name": "stdout",
     "output_type": "stream",
     "text": [
      "score: 0.8369009077636006\n"
     ]
    },
    {
     "name": "stderr",
     "output_type": "stream",
     "text": [
      "\u001b[32m[I 2021-11-21 17:59:49,017]\u001b[0m Trial 88 finished with value: 0.836919951755221 and parameters: {'n_estimators': 140, 'max_depth': 52, 'max_features': 24, 'min_samples_leaf': 4, 'min_samples_split': 8, 'bootstrap': True, 'criterion': 'entropy'}. Best is trial 79 with value: 0.8402716942804546.\u001b[0m\n"
     ]
    },
    {
     "name": "stdout",
     "output_type": "stream",
     "text": [
      "score: 0.836919951755221\n"
     ]
    },
    {
     "name": "stderr",
     "output_type": "stream",
     "text": [
      "\u001b[32m[I 2021-11-21 17:59:50,455]\u001b[0m Trial 89 finished with value: 0.8369009077636006 and parameters: {'n_estimators': 170, 'max_depth': 25, 'max_features': 28, 'min_samples_leaf': 5, 'min_samples_split': 10, 'bootstrap': False, 'criterion': 'entropy'}. Best is trial 79 with value: 0.8402716942804546.\u001b[0m\n"
     ]
    },
    {
     "name": "stdout",
     "output_type": "stream",
     "text": [
      "score: 0.8369009077636006\n"
     ]
    },
    {
     "name": "stderr",
     "output_type": "stream",
     "text": [
      "\u001b[32m[I 2021-11-21 17:59:51,800]\u001b[0m Trial 90 finished with value: 0.8369009077636006 and parameters: {'n_estimators': 180, 'max_depth': 33, 'max_features': 21, 'min_samples_leaf': 5, 'min_samples_split': 11, 'bootstrap': False, 'criterion': 'entropy'}. Best is trial 79 with value: 0.8402716942804546.\u001b[0m\n"
     ]
    },
    {
     "name": "stdout",
     "output_type": "stream",
     "text": [
      "score: 0.8369009077636006\n"
     ]
    },
    {
     "name": "stderr",
     "output_type": "stream",
     "text": [
      "\u001b[32m[I 2021-11-21 17:59:54,131]\u001b[0m Trial 91 finished with value: 0.8380308512664254 and parameters: {'n_estimators': 300, 'max_depth': 29, 'max_features': 23, 'min_samples_leaf': 5, 'min_samples_split': 10, 'bootstrap': False, 'criterion': 'entropy'}. Best is trial 79 with value: 0.8402716942804546.\u001b[0m\n"
     ]
    },
    {
     "name": "stdout",
     "output_type": "stream",
     "text": [
      "score: 0.8380308512664254\n"
     ]
    },
    {
     "name": "stderr",
     "output_type": "stream",
     "text": [
      "\u001b[32m[I 2021-11-21 17:59:55,953]\u001b[0m Trial 92 finished with value: 0.8357836602551896 and parameters: {'n_estimators': 230, 'max_depth': 28, 'max_features': 25, 'min_samples_leaf': 5, 'min_samples_split': 10, 'bootstrap': False, 'criterion': 'entropy'}. Best is trial 79 with value: 0.8402716942804546.\u001b[0m\n"
     ]
    },
    {
     "name": "stdout",
     "output_type": "stream",
     "text": [
      "score: 0.8357836602551896\n"
     ]
    },
    {
     "name": "stderr",
     "output_type": "stream",
     "text": [
      "\u001b[32m[I 2021-11-21 17:59:58,521]\u001b[0m Trial 93 finished with value: 0.8369072557608075 and parameters: {'n_estimators': 350, 'max_depth': 100, 'max_features': 22, 'min_samples_leaf': 5, 'min_samples_split': 10, 'bootstrap': False, 'criterion': 'entropy'}. Best is trial 79 with value: 0.8402716942804546.\u001b[0m\n"
     ]
    },
    {
     "name": "stdout",
     "output_type": "stream",
     "text": [
      "score: 0.8369072557608075\n"
     ]
    },
    {
     "name": "stderr",
     "output_type": "stream",
     "text": [
      "\u001b[32m[I 2021-11-21 18:00:04,178]\u001b[0m Trial 94 finished with value: 0.8369009077636006 and parameters: {'n_estimators': 760, 'max_depth': 36, 'max_features': 23, 'min_samples_leaf': 5, 'min_samples_split': 10, 'bootstrap': False, 'criterion': 'entropy'}. Best is trial 79 with value: 0.8402716942804546.\u001b[0m\n"
     ]
    },
    {
     "name": "stdout",
     "output_type": "stream",
     "text": [
      "score: 0.8369009077636006\n"
     ]
    },
    {
     "name": "stderr",
     "output_type": "stream",
     "text": [
      "\u001b[32m[I 2021-11-21 18:00:06,175]\u001b[0m Trial 95 finished with value: 0.8391480987748364 and parameters: {'n_estimators': 280, 'max_depth': 50, 'max_features': 20, 'min_samples_leaf': 5, 'min_samples_split': 9, 'bootstrap': False, 'criterion': 'entropy'}. Best is trial 79 with value: 0.8402716942804546.\u001b[0m\n"
     ]
    },
    {
     "name": "stdout",
     "output_type": "stream",
     "text": [
      "score: 0.8391480987748364\n"
     ]
    },
    {
     "name": "stderr",
     "output_type": "stream",
     "text": [
      "\u001b[32m[I 2021-11-21 18:00:08,218]\u001b[0m Trial 96 finished with value: 0.8357773122579826 and parameters: {'n_estimators': 270, 'max_depth': 49, 'max_features': 20, 'min_samples_leaf': 5, 'min_samples_split': 9, 'bootstrap': False, 'criterion': 'entropy'}. Best is trial 79 with value: 0.8402716942804546.\u001b[0m\n"
     ]
    },
    {
     "name": "stdout",
     "output_type": "stream",
     "text": [
      "score: 0.8357773122579826\n"
     ]
    },
    {
     "name": "stderr",
     "output_type": "stream",
     "text": [
      "\u001b[32m[I 2021-11-21 18:00:10,245]\u001b[0m Trial 97 finished with value: 0.8391544467720433 and parameters: {'n_estimators': 240, 'max_depth': 51, 'max_features': 19, 'min_samples_leaf': 5, 'min_samples_split': 8, 'bootstrap': False, 'criterion': 'entropy'}. Best is trial 79 with value: 0.8402716942804546.\u001b[0m\n"
     ]
    },
    {
     "name": "stdout",
     "output_type": "stream",
     "text": [
      "score: 0.8391544467720433\n"
     ]
    },
    {
     "name": "stderr",
     "output_type": "stream",
     "text": [
      "\u001b[32m[I 2021-11-21 18:00:11,937]\u001b[0m Trial 98 finished with value: 0.8369009077636006 and parameters: {'n_estimators': 240, 'max_depth': 57, 'max_features': 19, 'min_samples_leaf': 5, 'min_samples_split': 8, 'bootstrap': False, 'criterion': 'entropy'}. Best is trial 79 with value: 0.8402716942804546.\u001b[0m\n"
     ]
    },
    {
     "name": "stdout",
     "output_type": "stream",
     "text": [
      "score: 0.8369009077636006\n"
     ]
    },
    {
     "name": "stderr",
     "output_type": "stream",
     "text": [
      "\u001b[32m[I 2021-11-21 18:00:12,858]\u001b[0m Trial 99 finished with value: 0.8346664127467784 and parameters: {'n_estimators': 130, 'max_depth': 51, 'max_features': 17, 'min_samples_leaf': 3, 'min_samples_split': 8, 'bootstrap': False, 'criterion': 'entropy'}. Best is trial 79 with value: 0.8402716942804546.\u001b[0m\n"
     ]
    },
    {
     "name": "stdout",
     "output_type": "stream",
     "text": [
      "score: 0.8346664127467784\n"
     ]
    }
   ],
   "source": [
    "# Opimization\n",
    "# Recevies the function to be optimized and the number of trials\n",
    "study.optimize(optimize, n_trials=100)"
   ]
  },
  {
   "cell_type": "code",
   "execution_count": 89,
   "id": "6aeeef2e",
   "metadata": {},
   "outputs": [
    {
     "data": {
      "text/plain": [
       "{'n_estimators': 50,\n",
       " 'max_depth': 34,\n",
       " 'max_features': 24,\n",
       " 'min_samples_leaf': 5,\n",
       " 'min_samples_split': 9,\n",
       " 'bootstrap': False,\n",
       " 'criterion': 'entropy'}"
      ]
     },
     "execution_count": 89,
     "metadata": {},
     "output_type": "execute_result"
    }
   ],
   "source": [
    "study.best_params"
   ]
  },
  {
   "cell_type": "code",
   "execution_count": 71,
   "id": "3228710b",
   "metadata": {},
   "outputs": [
    {
     "data": {
      "text/plain": [
       "array([0.8062201])"
      ]
     },
     "execution_count": 71,
     "metadata": {},
     "output_type": "execute_result"
    }
   ],
   "source": [
    "model_rf = RandomForestClassifier(bootstrap=True,\n",
    "                                  criterion='entropy',\n",
    "                                  max_depth=50, max_features=6, \n",
    "                                  min_samples_leaf=1, \n",
    "                                  min_samples_split=10, \n",
    "                                  n_estimators=100,\n",
    "                                  random_state=734)\n",
    "y_pred_exist = model_rf.fit(X_train, y_train).predict(X_test)\n",
    "(y_test.values == y_pred_exist).sum() / y_test.shape"
   ]
  },
  {
   "cell_type": "code",
   "execution_count": 97,
   "id": "e114d825",
   "metadata": {},
   "outputs": [
    {
     "data": {
      "text/plain": [
       "array([0.78708134])"
      ]
     },
     "execution_count": 97,
     "metadata": {},
     "output_type": "execute_result"
    }
   ],
   "source": [
    "#model_rf_new = RandomForestClassifier(**study.best_params)\n",
    "y_pred_new = model_rf_new.fit(X_train, y_train).predict(X_test)\n",
    "(y_test.values == y_pred_new).sum() / y_test.shape"
   ]
  },
  {
   "cell_type": "code",
   "execution_count": 98,
   "id": "c602ff51",
   "metadata": {},
   "outputs": [
    {
     "data": {
      "text/plain": [
       "0.8290484352186885"
      ]
     },
     "execution_count": 98,
     "metadata": {},
     "output_type": "execute_result"
    }
   ],
   "source": [
    "cross_val_score(model_rf, X_train, y_train, cv=cv, scoring='accuracy').mean()"
   ]
  },
  {
   "cell_type": "code",
   "execution_count": null,
   "id": "e8de53dc",
   "metadata": {},
   "outputs": [],
   "source": []
  },
  {
   "cell_type": "code",
   "execution_count": null,
   "id": "f687e700",
   "metadata": {},
   "outputs": [],
   "source": []
  },
  {
   "cell_type": "code",
   "execution_count": null,
   "id": "94b223d2",
   "metadata": {},
   "outputs": [],
   "source": []
  },
  {
   "cell_type": "code",
   "execution_count": null,
   "id": "39071607",
   "metadata": {},
   "outputs": [],
   "source": []
  },
  {
   "cell_type": "code",
   "execution_count": null,
   "id": "2270d6a2",
   "metadata": {},
   "outputs": [],
   "source": []
  },
  {
   "cell_type": "code",
   "execution_count": null,
   "id": "cdc9881c",
   "metadata": {},
   "outputs": [],
   "source": []
  },
  {
   "cell_type": "code",
   "execution_count": null,
   "id": "703be82e",
   "metadata": {},
   "outputs": [],
   "source": []
  },
  {
   "cell_type": "code",
   "execution_count": null,
   "id": "df7fdb94",
   "metadata": {},
   "outputs": [],
   "source": []
  },
  {
   "cell_type": "code",
   "execution_count": null,
   "id": "471442af",
   "metadata": {},
   "outputs": [],
   "source": []
  },
  {
   "cell_type": "code",
   "execution_count": null,
   "id": "0c173923",
   "metadata": {},
   "outputs": [],
   "source": []
  },
  {
   "cell_type": "code",
   "execution_count": null,
   "id": "322852c9",
   "metadata": {},
   "outputs": [],
   "source": []
  },
  {
   "cell_type": "code",
   "execution_count": null,
   "id": "384b4d6e",
   "metadata": {},
   "outputs": [],
   "source": []
  },
  {
   "cell_type": "code",
   "execution_count": null,
   "id": "123d41a3",
   "metadata": {},
   "outputs": [],
   "source": []
  },
  {
   "cell_type": "code",
   "execution_count": null,
   "id": "d991e3f4",
   "metadata": {},
   "outputs": [],
   "source": []
  },
  {
   "cell_type": "code",
   "execution_count": null,
   "id": "e7b098c8",
   "metadata": {},
   "outputs": [],
   "source": []
  },
  {
   "cell_type": "code",
   "execution_count": null,
   "id": "46f9dc75",
   "metadata": {},
   "outputs": [],
   "source": []
  },
  {
   "cell_type": "code",
   "execution_count": null,
   "id": "8d3fb29f",
   "metadata": {},
   "outputs": [],
   "source": []
  },
  {
   "cell_type": "code",
   "execution_count": null,
   "id": "db6f0ce0",
   "metadata": {},
   "outputs": [],
   "source": []
  },
  {
   "cell_type": "code",
   "execution_count": null,
   "id": "a34c44e5",
   "metadata": {},
   "outputs": [],
   "source": []
  },
  {
   "cell_type": "code",
   "execution_count": null,
   "id": "673a6d24",
   "metadata": {},
   "outputs": [],
   "source": []
  },
  {
   "cell_type": "code",
   "execution_count": null,
   "id": "40ae2b2d",
   "metadata": {},
   "outputs": [],
   "source": []
  },
  {
   "cell_type": "code",
   "execution_count": null,
   "id": "e3d7b1d4",
   "metadata": {},
   "outputs": [],
   "source": []
  },
  {
   "cell_type": "code",
   "execution_count": null,
   "id": "d85a5abb",
   "metadata": {},
   "outputs": [],
   "source": []
  },
  {
   "cell_type": "code",
   "execution_count": null,
   "id": "35a014db",
   "metadata": {},
   "outputs": [],
   "source": []
  },
  {
   "cell_type": "code",
   "execution_count": null,
   "id": "2c5b3520",
   "metadata": {},
   "outputs": [],
   "source": []
  },
  {
   "cell_type": "code",
   "execution_count": null,
   "id": "d697b3ce",
   "metadata": {},
   "outputs": [],
   "source": []
  },
  {
   "cell_type": "code",
   "execution_count": null,
   "id": "f922a125",
   "metadata": {},
   "outputs": [],
   "source": []
  },
  {
   "cell_type": "code",
   "execution_count": null,
   "id": "7a140aa7",
   "metadata": {},
   "outputs": [],
   "source": []
  },
  {
   "cell_type": "code",
   "execution_count": null,
   "id": "2114ea09",
   "metadata": {},
   "outputs": [],
   "source": []
  }
 ],
 "metadata": {
  "hide_input": false,
  "kernelspec": {
   "display_name": "Python 3",
   "language": "python",
   "name": "python3"
  },
  "language_info": {
   "codemirror_mode": {
    "name": "ipython",
    "version": 3
   },
   "file_extension": ".py",
   "mimetype": "text/x-python",
   "name": "python",
   "nbconvert_exporter": "python",
   "pygments_lexer": "ipython3",
   "version": "3.8.8"
  }
 },
 "nbformat": 4,
 "nbformat_minor": 5
}
