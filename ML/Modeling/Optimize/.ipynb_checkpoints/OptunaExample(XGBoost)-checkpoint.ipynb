{
 "cells": [
  {
   "cell_type": "code",
   "execution_count": 1,
   "id": "5717a368",
   "metadata": {},
   "outputs": [],
   "source": [
    "import optuna\n",
    "from functools import partial"
   ]
  },
  {
   "cell_type": "code",
   "execution_count": null,
   "id": "3654e917",
   "metadata": {},
   "outputs": [],
   "source": [
    "def objective(trial, X, y):\n",
    "    param = {\n",
    "        'n_estimators': 2000,\n",
    "        'max_depth': trial.suggest_int('max_depth', 3, 11),\n",
    "        'learning_rate': trial.suggetst_uniform('learning_rate', 0.005, 0.01),\n",
    "        'subsample': trial.suggest_categorical('subsample', list(range(0.4, 1,1, 0.1))),\n",
    "        'colsample_bylevel': trial.suggest_categorical('colsample_bylevel', list(range(0.4, 1,1, 0.1))),\n",
    "        'reg_alpha': trial.suggest_loguniform('reg_alpha', 1e-3, 100),\n",
    "        'reg_lambda': trial.suggest_loguniform('reg_lambda', 1e-3, 100),\n",
    "        'n_job': -1\n",
    "    }\n",
    "    kf = KFold(n_splits=5, shuffle=True, random_state=42)\n",
    "    model = XGBRegressor(**param)\n",
    "    train_scores, valid_scores = [], []\n",
    "    for train_idx, valid_idx in kf.split(X_train):\n",
    "        X_tmp_train, X_tmp_valid = X_train.iloc[train_idx, :], X_train.iloc[valid_idx, :]\n",
    "        y_tmp_train, y_tmp_valid = y_train[train_idx], y_train[valid_idx]\n",
    "        model = model.fit(X_tmp_train, y_tmp_train,\n",
    "                         eval_set=[(X_tmp_valid, y_tmp_valid)], eval_metric=['rmse'],\n",
    "                         early_stopping_rounds=30,\n",
    "                         Callbacks=optuna.integration.XGBoostPruningCallback(trial, observation_key='validation_0-rmse'))\n",
    "        \n",
    "        train_scores.append(np.sqrt(mean_squared_error(y_tmp_train, model.predict(X_tmp_train))))\n",
    "        valid_scores.append(np.sqrt(mean_squared_error(y_tmp_valid, model.predict(X_tmp_valid))))\n",
    "    \n",
    "    return train.scores.mean()"
   ]
  },
  {
   "cell_type": "code",
   "execution_count": null,
   "id": "b71ae37b",
   "metadata": {},
   "outputs": [],
   "source": [
    "optimizer = partial(objective, X=X_train, y=y_train)\n",
    "study = optuna.create_study(direction='minimize')\n",
    "study.optimize(optimizer, n_trial=100)"
   ]
  },
  {
   "cell_type": "code",
   "execution_count": null,
   "id": "57a9851a",
   "metadata": {},
   "outputs": [],
   "source": [
    "study.best_param"
   ]
  },
  {
   "cell_type": "code",
   "execution_count": null,
   "id": "cada4280",
   "metadata": {},
   "outputs": [],
   "source": [
    "study.visualization.plot_optimization_history(study)"
   ]
  },
  {
   "cell_type": "code",
   "execution_count": null,
   "id": "c368abdf",
   "metadata": {},
   "outputs": [],
   "source": [
    "study.visualization.plot_slice(study)"
   ]
  }
 ],
 "metadata": {
  "hide_input": false,
  "kernelspec": {
   "display_name": "Python 3 (ipykernel)",
   "language": "python",
   "name": "python3"
  },
  "language_info": {
   "codemirror_mode": {
    "name": "ipython",
    "version": 3
   },
   "file_extension": ".py",
   "mimetype": "text/x-python",
   "name": "python",
   "nbconvert_exporter": "python",
   "pygments_lexer": "ipython3",
   "version": "3.7.10"
  }
 },
 "nbformat": 4,
 "nbformat_minor": 5
}
