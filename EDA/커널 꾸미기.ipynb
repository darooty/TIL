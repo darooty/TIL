{
 "cells": [
  {
   "cell_type": "markdown",
   "id": "abroad-promise",
   "metadata": {},
   "source": [
    "<p style='text-align:center;font-family: sans-serif;font-weight:bold;color:gray;font-size:25px;margin: 30px;'>Personal<font color='#08B4E4' size='7'>ML</font>Notebook</p>\n",
    "<p style='text-align:center;font-family: sans-serif ;font-weight:bold;color:gray;font-size:40px;margin: 30px;'>Clustering and PCA for beginners</p>\n",
    "\n",
    "<p style=\"background-color:#08B4E4;font-family:sans-serif;color:white;font-size:150%;text-align:center;border-radius:10px 10px;height:30px;line-height:30px;width:500px;margin:0 auto\">How to find the parameters of the cluster.</p>"
   ]
  },
  {
   "cell_type": "markdown",
   "id": "friendly-acrylic",
   "metadata": {},
   "source": [
    "<br><br><p style='width:100%;height:1px;background-color:gray'></p><br><p style=\"background-color:#08B4E4;font-family:sans-serif;color:white;font-size:150%;text-align:center;border-radius:10px 10px;width:500px;margin:0 auto;height:40px;line-height:40px\">TABLE OF CONTENTS</p>   \n",
    "<br>\n",
    "* [1. IMPORTING LIBRARIES](#1)\n",
    "    \n",
    "* [2. LOADING DATA](#2)\n",
    "    \n",
    "* [3. DATA CLEANING](#3)\n",
    "    \n",
    "* [4. DATA PREPROCESSING](#4)   \n",
    "    \n",
    "* [5. DIMENSIONALITY REDUCTION](#5) \n",
    "      \n",
    "* [6. CLUSTERING](#6)\n",
    "    \n",
    "* [7. EVALUATING MODELS](#7)\n",
    "    \n",
    "* [8. PROFILING](#8)\n",
    "    \n",
    "* [9. CONCLUSION](#9)\n",
    "    \n",
    "* [10. END](#10)\n"
   ]
  },
  {
   "cell_type": "markdown",
   "id": "verbal-vessel",
   "metadata": {},
   "source": [
    "<a id=\"1\"></a>\n",
    "#### <p style='width:100%;height:1px;background-color:gray'></p><br><p style=\"background-color:#08B4E4;font-family:sans-serif;color:white;font-size:150%;text-align:center;border-radius:10px 10px;width:500px;margin:0 auto;height:40px;line-height:40px\">IMPORTING LIBRARIES</p>   "
   ]
  },
  {
   "cell_type": "code",
   "execution_count": null,
   "id": "violent-approval",
   "metadata": {},
   "outputs": [],
   "source": []
  },
  {
   "cell_type": "code",
   "execution_count": null,
   "id": "danish-works",
   "metadata": {},
   "outputs": [],
   "source": []
  },
  {
   "cell_type": "code",
   "execution_count": null,
   "id": "conceptual-forward",
   "metadata": {},
   "outputs": [],
   "source": []
  },
  {
   "cell_type": "code",
   "execution_count": null,
   "id": "integral-outdoors",
   "metadata": {},
   "outputs": [],
   "source": []
  },
  {
   "cell_type": "code",
   "execution_count": null,
   "id": "british-shakespeare",
   "metadata": {},
   "outputs": [],
   "source": []
  },
  {
   "cell_type": "code",
   "execution_count": null,
   "id": "common-attraction",
   "metadata": {},
   "outputs": [],
   "source": []
  },
  {
   "cell_type": "code",
   "execution_count": null,
   "id": "patient-yugoslavia",
   "metadata": {},
   "outputs": [],
   "source": []
  },
  {
   "cell_type": "code",
   "execution_count": null,
   "id": "communist-characterization",
   "metadata": {},
   "outputs": [],
   "source": []
  }
 ],
 "metadata": {
  "kernelspec": {
   "display_name": "Python 3",
   "language": "python",
   "name": "python3"
  },
  "language_info": {
   "codemirror_mode": {
    "name": "ipython",
    "version": 3
   },
   "file_extension": ".py",
   "mimetype": "text/x-python",
   "name": "python",
   "nbconvert_exporter": "python",
   "pygments_lexer": "ipython3",
   "version": "3.7.0"
  }
 },
 "nbformat": 4,
 "nbformat_minor": 5
}
