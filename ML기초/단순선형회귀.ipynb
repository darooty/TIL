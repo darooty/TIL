{
 "cells": [
  {
   "cell_type": "code",
   "execution_count": 1,
   "metadata": {},
   "outputs": [],
   "source": [
    "import numpy as np\n",
    "import pandas as pd\n",
    "import tensorflow as tf"
   ]
  },
  {
   "cell_type": "code",
   "execution_count": 2,
   "metadata": {},
   "outputs": [],
   "source": [
    "X_data = [1, 2, 3, 4, 5]\n",
    "y_data = [1, 2, 3, 4, 5]\n",
    "\n",
    "# 초기값은 임의의 값을 부여.\n",
    "W = tf.Variable(2.9)\n",
    "b = tf.Variable(0.5)\n",
    "\n",
    "# 단순선형회귀에 대한 가설식.\n",
    "hypothesis = W * X_data + b\n",
    "\n",
    "# 단순선형회귀에 대한 비용함수 MSE.\n",
    "# reduce_mean은 한 차원 줄인 상태에서의 평균을 구하는 것이다.\n",
    "cost = tf.reduce_mean(tf.square(hypothesis - y_data))"
   ]
  },
  {
   "cell_type": "code",
   "execution_count": 3,
   "metadata": {},
   "outputs": [
    {
     "name": "stdout",
     "output_type": "stream",
     "text": [
      "    0|    2.4520|     0.376| 45.660004\n",
      "   10|    1.1036|  0.003398|  0.206336\n",
      "   20|    1.0128|  -0.02091|  0.001026\n",
      "   30|    1.0065|  -0.02184|  0.000093\n",
      "   40|    1.0059|  -0.02123|  0.000083\n",
      "   50|    1.0057|  -0.02053|  0.000077\n",
      "   60|    1.0055|  -0.01984|  0.000072\n",
      "   70|    1.0053|  -0.01918|  0.000067\n",
      "   80|    1.0051|  -0.01854|  0.000063\n",
      "   90|    1.0050|  -0.01793|  0.000059\n"
     ]
    }
   ],
   "source": [
    "learning_rate = 0.01\n",
    "\n",
    "for i in range(100):\n",
    "    # GradientTape는 with과 함께 사용하며, 변수에 대한 변화 정보는 tape에 기록한다.\n",
    "    # with 구문 안에 변수를 포함한 식(여기선 cost)을 설정한 다음, tape.gradient(식, 변수들)을 넣어주면 식에 대해 각 변수를 편미분한 결과를 리턴한다.\n",
    "    with tf.GradientTape() as tape:\n",
    "        hypothesis = W * X_data + b\n",
    "        cost = tf.reduce_mean(tf.square(hypothesis - y_data))\n",
    "\n",
    "    # tape.gradient(cost, [W, b])를 하면 비용함수에 대해 각 변수들의 편미분 값을 리턴한다.\n",
    "    W_grad, b_grad = tape.gradient(cost, [W, b])\n",
    "\n",
    "    # learning_rate는 반영율을 의미한다. 이 값이 너무 크면 최소 지점으로 못갈수도 있고 너무 작으면 최적화까지 시간이 너무 오래 걸릴 수 있다.\n",
    "    # learning_rate * 기울기만큼을 기존의 변수에 빼주면 된다.\n",
    "    W.assign_sub(learning_rate * W_grad)\n",
    "    b.assign_sub(learning_rate * b_grad)\n",
    "\n",
    "    if not i % 10:\n",
    "        print('{:5}|{:10.4f}|{:10.4}|{:10.6f}'.format(i, W.numpy(), b.numpy(), cost))\n"
   ]
  },
  {
   "cell_type": "code",
   "execution_count": 4,
   "metadata": {},
   "outputs": [
    {
     "name": "stdout",
     "output_type": "stream",
     "text": [
      "tf.Tensor(5.0066934, shape=(), dtype=float32)\n",
      "tf.Tensor(2.4946523, shape=(), dtype=float32)\n"
     ]
    }
   ],
   "source": [
    "# predict 5 and 2.5\n",
    "print(W * 5 + b)\n",
    "print(W * 2.5 + b)"
   ]
  },
  {
   "cell_type": "code",
   "execution_count": 5,
   "metadata": {},
   "outputs": [
    {
     "name": "stdout",
     "output_type": "stream",
     "text": [
      "-3.000 |   74.66667\n",
      "-2.429 |   54.85714\n",
      "-1.857 |   38.09524\n",
      "-1.286 |   24.38095\n",
      "-0.714 |   13.71429\n",
      "-0.143 |    6.09524\n",
      " 0.429 |    1.52381\n",
      " 1.000 |    0.00000\n",
      " 1.571 |    1.52381\n",
      " 2.143 |    6.09524\n",
      " 2.714 |   13.71429\n",
      " 3.286 |   24.38095\n",
      " 3.857 |   38.09524\n",
      " 4.429 |   54.85714\n",
      " 5.000 |   74.66667\n"
     ]
    }
   ],
   "source": [
    "X = np.array([1, 2, 3])\n",
    "y = np.array([1, 2, 3])\n",
    "\n",
    "def cost_func(W, X, y):\n",
    "    c = 0\n",
    "    for i in range(len(X)):\n",
    "        c += (W * X[i] - y[i]) ** 2\n",
    "    return c / len(X)\n",
    "\n",
    "for feed_W in np.linspace(-3, 5, num=15):\n",
    "    curr_cost = cost_func(feed_W, X, y)\n",
    "    print(\"{:6.3f} | {:10.5f}\".format(feed_W, curr_cost))"
   ]
  },
  {
   "cell_type": "code",
   "execution_count": 6,
   "metadata": {},
   "outputs": [
    {
     "name": "stdout",
     "output_type": "stream",
     "text": [
      "-3.000 |   74.66667\n",
      "-2.429 |   54.85714\n",
      "-1.857 |   38.09524\n",
      "-1.286 |   24.38095\n",
      "-0.714 |   13.71429\n",
      "-0.143 |    6.09524\n",
      " 0.429 |    1.52381\n",
      " 1.000 |    0.00000\n",
      " 1.571 |    1.52381\n",
      " 2.143 |    6.09524\n",
      " 2.714 |   13.71429\n",
      " 3.286 |   24.38095\n",
      " 3.857 |   38.09524\n",
      " 4.429 |   54.85714\n",
      " 5.000 |   74.66667\n"
     ]
    }
   ],
   "source": [
    "X = np.array([1, 2, 3])\n",
    "y = np.array([1, 2, 3])\n",
    "\n",
    "def cost_func(W, X, y):\n",
    "    hypothesis = X * W\n",
    "    return tf.reduce_mean(tf.square(hypothesis - y))\n",
    "\n",
    "W_values = np.linspace(-3, 5, num=15)\n",
    "cost_values = []\n",
    "\n",
    "for feed_W in W_values:\n",
    "    curr_cost = cost_func(feed_W, X, y)\n",
    "    cost_values.append(curr_cost)\n",
    "    print(\"{:6.3f} | {:10.5f}\".format(feed_W, curr_cost))"
   ]
  },
  {
   "cell_type": "code",
   "execution_count": 7,
   "metadata": {},
   "outputs": [
    {
     "data": {
      "text/plain": [
       "<tf.Variable 'UnreadVariable' shape=() dtype=float32, numpy=1.0045917>"
      ]
     },
     "execution_count": 7,
     "metadata": {},
     "output_type": "execute_result"
    }
   ],
   "source": [
    "alpha = 0.01\n",
    "gradient = tf.reduce_mean(tf.multiply(tf.multiply(W, X) - y, X))\n",
    "descent = W - tf.multiply(alpha, gradient)\n",
    "W.assign(descent)"
   ]
  },
  {
   "cell_type": "code",
   "execution_count": 8,
   "metadata": {},
   "outputs": [
    {
     "data": {
      "text/plain": [
       "1.0045917"
      ]
     },
     "execution_count": 8,
     "metadata": {},
     "output_type": "execute_result"
    }
   ],
   "source": [
    "W.numpy()"
   ]
  },
  {
   "cell_type": "code",
   "execution_count": 26,
   "metadata": {},
   "outputs": [
    {
     "name": "stdout",
     "output_type": "stream",
     "text": [
      "    0 |    83.5000 |   4.750000\n",
      "   10 |    17.6915 |   3.080629\n",
      "   20 |     3.8521 |   2.315085\n",
      "   30 |     0.9417 |   1.964020\n",
      "   40 |     0.3297 |   1.803027\n",
      "   50 |     0.2009 |   1.729199\n",
      "   60 |     0.1739 |   1.695343\n",
      "   70 |     0.1682 |   1.679817\n",
      "   80 |     0.1670 |   1.672697\n",
      "   90 |     0.1667 |   1.669432\n",
      "  100 |     0.1667 |   1.667935\n",
      "  110 |     0.1667 |   1.667248\n",
      "  120 |     0.1667 |   1.666933\n",
      "  130 |     0.1667 |   1.666789\n",
      "  140 |     0.1667 |   1.666723\n",
      "  150 |     0.1667 |   1.666692\n",
      "  160 |     0.1667 |   1.666678\n",
      "  170 |     0.1667 |   1.666672\n",
      "  180 |     0.1667 |   1.666669\n",
      "  190 |     0.1667 |   1.666668\n",
      "  200 |     0.1667 |   1.666667\n",
      "  210 |     0.1667 |   1.666667\n",
      "  220 |     0.1667 |   1.666667\n",
      "  230 |     0.1667 |   1.666667\n",
      "  240 |     0.1667 |   1.666667\n",
      "  250 |     0.1667 |   1.666667\n",
      "  260 |     0.1667 |   1.666667\n",
      "  270 |     0.1667 |   1.666667\n",
      "  280 |     0.1667 |   1.666667\n",
      "  290 |     0.1667 |   1.666667\n"
     ]
    }
   ],
   "source": [
    "# tf.set_random_seed(0)\n",
    "\n",
    "X_data = [1., 2., 3., 4.]\n",
    "y_data = [1., 3., 5., 7.]\n",
    "\n",
    "# W = tf.Variable(tf.random.normal([1], -100., 100.))\n",
    "W = tf.Variable([5.0])\n",
    "\n",
    "for step in range(300):\n",
    "    hypothesis = W * X_data\n",
    "    cost = tf.reduce_mean(tf.square(hypothesis - y_data))\n",
    "\n",
    "    learning_rate = 0.01\n",
    "    gradient = tf.reduce_mean(tf.multiply(hypothesis - y_data, X_data))\n",
    "    descent = W - tf.multiply(learning_rate, gradient)\n",
    "    W.assign(descent)\n",
    "\n",
    "    if step % 10 == 0:\n",
    "        print('{:5} | {:10.4f} | {:10.6f}'.format(step, cost.numpy(), W.numpy()[0]))"
   ]
  },
  {
   "cell_type": "code",
   "execution_count": null,
   "metadata": {},
   "outputs": [],
   "source": []
  },
  {
   "cell_type": "code",
   "execution_count": null,
   "metadata": {},
   "outputs": [],
   "source": []
  },
  {
   "cell_type": "code",
   "execution_count": null,
   "metadata": {},
   "outputs": [],
   "source": []
  },
  {
   "cell_type": "code",
   "execution_count": null,
   "metadata": {},
   "outputs": [],
   "source": []
  }
 ],
 "metadata": {
  "interpreter": {
   "hash": "6d46af94c2bbce495f1e668725902fa517c90b1782bcfe2fce0dd9868df553d3"
  },
  "kernelspec": {
   "display_name": "Python 3.7.10 ('base')",
   "language": "python",
   "name": "python3"
  },
  "language_info": {
   "codemirror_mode": {
    "name": "ipython",
    "version": 3
   },
   "file_extension": ".py",
   "mimetype": "text/x-python",
   "name": "python",
   "nbconvert_exporter": "python",
   "pygments_lexer": "ipython3",
   "version": "3.7.11"
  },
  "orig_nbformat": 4
 },
 "nbformat": 4,
 "nbformat_minor": 2
}
